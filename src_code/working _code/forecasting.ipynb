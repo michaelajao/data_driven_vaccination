{
 "cells": [
  {
   "cell_type": "code",
   "execution_count": 1,
   "metadata": {},
   "outputs": [
    {
     "name": "stderr",
     "output_type": "stream",
     "text": [
      "Seed set to 42\n"
     ]
    }
   ],
   "source": [
    "# Experiment 2 Script for COVID-19 Forecasting\n",
    "\n",
    "# Change path to the root directory of the project\n",
    "import os\n",
    "\n",
    "os.chdir(\"../../\")\n",
    "\n",
    "# Description: This script contains the code for the second experiment in the project,\n",
    "# forecasting COVID-19 MVBeds using various RNN models and hyperparameter tuning with Simulated Annealing.\n",
    "\n",
    "# Imports for handling data\n",
    "import shutil\n",
    "import numpy as np\n",
    "import pandas as pd\n",
    "from pathlib import Path\n",
    "from itertools import cycle\n",
    "\n",
    "# Imports for machine learning\n",
    "import torch\n",
    "from torch.utils.data import Dataset, DataLoader\n",
    "import pytorch_lightning as pl\n",
    "from pytorch_lightning.callbacks import EarlyStopping\n",
    "\n",
    "from sklearn.metrics import (\n",
    "    mean_absolute_error as mae,\n",
    "    mean_squared_error as mse,\n",
    "    mean_absolute_percentage_error as mape,\n",
    ")\n",
    "\n",
    "# Imports for visualization\n",
    "import plotly.express as px\n",
    "import plotly.graph_objects as go\n",
    "import plotly.io as pio\n",
    "\n",
    "# Progress bar\n",
    "from tqdm.autonotebook import tqdm\n",
    "\n",
    "tqdm.pandas()\n",
    "\n",
    "# Local imports for data loaders and models\n",
    "from src.utils import plotting_utils\n",
    "from src.dl.dataloaders import TimeSeriesDataModule\n",
    "from src.dl.multivariate_models import (\n",
    "    SingleStepRNNConfig,\n",
    "    SingleStepRNNModel,\n",
    "    Seq2SeqConfig,\n",
    "    Seq2SeqModel,\n",
    "    RNNConfig,\n",
    ")\n",
    "from src.transforms.target_transformations import AutoStationaryTransformer\n",
    "\n",
    "# Set seeds for reproducibility\n",
    "pl.seed_everything(42)\n",
    "torch.manual_seed(42)\n",
    "np.random.seed(42)\n",
    "if torch.cuda.is_available():\n",
    "    torch.cuda.manual_seed_all(42)\n",
    "\n",
    "# Set float32 matrix multiplication precision\n",
    "torch.set_float32_matmul_precision(\"high\")\n",
    "\n",
    "# Set default Plotly template\n",
    "pio.templates.default = \"plotly_white\"\n",
    "\n",
    "# Ignore warnings\n",
    "import warnings\n",
    "\n",
    "warnings.filterwarnings(\"ignore\")\n",
    "\n",
    "# Set logging configuration\n",
    "import logging\n",
    "\n",
    "logging.basicConfig(\n",
    "    level=logging.INFO, format=\"%(asctime)s - %(levelname)s - %(message)s\"\n",
    ")"
   ]
  },
  {
   "cell_type": "code",
   "execution_count": 2,
   "metadata": {},
   "outputs": [],
   "source": [
    "# Utility Functions\n",
    "\n",
    "\n",
    "def format_plot(\n",
    "    fig, legends=None, xlabel=\"Time\", ylabel=\"Value\", title=\"\", font_size=15\n",
    "):\n",
    "    if legends:\n",
    "        names = cycle(legends)\n",
    "        fig.for_each_trace(lambda t: t.update(name=next(names)))\n",
    "    fig.update_layout(\n",
    "        autosize=False,\n",
    "        width=900,\n",
    "        height=500,\n",
    "        title_text=title,\n",
    "        title={\"x\": 0.5, \"xanchor\": \"center\", \"yanchor\": \"top\"},\n",
    "        titlefont={\"size\": 20},\n",
    "        legend_title=None,\n",
    "        legend=dict(\n",
    "            font=dict(size=font_size),\n",
    "            orientation=\"h\",\n",
    "            yanchor=\"bottom\",\n",
    "            y=0.98,\n",
    "            xanchor=\"right\",\n",
    "            x=1,\n",
    "        ),\n",
    "        yaxis=dict(\n",
    "            title_text=ylabel,\n",
    "            titlefont=dict(size=font_size),\n",
    "            tickfont=dict(size=font_size),\n",
    "        ),\n",
    "        xaxis=dict(\n",
    "            title_text=xlabel,\n",
    "            titlefont=dict(size=font_size),\n",
    "            tickfont=dict(size=font_size),\n",
    "        ),\n",
    "    )\n",
    "    return fig\n",
    "\n",
    "\n",
    "def mase(actual, predicted, insample_actual):\n",
    "    mae_insample = np.mean(np.abs(np.diff(insample_actual)))\n",
    "    mae_outsample = np.mean(np.abs(actual - predicted))\n",
    "    return mae_outsample / mae_insample\n",
    "\n",
    "\n",
    "def forecast_bias(actual, predicted):\n",
    "    return np.mean(predicted - actual)\n",
    "\n",
    "\n",
    "def rmse(y_true, y_pred):\n",
    "    return np.sqrt(mse(y_true, y_pred))\n",
    "\n",
    "def nrmse(y_true, y_pred):\n",
    "    \"\"\"Calculate the Normalized Root Mean Square Error (NRMSE).\"\"\"\n",
    "    return np.sqrt(mse(y_true, y_pred)) / (\n",
    "        np.max(y_true) - np.min(y_true)\n",
    "    )\n",
    "\n",
    "\n",
    "def plot_forecast(\n",
    "    pred_df,\n",
    "    forecast_columns,\n",
    "    selected_area,\n",
    "    forecast_display_names=None,\n",
    "    save_path=None,\n",
    "):\n",
    "    if forecast_display_names is None:\n",
    "        forecast_display_names = forecast_columns\n",
    "    else:\n",
    "        assert len(forecast_columns) == len(forecast_display_names)\n",
    "\n",
    "    mask = ~pred_df[forecast_columns[0]].isnull()\n",
    "    colors = px.colors.qualitative.D3  # Use a colorblind-friendly palette\n",
    "    act_color = colors[0]\n",
    "    colors = cycle(colors[1:])\n",
    "\n",
    "    fig = go.Figure()\n",
    "\n",
    "    # Actual data plot\n",
    "    fig.add_trace(\n",
    "        go.Scatter(\n",
    "            x=pred_df[mask].index,\n",
    "            y=pred_df[mask].covidOccupiedMVBeds,\n",
    "            mode=\"lines+markers\",\n",
    "            marker=dict(size=8, opacity=0.7, symbol=\"circle\"),\n",
    "            line=dict(color=act_color, width=3),\n",
    "            name=\"Actual COVID-19 MVBeds trends\",\n",
    "        )\n",
    "    )\n",
    "\n",
    "    # Predicted data plot\n",
    "    line_styles = [\"solid\", \"dash\", \"dot\", \"dashdot\"]\n",
    "    markers = [\"circle\", \"square\", \"diamond\", \"cross\", \"x\", \"triangle-up\"]\n",
    "    for col, display_col, line_style, marker in zip(\n",
    "        forecast_columns, forecast_display_names, cycle(line_styles), cycle(markers)\n",
    "    ):\n",
    "        fig.add_trace(\n",
    "            go.Scatter(\n",
    "                x=pred_df[mask].index,\n",
    "                y=pred_df.loc[mask, col],\n",
    "                mode=\"lines+markers\",\n",
    "                marker=dict(size=6, symbol=marker),\n",
    "                line=dict(color=next(colors), width=2, dash=line_style),\n",
    "                name=display_col,\n",
    "            )\n",
    "        )\n",
    "\n",
    "    fig.update_layout(\n",
    "        title=f\"COVID-19 MVBeds Forecast Comparison for {selected_area}\",\n",
    "        title_font=dict(size=20),\n",
    "        xaxis_title=\"Date\",\n",
    "        yaxis_title=\"COVID-19 MVBeds\",\n",
    "        xaxis=dict(title_font=dict(size=15), tickfont=dict(size=12)),\n",
    "        yaxis=dict(title_font=dict(size=15), tickfont=dict(size=12)),\n",
    "        legend=dict(\n",
    "            font=dict(size=10),\n",
    "            orientation=\"h\",\n",
    "            yanchor=\"top\",\n",
    "            y=1.02,  # Move the legend down to separate it from the title\n",
    "            xanchor=\"center\",\n",
    "            x=0.5,\n",
    "        ),\n",
    "        template=\"plotly_white\",\n",
    "        plot_bgcolor=\"rgba(0,0,0,0)\",\n",
    "        margin=dict(l=10, r=40, t=80, b=40),  # Adjust left margin for better alignment\n",
    "        width=1200,\n",
    "        height=600,\n",
    "    )\n",
    "\n",
    "    if save_path:\n",
    "        pio.write_image(fig, save_path)\n",
    "    return fig\n",
    "\n",
    "\n",
    "def highlight_abs_min(s, props=\"\"):\n",
    "    return np.where(s == np.nanmin(np.abs(s.values)), props, \"\")\n",
    "\n",
    "\n",
    "# Function to convert data to float32\n",
    "def to_float32(df):\n",
    "    for col in df.columns:\n",
    "        df[col] = df[col].astype(\"float32\")\n",
    "    return df"
   ]
  },
  {
   "cell_type": "code",
   "execution_count": 3,
   "metadata": {},
   "outputs": [
    {
     "data": {
      "text/html": [
       "<div>\n",
       "<style scoped>\n",
       "    .dataframe tbody tr th:only-of-type {\n",
       "        vertical-align: middle;\n",
       "    }\n",
       "\n",
       "    .dataframe tbody tr th {\n",
       "        vertical-align: top;\n",
       "    }\n",
       "\n",
       "    .dataframe thead th {\n",
       "        text-align: right;\n",
       "    }\n",
       "</style>\n",
       "<table border=\"1\" class=\"dataframe\">\n",
       "  <thead>\n",
       "    <tr style=\"text-align: right;\">\n",
       "      <th></th>\n",
       "      <th>date</th>\n",
       "      <th>covidOccupiedMVBeds</th>\n",
       "      <th>cumAdmissions</th>\n",
       "      <th>hospitalCases</th>\n",
       "      <th>newAdmissions</th>\n",
       "      <th>new_confirmed</th>\n",
       "      <th>new_deceased</th>\n",
       "      <th>cumulative_confirmed</th>\n",
       "      <th>cumulative_deceased</th>\n",
       "      <th>population</th>\n",
       "      <th>openstreetmap_id</th>\n",
       "      <th>latitude</th>\n",
       "      <th>longitude</th>\n",
       "      <th>areaName</th>\n",
       "    </tr>\n",
       "  </thead>\n",
       "  <tbody>\n",
       "    <tr>\n",
       "      <th>0</th>\n",
       "      <td>2020-04-01</td>\n",
       "      <td>0.0</td>\n",
       "      <td>23332</td>\n",
       "      <td>12059.0</td>\n",
       "      <td>3099</td>\n",
       "      <td>3989.0</td>\n",
       "      <td>694.0</td>\n",
       "      <td>35571.0</td>\n",
       "      <td>4730.0</td>\n",
       "      <td>56171302</td>\n",
       "      <td>1275584</td>\n",
       "      <td>474.050001</td>\n",
       "      <td>-12.133333</td>\n",
       "      <td>England</td>\n",
       "    </tr>\n",
       "    <tr>\n",
       "      <th>1</th>\n",
       "      <td>2020-04-02</td>\n",
       "      <td>1494.0</td>\n",
       "      <td>26264</td>\n",
       "      <td>12135.0</td>\n",
       "      <td>2932</td>\n",
       "      <td>3895.0</td>\n",
       "      <td>725.0</td>\n",
       "      <td>39466.0</td>\n",
       "      <td>5455.0</td>\n",
       "      <td>56171302</td>\n",
       "      <td>1275584</td>\n",
       "      <td>474.050001</td>\n",
       "      <td>-12.133333</td>\n",
       "      <td>England</td>\n",
       "    </tr>\n",
       "    <tr>\n",
       "      <th>2</th>\n",
       "      <td>2020-04-03</td>\n",
       "      <td>1788.0</td>\n",
       "      <td>28828</td>\n",
       "      <td>13635.0</td>\n",
       "      <td>2564</td>\n",
       "      <td>3878.0</td>\n",
       "      <td>737.0</td>\n",
       "      <td>43344.0</td>\n",
       "      <td>6192.0</td>\n",
       "      <td>56171302</td>\n",
       "      <td>1275584</td>\n",
       "      <td>474.050001</td>\n",
       "      <td>-12.133333</td>\n",
       "      <td>England</td>\n",
       "    </tr>\n",
       "    <tr>\n",
       "      <th>3</th>\n",
       "      <td>2020-04-04</td>\n",
       "      <td>1950.0</td>\n",
       "      <td>31421</td>\n",
       "      <td>15469.0</td>\n",
       "      <td>2593</td>\n",
       "      <td>3260.0</td>\n",
       "      <td>828.0</td>\n",
       "      <td>46604.0</td>\n",
       "      <td>7020.0</td>\n",
       "      <td>56171302</td>\n",
       "      <td>1275584</td>\n",
       "      <td>474.050001</td>\n",
       "      <td>-12.133333</td>\n",
       "      <td>England</td>\n",
       "    </tr>\n",
       "    <tr>\n",
       "      <th>4</th>\n",
       "      <td>2020-04-05</td>\n",
       "      <td>2097.0</td>\n",
       "      <td>34013</td>\n",
       "      <td>16657.0</td>\n",
       "      <td>2592</td>\n",
       "      <td>2994.0</td>\n",
       "      <td>823.0</td>\n",
       "      <td>49598.0</td>\n",
       "      <td>7843.0</td>\n",
       "      <td>56171302</td>\n",
       "      <td>1275584</td>\n",
       "      <td>474.050001</td>\n",
       "      <td>-12.133333</td>\n",
       "      <td>England</td>\n",
       "    </tr>\n",
       "  </tbody>\n",
       "</table>\n",
       "</div>"
      ],
      "text/plain": [
       "        date  covidOccupiedMVBeds  cumAdmissions  hospitalCases  \\\n",
       "0 2020-04-01                  0.0          23332        12059.0   \n",
       "1 2020-04-02               1494.0          26264        12135.0   \n",
       "2 2020-04-03               1788.0          28828        13635.0   \n",
       "3 2020-04-04               1950.0          31421        15469.0   \n",
       "4 2020-04-05               2097.0          34013        16657.0   \n",
       "\n",
       "   newAdmissions  new_confirmed  new_deceased  cumulative_confirmed  \\\n",
       "0           3099         3989.0         694.0               35571.0   \n",
       "1           2932         3895.0         725.0               39466.0   \n",
       "2           2564         3878.0         737.0               43344.0   \n",
       "3           2593         3260.0         828.0               46604.0   \n",
       "4           2592         2994.0         823.0               49598.0   \n",
       "\n",
       "   cumulative_deceased  population  openstreetmap_id    latitude  longitude  \\\n",
       "0               4730.0    56171302           1275584  474.050001 -12.133333   \n",
       "1               5455.0    56171302           1275584  474.050001 -12.133333   \n",
       "2               6192.0    56171302           1275584  474.050001 -12.133333   \n",
       "3               7020.0    56171302           1275584  474.050001 -12.133333   \n",
       "4               7843.0    56171302           1275584  474.050001 -12.133333   \n",
       "\n",
       "  areaName  \n",
       "0  England  \n",
       "1  England  \n",
       "2  England  \n",
       "3  England  \n",
       "4  England  "
      ]
     },
     "execution_count": 3,
     "metadata": {},
     "output_type": "execute_result"
    }
   ],
   "source": [
    "# Load and Prepare Data\n",
    "data_path = Path(\"data/processed/england_data.csv\")\n",
    "# data = pd.read_csv(data_path).drop(\"Unnamed: 0\", axis=1)\n",
    "data = pd.read_csv(data_path)\n",
    "data[\"date\"] = pd.to_datetime(data[\"date\"])\n",
    "\n",
    "# Select and Process Data\n",
    "selected_area = \"England\"\n",
    "# data_filtered = data[data[\"areaName\"] == selected_area]\n",
    "data.head()"
   ]
  },
  {
   "cell_type": "code",
   "execution_count": 4,
   "metadata": {},
   "outputs": [
    {
     "name": "stdout",
     "output_type": "stream",
     "text": [
      "<class 'pandas.core.frame.DataFrame'>\n",
      "DatetimeIndex: 874 entries, 2020-04-22 to 2022-09-12\n",
      "Data columns (total 23 columns):\n",
      " #   Column                      Non-Null Count  Dtype  \n",
      "---  ------                      --------------  -----  \n",
      " 0   covidOccupiedMVBeds         874 non-null    float64\n",
      " 1   cumAdmissions               874 non-null    int64  \n",
      " 2   hospitalCases               874 non-null    float64\n",
      " 3   newAdmissions               874 non-null    int64  \n",
      " 4   new_confirmed               874 non-null    float64\n",
      " 5   new_deceased                874 non-null    float64\n",
      " 6   cumulative_confirmed        874 non-null    float64\n",
      " 7   cumulative_deceased         874 non-null    float64\n",
      " 8   population                  874 non-null    int64  \n",
      " 9   openstreetmap_id            874 non-null    int64  \n",
      " 10  latitude                    874 non-null    float64\n",
      " 11  longitude                   874 non-null    float64\n",
      " 12  areaName                    874 non-null    object \n",
      " 13  covidOccupiedMVBeds_lag_1   874 non-null    float64\n",
      " 14  covidOccupiedMVBeds_lag_2   874 non-null    float64\n",
      " 15  covidOccupiedMVBeds_lag_3   874 non-null    float64\n",
      " 16  covidOccupiedMVBeds_lag_5   874 non-null    float64\n",
      " 17  covidOccupiedMVBeds_lag_7   874 non-null    float64\n",
      " 18  covidOccupiedMVBeds_lag_14  874 non-null    float64\n",
      " 19  covidOccupiedMVBeds_lag_21  874 non-null    float64\n",
      " 20  month                       874 non-null    int32  \n",
      " 21  day                         874 non-null    int32  \n",
      " 22  day_of_week                 874 non-null    int32  \n",
      "dtypes: float64(15), int32(3), int64(4), object(1)\n",
      "memory usage: 153.6+ KB\n"
     ]
    }
   ],
   "source": [
    "# Add time-lagged features\n",
    "def add_lags(data, lags, features):\n",
    "    added_features = []\n",
    "    for feature in features:\n",
    "        for lag in lags:\n",
    "            new_feature = feature + f\"_lag_{lag}\"\n",
    "            data[new_feature] = data[feature].shift(lag)\n",
    "            added_features.append(new_feature)\n",
    "    return data, added_features\n",
    "\n",
    "\n",
    "lags = [1, 2, 3, 5, 7, 14, 21]\n",
    "data, added_features = add_lags(data, lags, [\"covidOccupiedMVBeds\"])\n",
    "data.dropna(inplace=True)\n",
    "\n",
    "\n",
    "# Create temporal features\n",
    "def create_temporal_features(df, date_column):\n",
    "    df[\"month\"] = df[date_column].dt.month\n",
    "    df[\"day\"] = df[date_column].dt.day\n",
    "    df[\"day_of_week\"] = df[date_column].dt.dayofweek\n",
    "    return df\n",
    "\n",
    "\n",
    "data = create_temporal_features(data, \"date\")\n",
    "data = data.set_index(\"date\")\n",
    "data.info()"
   ]
  },
  {
   "cell_type": "code",
   "execution_count": 5,
   "metadata": {},
   "outputs": [
    {
     "name": "stderr",
     "output_type": "stream",
     "text": [
      "2024-06-11 14:50:50,625 - INFO - hospitalCases: hospitalCases_rolling_7_mean\n",
      "2024-06-11 14:50:50,626 - INFO - newAdmissions: newAdmissions_rolling_7_mean\n",
      "2024-06-11 14:50:50,626 - INFO - new_confirmed: new_confirmed_rolling_7_mean\n",
      "2024-06-11 14:50:50,627 - INFO - new_deceased: new_deceased_rolling_7_mean\n"
     ]
    }
   ],
   "source": [
    "# Add rolling features\n",
    "def add_rolling_features(df, window_size, columns, agg_funcs=None):\n",
    "    if agg_funcs is None:\n",
    "        agg_funcs = [\"mean\", \"std\", \"min\", \"max\"]\n",
    "    added_features = {}\n",
    "    for column in columns:\n",
    "        for func in agg_funcs:\n",
    "            roll_col_name = f\"{column}_rolling_{window_size}_{func}\"\n",
    "            df[roll_col_name] = df[column].rolling(window_size).agg(func)\n",
    "            if column not in added_features:\n",
    "                added_features[column] = []\n",
    "            added_features[column].append(roll_col_name)\n",
    "    df.dropna(inplace=True)\n",
    "    return df, added_features\n",
    "\n",
    "\n",
    "window_size = 7\n",
    "columns_to_roll = [\n",
    "    \"hospitalCases\",\n",
    "    \"newAdmissions\",\n",
    "    \"new_confirmed\",\n",
    "    \"new_deceased\",\n",
    "    # \"covidOccupiedMVBeds\",\n",
    "    # \"susceptible\",\n",
    "    # \"active_cases\",\n",
    "    # \"recovered\",\n",
    "    # \"cumulative_deceased\",\n",
    "]\n",
    "agg_funcs = [\"mean\"]\n",
    "\n",
    "merged_data, added_features = add_rolling_features(\n",
    "    data, window_size, columns_to_roll, agg_funcs\n",
    ")\n",
    "\n",
    "for column, features in added_features.items():\n",
    "    logging.info(f\"{column}: {', '.join(features)}\")"
   ]
  },
  {
   "cell_type": "code",
   "execution_count": 6,
   "metadata": {},
   "outputs": [
    {
     "data": {
      "application/vnd.plotly.v1+json": {
       "config": {
        "plotlyServerURL": "https://plot.ly"
       },
       "data": [
        {
         "hovertemplate": "date=%{x}<br>hospitalCases_rolling_7_mean=%{y}<extra></extra>",
         "legendgroup": "",
         "line": {
          "color": "#636efa",
          "dash": "solid"
         },
         "marker": {
          "symbol": "circle"
         },
         "mode": "lines",
         "name": "",
         "orientation": "v",
         "showlegend": false,
         "type": "scatter",
         "x": [
          "2020-04-28T00:00:00",
          "2020-04-29T00:00:00",
          "2020-04-30T00:00:00",
          "2020-05-01T00:00:00",
          "2020-05-02T00:00:00",
          "2020-05-03T00:00:00",
          "2020-05-04T00:00:00",
          "2020-05-05T00:00:00",
          "2020-05-06T00:00:00",
          "2020-05-07T00:00:00",
          "2020-05-08T00:00:00",
          "2020-05-09T00:00:00",
          "2020-05-10T00:00:00",
          "2020-05-11T00:00:00",
          "2020-05-12T00:00:00",
          "2020-05-13T00:00:00",
          "2020-05-14T00:00:00",
          "2020-05-15T00:00:00",
          "2020-05-16T00:00:00",
          "2020-05-17T00:00:00",
          "2020-05-18T00:00:00",
          "2020-05-19T00:00:00",
          "2020-05-20T00:00:00",
          "2020-05-21T00:00:00",
          "2020-05-22T00:00:00",
          "2020-05-23T00:00:00",
          "2020-05-24T00:00:00",
          "2020-05-25T00:00:00",
          "2020-05-26T00:00:00",
          "2020-05-27T00:00:00",
          "2020-05-28T00:00:00",
          "2020-05-29T00:00:00",
          "2020-05-30T00:00:00",
          "2020-05-31T00:00:00",
          "2020-06-01T00:00:00",
          "2020-06-02T00:00:00",
          "2020-06-03T00:00:00",
          "2020-06-04T00:00:00",
          "2020-06-05T00:00:00",
          "2020-06-06T00:00:00",
          "2020-06-07T00:00:00",
          "2020-06-08T00:00:00",
          "2020-06-09T00:00:00",
          "2020-06-10T00:00:00",
          "2020-06-11T00:00:00",
          "2020-06-12T00:00:00",
          "2020-06-13T00:00:00",
          "2020-06-14T00:00:00",
          "2020-06-15T00:00:00",
          "2020-06-16T00:00:00",
          "2020-06-17T00:00:00",
          "2020-06-18T00:00:00",
          "2020-06-19T00:00:00",
          "2020-06-20T00:00:00",
          "2020-06-21T00:00:00",
          "2020-06-22T00:00:00",
          "2020-06-23T00:00:00",
          "2020-06-24T00:00:00",
          "2020-06-25T00:00:00",
          "2020-06-26T00:00:00",
          "2020-06-27T00:00:00",
          "2020-06-28T00:00:00",
          "2020-06-29T00:00:00",
          "2020-06-30T00:00:00",
          "2020-07-01T00:00:00",
          "2020-07-02T00:00:00",
          "2020-07-03T00:00:00",
          "2020-07-04T00:00:00",
          "2020-07-05T00:00:00",
          "2020-07-06T00:00:00",
          "2020-07-07T00:00:00",
          "2020-07-08T00:00:00",
          "2020-07-09T00:00:00",
          "2020-07-10T00:00:00",
          "2020-07-11T00:00:00",
          "2020-07-12T00:00:00",
          "2020-07-13T00:00:00",
          "2020-07-14T00:00:00",
          "2020-07-15T00:00:00",
          "2020-07-16T00:00:00",
          "2020-07-17T00:00:00",
          "2020-07-18T00:00:00",
          "2020-07-19T00:00:00",
          "2020-07-20T00:00:00",
          "2020-07-21T00:00:00",
          "2020-07-22T00:00:00",
          "2020-07-23T00:00:00",
          "2020-07-24T00:00:00",
          "2020-07-25T00:00:00",
          "2020-07-26T00:00:00",
          "2020-07-27T00:00:00",
          "2020-07-28T00:00:00",
          "2020-07-29T00:00:00",
          "2020-07-30T00:00:00",
          "2020-07-31T00:00:00",
          "2020-08-01T00:00:00",
          "2020-08-02T00:00:00",
          "2020-08-03T00:00:00",
          "2020-08-04T00:00:00",
          "2020-08-05T00:00:00",
          "2020-08-06T00:00:00",
          "2020-08-07T00:00:00",
          "2020-08-08T00:00:00",
          "2020-08-09T00:00:00",
          "2020-08-10T00:00:00",
          "2020-08-11T00:00:00",
          "2020-08-12T00:00:00",
          "2020-08-13T00:00:00",
          "2020-08-14T00:00:00",
          "2020-08-15T00:00:00",
          "2020-08-16T00:00:00",
          "2020-08-17T00:00:00",
          "2020-08-18T00:00:00",
          "2020-08-19T00:00:00",
          "2020-08-20T00:00:00",
          "2020-08-21T00:00:00",
          "2020-08-22T00:00:00",
          "2020-08-23T00:00:00",
          "2020-08-24T00:00:00",
          "2020-08-25T00:00:00",
          "2020-08-26T00:00:00",
          "2020-08-27T00:00:00",
          "2020-08-28T00:00:00",
          "2020-08-29T00:00:00",
          "2020-08-30T00:00:00",
          "2020-08-31T00:00:00",
          "2020-09-01T00:00:00",
          "2020-09-02T00:00:00",
          "2020-09-03T00:00:00",
          "2020-09-04T00:00:00",
          "2020-09-05T00:00:00",
          "2020-09-06T00:00:00",
          "2020-09-07T00:00:00",
          "2020-09-08T00:00:00",
          "2020-09-09T00:00:00",
          "2020-09-10T00:00:00",
          "2020-09-11T00:00:00",
          "2020-09-12T00:00:00",
          "2020-09-13T00:00:00",
          "2020-09-14T00:00:00",
          "2020-09-15T00:00:00",
          "2020-09-16T00:00:00",
          "2020-09-17T00:00:00",
          "2020-09-18T00:00:00",
          "2020-09-19T00:00:00",
          "2020-09-20T00:00:00",
          "2020-09-21T00:00:00",
          "2020-09-22T00:00:00",
          "2020-09-23T00:00:00",
          "2020-09-24T00:00:00",
          "2020-09-25T00:00:00",
          "2020-09-26T00:00:00",
          "2020-09-27T00:00:00",
          "2020-09-28T00:00:00",
          "2020-09-29T00:00:00",
          "2020-09-30T00:00:00",
          "2020-10-01T00:00:00",
          "2020-10-02T00:00:00",
          "2020-10-03T00:00:00",
          "2020-10-04T00:00:00",
          "2020-10-05T00:00:00",
          "2020-10-06T00:00:00",
          "2020-10-07T00:00:00",
          "2020-10-08T00:00:00",
          "2020-10-09T00:00:00",
          "2020-10-10T00:00:00",
          "2020-10-11T00:00:00",
          "2020-10-12T00:00:00",
          "2020-10-13T00:00:00",
          "2020-10-14T00:00:00",
          "2020-10-15T00:00:00",
          "2020-10-16T00:00:00",
          "2020-10-17T00:00:00",
          "2020-10-18T00:00:00",
          "2020-10-19T00:00:00",
          "2020-10-20T00:00:00",
          "2020-10-21T00:00:00",
          "2020-10-22T00:00:00",
          "2020-10-23T00:00:00",
          "2020-10-24T00:00:00",
          "2020-10-25T00:00:00",
          "2020-10-26T00:00:00",
          "2020-10-27T00:00:00",
          "2020-10-28T00:00:00",
          "2020-10-29T00:00:00",
          "2020-10-30T00:00:00",
          "2020-10-31T00:00:00",
          "2020-11-01T00:00:00",
          "2020-11-02T00:00:00",
          "2020-11-03T00:00:00",
          "2020-11-04T00:00:00",
          "2020-11-05T00:00:00",
          "2020-11-06T00:00:00",
          "2020-11-07T00:00:00",
          "2020-11-08T00:00:00",
          "2020-11-09T00:00:00",
          "2020-11-10T00:00:00",
          "2020-11-11T00:00:00",
          "2020-11-12T00:00:00",
          "2020-11-13T00:00:00",
          "2020-11-14T00:00:00",
          "2020-11-15T00:00:00",
          "2020-11-16T00:00:00",
          "2020-11-17T00:00:00",
          "2020-11-18T00:00:00",
          "2020-11-19T00:00:00",
          "2020-11-20T00:00:00",
          "2020-11-21T00:00:00",
          "2020-11-22T00:00:00",
          "2020-11-23T00:00:00",
          "2020-11-24T00:00:00",
          "2020-11-25T00:00:00",
          "2020-11-26T00:00:00",
          "2020-11-27T00:00:00",
          "2020-11-28T00:00:00",
          "2020-11-29T00:00:00",
          "2020-11-30T00:00:00",
          "2020-12-01T00:00:00",
          "2020-12-02T00:00:00",
          "2020-12-03T00:00:00",
          "2020-12-04T00:00:00",
          "2020-12-05T00:00:00",
          "2020-12-06T00:00:00",
          "2020-12-07T00:00:00",
          "2020-12-08T00:00:00",
          "2020-12-09T00:00:00",
          "2020-12-10T00:00:00",
          "2020-12-11T00:00:00",
          "2020-12-12T00:00:00",
          "2020-12-13T00:00:00",
          "2020-12-14T00:00:00",
          "2020-12-15T00:00:00",
          "2020-12-16T00:00:00",
          "2020-12-17T00:00:00",
          "2020-12-18T00:00:00",
          "2020-12-19T00:00:00",
          "2020-12-20T00:00:00",
          "2020-12-21T00:00:00",
          "2020-12-22T00:00:00",
          "2020-12-23T00:00:00",
          "2020-12-24T00:00:00",
          "2020-12-25T00:00:00",
          "2020-12-26T00:00:00",
          "2020-12-27T00:00:00",
          "2020-12-28T00:00:00",
          "2020-12-29T00:00:00",
          "2020-12-30T00:00:00",
          "2020-12-31T00:00:00",
          "2021-01-01T00:00:00",
          "2021-01-02T00:00:00",
          "2021-01-03T00:00:00",
          "2021-01-04T00:00:00",
          "2021-01-05T00:00:00",
          "2021-01-06T00:00:00",
          "2021-01-07T00:00:00",
          "2021-01-08T00:00:00",
          "2021-01-09T00:00:00",
          "2021-01-10T00:00:00",
          "2021-01-11T00:00:00",
          "2021-01-12T00:00:00",
          "2021-01-13T00:00:00",
          "2021-01-14T00:00:00",
          "2021-01-15T00:00:00",
          "2021-01-16T00:00:00",
          "2021-01-17T00:00:00",
          "2021-01-18T00:00:00",
          "2021-01-19T00:00:00",
          "2021-01-20T00:00:00",
          "2021-01-21T00:00:00",
          "2021-01-22T00:00:00",
          "2021-01-23T00:00:00",
          "2021-01-24T00:00:00",
          "2021-01-25T00:00:00",
          "2021-01-26T00:00:00",
          "2021-01-27T00:00:00",
          "2021-01-28T00:00:00",
          "2021-01-29T00:00:00",
          "2021-01-30T00:00:00",
          "2021-01-31T00:00:00",
          "2021-02-01T00:00:00",
          "2021-02-02T00:00:00",
          "2021-02-03T00:00:00",
          "2021-02-04T00:00:00",
          "2021-02-05T00:00:00",
          "2021-02-06T00:00:00",
          "2021-02-07T00:00:00",
          "2021-02-08T00:00:00",
          "2021-02-09T00:00:00",
          "2021-02-10T00:00:00",
          "2021-02-11T00:00:00",
          "2021-02-12T00:00:00",
          "2021-02-13T00:00:00",
          "2021-02-14T00:00:00",
          "2021-02-15T00:00:00",
          "2021-02-16T00:00:00",
          "2021-02-17T00:00:00",
          "2021-02-18T00:00:00",
          "2021-02-19T00:00:00",
          "2021-02-20T00:00:00",
          "2021-02-21T00:00:00",
          "2021-02-22T00:00:00",
          "2021-02-23T00:00:00",
          "2021-02-24T00:00:00",
          "2021-02-25T00:00:00",
          "2021-02-26T00:00:00",
          "2021-02-27T00:00:00",
          "2021-02-28T00:00:00",
          "2021-03-01T00:00:00",
          "2021-03-02T00:00:00",
          "2021-03-03T00:00:00",
          "2021-03-04T00:00:00",
          "2021-03-05T00:00:00",
          "2021-03-06T00:00:00",
          "2021-03-07T00:00:00",
          "2021-03-08T00:00:00",
          "2021-03-09T00:00:00",
          "2021-03-10T00:00:00",
          "2021-03-11T00:00:00",
          "2021-03-12T00:00:00",
          "2021-03-13T00:00:00",
          "2021-03-14T00:00:00",
          "2021-03-15T00:00:00",
          "2021-03-16T00:00:00",
          "2021-03-17T00:00:00",
          "2021-03-18T00:00:00",
          "2021-03-19T00:00:00",
          "2021-03-20T00:00:00",
          "2021-03-21T00:00:00",
          "2021-03-22T00:00:00",
          "2021-03-23T00:00:00",
          "2021-03-24T00:00:00",
          "2021-03-25T00:00:00",
          "2021-03-26T00:00:00",
          "2021-03-27T00:00:00",
          "2021-03-28T00:00:00",
          "2021-03-29T00:00:00",
          "2021-03-30T00:00:00",
          "2021-03-31T00:00:00",
          "2021-04-01T00:00:00",
          "2021-04-02T00:00:00",
          "2021-04-03T00:00:00",
          "2021-04-04T00:00:00",
          "2021-04-05T00:00:00",
          "2021-04-06T00:00:00",
          "2021-04-07T00:00:00",
          "2021-04-08T00:00:00",
          "2021-04-09T00:00:00",
          "2021-04-10T00:00:00",
          "2021-04-11T00:00:00",
          "2021-04-12T00:00:00",
          "2021-04-13T00:00:00",
          "2021-04-14T00:00:00",
          "2021-04-15T00:00:00",
          "2021-04-16T00:00:00",
          "2021-04-17T00:00:00",
          "2021-04-18T00:00:00",
          "2021-04-19T00:00:00",
          "2021-04-20T00:00:00",
          "2021-04-21T00:00:00",
          "2021-04-22T00:00:00",
          "2021-04-23T00:00:00",
          "2021-04-24T00:00:00",
          "2021-04-25T00:00:00",
          "2021-04-26T00:00:00",
          "2021-04-27T00:00:00",
          "2021-04-28T00:00:00",
          "2021-04-29T00:00:00",
          "2021-04-30T00:00:00",
          "2021-05-01T00:00:00",
          "2021-05-02T00:00:00",
          "2021-05-03T00:00:00",
          "2021-05-04T00:00:00",
          "2021-05-05T00:00:00",
          "2021-05-06T00:00:00",
          "2021-05-07T00:00:00",
          "2021-05-08T00:00:00",
          "2021-05-09T00:00:00",
          "2021-05-10T00:00:00",
          "2021-05-11T00:00:00",
          "2021-05-12T00:00:00",
          "2021-05-13T00:00:00",
          "2021-05-14T00:00:00",
          "2021-05-15T00:00:00",
          "2021-05-16T00:00:00",
          "2021-05-17T00:00:00",
          "2021-05-18T00:00:00",
          "2021-05-19T00:00:00",
          "2021-05-20T00:00:00",
          "2021-05-21T00:00:00",
          "2021-05-22T00:00:00",
          "2021-05-23T00:00:00",
          "2021-05-24T00:00:00",
          "2021-05-25T00:00:00",
          "2021-05-26T00:00:00",
          "2021-05-27T00:00:00",
          "2021-05-28T00:00:00",
          "2021-05-29T00:00:00",
          "2021-05-30T00:00:00",
          "2021-05-31T00:00:00",
          "2021-06-01T00:00:00",
          "2021-06-02T00:00:00",
          "2021-06-03T00:00:00",
          "2021-06-04T00:00:00",
          "2021-06-05T00:00:00",
          "2021-06-06T00:00:00",
          "2021-06-07T00:00:00",
          "2021-06-08T00:00:00",
          "2021-06-09T00:00:00",
          "2021-06-10T00:00:00",
          "2021-06-11T00:00:00",
          "2021-06-12T00:00:00",
          "2021-06-13T00:00:00",
          "2021-06-14T00:00:00",
          "2021-06-15T00:00:00",
          "2021-06-16T00:00:00",
          "2021-06-17T00:00:00",
          "2021-06-18T00:00:00",
          "2021-06-19T00:00:00",
          "2021-06-20T00:00:00",
          "2021-06-21T00:00:00",
          "2021-06-22T00:00:00",
          "2021-06-23T00:00:00",
          "2021-06-24T00:00:00",
          "2021-06-25T00:00:00",
          "2021-06-26T00:00:00",
          "2021-06-27T00:00:00",
          "2021-06-28T00:00:00",
          "2021-06-29T00:00:00",
          "2021-06-30T00:00:00",
          "2021-07-01T00:00:00",
          "2021-07-02T00:00:00",
          "2021-07-03T00:00:00",
          "2021-07-04T00:00:00",
          "2021-07-05T00:00:00",
          "2021-07-06T00:00:00",
          "2021-07-07T00:00:00",
          "2021-07-08T00:00:00",
          "2021-07-09T00:00:00",
          "2021-07-10T00:00:00",
          "2021-07-11T00:00:00",
          "2021-07-12T00:00:00",
          "2021-07-13T00:00:00",
          "2021-07-14T00:00:00",
          "2021-07-15T00:00:00",
          "2021-07-16T00:00:00",
          "2021-07-17T00:00:00",
          "2021-07-18T00:00:00",
          "2021-07-19T00:00:00",
          "2021-07-20T00:00:00",
          "2021-07-21T00:00:00",
          "2021-07-22T00:00:00",
          "2021-07-23T00:00:00",
          "2021-07-24T00:00:00",
          "2021-07-25T00:00:00",
          "2021-07-26T00:00:00",
          "2021-07-27T00:00:00",
          "2021-07-28T00:00:00",
          "2021-07-29T00:00:00",
          "2021-07-30T00:00:00",
          "2021-07-31T00:00:00",
          "2021-08-01T00:00:00",
          "2021-08-02T00:00:00",
          "2021-08-03T00:00:00",
          "2021-08-04T00:00:00",
          "2021-08-05T00:00:00",
          "2021-08-06T00:00:00",
          "2021-08-07T00:00:00",
          "2021-08-08T00:00:00",
          "2021-08-09T00:00:00",
          "2021-08-10T00:00:00",
          "2021-08-11T00:00:00",
          "2021-08-12T00:00:00",
          "2021-08-13T00:00:00",
          "2021-08-14T00:00:00",
          "2021-08-15T00:00:00",
          "2021-08-16T00:00:00",
          "2021-08-17T00:00:00",
          "2021-08-18T00:00:00",
          "2021-08-19T00:00:00",
          "2021-08-20T00:00:00",
          "2021-08-21T00:00:00",
          "2021-08-22T00:00:00",
          "2021-08-23T00:00:00",
          "2021-08-24T00:00:00",
          "2021-08-25T00:00:00",
          "2021-08-26T00:00:00",
          "2021-08-27T00:00:00",
          "2021-08-28T00:00:00",
          "2021-08-29T00:00:00",
          "2021-08-30T00:00:00",
          "2021-08-31T00:00:00",
          "2021-09-01T00:00:00",
          "2021-09-02T00:00:00",
          "2021-09-03T00:00:00",
          "2021-09-04T00:00:00",
          "2021-09-05T00:00:00",
          "2021-09-06T00:00:00",
          "2021-09-07T00:00:00",
          "2021-09-08T00:00:00",
          "2021-09-09T00:00:00",
          "2021-09-10T00:00:00",
          "2021-09-11T00:00:00",
          "2021-09-12T00:00:00",
          "2021-09-13T00:00:00",
          "2021-09-14T00:00:00",
          "2021-09-15T00:00:00",
          "2021-09-16T00:00:00",
          "2021-09-17T00:00:00",
          "2021-09-18T00:00:00",
          "2021-09-19T00:00:00",
          "2021-09-20T00:00:00",
          "2021-09-21T00:00:00",
          "2021-09-22T00:00:00",
          "2021-09-23T00:00:00",
          "2021-09-24T00:00:00",
          "2021-09-25T00:00:00",
          "2021-09-26T00:00:00",
          "2021-09-27T00:00:00",
          "2021-09-28T00:00:00",
          "2021-09-29T00:00:00",
          "2021-09-30T00:00:00",
          "2021-10-01T00:00:00",
          "2021-10-02T00:00:00",
          "2021-10-03T00:00:00",
          "2021-10-04T00:00:00",
          "2021-10-05T00:00:00",
          "2021-10-06T00:00:00",
          "2021-10-07T00:00:00",
          "2021-10-08T00:00:00",
          "2021-10-09T00:00:00",
          "2021-10-10T00:00:00",
          "2021-10-11T00:00:00",
          "2021-10-12T00:00:00",
          "2021-10-13T00:00:00",
          "2021-10-14T00:00:00",
          "2021-10-15T00:00:00",
          "2021-10-16T00:00:00",
          "2021-10-17T00:00:00",
          "2021-10-18T00:00:00",
          "2021-10-19T00:00:00",
          "2021-10-20T00:00:00",
          "2021-10-21T00:00:00",
          "2021-10-22T00:00:00",
          "2021-10-23T00:00:00",
          "2021-10-24T00:00:00",
          "2021-10-25T00:00:00",
          "2021-10-26T00:00:00",
          "2021-10-27T00:00:00",
          "2021-10-28T00:00:00",
          "2021-10-29T00:00:00",
          "2021-10-30T00:00:00",
          "2021-10-31T00:00:00",
          "2021-11-01T00:00:00",
          "2021-11-02T00:00:00",
          "2021-11-03T00:00:00",
          "2021-11-04T00:00:00",
          "2021-11-05T00:00:00",
          "2021-11-06T00:00:00",
          "2021-11-07T00:00:00",
          "2021-11-08T00:00:00",
          "2021-11-09T00:00:00",
          "2021-11-10T00:00:00",
          "2021-11-11T00:00:00",
          "2021-11-12T00:00:00",
          "2021-11-13T00:00:00",
          "2021-11-14T00:00:00",
          "2021-11-15T00:00:00",
          "2021-11-16T00:00:00",
          "2021-11-17T00:00:00",
          "2021-11-18T00:00:00",
          "2021-11-19T00:00:00",
          "2021-11-20T00:00:00",
          "2021-11-21T00:00:00",
          "2021-11-22T00:00:00",
          "2021-11-23T00:00:00",
          "2021-11-24T00:00:00",
          "2021-11-25T00:00:00",
          "2021-11-26T00:00:00",
          "2021-11-27T00:00:00",
          "2021-11-28T00:00:00",
          "2021-11-29T00:00:00",
          "2021-11-30T00:00:00",
          "2021-12-01T00:00:00",
          "2021-12-02T00:00:00",
          "2021-12-03T00:00:00",
          "2021-12-04T00:00:00",
          "2021-12-05T00:00:00",
          "2021-12-06T00:00:00",
          "2021-12-07T00:00:00",
          "2021-12-08T00:00:00",
          "2021-12-09T00:00:00",
          "2021-12-10T00:00:00",
          "2021-12-11T00:00:00",
          "2021-12-12T00:00:00",
          "2021-12-13T00:00:00",
          "2021-12-14T00:00:00",
          "2021-12-15T00:00:00",
          "2021-12-16T00:00:00",
          "2021-12-17T00:00:00",
          "2021-12-18T00:00:00",
          "2021-12-19T00:00:00",
          "2021-12-20T00:00:00",
          "2021-12-21T00:00:00",
          "2021-12-22T00:00:00",
          "2021-12-23T00:00:00",
          "2021-12-24T00:00:00",
          "2021-12-25T00:00:00",
          "2021-12-26T00:00:00",
          "2021-12-27T00:00:00",
          "2021-12-28T00:00:00",
          "2021-12-29T00:00:00",
          "2021-12-30T00:00:00",
          "2021-12-31T00:00:00",
          "2022-01-01T00:00:00",
          "2022-01-02T00:00:00",
          "2022-01-03T00:00:00",
          "2022-01-04T00:00:00",
          "2022-01-05T00:00:00",
          "2022-01-06T00:00:00",
          "2022-01-07T00:00:00",
          "2022-01-08T00:00:00",
          "2022-01-09T00:00:00",
          "2022-01-10T00:00:00",
          "2022-01-11T00:00:00",
          "2022-01-12T00:00:00",
          "2022-01-13T00:00:00",
          "2022-01-14T00:00:00",
          "2022-01-15T00:00:00",
          "2022-01-16T00:00:00",
          "2022-01-17T00:00:00",
          "2022-01-18T00:00:00",
          "2022-01-19T00:00:00",
          "2022-01-20T00:00:00",
          "2022-01-21T00:00:00",
          "2022-01-22T00:00:00",
          "2022-01-23T00:00:00",
          "2022-01-24T00:00:00",
          "2022-01-25T00:00:00",
          "2022-01-26T00:00:00",
          "2022-01-27T00:00:00",
          "2022-01-28T00:00:00",
          "2022-01-29T00:00:00",
          "2022-01-30T00:00:00",
          "2022-01-31T00:00:00",
          "2022-02-01T00:00:00",
          "2022-02-02T00:00:00",
          "2022-02-03T00:00:00",
          "2022-02-04T00:00:00",
          "2022-02-05T00:00:00",
          "2022-02-06T00:00:00",
          "2022-02-07T00:00:00",
          "2022-02-08T00:00:00",
          "2022-02-09T00:00:00",
          "2022-02-10T00:00:00",
          "2022-02-11T00:00:00",
          "2022-02-12T00:00:00",
          "2022-02-13T00:00:00",
          "2022-02-14T00:00:00",
          "2022-02-15T00:00:00",
          "2022-02-16T00:00:00",
          "2022-02-17T00:00:00",
          "2022-02-18T00:00:00",
          "2022-02-19T00:00:00",
          "2022-02-20T00:00:00",
          "2022-02-21T00:00:00",
          "2022-02-22T00:00:00",
          "2022-02-23T00:00:00",
          "2022-02-24T00:00:00",
          "2022-02-25T00:00:00",
          "2022-02-26T00:00:00",
          "2022-02-27T00:00:00",
          "2022-02-28T00:00:00",
          "2022-03-01T00:00:00",
          "2022-03-02T00:00:00",
          "2022-03-03T00:00:00",
          "2022-03-04T00:00:00",
          "2022-03-05T00:00:00",
          "2022-03-06T00:00:00",
          "2022-03-07T00:00:00",
          "2022-03-08T00:00:00",
          "2022-03-09T00:00:00",
          "2022-03-10T00:00:00",
          "2022-03-11T00:00:00",
          "2022-03-12T00:00:00",
          "2022-03-13T00:00:00",
          "2022-03-14T00:00:00",
          "2022-03-15T00:00:00",
          "2022-03-16T00:00:00",
          "2022-03-17T00:00:00",
          "2022-03-18T00:00:00",
          "2022-03-19T00:00:00",
          "2022-03-20T00:00:00",
          "2022-03-21T00:00:00",
          "2022-03-22T00:00:00",
          "2022-03-23T00:00:00",
          "2022-03-24T00:00:00",
          "2022-03-25T00:00:00",
          "2022-03-26T00:00:00",
          "2022-03-27T00:00:00",
          "2022-03-28T00:00:00",
          "2022-03-29T00:00:00",
          "2022-03-30T00:00:00",
          "2022-03-31T00:00:00",
          "2022-04-01T00:00:00",
          "2022-04-02T00:00:00",
          "2022-04-03T00:00:00",
          "2022-04-04T00:00:00",
          "2022-04-05T00:00:00",
          "2022-04-06T00:00:00",
          "2022-04-07T00:00:00",
          "2022-04-08T00:00:00",
          "2022-04-09T00:00:00",
          "2022-04-10T00:00:00",
          "2022-04-11T00:00:00",
          "2022-04-12T00:00:00",
          "2022-04-13T00:00:00",
          "2022-04-14T00:00:00",
          "2022-04-15T00:00:00",
          "2022-04-16T00:00:00",
          "2022-04-17T00:00:00",
          "2022-04-18T00:00:00",
          "2022-04-19T00:00:00",
          "2022-04-20T00:00:00",
          "2022-04-21T00:00:00",
          "2022-04-22T00:00:00",
          "2022-04-23T00:00:00",
          "2022-04-24T00:00:00",
          "2022-04-25T00:00:00",
          "2022-04-26T00:00:00",
          "2022-04-27T00:00:00",
          "2022-04-28T00:00:00",
          "2022-04-29T00:00:00",
          "2022-04-30T00:00:00",
          "2022-05-01T00:00:00",
          "2022-05-02T00:00:00",
          "2022-05-03T00:00:00",
          "2022-05-04T00:00:00",
          "2022-05-05T00:00:00",
          "2022-05-06T00:00:00",
          "2022-05-07T00:00:00",
          "2022-05-08T00:00:00",
          "2022-05-09T00:00:00",
          "2022-05-10T00:00:00",
          "2022-05-11T00:00:00",
          "2022-05-12T00:00:00",
          "2022-05-13T00:00:00",
          "2022-05-14T00:00:00",
          "2022-05-15T00:00:00",
          "2022-05-16T00:00:00",
          "2022-05-17T00:00:00",
          "2022-05-18T00:00:00",
          "2022-05-19T00:00:00",
          "2022-05-20T00:00:00",
          "2022-05-21T00:00:00",
          "2022-05-22T00:00:00",
          "2022-05-23T00:00:00",
          "2022-05-24T00:00:00",
          "2022-05-25T00:00:00",
          "2022-05-26T00:00:00",
          "2022-05-27T00:00:00",
          "2022-05-28T00:00:00",
          "2022-05-29T00:00:00",
          "2022-05-30T00:00:00",
          "2022-05-31T00:00:00",
          "2022-06-01T00:00:00",
          "2022-06-02T00:00:00",
          "2022-06-03T00:00:00",
          "2022-06-04T00:00:00",
          "2022-06-05T00:00:00",
          "2022-06-06T00:00:00",
          "2022-06-07T00:00:00",
          "2022-06-08T00:00:00",
          "2022-06-09T00:00:00",
          "2022-06-10T00:00:00",
          "2022-06-11T00:00:00",
          "2022-06-12T00:00:00",
          "2022-06-13T00:00:00",
          "2022-06-14T00:00:00",
          "2022-06-15T00:00:00",
          "2022-06-16T00:00:00",
          "2022-06-17T00:00:00",
          "2022-06-18T00:00:00",
          "2022-06-19T00:00:00",
          "2022-06-20T00:00:00",
          "2022-06-21T00:00:00",
          "2022-06-22T00:00:00",
          "2022-06-23T00:00:00",
          "2022-06-24T00:00:00",
          "2022-06-25T00:00:00",
          "2022-06-26T00:00:00",
          "2022-06-27T00:00:00",
          "2022-06-28T00:00:00",
          "2022-06-29T00:00:00",
          "2022-06-30T00:00:00",
          "2022-07-01T00:00:00",
          "2022-07-02T00:00:00",
          "2022-07-03T00:00:00",
          "2022-07-04T00:00:00",
          "2022-07-05T00:00:00",
          "2022-07-06T00:00:00",
          "2022-07-07T00:00:00",
          "2022-07-08T00:00:00",
          "2022-07-09T00:00:00",
          "2022-07-10T00:00:00",
          "2022-07-11T00:00:00",
          "2022-07-12T00:00:00",
          "2022-07-13T00:00:00",
          "2022-07-14T00:00:00",
          "2022-07-15T00:00:00",
          "2022-07-16T00:00:00",
          "2022-07-17T00:00:00",
          "2022-07-18T00:00:00",
          "2022-07-19T00:00:00",
          "2022-07-20T00:00:00",
          "2022-07-21T00:00:00",
          "2022-07-22T00:00:00",
          "2022-07-23T00:00:00",
          "2022-07-24T00:00:00",
          "2022-07-25T00:00:00",
          "2022-07-26T00:00:00",
          "2022-07-27T00:00:00",
          "2022-07-28T00:00:00",
          "2022-07-29T00:00:00",
          "2022-07-30T00:00:00",
          "2022-07-31T00:00:00",
          "2022-08-01T00:00:00",
          "2022-08-02T00:00:00",
          "2022-08-03T00:00:00",
          "2022-08-04T00:00:00",
          "2022-08-05T00:00:00",
          "2022-08-06T00:00:00",
          "2022-08-07T00:00:00",
          "2022-08-08T00:00:00",
          "2022-08-09T00:00:00",
          "2022-08-10T00:00:00",
          "2022-08-11T00:00:00",
          "2022-08-12T00:00:00",
          "2022-08-13T00:00:00",
          "2022-08-14T00:00:00",
          "2022-08-15T00:00:00",
          "2022-08-16T00:00:00",
          "2022-08-17T00:00:00",
          "2022-08-18T00:00:00",
          "2022-08-19T00:00:00",
          "2022-08-20T00:00:00",
          "2022-08-21T00:00:00",
          "2022-08-22T00:00:00",
          "2022-08-23T00:00:00",
          "2022-08-24T00:00:00",
          "2022-08-25T00:00:00",
          "2022-08-26T00:00:00",
          "2022-08-27T00:00:00",
          "2022-08-28T00:00:00",
          "2022-08-29T00:00:00",
          "2022-08-30T00:00:00",
          "2022-08-31T00:00:00",
          "2022-09-01T00:00:00",
          "2022-09-02T00:00:00",
          "2022-09-03T00:00:00",
          "2022-09-04T00:00:00",
          "2022-09-05T00:00:00",
          "2022-09-06T00:00:00",
          "2022-09-07T00:00:00",
          "2022-09-08T00:00:00",
          "2022-09-09T00:00:00",
          "2022-09-10T00:00:00",
          "2022-09-11T00:00:00",
          "2022-09-12T00:00:00"
         ],
         "xaxis": "x",
         "y": [
          14608.285714285714,
          14209.142857142857,
          13854.857142857143,
          13566.42857142857,
          13296.714285714286,
          13003.142857142857,
          12683.857142857143,
          12425.142857142857,
          12139.857142857143,
          11826.142857142857,
          11487,
          11181.57142857143,
          10863.57142857143,
          10590.57142857143,
          10310.142857142857,
          10078,
          9864.42857142857,
          9697.285714285714,
          9478.285714285714,
          9295.142857142857,
          9089.285714285714,
          8907.42857142857,
          8695,
          8505.285714285714,
          8317,
          8143.428571428572,
          7972.571428571428,
          7798.285714285715,
          7625,
          7442.285714285715,
          7245.857142857143,
          7030,
          6822,
          6610.285714285715,
          6396.857142857143,
          6185.714285714285,
          6009.142857142857,
          5847.714285714285,
          5699.571428571428,
          5561.285714285715,
          5402.285714285715,
          5241.714285714285,
          5075.714285714285,
          4911,
          4736.857142857143,
          4583,
          4439.571428571428,
          4318.571428571428,
          4188.571428571428,
          4084.1428571428573,
          3995.4285714285716,
          3924.285714285714,
          3844.1428571428573,
          3761.714285714286,
          3676,
          3604.1428571428573,
          3511.8571428571427,
          3425.714285714286,
          3337.8571428571427,
          3235.5714285714284,
          3149.285714285714,
          3070,
          3013.8571428571427,
          2924.8571428571427,
          2822.8571428571427,
          2729.1428571428573,
          2648.4285714285716,
          2553.1428571428573,
          2450.5714285714284,
          2318.4285714285716,
          2224.8571428571427,
          2136.1428571428573,
          2049.1428571428573,
          1970.857142857143,
          1897.7142857142858,
          1827.857142857143,
          1758.2857142857142,
          1686.2857142857142,
          1629.2857142857142,
          1564.5714285714287,
          1507.4285714285713,
          1461.857142857143,
          1417.5714285714287,
          1369.857142857143,
          1324.4285714285713,
          1298.142857142857,
          1262,
          1215.142857142857,
          1166,
          1118,
          1070.4285714285713,
          1035.5714285714287,
          981.5714285714286,
          953.4285714285714,
          932.2857142857143,
          918.2857142857143,
          901.4285714285714,
          886.7142857142857,
          867.1428571428571,
          849.7142857142857,
          829.4285714285714,
          806.7142857142857,
          774,
          740.2857142857143,
          722,
          702.7142857142857,
          679.4285714285714,
          664.5714285714286,
          654.7142857142857,
          651.8571428571429,
          655.1428571428571,
          642.5714285714286,
          631.8571428571429,
          621.7142857142857,
          607.2857142857143,
          591,
          585.8571428571429,
          569.8571428571429,
          555,
          541.1428571428571,
          528.8571428571429,
          520.4285714285714,
          512,
          495.42857142857144,
          489.2857142857143,
          485.42857142857144,
          484.85714285714283,
          480,
          476.57142857142856,
          477.2857142857143,
          476.2857142857143,
          476.85714285714283,
          485.42857142857144,
          491,
          506.14285714285717,
          521,
          542.1428571428571,
          569.5714285714286,
          599.2857142857143,
          636,
          686.8571428571429,
          740,
          798.8571428571429,
          855.7142857142857,
          915.4285714285714,
          984.4285714285714,
          1054,
          1123.5714285714287,
          1196.4285714285713,
          1276.7142857142858,
          1371.857142857143,
          1458.7142857142858,
          1547.142857142857,
          1640.857142857143,
          1723.142857142857,
          1808.4285714285713,
          1883.142857142857,
          1953.7142857142858,
          2039.5714285714287,
          2131.285714285714,
          2238.4285714285716,
          2374,
          2521.1428571428573,
          2679.714285714286,
          2830.8571428571427,
          2985,
          3152,
          3312.285714285714,
          3484,
          3662.1428571428573,
          3860.714285714286,
          4091.5714285714284,
          4328.714285714285,
          4557,
          4816.571428571428,
          5097.571428571428,
          5377.285714285715,
          5631,
          5915,
          6221.714285714285,
          6566,
          6882,
          7242.428571428572,
          7642.285714285715,
          8039.714285714285,
          8390.142857142857,
          8762.42857142857,
          9049.714285714286,
          9412.714285714286,
          9752.142857142857,
          10033.142857142857,
          10299.857142857143,
          10569.285714285714,
          10816.714285714286,
          11110.57142857143,
          11376.57142857143,
          11528.285714285714,
          11770.142857142857,
          12052,
          12358.714285714286,
          12628,
          12943.142857142857,
          13236.57142857143,
          13576.285714285714,
          13827.714285714286,
          14043.714285714286,
          14173.42857142857,
          14276.142857142857,
          14343,
          14400,
          14413.57142857143,
          14377.857142857143,
          14296.285714285714,
          14227.42857142857,
          14097.42857142857,
          13978.42857142857,
          13841.857142857143,
          13699.142857142857,
          13552.285714285714,
          13407.714285714286,
          13298.142857142857,
          13263.857142857143,
          13216.42857142857,
          13196.42857142857,
          13213.857142857143,
          13250.285714285714,
          13378.857142857143,
          13509.42857142857,
          13646.42857142857,
          13828,
          14033.285714285714,
          14233.57142857143,
          14519,
          14796.857142857143,
          15077.57142857143,
          15399.857142857143,
          15710.285714285714,
          16089.714285714286,
          16522.85714285714,
          16861.285714285714,
          17216.428571428572,
          17478.571428571428,
          17788.14285714286,
          18165.85714285714,
          18554,
          19086,
          19783,
          20426,
          21116.428571428572,
          21860.285714285714,
          22671.714285714286,
          23557.428571428572,
          24226,
          24942.285714285714,
          25730.571428571428,
          26703.714285714286,
          27547.285714285714,
          28376,
          29153.714285714286,
          29973,
          30681.85714285714,
          31350.285714285714,
          31924,
          32418.428571428572,
          32789,
          33112.71428571428,
          33371.71428571428,
          33542.71428571428,
          33587,
          33594.142857142855,
          33550,
          33486.42857142857,
          33286.71428571428,
          33047,
          32612.714285714286,
          32198.14285714286,
          31619.14285714286,
          31041.571428571428,
          30356.571428571428,
          29728.14285714286,
          29022.428571428572,
          28383.571428571428,
          27669.428571428572,
          26961.285714285714,
          26171.428571428572,
          25439.85714285714,
          24651.428571428572,
          23890,
          23111.714285714286,
          22347.285714285714,
          21576.85714285714,
          20812.85714285714,
          20069.428571428572,
          19313.714285714286,
          18603.14285714286,
          17964.85714285714,
          17343.428571428572,
          16773.285714285714,
          16290.714285714286,
          15770,
          15256.714285714286,
          14741.857142857143,
          14248.857142857143,
          13794,
          13331.57142857143,
          12870.714285714286,
          12373.714285714286,
          11892,
          11410.857142857143,
          10923.285714285714,
          10443.714285714286,
          9988.42857142857,
          9550,
          9142.714285714286,
          8725.857142857143,
          8344.42857142857,
          7970.285714285715,
          7626.714285714285,
          7312,
          7033.571428571428,
          6780.285714285715,
          6513,
          6257.714285714285,
          6032.285714285715,
          5803.142857142857,
          5581.714285714285,
          5369.857142857143,
          5148.857142857143,
          4938.142857142857,
          4735.428571428572,
          4536.571428571428,
          4348,
          4186.714285714285,
          4056.285714285714,
          3905.714285714286,
          3757.8571428571427,
          3620.4285714285716,
          3488.8571428571427,
          3369.5714285714284,
          3237,
          3094.285714285714,
          2984.8571428571427,
          2872.5714285714284,
          2773.285714285714,
          2687.8571428571427,
          2609.8571428571427,
          2543.714285714286,
          2474.1428571428573,
          2391.8571428571427,
          2310.1428571428573,
          2234.285714285714,
          2160.8571428571427,
          2089.8571428571427,
          2021.7142857142858,
          1956.7142857142858,
          1898.857142857143,
          1845.142857142857,
          1786.857142857143,
          1735,
          1683.2857142857142,
          1631,
          1583.2857142857142,
          1538.4285714285713,
          1490,
          1441.5714285714287,
          1394.2857142857142,
          1353.142857142857,
          1307.857142857143,
          1260.7142857142858,
          1218.5714285714287,
          1176.142857142857,
          1145.142857142857,
          1110,
          1073,
          1046.142857142857,
          1028.5714285714287,
          1007.2857142857143,
          985.5714285714286,
          961,
          943.1428571428571,
          924.4285714285714,
          902.2857142857143,
          882.5714285714286,
          863.7142857142857,
          842.8571428571429,
          818.2857142857143,
          796.8571428571429,
          783.1428571428571,
          775.7142857142857,
          764.2857142857143,
          757.8571428571429,
          757.7142857142857,
          760,
          758.2857142857143,
          757.2857142857143,
          754,
          756.5714285714286,
          756.4285714285714,
          753,
          754.5714285714286,
          762.5714285714286,
          767.8571428571429,
          776.7142857142857,
          781.5714285714286,
          789,
          801.4285714285714,
          816.1428571428571,
          826.8571428571429,
          845,
          856.2857142857143,
          875.2857142857143,
          895.2857142857143,
          914.2857142857143,
          935.8571428571429,
          961.7142857142857,
          992.5714285714286,
          1033.4285714285713,
          1066,
          1097.5714285714287,
          1140,
          1178.7142857142858,
          1207,
          1228.7142857142858,
          1245,
          1264,
          1287.2857142857142,
          1312.2857142857142,
          1332.857142857143,
          1367.857142857143,
          1408.7142857142858,
          1455.4285714285713,
          1506.857142857143,
          1565.857142857143,
          1626.2857142857142,
          1705.2857142857142,
          1797.2857142857142,
          1890,
          1995.857142857143,
          2109.1428571428573,
          2226.285714285714,
          2356.285714285714,
          2495.1428571428573,
          2633.1428571428573,
          2780.5714285714284,
          2925.5714285714284,
          3070.285714285714,
          3210.5714285714284,
          3355.5714285714284,
          3487.5714285714284,
          3623.714285714286,
          3765,
          3912.714285714286,
          4060.4285714285716,
          4228.857142857143,
          4406.285714285715,
          4587.571428571428,
          4747.428571428572,
          4865.428571428572,
          4966.857142857143,
          5049.857142857143,
          5102,
          5138.285714285715,
          5131.571428571428,
          5097.571428571428,
          5074.428571428572,
          5041.285714285715,
          5007,
          4985.428571428572,
          4955.285714285715,
          4952.428571428572,
          4970.857142857143,
          4990.142857142857,
          5018.285714285715,
          5040.571428571428,
          5065.714285714285,
          5113,
          5161.714285714285,
          5224.714285714285,
          5299.714285714285,
          5371.142857142857,
          5457.142857142857,
          5547.714285714285,
          5629.285714285715,
          5697,
          5755.285714285715,
          5803.714285714285,
          5848.428571428572,
          5874.285714285715,
          5889.428571428572,
          5889.714285714285,
          5944.285714285715,
          5989.142857142857,
          6031,
          6074.714285714285,
          6115.714285714285,
          6160.285714285715,
          6213.571428571428,
          6206.571428571428,
          6216,
          6225.714285714285,
          6255,
          6278.285714285715,
          6290.571428571428,
          6297.571428571428,
          6311.857142857143,
          6312.428571428572,
          6287.714285714285,
          6217.714285714285,
          6143.714285714285,
          6064,
          5964.428571428572,
          5850,
          5721.428571428572,
          5597.571428571428,
          5472.714285714285,
          5388.714285714285,
          5282.142857142857,
          5195.571428571428,
          5136,
          5080.428571428572,
          5037.857142857143,
          5004,
          4940,
          4915.571428571428,
          4885.285714285715,
          4868.142857142857,
          4867,
          4873.571428571428,
          4898.714285714285,
          4937.142857142857,
          4979.857142857143,
          5022.285714285715,
          5051.857142857143,
          5085.714285714285,
          5132.428571428572,
          5187.857142857143,
          5254.142857142857,
          5332.142857142857,
          5436.714285714285,
          5563.285714285715,
          5713.714285714285,
          5867.571428571428,
          6016.428571428572,
          6159.428571428572,
          6286.857142857143,
          6410.142857142857,
          6522.142857142857,
          6615.285714285715,
          6708.571428571428,
          6809.714285714285,
          6919.571428571428,
          7033.285714285715,
          7138.142857142857,
          7227.714285714285,
          7276.285714285715,
          7302.285714285715,
          7296.428571428572,
          7256.285714285715,
          7199,
          7133.285714285715,
          7068,
          7020.857142857143,
          6972.285714285715,
          6930.142857142857,
          6896.571428571428,
          6867.571428571428,
          6837.428571428572,
          6776,
          6697.571428571428,
          6622.571428571428,
          6555.857142857143,
          6491.857142857143,
          6436.857142857143,
          6374,
          6321.714285714285,
          6271.714285714285,
          6233.428571428572,
          6188,
          6139.571428571428,
          6077.857142857143,
          6030.714285714285,
          6011.571428571428,
          5978.285714285715,
          5956.428571428572,
          5936.285714285715,
          5926.571428571428,
          5928.428571428572,
          5913.857142857143,
          5900.142857142857,
          5932.142857142857,
          5962.857142857143,
          5996.714285714285,
          6041.142857142857,
          6086.857142857143,
          6144.428571428572,
          6202.571428571428,
          6246.142857142857,
          6285.428571428572,
          6318.714285714285,
          6346.142857142857,
          6376.285714285715,
          6418.142857142857,
          6485,
          6588.142857142857,
          6689.428571428572,
          6838.714285714285,
          6964.285714285715,
          7121.714285714285,
          7376.857142857143,
          7754.571428571428,
          8237.714285714286,
          8857.42857142857,
          9575.857142857143,
          10354.285714285714,
          11156.42857142857,
          11975.857142857143,
          12761.285714285714,
          13503.714285714286,
          14161.714285714286,
          14700,
          15188.42857142857,
          15652.42857142857,
          16068.142857142857,
          16338.857142857143,
          16513.428571428572,
          16607.428571428572,
          16660.85714285714,
          16696.14285714286,
          16692.285714285714,
          16621,
          16518,
          16355.285714285714,
          16153.285714285714,
          15914.42857142857,
          15634.285714285714,
          15343.142857142857,
          15049.142857142857,
          14744.857142857143,
          14488.57142857143,
          14252.714285714286,
          14052.285714285714,
          13816.857142857143,
          13625.142857142857,
          13449.142857142857,
          13278.857142857143,
          13083,
          12907.57142857143,
          12703.285714285714,
          12550.714285714286,
          12341.714285714286,
          12110.142857142857,
          11906.57142857143,
          11691.42857142857,
          11450.142857142857,
          11212.285714285714,
          10984.57142857143,
          10773.142857142857,
          10567.857142857143,
          10360.42857142857,
          10179.42857142857,
          10017.42857142857,
          9859,
          9741.42857142857,
          9599.857142857143,
          9450.714285714286,
          9297.714285714286,
          9164,
          9027.57142857143,
          8919,
          8777.57142857143,
          8670,
          8571.285714285714,
          8505.285714285714,
          8438.714285714286,
          8376.57142857143,
          8363,
          8392,
          8420.142857142857,
          8475.142857142857,
          8573.714285714286,
          8682.42857142857,
          8829.714285714286,
          8967.714285714286,
          9141.714285714286,
          9342.57142857143,
          9578.714285714286,
          9821.714285714286,
          10085.57142857143,
          10386.285714285714,
          10704.285714285714,
          10992.857142857143,
          11301.714285714286,
          11612.714285714286,
          11924.57142857143,
          12244.285714285714,
          12566.57142857143,
          12887.57142857143,
          13195.857142857143,
          13538,
          13883.285714285714,
          14219.142857142857,
          14559.714285714286,
          14852,
          15155.42857142857,
          15433,
          15650.714285714286,
          15835.857142857143,
          15998.857142857143,
          16135.285714285714,
          16271.285714285714,
          16328.42857142857,
          16348,
          16355.142857142857,
          16351.714285714286,
          16291.57142857143,
          16121.857142857143,
          15886.857142857143,
          15605.142857142857,
          15385,
          15130,
          14807.285714285714,
          14589.57142857143,
          14413.142857142857,
          14189.857142857143,
          13974,
          13662.714285714286,
          13352.57142857143,
          13039.57142857143,
          12570,
          12113,
          11690.142857142857,
          11269.42857142857,
          10889.857142857143,
          10500.142857142857,
          10119.285714285714,
          9822.57142857143,
          9534.714285714286,
          9272.42857142857,
          9019.857142857143,
          8772.57142857143,
          8538.285714285714,
          8298.42857142857,
          8029.857142857143,
          7756.142857142857,
          7471.285714285715,
          7213.571428571428,
          6982,
          6759.571428571428,
          6527.714285714285,
          6294.857142857143,
          6065,
          5887,
          5718.571428571428,
          5564,
          5405.285714285715,
          5260.428571428572,
          5104.142857142857,
          4970.428571428572,
          4828.857142857143,
          4687.428571428572,
          4537.142857142857,
          4390.142857142857,
          4258.857142857143,
          4172.714285714285,
          4074.285714285714,
          3999.4285714285716,
          3949.714285714286,
          3924.285714285714,
          3916.714285714286,
          3921.714285714286,
          3932,
          3974.285714285714,
          4008.714285714286,
          4067.714285714286,
          4128,
          4191.285714285715,
          4259.285714285715,
          4347,
          4453.714285714285,
          4586,
          4696.714285714285,
          4829,
          4975.857142857143,
          5136.428571428572,
          5319.285714285715,
          5509.857142857143,
          5708.857142857143,
          5953.857142857143,
          6209.571428571428,
          6498,
          6797.428571428572,
          7100,
          7444.285714285715,
          7805.285714285715,
          8182,
          8561.857142857143,
          8919.142857142857,
          9324.285714285714,
          9742.714285714286,
          10153.857142857143,
          10575.285714285714,
          10988.714285714286,
          11389.857142857143,
          11807.42857142857,
          12190,
          12557.42857142857,
          12882.57142857143,
          13158.142857142857,
          13399.857142857143,
          13580,
          13717.285714285714,
          13818.42857142857,
          13849.285714285714,
          13821.285714285714,
          13759.57142857143,
          13646.285714285714,
          13471.142857142857,
          13292.714285714286,
          13076.285714285714,
          12830,
          12597,
          12320.142857142857,
          12029.714285714286,
          11751.714285714286,
          11443.142857142857,
          11141.42857142857,
          10864.857142857143,
          10565.285714285714,
          10288.285714285714,
          10003,
          9756.857142857143,
          9524.57142857143,
          9306.142857142857,
          9084.285714285714,
          8894.285714285714,
          8727,
          8572.714285714286,
          8456.57142857143,
          8364.142857142857,
          8249.857142857143,
          8136.714285714285,
          7993.714285714285,
          7864.285714285715,
          7717.571428571428,
          7541.428571428572,
          7331.285714285715,
          7147.714285714285,
          6948.285714285715,
          6779.142857142857,
          6611.714285714285,
          6440.285714285715,
          6298.142857142857,
          6159.571428571428,
          6011.714285714285,
          5912.714285714285,
          5820.714285714285,
          5721.428571428572,
          5648.428571428572,
          5565.285714285715,
          5350.428571428572,
          5272.285714285715,
          5174.714285714285,
          5061.285714285715,
          4965.142857142857,
          4888.428571428572,
          4812.285714285715,
          4880.714285714285,
          4801.428571428572
         ],
         "yaxis": "y"
        }
       ],
       "layout": {
        "legend": {
         "tracegroupgap": 0
        },
        "template": {
         "data": {
          "bar": [
           {
            "error_x": {
             "color": "#2a3f5f"
            },
            "error_y": {
             "color": "#2a3f5f"
            },
            "marker": {
             "line": {
              "color": "white",
              "width": 0.5
             },
             "pattern": {
              "fillmode": "overlay",
              "size": 10,
              "solidity": 0.2
             }
            },
            "type": "bar"
           }
          ],
          "barpolar": [
           {
            "marker": {
             "line": {
              "color": "white",
              "width": 0.5
             },
             "pattern": {
              "fillmode": "overlay",
              "size": 10,
              "solidity": 0.2
             }
            },
            "type": "barpolar"
           }
          ],
          "carpet": [
           {
            "aaxis": {
             "endlinecolor": "#2a3f5f",
             "gridcolor": "#C8D4E3",
             "linecolor": "#C8D4E3",
             "minorgridcolor": "#C8D4E3",
             "startlinecolor": "#2a3f5f"
            },
            "baxis": {
             "endlinecolor": "#2a3f5f",
             "gridcolor": "#C8D4E3",
             "linecolor": "#C8D4E3",
             "minorgridcolor": "#C8D4E3",
             "startlinecolor": "#2a3f5f"
            },
            "type": "carpet"
           }
          ],
          "choropleth": [
           {
            "colorbar": {
             "outlinewidth": 0,
             "ticks": ""
            },
            "type": "choropleth"
           }
          ],
          "contour": [
           {
            "colorbar": {
             "outlinewidth": 0,
             "ticks": ""
            },
            "colorscale": [
             [
              0,
              "#0d0887"
             ],
             [
              0.1111111111111111,
              "#46039f"
             ],
             [
              0.2222222222222222,
              "#7201a8"
             ],
             [
              0.3333333333333333,
              "#9c179e"
             ],
             [
              0.4444444444444444,
              "#bd3786"
             ],
             [
              0.5555555555555556,
              "#d8576b"
             ],
             [
              0.6666666666666666,
              "#ed7953"
             ],
             [
              0.7777777777777778,
              "#fb9f3a"
             ],
             [
              0.8888888888888888,
              "#fdca26"
             ],
             [
              1,
              "#f0f921"
             ]
            ],
            "type": "contour"
           }
          ],
          "contourcarpet": [
           {
            "colorbar": {
             "outlinewidth": 0,
             "ticks": ""
            },
            "type": "contourcarpet"
           }
          ],
          "heatmap": [
           {
            "colorbar": {
             "outlinewidth": 0,
             "ticks": ""
            },
            "colorscale": [
             [
              0,
              "#0d0887"
             ],
             [
              0.1111111111111111,
              "#46039f"
             ],
             [
              0.2222222222222222,
              "#7201a8"
             ],
             [
              0.3333333333333333,
              "#9c179e"
             ],
             [
              0.4444444444444444,
              "#bd3786"
             ],
             [
              0.5555555555555556,
              "#d8576b"
             ],
             [
              0.6666666666666666,
              "#ed7953"
             ],
             [
              0.7777777777777778,
              "#fb9f3a"
             ],
             [
              0.8888888888888888,
              "#fdca26"
             ],
             [
              1,
              "#f0f921"
             ]
            ],
            "type": "heatmap"
           }
          ],
          "heatmapgl": [
           {
            "colorbar": {
             "outlinewidth": 0,
             "ticks": ""
            },
            "colorscale": [
             [
              0,
              "#0d0887"
             ],
             [
              0.1111111111111111,
              "#46039f"
             ],
             [
              0.2222222222222222,
              "#7201a8"
             ],
             [
              0.3333333333333333,
              "#9c179e"
             ],
             [
              0.4444444444444444,
              "#bd3786"
             ],
             [
              0.5555555555555556,
              "#d8576b"
             ],
             [
              0.6666666666666666,
              "#ed7953"
             ],
             [
              0.7777777777777778,
              "#fb9f3a"
             ],
             [
              0.8888888888888888,
              "#fdca26"
             ],
             [
              1,
              "#f0f921"
             ]
            ],
            "type": "heatmapgl"
           }
          ],
          "histogram": [
           {
            "marker": {
             "pattern": {
              "fillmode": "overlay",
              "size": 10,
              "solidity": 0.2
             }
            },
            "type": "histogram"
           }
          ],
          "histogram2d": [
           {
            "colorbar": {
             "outlinewidth": 0,
             "ticks": ""
            },
            "colorscale": [
             [
              0,
              "#0d0887"
             ],
             [
              0.1111111111111111,
              "#46039f"
             ],
             [
              0.2222222222222222,
              "#7201a8"
             ],
             [
              0.3333333333333333,
              "#9c179e"
             ],
             [
              0.4444444444444444,
              "#bd3786"
             ],
             [
              0.5555555555555556,
              "#d8576b"
             ],
             [
              0.6666666666666666,
              "#ed7953"
             ],
             [
              0.7777777777777778,
              "#fb9f3a"
             ],
             [
              0.8888888888888888,
              "#fdca26"
             ],
             [
              1,
              "#f0f921"
             ]
            ],
            "type": "histogram2d"
           }
          ],
          "histogram2dcontour": [
           {
            "colorbar": {
             "outlinewidth": 0,
             "ticks": ""
            },
            "colorscale": [
             [
              0,
              "#0d0887"
             ],
             [
              0.1111111111111111,
              "#46039f"
             ],
             [
              0.2222222222222222,
              "#7201a8"
             ],
             [
              0.3333333333333333,
              "#9c179e"
             ],
             [
              0.4444444444444444,
              "#bd3786"
             ],
             [
              0.5555555555555556,
              "#d8576b"
             ],
             [
              0.6666666666666666,
              "#ed7953"
             ],
             [
              0.7777777777777778,
              "#fb9f3a"
             ],
             [
              0.8888888888888888,
              "#fdca26"
             ],
             [
              1,
              "#f0f921"
             ]
            ],
            "type": "histogram2dcontour"
           }
          ],
          "mesh3d": [
           {
            "colorbar": {
             "outlinewidth": 0,
             "ticks": ""
            },
            "type": "mesh3d"
           }
          ],
          "parcoords": [
           {
            "line": {
             "colorbar": {
              "outlinewidth": 0,
              "ticks": ""
             }
            },
            "type": "parcoords"
           }
          ],
          "pie": [
           {
            "automargin": true,
            "type": "pie"
           }
          ],
          "scatter": [
           {
            "fillpattern": {
             "fillmode": "overlay",
             "size": 10,
             "solidity": 0.2
            },
            "type": "scatter"
           }
          ],
          "scatter3d": [
           {
            "line": {
             "colorbar": {
              "outlinewidth": 0,
              "ticks": ""
             }
            },
            "marker": {
             "colorbar": {
              "outlinewidth": 0,
              "ticks": ""
             }
            },
            "type": "scatter3d"
           }
          ],
          "scattercarpet": [
           {
            "marker": {
             "colorbar": {
              "outlinewidth": 0,
              "ticks": ""
             }
            },
            "type": "scattercarpet"
           }
          ],
          "scattergeo": [
           {
            "marker": {
             "colorbar": {
              "outlinewidth": 0,
              "ticks": ""
             }
            },
            "type": "scattergeo"
           }
          ],
          "scattergl": [
           {
            "marker": {
             "colorbar": {
              "outlinewidth": 0,
              "ticks": ""
             }
            },
            "type": "scattergl"
           }
          ],
          "scattermapbox": [
           {
            "marker": {
             "colorbar": {
              "outlinewidth": 0,
              "ticks": ""
             }
            },
            "type": "scattermapbox"
           }
          ],
          "scatterpolar": [
           {
            "marker": {
             "colorbar": {
              "outlinewidth": 0,
              "ticks": ""
             }
            },
            "type": "scatterpolar"
           }
          ],
          "scatterpolargl": [
           {
            "marker": {
             "colorbar": {
              "outlinewidth": 0,
              "ticks": ""
             }
            },
            "type": "scatterpolargl"
           }
          ],
          "scatterternary": [
           {
            "marker": {
             "colorbar": {
              "outlinewidth": 0,
              "ticks": ""
             }
            },
            "type": "scatterternary"
           }
          ],
          "surface": [
           {
            "colorbar": {
             "outlinewidth": 0,
             "ticks": ""
            },
            "colorscale": [
             [
              0,
              "#0d0887"
             ],
             [
              0.1111111111111111,
              "#46039f"
             ],
             [
              0.2222222222222222,
              "#7201a8"
             ],
             [
              0.3333333333333333,
              "#9c179e"
             ],
             [
              0.4444444444444444,
              "#bd3786"
             ],
             [
              0.5555555555555556,
              "#d8576b"
             ],
             [
              0.6666666666666666,
              "#ed7953"
             ],
             [
              0.7777777777777778,
              "#fb9f3a"
             ],
             [
              0.8888888888888888,
              "#fdca26"
             ],
             [
              1,
              "#f0f921"
             ]
            ],
            "type": "surface"
           }
          ],
          "table": [
           {
            "cells": {
             "fill": {
              "color": "#EBF0F8"
             },
             "line": {
              "color": "white"
             }
            },
            "header": {
             "fill": {
              "color": "#C8D4E3"
             },
             "line": {
              "color": "white"
             }
            },
            "type": "table"
           }
          ]
         },
         "layout": {
          "annotationdefaults": {
           "arrowcolor": "#2a3f5f",
           "arrowhead": 0,
           "arrowwidth": 1
          },
          "autotypenumbers": "strict",
          "coloraxis": {
           "colorbar": {
            "outlinewidth": 0,
            "ticks": ""
           }
          },
          "colorscale": {
           "diverging": [
            [
             0,
             "#8e0152"
            ],
            [
             0.1,
             "#c51b7d"
            ],
            [
             0.2,
             "#de77ae"
            ],
            [
             0.3,
             "#f1b6da"
            ],
            [
             0.4,
             "#fde0ef"
            ],
            [
             0.5,
             "#f7f7f7"
            ],
            [
             0.6,
             "#e6f5d0"
            ],
            [
             0.7,
             "#b8e186"
            ],
            [
             0.8,
             "#7fbc41"
            ],
            [
             0.9,
             "#4d9221"
            ],
            [
             1,
             "#276419"
            ]
           ],
           "sequential": [
            [
             0,
             "#0d0887"
            ],
            [
             0.1111111111111111,
             "#46039f"
            ],
            [
             0.2222222222222222,
             "#7201a8"
            ],
            [
             0.3333333333333333,
             "#9c179e"
            ],
            [
             0.4444444444444444,
             "#bd3786"
            ],
            [
             0.5555555555555556,
             "#d8576b"
            ],
            [
             0.6666666666666666,
             "#ed7953"
            ],
            [
             0.7777777777777778,
             "#fb9f3a"
            ],
            [
             0.8888888888888888,
             "#fdca26"
            ],
            [
             1,
             "#f0f921"
            ]
           ],
           "sequentialminus": [
            [
             0,
             "#0d0887"
            ],
            [
             0.1111111111111111,
             "#46039f"
            ],
            [
             0.2222222222222222,
             "#7201a8"
            ],
            [
             0.3333333333333333,
             "#9c179e"
            ],
            [
             0.4444444444444444,
             "#bd3786"
            ],
            [
             0.5555555555555556,
             "#d8576b"
            ],
            [
             0.6666666666666666,
             "#ed7953"
            ],
            [
             0.7777777777777778,
             "#fb9f3a"
            ],
            [
             0.8888888888888888,
             "#fdca26"
            ],
            [
             1,
             "#f0f921"
            ]
           ]
          },
          "colorway": [
           "#636efa",
           "#EF553B",
           "#00cc96",
           "#ab63fa",
           "#FFA15A",
           "#19d3f3",
           "#FF6692",
           "#B6E880",
           "#FF97FF",
           "#FECB52"
          ],
          "font": {
           "color": "#2a3f5f"
          },
          "geo": {
           "bgcolor": "white",
           "lakecolor": "white",
           "landcolor": "white",
           "showlakes": true,
           "showland": true,
           "subunitcolor": "#C8D4E3"
          },
          "hoverlabel": {
           "align": "left"
          },
          "hovermode": "closest",
          "mapbox": {
           "style": "light"
          },
          "paper_bgcolor": "white",
          "plot_bgcolor": "white",
          "polar": {
           "angularaxis": {
            "gridcolor": "#EBF0F8",
            "linecolor": "#EBF0F8",
            "ticks": ""
           },
           "bgcolor": "white",
           "radialaxis": {
            "gridcolor": "#EBF0F8",
            "linecolor": "#EBF0F8",
            "ticks": ""
           }
          },
          "scene": {
           "xaxis": {
            "backgroundcolor": "white",
            "gridcolor": "#DFE8F3",
            "gridwidth": 2,
            "linecolor": "#EBF0F8",
            "showbackground": true,
            "ticks": "",
            "zerolinecolor": "#EBF0F8"
           },
           "yaxis": {
            "backgroundcolor": "white",
            "gridcolor": "#DFE8F3",
            "gridwidth": 2,
            "linecolor": "#EBF0F8",
            "showbackground": true,
            "ticks": "",
            "zerolinecolor": "#EBF0F8"
           },
           "zaxis": {
            "backgroundcolor": "white",
            "gridcolor": "#DFE8F3",
            "gridwidth": 2,
            "linecolor": "#EBF0F8",
            "showbackground": true,
            "ticks": "",
            "zerolinecolor": "#EBF0F8"
           }
          },
          "shapedefaults": {
           "line": {
            "color": "#2a3f5f"
           }
          },
          "ternary": {
           "aaxis": {
            "gridcolor": "#DFE8F3",
            "linecolor": "#A2B1C6",
            "ticks": ""
           },
           "baxis": {
            "gridcolor": "#DFE8F3",
            "linecolor": "#A2B1C6",
            "ticks": ""
           },
           "bgcolor": "white",
           "caxis": {
            "gridcolor": "#DFE8F3",
            "linecolor": "#A2B1C6",
            "ticks": ""
           }
          },
          "title": {
           "x": 0.05
          },
          "xaxis": {
           "automargin": true,
           "gridcolor": "#EBF0F8",
           "linecolor": "#EBF0F8",
           "ticks": "",
           "title": {
            "standoff": 15
           },
           "zerolinecolor": "#EBF0F8",
           "zerolinewidth": 2
          },
          "yaxis": {
           "automargin": true,
           "gridcolor": "#EBF0F8",
           "linecolor": "#EBF0F8",
           "ticks": "",
           "title": {
            "standoff": 15
           },
           "zerolinecolor": "#EBF0F8",
           "zerolinewidth": 2
          }
         }
        },
        "title": {
         "text": "Hospital Cases Rolling Mean"
        },
        "xaxis": {
         "anchor": "y",
         "domain": [
          0,
          1
         ],
         "title": {
          "text": "date"
         }
        },
        "yaxis": {
         "anchor": "x",
         "domain": [
          0,
          1
         ],
         "title": {
          "text": "hospitalCases_rolling_7_mean"
         }
        }
       }
      }
     },
     "metadata": {},
     "output_type": "display_data"
    }
   ],
   "source": [
    "# plot cumulative_deceased\n",
    "fig = px.line(\n",
    "    merged_data,\n",
    "    x=merged_data.index,\n",
    "    y=\"hospitalCases_rolling_7_mean\",\n",
    "    title=\"Hospital Cases Rolling Mean\",\n",
    ")\n",
    "fig.show()\n",
    "fig.write_image(\"reports/figures/hospital_cases_rolling_mean.png\")"
   ]
  },
  {
   "cell_type": "code",
   "execution_count": 7,
   "metadata": {},
   "outputs": [
    {
     "name": "stderr",
     "output_type": "stream",
     "text": [
      "2024-06-11 14:50:53,501 - INFO - Data ranges from 2020-04-28 00:00:00 to 2021-12-31 00:00:00 (612 days)\n"
     ]
    }
   ],
   "source": [
    "# Filter data between the specified dates\n",
    "start_date = \"2020-04-27\"\n",
    "end_date = \"2021-12-31\"\n",
    "\n",
    "merged_data = merged_data[start_date:end_date]\n",
    "\n",
    "\n",
    "# Calculate the range of dates\n",
    "date_range = merged_data.index[-1] - merged_data.index[0]\n",
    "logging.info(f\"Data ranges from {merged_data.index[0]} to {merged_data.index[-1]} ({date_range.days} days)\")"
   ]
  },
  {
   "cell_type": "code",
   "execution_count": 8,
   "metadata": {},
   "outputs": [],
   "source": [
    "# drop columns that are not needed\n",
    "merged_data.drop(\n",
    "    columns=[\n",
    "        \"areaName\",\n",
    "        \"population\",\n",
    "        \"openstreetmap_id\",\n",
    "        \"latitude\",\n",
    "        \"longitude\",\n",
    "    ],\n",
    "    inplace=True,\n",
    ")"
   ]
  },
  {
   "cell_type": "code",
   "execution_count": 9,
   "metadata": {},
   "outputs": [
    {
     "data": {
      "text/html": [
       "<div>\n",
       "<style scoped>\n",
       "    .dataframe tbody tr th:only-of-type {\n",
       "        vertical-align: middle;\n",
       "    }\n",
       "\n",
       "    .dataframe tbody tr th {\n",
       "        vertical-align: top;\n",
       "    }\n",
       "\n",
       "    .dataframe thead th {\n",
       "        text-align: right;\n",
       "    }\n",
       "</style>\n",
       "<table border=\"1\" class=\"dataframe\">\n",
       "  <thead>\n",
       "    <tr style=\"text-align: right;\">\n",
       "      <th></th>\n",
       "      <th>covidOccupiedMVBeds</th>\n",
       "      <th>cumAdmissions</th>\n",
       "      <th>hospitalCases</th>\n",
       "      <th>newAdmissions</th>\n",
       "      <th>new_confirmed</th>\n",
       "      <th>new_deceased</th>\n",
       "      <th>cumulative_confirmed</th>\n",
       "      <th>cumulative_deceased</th>\n",
       "      <th>covidOccupiedMVBeds_lag_1</th>\n",
       "      <th>covidOccupiedMVBeds_lag_2</th>\n",
       "      <th>...</th>\n",
       "      <th>covidOccupiedMVBeds_lag_7</th>\n",
       "      <th>covidOccupiedMVBeds_lag_14</th>\n",
       "      <th>covidOccupiedMVBeds_lag_21</th>\n",
       "      <th>month</th>\n",
       "      <th>day</th>\n",
       "      <th>day_of_week</th>\n",
       "      <th>hospitalCases_rolling_7_mean</th>\n",
       "      <th>newAdmissions_rolling_7_mean</th>\n",
       "      <th>new_confirmed_rolling_7_mean</th>\n",
       "      <th>new_deceased_rolling_7_mean</th>\n",
       "    </tr>\n",
       "    <tr>\n",
       "      <th>date</th>\n",
       "      <th></th>\n",
       "      <th></th>\n",
       "      <th></th>\n",
       "      <th></th>\n",
       "      <th></th>\n",
       "      <th></th>\n",
       "      <th></th>\n",
       "      <th></th>\n",
       "      <th></th>\n",
       "      <th></th>\n",
       "      <th></th>\n",
       "      <th></th>\n",
       "      <th></th>\n",
       "      <th></th>\n",
       "      <th></th>\n",
       "      <th></th>\n",
       "      <th></th>\n",
       "      <th></th>\n",
       "      <th></th>\n",
       "      <th></th>\n",
       "      <th></th>\n",
       "    </tr>\n",
       "  </thead>\n",
       "  <tbody>\n",
       "    <tr>\n",
       "      <th>2020-04-28</th>\n",
       "      <td>72.964184</td>\n",
       "      <td>73874</td>\n",
       "      <td>13565.0</td>\n",
       "      <td>1296</td>\n",
       "      <td>3902.0</td>\n",
       "      <td>496.0</td>\n",
       "      <td>135248.0</td>\n",
       "      <td>24391.0</td>\n",
       "      <td>2194.0</td>\n",
       "      <td>2309.0</td>\n",
       "      <td>...</td>\n",
       "      <td>2701.0</td>\n",
       "      <td>2849.0</td>\n",
       "      <td>2472.0</td>\n",
       "      <td>4</td>\n",
       "      <td>28</td>\n",
       "      <td>1</td>\n",
       "      <td>14608.285714</td>\n",
       "      <td>1257.714286</td>\n",
       "      <td>3900.857143</td>\n",
       "      <td>563.428571</td>\n",
       "    </tr>\n",
       "    <tr>\n",
       "      <th>2020-04-29</th>\n",
       "      <td>72.138678</td>\n",
       "      <td>75169</td>\n",
       "      <td>13224.0</td>\n",
       "      <td>1295</td>\n",
       "      <td>4610.0</td>\n",
       "      <td>495.0</td>\n",
       "      <td>139858.0</td>\n",
       "      <td>24886.0</td>\n",
       "      <td>2093.0</td>\n",
       "      <td>2194.0</td>\n",
       "      <td>...</td>\n",
       "      <td>2646.0</td>\n",
       "      <td>2847.0</td>\n",
       "      <td>2561.0</td>\n",
       "      <td>4</td>\n",
       "      <td>29</td>\n",
       "      <td>2</td>\n",
       "      <td>14209.142857</td>\n",
       "      <td>1255.571429</td>\n",
       "      <td>3895.142857</td>\n",
       "      <td>542.714286</td>\n",
       "    </tr>\n",
       "    <tr>\n",
       "      <th>2020-04-30</th>\n",
       "      <td>71.197357</td>\n",
       "      <td>76396</td>\n",
       "      <td>12922.0</td>\n",
       "      <td>1227</td>\n",
       "      <td>4231.0</td>\n",
       "      <td>483.0</td>\n",
       "      <td>144089.0</td>\n",
       "      <td>25369.0</td>\n",
       "      <td>2045.0</td>\n",
       "      <td>2093.0</td>\n",
       "      <td>...</td>\n",
       "      <td>2563.0</td>\n",
       "      <td>2838.0</td>\n",
       "      <td>2546.0</td>\n",
       "      <td>4</td>\n",
       "      <td>30</td>\n",
       "      <td>3</td>\n",
       "      <td>13854.857143</td>\n",
       "      <td>1246.714286</td>\n",
       "      <td>3867.714286</td>\n",
       "      <td>526.714286</td>\n",
       "    </tr>\n",
       "    <tr>\n",
       "      <th>2020-05-01</th>\n",
       "      <td>70.544039</td>\n",
       "      <td>77477</td>\n",
       "      <td>12623.0</td>\n",
       "      <td>1081</td>\n",
       "      <td>4024.0</td>\n",
       "      <td>475.0</td>\n",
       "      <td>148113.0</td>\n",
       "      <td>25844.0</td>\n",
       "      <td>1991.0</td>\n",
       "      <td>2045.0</td>\n",
       "      <td>...</td>\n",
       "      <td>2414.0</td>\n",
       "      <td>2780.0</td>\n",
       "      <td>2820.0</td>\n",
       "      <td>5</td>\n",
       "      <td>1</td>\n",
       "      <td>4</td>\n",
       "      <td>13566.428571</td>\n",
       "      <td>1218.714286</td>\n",
       "      <td>3848.285714</td>\n",
       "      <td>508.714286</td>\n",
       "    </tr>\n",
       "    <tr>\n",
       "      <th>2020-05-02</th>\n",
       "      <td>68.562580</td>\n",
       "      <td>78457</td>\n",
       "      <td>12314.0</td>\n",
       "      <td>980</td>\n",
       "      <td>2677.0</td>\n",
       "      <td>424.0</td>\n",
       "      <td>150790.0</td>\n",
       "      <td>26268.0</td>\n",
       "      <td>1954.0</td>\n",
       "      <td>1991.0</td>\n",
       "      <td>...</td>\n",
       "      <td>2405.0</td>\n",
       "      <td>2868.0</td>\n",
       "      <td>2865.0</td>\n",
       "      <td>5</td>\n",
       "      <td>2</td>\n",
       "      <td>5</td>\n",
       "      <td>13296.714286</td>\n",
       "      <td>1204.428571</td>\n",
       "      <td>3768.857143</td>\n",
       "      <td>490.571429</td>\n",
       "    </tr>\n",
       "  </tbody>\n",
       "</table>\n",
       "<p>5 rows × 22 columns</p>\n",
       "</div>"
      ],
      "text/plain": [
       "            covidOccupiedMVBeds  cumAdmissions  hospitalCases  newAdmissions  \\\n",
       "date                                                                           \n",
       "2020-04-28            72.964184          73874        13565.0           1296   \n",
       "2020-04-29            72.138678          75169        13224.0           1295   \n",
       "2020-04-30            71.197357          76396        12922.0           1227   \n",
       "2020-05-01            70.544039          77477        12623.0           1081   \n",
       "2020-05-02            68.562580          78457        12314.0            980   \n",
       "\n",
       "            new_confirmed  new_deceased  cumulative_confirmed  \\\n",
       "date                                                            \n",
       "2020-04-28         3902.0         496.0              135248.0   \n",
       "2020-04-29         4610.0         495.0              139858.0   \n",
       "2020-04-30         4231.0         483.0              144089.0   \n",
       "2020-05-01         4024.0         475.0              148113.0   \n",
       "2020-05-02         2677.0         424.0              150790.0   \n",
       "\n",
       "            cumulative_deceased  covidOccupiedMVBeds_lag_1  \\\n",
       "date                                                         \n",
       "2020-04-28              24391.0                     2194.0   \n",
       "2020-04-29              24886.0                     2093.0   \n",
       "2020-04-30              25369.0                     2045.0   \n",
       "2020-05-01              25844.0                     1991.0   \n",
       "2020-05-02              26268.0                     1954.0   \n",
       "\n",
       "            covidOccupiedMVBeds_lag_2  ...  covidOccupiedMVBeds_lag_7  \\\n",
       "date                                   ...                              \n",
       "2020-04-28                     2309.0  ...                     2701.0   \n",
       "2020-04-29                     2194.0  ...                     2646.0   \n",
       "2020-04-30                     2093.0  ...                     2563.0   \n",
       "2020-05-01                     2045.0  ...                     2414.0   \n",
       "2020-05-02                     1991.0  ...                     2405.0   \n",
       "\n",
       "            covidOccupiedMVBeds_lag_14  covidOccupiedMVBeds_lag_21  month  \\\n",
       "date                                                                        \n",
       "2020-04-28                      2849.0                      2472.0      4   \n",
       "2020-04-29                      2847.0                      2561.0      4   \n",
       "2020-04-30                      2838.0                      2546.0      4   \n",
       "2020-05-01                      2780.0                      2820.0      5   \n",
       "2020-05-02                      2868.0                      2865.0      5   \n",
       "\n",
       "            day  day_of_week  hospitalCases_rolling_7_mean  \\\n",
       "date                                                         \n",
       "2020-04-28   28            1                  14608.285714   \n",
       "2020-04-29   29            2                  14209.142857   \n",
       "2020-04-30   30            3                  13854.857143   \n",
       "2020-05-01    1            4                  13566.428571   \n",
       "2020-05-02    2            5                  13296.714286   \n",
       "\n",
       "            newAdmissions_rolling_7_mean  new_confirmed_rolling_7_mean  \\\n",
       "date                                                                     \n",
       "2020-04-28                   1257.714286                   3900.857143   \n",
       "2020-04-29                   1255.571429                   3895.142857   \n",
       "2020-04-30                   1246.714286                   3867.714286   \n",
       "2020-05-01                   1218.714286                   3848.285714   \n",
       "2020-05-02                   1204.428571                   3768.857143   \n",
       "\n",
       "            new_deceased_rolling_7_mean  \n",
       "date                                     \n",
       "2020-04-28                   563.428571  \n",
       "2020-04-29                   542.714286  \n",
       "2020-04-30                   526.714286  \n",
       "2020-05-01                   508.714286  \n",
       "2020-05-02                   490.571429  \n",
       "\n",
       "[5 rows x 22 columns]"
      ]
     },
     "execution_count": 9,
     "metadata": {},
     "output_type": "execute_result"
    }
   ],
   "source": [
    "# Set the target variable\n",
    "target = \"covidOccupiedMVBeds\"\n",
    "\n",
    "seasonal_period = 7\n",
    "auto_stationary = AutoStationaryTransformer(seasonal_period=seasonal_period)\n",
    "\n",
    "# Fit and transform the target column to make it stationary\n",
    "data_stat = auto_stationary.fit_transform(merged_data[[target]], freq=\"D\")\n",
    "\n",
    "# Replace the original target values with the transformed stationary values\n",
    "merged_data[target] = data_stat.values\n",
    "\n",
    "# Print the transformed data to check\n",
    "merged_data.head()"
   ]
  },
  {
   "cell_type": "code",
   "execution_count": 10,
   "metadata": {},
   "outputs": [],
   "source": [
    "# # Calculate split points\n",
    "# total_days = date_range.days\n",
    "# train_end = merged_data.index[0] + pd.Timedelta(days=int(total_days * 0.70))\n",
    "# val_end = train_end + pd.Timedelta(days=int(total_days * 0.20))\n",
    "\n",
    "# # Split the data into training, validation, and testing sets\n",
    "# train = merged_data[merged_data.index <= train_end]\n",
    "# val = merged_data[(merged_data.index > train_end) & (merged_data.index <= val_end)]\n",
    "# test = merged_data[merged_data.index > val_end]\n",
    "\n",
    "# # Calculate the percentage of dates in each dataset\n",
    "# total_sample = len(merged_data)\n",
    "# train_sample = len(train) / total_sample * 100\n",
    "# val_sample = len(val) / total_sample * 100\n",
    "# test_sample = len(test) / total_sample * 100\n",
    "\n",
    "# print(\n",
    "#     f\"Train: {train_sample:.2f}%, Validation: {val_sample:.2f}%, Test: {test_sample:.2f}%\"\n",
    "# )\n",
    "# print(\n",
    "#     f\"Train: {len(train)} samples, Validation: {len(val)} samples, Test: {len(test)} samples\"\n",
    "# )\n",
    "# print(\n",
    "#     f\"Max date in train: {train.index.max()}, Min date in validation: {val.index.min()}, Max date in test: {test.index.max()}\"\n",
    "# )"
   ]
  },
  {
   "cell_type": "code",
   "execution_count": 11,
   "metadata": {},
   "outputs": [
    {
     "name": "stdout",
     "output_type": "stream",
     "text": [
      "Train: 64.60%, Validation: 20.07%, Test: 15.33%\n",
      "Train: 396 samples, Validation: 123 samples, Test: 94 samples\n",
      "Max date in train: 2021-05-28 00:00:00, Min date in validation: 2021-05-29 00:00:00, Max date in test: 2021-12-31 00:00:00\n"
     ]
    }
   ],
   "source": [
    "# selecting 1 year data for training and 2 months data for validation and 3 months data for testing\n",
    "train_end = merged_data.index[0] + pd.DateOffset(months=13)\n",
    "val_end = train_end + pd.DateOffset(months=4)\n",
    "test_end = val_end + pd.DateOffset(months=2)\n",
    "\n",
    "# Split the data into training, validation, and testing sets\n",
    "train = merged_data[merged_data.index <= train_end]\n",
    "val = merged_data[(merged_data.index > train_end) & (merged_data.index <= val_end)]\n",
    "test = merged_data[merged_data.index > val_end]\n",
    "\n",
    "# Calculate the percentage of dates in each dataset\n",
    "total_sample = len(merged_data)\n",
    "train_sample = len(train) / total_sample * 100\n",
    "val_sample = len(val) / total_sample * 100\n",
    "test_sample = len(test) / total_sample * 100\n",
    "\n",
    "print(f\"Train: {train_sample:.2f}%, Validation: {val_sample:.2f}%, Test: {test_sample:.2f}%\")\n",
    "print(f\"Train: {len(train)} samples, Validation: {len(val)} samples, Test: {len(test)} samples\")\n",
    "print(f\"Max date in train: {train.index.max()}, Min date in validation: {val.index.min()}, Max date in test: {test.index.max()}\")\n"
   ]
  },
  {
   "cell_type": "code",
   "execution_count": 12,
   "metadata": {},
   "outputs": [
    {
     "data": {
      "text/plain": [
       "Index(['covidOccupiedMVBeds', 'cumAdmissions', 'hospitalCases',\n",
       "       'newAdmissions', 'new_confirmed', 'new_deceased',\n",
       "       'cumulative_confirmed', 'cumulative_deceased',\n",
       "       'covidOccupiedMVBeds_lag_1', 'covidOccupiedMVBeds_lag_2',\n",
       "       'covidOccupiedMVBeds_lag_3', 'covidOccupiedMVBeds_lag_5',\n",
       "       'covidOccupiedMVBeds_lag_7', 'covidOccupiedMVBeds_lag_14',\n",
       "       'covidOccupiedMVBeds_lag_21', 'month', 'day', 'day_of_week',\n",
       "       'hospitalCases_rolling_7_mean', 'newAdmissions_rolling_7_mean',\n",
       "       'new_confirmed_rolling_7_mean', 'new_deceased_rolling_7_mean'],\n",
       "      dtype='object')"
      ]
     },
     "execution_count": 12,
     "metadata": {},
     "output_type": "execute_result"
    }
   ],
   "source": [
    "train.columns"
   ]
  },
  {
   "cell_type": "code",
   "execution_count": 13,
   "metadata": {},
   "outputs": [
    {
     "data": {
      "text/html": [
       "<div>\n",
       "<style scoped>\n",
       "    .dataframe tbody tr th:only-of-type {\n",
       "        vertical-align: middle;\n",
       "    }\n",
       "\n",
       "    .dataframe tbody tr th {\n",
       "        vertical-align: top;\n",
       "    }\n",
       "\n",
       "    .dataframe thead th {\n",
       "        text-align: right;\n",
       "    }\n",
       "</style>\n",
       "<table border=\"1\" class=\"dataframe\">\n",
       "  <thead>\n",
       "    <tr style=\"text-align: right;\">\n",
       "      <th></th>\n",
       "      <th>covidOccupiedMVBeds_lag_1</th>\n",
       "      <th>covidOccupiedMVBeds_lag_2</th>\n",
       "      <th>covidOccupiedMVBeds_lag_3</th>\n",
       "      <th>covidOccupiedMVBeds_lag_5</th>\n",
       "      <th>covidOccupiedMVBeds_lag_7</th>\n",
       "      <th>covidOccupiedMVBeds_lag_14</th>\n",
       "      <th>covidOccupiedMVBeds_lag_21</th>\n",
       "      <th>month</th>\n",
       "      <th>day</th>\n",
       "      <th>day_of_week</th>\n",
       "      <th>hospitalCases_rolling_7_mean</th>\n",
       "      <th>newAdmissions_rolling_7_mean</th>\n",
       "      <th>covidOccupiedMVBeds</th>\n",
       "    </tr>\n",
       "    <tr>\n",
       "      <th>date</th>\n",
       "      <th></th>\n",
       "      <th></th>\n",
       "      <th></th>\n",
       "      <th></th>\n",
       "      <th></th>\n",
       "      <th></th>\n",
       "      <th></th>\n",
       "      <th></th>\n",
       "      <th></th>\n",
       "      <th></th>\n",
       "      <th></th>\n",
       "      <th></th>\n",
       "      <th></th>\n",
       "    </tr>\n",
       "  </thead>\n",
       "  <tbody>\n",
       "    <tr>\n",
       "      <th>2020-04-28</th>\n",
       "      <td>2194.0</td>\n",
       "      <td>2309.0</td>\n",
       "      <td>2405.0</td>\n",
       "      <td>2563.0</td>\n",
       "      <td>2701.0</td>\n",
       "      <td>2849.0</td>\n",
       "      <td>2472.0</td>\n",
       "      <td>4.0</td>\n",
       "      <td>28.0</td>\n",
       "      <td>1.0</td>\n",
       "      <td>14608.286133</td>\n",
       "      <td>1257.714233</td>\n",
       "      <td>72.964188</td>\n",
       "    </tr>\n",
       "    <tr>\n",
       "      <th>2020-04-29</th>\n",
       "      <td>2093.0</td>\n",
       "      <td>2194.0</td>\n",
       "      <td>2309.0</td>\n",
       "      <td>2414.0</td>\n",
       "      <td>2646.0</td>\n",
       "      <td>2847.0</td>\n",
       "      <td>2561.0</td>\n",
       "      <td>4.0</td>\n",
       "      <td>29.0</td>\n",
       "      <td>2.0</td>\n",
       "      <td>14209.142578</td>\n",
       "      <td>1255.571411</td>\n",
       "      <td>72.138680</td>\n",
       "    </tr>\n",
       "    <tr>\n",
       "      <th>2020-04-30</th>\n",
       "      <td>2045.0</td>\n",
       "      <td>2093.0</td>\n",
       "      <td>2194.0</td>\n",
       "      <td>2405.0</td>\n",
       "      <td>2563.0</td>\n",
       "      <td>2838.0</td>\n",
       "      <td>2546.0</td>\n",
       "      <td>4.0</td>\n",
       "      <td>30.0</td>\n",
       "      <td>3.0</td>\n",
       "      <td>13854.857422</td>\n",
       "      <td>1246.714233</td>\n",
       "      <td>71.197357</td>\n",
       "    </tr>\n",
       "    <tr>\n",
       "      <th>2020-05-01</th>\n",
       "      <td>1991.0</td>\n",
       "      <td>2045.0</td>\n",
       "      <td>2093.0</td>\n",
       "      <td>2309.0</td>\n",
       "      <td>2414.0</td>\n",
       "      <td>2780.0</td>\n",
       "      <td>2820.0</td>\n",
       "      <td>5.0</td>\n",
       "      <td>1.0</td>\n",
       "      <td>4.0</td>\n",
       "      <td>13566.428711</td>\n",
       "      <td>1218.714233</td>\n",
       "      <td>70.544037</td>\n",
       "    </tr>\n",
       "    <tr>\n",
       "      <th>2020-05-02</th>\n",
       "      <td>1954.0</td>\n",
       "      <td>1991.0</td>\n",
       "      <td>2045.0</td>\n",
       "      <td>2194.0</td>\n",
       "      <td>2405.0</td>\n",
       "      <td>2868.0</td>\n",
       "      <td>2865.0</td>\n",
       "      <td>5.0</td>\n",
       "      <td>2.0</td>\n",
       "      <td>5.0</td>\n",
       "      <td>13296.713867</td>\n",
       "      <td>1204.428589</td>\n",
       "      <td>68.562576</td>\n",
       "    </tr>\n",
       "  </tbody>\n",
       "</table>\n",
       "</div>"
      ],
      "text/plain": [
       "            covidOccupiedMVBeds_lag_1  covidOccupiedMVBeds_lag_2  \\\n",
       "date                                                               \n",
       "2020-04-28                     2194.0                     2309.0   \n",
       "2020-04-29                     2093.0                     2194.0   \n",
       "2020-04-30                     2045.0                     2093.0   \n",
       "2020-05-01                     1991.0                     2045.0   \n",
       "2020-05-02                     1954.0                     1991.0   \n",
       "\n",
       "            covidOccupiedMVBeds_lag_3  covidOccupiedMVBeds_lag_5  \\\n",
       "date                                                               \n",
       "2020-04-28                     2405.0                     2563.0   \n",
       "2020-04-29                     2309.0                     2414.0   \n",
       "2020-04-30                     2194.0                     2405.0   \n",
       "2020-05-01                     2093.0                     2309.0   \n",
       "2020-05-02                     2045.0                     2194.0   \n",
       "\n",
       "            covidOccupiedMVBeds_lag_7  covidOccupiedMVBeds_lag_14  \\\n",
       "date                                                                \n",
       "2020-04-28                     2701.0                      2849.0   \n",
       "2020-04-29                     2646.0                      2847.0   \n",
       "2020-04-30                     2563.0                      2838.0   \n",
       "2020-05-01                     2414.0                      2780.0   \n",
       "2020-05-02                     2405.0                      2868.0   \n",
       "\n",
       "            covidOccupiedMVBeds_lag_21  month   day  day_of_week  \\\n",
       "date                                                               \n",
       "2020-04-28                      2472.0    4.0  28.0          1.0   \n",
       "2020-04-29                      2561.0    4.0  29.0          2.0   \n",
       "2020-04-30                      2546.0    4.0  30.0          3.0   \n",
       "2020-05-01                      2820.0    5.0   1.0          4.0   \n",
       "2020-05-02                      2865.0    5.0   2.0          5.0   \n",
       "\n",
       "            hospitalCases_rolling_7_mean  newAdmissions_rolling_7_mean  \\\n",
       "date                                                                     \n",
       "2020-04-28                  14608.286133                   1257.714233   \n",
       "2020-04-29                  14209.142578                   1255.571411   \n",
       "2020-04-30                  13854.857422                   1246.714233   \n",
       "2020-05-01                  13566.428711                   1218.714233   \n",
       "2020-05-02                  13296.713867                   1204.428589   \n",
       "\n",
       "            covidOccupiedMVBeds  \n",
       "date                             \n",
       "2020-04-28            72.964188  \n",
       "2020-04-29            72.138680  \n",
       "2020-04-30            71.197357  \n",
       "2020-05-01            70.544037  \n",
       "2020-05-02            68.562576  "
      ]
     },
     "execution_count": 13,
     "metadata": {},
     "output_type": "execute_result"
    }
   ],
   "source": [
    "# Concatenate the DataFrames\n",
    "sample_df = pd.concat([train, val, test])\n",
    "\n",
    "# Convert all the feature columns to float32\n",
    "sample_df = to_float32(sample_df)\n",
    "\n",
    "pinn_features = [\n",
    "    \"covidOccupiedMVBeds\",\n",
    "    \"covidOccupiedMVBeds_lag_1\",\n",
    "    \"covidOccupiedMVBeds_lag_2\",\n",
    "    \"covidOccupiedMVBeds_lag_3\",\n",
    "    \"covidOccupiedMVBeds_lag_5\",\n",
    "    \"covidOccupiedMVBeds_lag_7\",\n",
    "    \"covidOccupiedMVBeds_lag_14\",\n",
    "    \"covidOccupiedMVBeds_lag_21\",\n",
    "    \"month\",\n",
    "    \"day\",\n",
    "    \"day_of_week\",\n",
    "    \"hospitalCases_rolling_7_mean\",\n",
    "    \"newAdmissions_rolling_7_mean\",\n",
    "]\n",
    "\n",
    "sample_df = sample_df[pinn_features]\n",
    "cols = list(sample_df.columns)\n",
    "cols.remove(\"covidOccupiedMVBeds\")\n",
    "sample_df = sample_df[cols + [\"covidOccupiedMVBeds\"]]\n",
    "sample_df.head()"
   ]
  },
  {
   "cell_type": "code",
   "execution_count": 14,
   "metadata": {},
   "outputs": [],
   "source": [
    "# Prepare DataModule for PyTorch Lightning\n",
    "datamodule = TimeSeriesDataModule(\n",
    "    data=sample_df,\n",
    "    n_val=val.shape[0],\n",
    "    n_test=test.shape[0],\n",
    "    window=7,  # 7 days window\n",
    "    horizon=1,  # single step\n",
    "    normalize=\"global\",  # normalizing the data\n",
    "    batch_size=32,\n",
    "    num_workers=0,\n",
    ")\n",
    "datamodule.setup()\n",
    "\n",
    "# Initialize pred_df\n",
    "pred_df = test.copy()"
   ]
  },
  {
   "cell_type": "code",
   "execution_count": 15,
   "metadata": {},
   "outputs": [],
   "source": [
    "# Function to train and evaluate models\n",
    "def train_and_evaluate(model, rnn_config, datamodule, test, train, algorithm_name, metric_record, pred_df):\n",
    "    trainer = pl.Trainer(\n",
    "        min_epochs=5,\n",
    "        max_epochs=200,\n",
    "        accelerator=\"gpu\",\n",
    "        devices=1,\n",
    "        callbacks=[EarlyStopping(monitor=\"valid_loss\", patience=20)],\n",
    "    )\n",
    "    trainer.fit(model, datamodule)\n",
    "\n",
    "    predictions = trainer.predict(model, datamodule.test_dataloader())\n",
    "    predictions = torch.cat(predictions).squeeze().detach().numpy()\n",
    "    predictions = predictions * datamodule.train.std + datamodule.train.mean\n",
    "    actuals = test[\"covidOccupiedMVBeds\"].values\n",
    "\n",
    "    assert actuals.shape == predictions.shape, \"Mismatch in shapes between actuals and predictions\"\n",
    "\n",
    "    metrics = {\n",
    "        \"Algorithm\": algorithm_name,\n",
    "        \"MAE\": mae(actuals, predictions),\n",
    "        \"MAPE\": mape(actuals, predictions),\n",
    "        \"RMSE\": rmse(actuals, predictions),\n",
    "        \"NRMSE\": nrmse(actuals, predictions),\n",
    "        \"MSE\": mse(actuals, predictions),\n",
    "        \"MASE\": mase(actuals, predictions, train[\"covidOccupiedMVBeds\"].values),\n",
    "        \"Forecast Bias\": forecast_bias(actuals, predictions),\n",
    "    }\n",
    "\n",
    "    value_formats = [\"{}\", \"{:.4f}\", \"{:.4f}\", \"{:.4f}\", \"{:.4f}\", \"{:.4f}\", \"{:.4f}\", \"{:.2f}\"]\n",
    "    metrics = {\n",
    "        key: format_.format(value)\n",
    "        for key, value, format_ in zip(metrics.keys(), metrics.values(), value_formats)\n",
    "    }\n",
    "\n",
    "    pred_df_ = pd.DataFrame({algorithm_name: predictions}, index=test.index)\n",
    "    pred_df = pred_df.join(pred_df_)\n",
    "    metric_record.append(metrics)\n",
    "    logging.info(metrics)\n",
    "    return metric_record, pred_df"
   ]
  },
  {
   "cell_type": "code",
   "execution_count": 16,
   "metadata": {},
   "outputs": [
    {
     "name": "stderr",
     "output_type": "stream",
     "text": [
      "GPU available: True (cuda), used: True\n",
      "TPU available: False, using: 0 TPU cores\n",
      "IPU available: False, using: 0 IPUs\n",
      "HPU available: False, using: 0 HPUs\n",
      "LOCAL_RANK: 0 - CUDA_VISIBLE_DEVICES: [0]\n",
      "\n",
      "  | Name | Type    | Params\n",
      "---------------------------------\n",
      "0 | rnn  | RNN     | 10.0 K\n",
      "1 | fc   | Linear  | 33    \n",
      "2 | loss | MSELoss | 0     \n",
      "---------------------------------\n",
      "10.0 K    Trainable params\n",
      "0         Non-trainable params\n",
      "10.0 K    Total params\n",
      "0.040     Total estimated model params size (MB)\n"
     ]
    },
    {
     "data": {
      "application/vnd.jupyter.widget-view+json": {
       "model_id": "d31efc7f48ea410386a8080d45aaeac2",
       "version_major": 2,
       "version_minor": 0
      },
      "text/plain": [
       "Sanity Checking: |          | 0/? [00:00<?, ?it/s]"
      ]
     },
     "metadata": {},
     "output_type": "display_data"
    },
    {
     "data": {
      "application/vnd.jupyter.widget-view+json": {
       "model_id": "5fd253ba15fe4a878135fd749eb40701",
       "version_major": 2,
       "version_minor": 0
      },
      "text/plain": [
       "Training: |          | 0/? [00:00<?, ?it/s]"
      ]
     },
     "metadata": {},
     "output_type": "display_data"
    },
    {
     "data": {
      "application/vnd.jupyter.widget-view+json": {
       "model_id": "00515113d17e4613af2a8a853f2882ea",
       "version_major": 2,
       "version_minor": 0
      },
      "text/plain": [
       "Validation: |          | 0/? [00:00<?, ?it/s]"
      ]
     },
     "metadata": {},
     "output_type": "display_data"
    },
    {
     "data": {
      "application/vnd.jupyter.widget-view+json": {
       "model_id": "b28d309d440c498ebdb9d681a2eb60ea",
       "version_major": 2,
       "version_minor": 0
      },
      "text/plain": [
       "Validation: |          | 0/? [00:00<?, ?it/s]"
      ]
     },
     "metadata": {},
     "output_type": "display_data"
    },
    {
     "data": {
      "application/vnd.jupyter.widget-view+json": {
       "model_id": "3ede6d8a284544d6b81f7bd9d86fe558",
       "version_major": 2,
       "version_minor": 0
      },
      "text/plain": [
       "Validation: |          | 0/? [00:00<?, ?it/s]"
      ]
     },
     "metadata": {},
     "output_type": "display_data"
    },
    {
     "data": {
      "application/vnd.jupyter.widget-view+json": {
       "model_id": "241ff5168c0744e2bd24ef6c9b359288",
       "version_major": 2,
       "version_minor": 0
      },
      "text/plain": [
       "Validation: |          | 0/? [00:00<?, ?it/s]"
      ]
     },
     "metadata": {},
     "output_type": "display_data"
    },
    {
     "data": {
      "application/vnd.jupyter.widget-view+json": {
       "model_id": "27590e7a9427454faff08da9528a7879",
       "version_major": 2,
       "version_minor": 0
      },
      "text/plain": [
       "Validation: |          | 0/? [00:00<?, ?it/s]"
      ]
     },
     "metadata": {},
     "output_type": "display_data"
    },
    {
     "data": {
      "application/vnd.jupyter.widget-view+json": {
       "model_id": "3b7f6fe13df348b9808af4ec433b5c22",
       "version_major": 2,
       "version_minor": 0
      },
      "text/plain": [
       "Validation: |          | 0/? [00:00<?, ?it/s]"
      ]
     },
     "metadata": {},
     "output_type": "display_data"
    },
    {
     "data": {
      "application/vnd.jupyter.widget-view+json": {
       "model_id": "e3db546eebd04009ba306cd98f71e814",
       "version_major": 2,
       "version_minor": 0
      },
      "text/plain": [
       "Validation: |          | 0/? [00:00<?, ?it/s]"
      ]
     },
     "metadata": {},
     "output_type": "display_data"
    },
    {
     "data": {
      "application/vnd.jupyter.widget-view+json": {
       "model_id": "942b4b296f9b41bfaeb0300d998e8b72",
       "version_major": 2,
       "version_minor": 0
      },
      "text/plain": [
       "Validation: |          | 0/? [00:00<?, ?it/s]"
      ]
     },
     "metadata": {},
     "output_type": "display_data"
    },
    {
     "data": {
      "application/vnd.jupyter.widget-view+json": {
       "model_id": "81aee683fc9941c8ac0c95f4527ca48b",
       "version_major": 2,
       "version_minor": 0
      },
      "text/plain": [
       "Validation: |          | 0/? [00:00<?, ?it/s]"
      ]
     },
     "metadata": {},
     "output_type": "display_data"
    },
    {
     "data": {
      "application/vnd.jupyter.widget-view+json": {
       "model_id": "ce05d1bc65b045f68b74f09bff77f8d4",
       "version_major": 2,
       "version_minor": 0
      },
      "text/plain": [
       "Validation: |          | 0/? [00:00<?, ?it/s]"
      ]
     },
     "metadata": {},
     "output_type": "display_data"
    },
    {
     "data": {
      "application/vnd.jupyter.widget-view+json": {
       "model_id": "7e2d82f9df094ae7ab395b6666d46148",
       "version_major": 2,
       "version_minor": 0
      },
      "text/plain": [
       "Validation: |          | 0/? [00:00<?, ?it/s]"
      ]
     },
     "metadata": {},
     "output_type": "display_data"
    },
    {
     "data": {
      "application/vnd.jupyter.widget-view+json": {
       "model_id": "593c535de32f44c6b0605e58231554cc",
       "version_major": 2,
       "version_minor": 0
      },
      "text/plain": [
       "Validation: |          | 0/? [00:00<?, ?it/s]"
      ]
     },
     "metadata": {},
     "output_type": "display_data"
    },
    {
     "data": {
      "application/vnd.jupyter.widget-view+json": {
       "model_id": "59f219655ccb4040830bf4e36be25197",
       "version_major": 2,
       "version_minor": 0
      },
      "text/plain": [
       "Validation: |          | 0/? [00:00<?, ?it/s]"
      ]
     },
     "metadata": {},
     "output_type": "display_data"
    },
    {
     "data": {
      "application/vnd.jupyter.widget-view+json": {
       "model_id": "c9f67ef0f171463c9e44a7a72b746d9d",
       "version_major": 2,
       "version_minor": 0
      },
      "text/plain": [
       "Validation: |          | 0/? [00:00<?, ?it/s]"
      ]
     },
     "metadata": {},
     "output_type": "display_data"
    },
    {
     "data": {
      "application/vnd.jupyter.widget-view+json": {
       "model_id": "66e78941144043d7b173206a8fe79363",
       "version_major": 2,
       "version_minor": 0
      },
      "text/plain": [
       "Validation: |          | 0/? [00:00<?, ?it/s]"
      ]
     },
     "metadata": {},
     "output_type": "display_data"
    },
    {
     "data": {
      "application/vnd.jupyter.widget-view+json": {
       "model_id": "580f8dcfa318411c8750e2ee3033da45",
       "version_major": 2,
       "version_minor": 0
      },
      "text/plain": [
       "Validation: |          | 0/? [00:00<?, ?it/s]"
      ]
     },
     "metadata": {},
     "output_type": "display_data"
    },
    {
     "data": {
      "application/vnd.jupyter.widget-view+json": {
       "model_id": "d28edfe5940e415abb7bf46a72e3ba5a",
       "version_major": 2,
       "version_minor": 0
      },
      "text/plain": [
       "Validation: |          | 0/? [00:00<?, ?it/s]"
      ]
     },
     "metadata": {},
     "output_type": "display_data"
    },
    {
     "data": {
      "application/vnd.jupyter.widget-view+json": {
       "model_id": "7943b0b8b9fb4c9eb3e329fedd8ae79c",
       "version_major": 2,
       "version_minor": 0
      },
      "text/plain": [
       "Validation: |          | 0/? [00:00<?, ?it/s]"
      ]
     },
     "metadata": {},
     "output_type": "display_data"
    },
    {
     "data": {
      "application/vnd.jupyter.widget-view+json": {
       "model_id": "4aa47a991be842d3b3e5e2b86ef4d48c",
       "version_major": 2,
       "version_minor": 0
      },
      "text/plain": [
       "Validation: |          | 0/? [00:00<?, ?it/s]"
      ]
     },
     "metadata": {},
     "output_type": "display_data"
    },
    {
     "data": {
      "application/vnd.jupyter.widget-view+json": {
       "model_id": "c6399e7ef391420cb82e9f09fd8e60a2",
       "version_major": 2,
       "version_minor": 0
      },
      "text/plain": [
       "Validation: |          | 0/? [00:00<?, ?it/s]"
      ]
     },
     "metadata": {},
     "output_type": "display_data"
    },
    {
     "data": {
      "application/vnd.jupyter.widget-view+json": {
       "model_id": "aca2aeb094e44358abf2e2bd86c1bedf",
       "version_major": 2,
       "version_minor": 0
      },
      "text/plain": [
       "Validation: |          | 0/? [00:00<?, ?it/s]"
      ]
     },
     "metadata": {},
     "output_type": "display_data"
    },
    {
     "data": {
      "application/vnd.jupyter.widget-view+json": {
       "model_id": "5990efce15634831829679b8f11d65a8",
       "version_major": 2,
       "version_minor": 0
      },
      "text/plain": [
       "Validation: |          | 0/? [00:00<?, ?it/s]"
      ]
     },
     "metadata": {},
     "output_type": "display_data"
    },
    {
     "data": {
      "application/vnd.jupyter.widget-view+json": {
       "model_id": "c23e17bbc42c4e65a41e578aee898b3c",
       "version_major": 2,
       "version_minor": 0
      },
      "text/plain": [
       "Validation: |          | 0/? [00:00<?, ?it/s]"
      ]
     },
     "metadata": {},
     "output_type": "display_data"
    },
    {
     "data": {
      "application/vnd.jupyter.widget-view+json": {
       "model_id": "24c19a6f627743179f647bea8a17396d",
       "version_major": 2,
       "version_minor": 0
      },
      "text/plain": [
       "Validation: |          | 0/? [00:00<?, ?it/s]"
      ]
     },
     "metadata": {},
     "output_type": "display_data"
    },
    {
     "data": {
      "application/vnd.jupyter.widget-view+json": {
       "model_id": "7e84b4002607407a8a7f33845b953763",
       "version_major": 2,
       "version_minor": 0
      },
      "text/plain": [
       "Validation: |          | 0/? [00:00<?, ?it/s]"
      ]
     },
     "metadata": {},
     "output_type": "display_data"
    },
    {
     "data": {
      "application/vnd.jupyter.widget-view+json": {
       "model_id": "ed4b53797b574b2181913cd52e5d5ae3",
       "version_major": 2,
       "version_minor": 0
      },
      "text/plain": [
       "Validation: |          | 0/? [00:00<?, ?it/s]"
      ]
     },
     "metadata": {},
     "output_type": "display_data"
    },
    {
     "data": {
      "application/vnd.jupyter.widget-view+json": {
       "model_id": "7a4d6ea297fe4ac48363a8b3bba5387b",
       "version_major": 2,
       "version_minor": 0
      },
      "text/plain": [
       "Validation: |          | 0/? [00:00<?, ?it/s]"
      ]
     },
     "metadata": {},
     "output_type": "display_data"
    },
    {
     "data": {
      "application/vnd.jupyter.widget-view+json": {
       "model_id": "32c5a433017b4a35b0c6d6f7eb178a75",
       "version_major": 2,
       "version_minor": 0
      },
      "text/plain": [
       "Validation: |          | 0/? [00:00<?, ?it/s]"
      ]
     },
     "metadata": {},
     "output_type": "display_data"
    },
    {
     "data": {
      "application/vnd.jupyter.widget-view+json": {
       "model_id": "11ef103ddddb406db84da63671bdb1cd",
       "version_major": 2,
       "version_minor": 0
      },
      "text/plain": [
       "Validation: |          | 0/? [00:00<?, ?it/s]"
      ]
     },
     "metadata": {},
     "output_type": "display_data"
    },
    {
     "data": {
      "application/vnd.jupyter.widget-view+json": {
       "model_id": "6b91babb06524d9ba76b52627cec8a48",
       "version_major": 2,
       "version_minor": 0
      },
      "text/plain": [
       "Validation: |          | 0/? [00:00<?, ?it/s]"
      ]
     },
     "metadata": {},
     "output_type": "display_data"
    },
    {
     "data": {
      "application/vnd.jupyter.widget-view+json": {
       "model_id": "9260997fc6cb406c93dbe9311d7cb215",
       "version_major": 2,
       "version_minor": 0
      },
      "text/plain": [
       "Validation: |          | 0/? [00:00<?, ?it/s]"
      ]
     },
     "metadata": {},
     "output_type": "display_data"
    },
    {
     "data": {
      "application/vnd.jupyter.widget-view+json": {
       "model_id": "106af7d7fc3c4dc3ad0c102df9eb115f",
       "version_major": 2,
       "version_minor": 0
      },
      "text/plain": [
       "Validation: |          | 0/? [00:00<?, ?it/s]"
      ]
     },
     "metadata": {},
     "output_type": "display_data"
    },
    {
     "data": {
      "application/vnd.jupyter.widget-view+json": {
       "model_id": "820ac8b7bbbc4c69abf779506bdd81b0",
       "version_major": 2,
       "version_minor": 0
      },
      "text/plain": [
       "Validation: |          | 0/? [00:00<?, ?it/s]"
      ]
     },
     "metadata": {},
     "output_type": "display_data"
    },
    {
     "data": {
      "application/vnd.jupyter.widget-view+json": {
       "model_id": "d7cc6dc32bd84b1ebf6368799c0d3e34",
       "version_major": 2,
       "version_minor": 0
      },
      "text/plain": [
       "Validation: |          | 0/? [00:00<?, ?it/s]"
      ]
     },
     "metadata": {},
     "output_type": "display_data"
    },
    {
     "data": {
      "application/vnd.jupyter.widget-view+json": {
       "model_id": "2b80ee472bd44f82a97b60677e35d032",
       "version_major": 2,
       "version_minor": 0
      },
      "text/plain": [
       "Validation: |          | 0/? [00:00<?, ?it/s]"
      ]
     },
     "metadata": {},
     "output_type": "display_data"
    },
    {
     "data": {
      "application/vnd.jupyter.widget-view+json": {
       "model_id": "d9b1bf0f18b54ebea065a8dc0a9c83bf",
       "version_major": 2,
       "version_minor": 0
      },
      "text/plain": [
       "Validation: |          | 0/? [00:00<?, ?it/s]"
      ]
     },
     "metadata": {},
     "output_type": "display_data"
    },
    {
     "data": {
      "application/vnd.jupyter.widget-view+json": {
       "model_id": "a056c1e6f28842b3909e6332cd1cb9e2",
       "version_major": 2,
       "version_minor": 0
      },
      "text/plain": [
       "Validation: |          | 0/? [00:00<?, ?it/s]"
      ]
     },
     "metadata": {},
     "output_type": "display_data"
    },
    {
     "data": {
      "application/vnd.jupyter.widget-view+json": {
       "model_id": "b74d82f39c144678bb61950235be0ba2",
       "version_major": 2,
       "version_minor": 0
      },
      "text/plain": [
       "Validation: |          | 0/? [00:00<?, ?it/s]"
      ]
     },
     "metadata": {},
     "output_type": "display_data"
    },
    {
     "data": {
      "application/vnd.jupyter.widget-view+json": {
       "model_id": "c824ef490e58428c9433dcda95e7141c",
       "version_major": 2,
       "version_minor": 0
      },
      "text/plain": [
       "Validation: |          | 0/? [00:00<?, ?it/s]"
      ]
     },
     "metadata": {},
     "output_type": "display_data"
    },
    {
     "data": {
      "application/vnd.jupyter.widget-view+json": {
       "model_id": "67ece3586c90453ea419a3fdc82a3e1b",
       "version_major": 2,
       "version_minor": 0
      },
      "text/plain": [
       "Validation: |          | 0/? [00:00<?, ?it/s]"
      ]
     },
     "metadata": {},
     "output_type": "display_data"
    },
    {
     "data": {
      "application/vnd.jupyter.widget-view+json": {
       "model_id": "af73f803429540b5af05723c784a49a6",
       "version_major": 2,
       "version_minor": 0
      },
      "text/plain": [
       "Validation: |          | 0/? [00:00<?, ?it/s]"
      ]
     },
     "metadata": {},
     "output_type": "display_data"
    },
    {
     "data": {
      "application/vnd.jupyter.widget-view+json": {
       "model_id": "a14de92b689145bbb475889c09c5fa4b",
       "version_major": 2,
       "version_minor": 0
      },
      "text/plain": [
       "Validation: |          | 0/? [00:00<?, ?it/s]"
      ]
     },
     "metadata": {},
     "output_type": "display_data"
    },
    {
     "data": {
      "application/vnd.jupyter.widget-view+json": {
       "model_id": "f2a6519af5fe40b999f51db89175ea01",
       "version_major": 2,
       "version_minor": 0
      },
      "text/plain": [
       "Validation: |          | 0/? [00:00<?, ?it/s]"
      ]
     },
     "metadata": {},
     "output_type": "display_data"
    },
    {
     "data": {
      "application/vnd.jupyter.widget-view+json": {
       "model_id": "bdb8462955c247e0b7496b2e4ec3ce4e",
       "version_major": 2,
       "version_minor": 0
      },
      "text/plain": [
       "Validation: |          | 0/? [00:00<?, ?it/s]"
      ]
     },
     "metadata": {},
     "output_type": "display_data"
    },
    {
     "data": {
      "application/vnd.jupyter.widget-view+json": {
       "model_id": "bdead8e4c0b34e458c1b5c0a6a09a38b",
       "version_major": 2,
       "version_minor": 0
      },
      "text/plain": [
       "Validation: |          | 0/? [00:00<?, ?it/s]"
      ]
     },
     "metadata": {},
     "output_type": "display_data"
    },
    {
     "data": {
      "application/vnd.jupyter.widget-view+json": {
       "model_id": "0a898aaa22f844d19062c84d3782e0db",
       "version_major": 2,
       "version_minor": 0
      },
      "text/plain": [
       "Validation: |          | 0/? [00:00<?, ?it/s]"
      ]
     },
     "metadata": {},
     "output_type": "display_data"
    },
    {
     "data": {
      "application/vnd.jupyter.widget-view+json": {
       "model_id": "27ad445c06eb41d29a96eb6bd4176849",
       "version_major": 2,
       "version_minor": 0
      },
      "text/plain": [
       "Validation: |          | 0/? [00:00<?, ?it/s]"
      ]
     },
     "metadata": {},
     "output_type": "display_data"
    },
    {
     "data": {
      "application/vnd.jupyter.widget-view+json": {
       "model_id": "07492fc443fe458a999e56ed507415d2",
       "version_major": 2,
       "version_minor": 0
      },
      "text/plain": [
       "Validation: |          | 0/? [00:00<?, ?it/s]"
      ]
     },
     "metadata": {},
     "output_type": "display_data"
    },
    {
     "data": {
      "application/vnd.jupyter.widget-view+json": {
       "model_id": "62633c18b47242969680ea44816f189a",
       "version_major": 2,
       "version_minor": 0
      },
      "text/plain": [
       "Validation: |          | 0/? [00:00<?, ?it/s]"
      ]
     },
     "metadata": {},
     "output_type": "display_data"
    },
    {
     "data": {
      "application/vnd.jupyter.widget-view+json": {
       "model_id": "d67bec70bf7e43e09fb4a06f031b2889",
       "version_major": 2,
       "version_minor": 0
      },
      "text/plain": [
       "Validation: |          | 0/? [00:00<?, ?it/s]"
      ]
     },
     "metadata": {},
     "output_type": "display_data"
    },
    {
     "data": {
      "application/vnd.jupyter.widget-view+json": {
       "model_id": "91353e4bb04444e8b7dadcea65620e53",
       "version_major": 2,
       "version_minor": 0
      },
      "text/plain": [
       "Validation: |          | 0/? [00:00<?, ?it/s]"
      ]
     },
     "metadata": {},
     "output_type": "display_data"
    },
    {
     "data": {
      "application/vnd.jupyter.widget-view+json": {
       "model_id": "d396f2b474484c7180031d5529accf44",
       "version_major": 2,
       "version_minor": 0
      },
      "text/plain": [
       "Validation: |          | 0/? [00:00<?, ?it/s]"
      ]
     },
     "metadata": {},
     "output_type": "display_data"
    },
    {
     "data": {
      "application/vnd.jupyter.widget-view+json": {
       "model_id": "509b4567ba7f46f59dd69c2b1355e39b",
       "version_major": 2,
       "version_minor": 0
      },
      "text/plain": [
       "Validation: |          | 0/? [00:00<?, ?it/s]"
      ]
     },
     "metadata": {},
     "output_type": "display_data"
    },
    {
     "data": {
      "application/vnd.jupyter.widget-view+json": {
       "model_id": "68ebf54bbcff45cdabda551c814f56c4",
       "version_major": 2,
       "version_minor": 0
      },
      "text/plain": [
       "Validation: |          | 0/? [00:00<?, ?it/s]"
      ]
     },
     "metadata": {},
     "output_type": "display_data"
    },
    {
     "data": {
      "application/vnd.jupyter.widget-view+json": {
       "model_id": "a614b254d6ee4a0ab6548735187e18d9",
       "version_major": 2,
       "version_minor": 0
      },
      "text/plain": [
       "Validation: |          | 0/? [00:00<?, ?it/s]"
      ]
     },
     "metadata": {},
     "output_type": "display_data"
    },
    {
     "data": {
      "application/vnd.jupyter.widget-view+json": {
       "model_id": "a7400877002c4055b85b2590ac9d7623",
       "version_major": 2,
       "version_minor": 0
      },
      "text/plain": [
       "Validation: |          | 0/? [00:00<?, ?it/s]"
      ]
     },
     "metadata": {},
     "output_type": "display_data"
    },
    {
     "data": {
      "application/vnd.jupyter.widget-view+json": {
       "model_id": "af0ef030680e4bcd87512a6309e40029",
       "version_major": 2,
       "version_minor": 0
      },
      "text/plain": [
       "Validation: |          | 0/? [00:00<?, ?it/s]"
      ]
     },
     "metadata": {},
     "output_type": "display_data"
    },
    {
     "data": {
      "application/vnd.jupyter.widget-view+json": {
       "model_id": "53983c159bd14dce872e4217ada2b87a",
       "version_major": 2,
       "version_minor": 0
      },
      "text/plain": [
       "Validation: |          | 0/? [00:00<?, ?it/s]"
      ]
     },
     "metadata": {},
     "output_type": "display_data"
    },
    {
     "data": {
      "application/vnd.jupyter.widget-view+json": {
       "model_id": "09194763df584b61b428940e67192f79",
       "version_major": 2,
       "version_minor": 0
      },
      "text/plain": [
       "Validation: |          | 0/? [00:00<?, ?it/s]"
      ]
     },
     "metadata": {},
     "output_type": "display_data"
    },
    {
     "data": {
      "application/vnd.jupyter.widget-view+json": {
       "model_id": "42a7eeb9fa6548d880de71549323d999",
       "version_major": 2,
       "version_minor": 0
      },
      "text/plain": [
       "Validation: |          | 0/? [00:00<?, ?it/s]"
      ]
     },
     "metadata": {},
     "output_type": "display_data"
    },
    {
     "data": {
      "application/vnd.jupyter.widget-view+json": {
       "model_id": "0d0dd3d7902245b49735d2ae03edad3f",
       "version_major": 2,
       "version_minor": 0
      },
      "text/plain": [
       "Validation: |          | 0/? [00:00<?, ?it/s]"
      ]
     },
     "metadata": {},
     "output_type": "display_data"
    },
    {
     "data": {
      "application/vnd.jupyter.widget-view+json": {
       "model_id": "b174431533134e0eab4a27a92268d22e",
       "version_major": 2,
       "version_minor": 0
      },
      "text/plain": [
       "Validation: |          | 0/? [00:00<?, ?it/s]"
      ]
     },
     "metadata": {},
     "output_type": "display_data"
    },
    {
     "data": {
      "application/vnd.jupyter.widget-view+json": {
       "model_id": "a03fcfbc2f3b40e2843d9032ad9f5a63",
       "version_major": 2,
       "version_minor": 0
      },
      "text/plain": [
       "Validation: |          | 0/? [00:00<?, ?it/s]"
      ]
     },
     "metadata": {},
     "output_type": "display_data"
    },
    {
     "data": {
      "application/vnd.jupyter.widget-view+json": {
       "model_id": "8558623afe734b26aed8a12c57b2a559",
       "version_major": 2,
       "version_minor": 0
      },
      "text/plain": [
       "Validation: |          | 0/? [00:00<?, ?it/s]"
      ]
     },
     "metadata": {},
     "output_type": "display_data"
    },
    {
     "data": {
      "application/vnd.jupyter.widget-view+json": {
       "model_id": "63ccfec12b5c4b53bc624f7af1fffd97",
       "version_major": 2,
       "version_minor": 0
      },
      "text/plain": [
       "Validation: |          | 0/? [00:00<?, ?it/s]"
      ]
     },
     "metadata": {},
     "output_type": "display_data"
    },
    {
     "data": {
      "application/vnd.jupyter.widget-view+json": {
       "model_id": "347fd88686db4ed5a287cff4ebe2b2d0",
       "version_major": 2,
       "version_minor": 0
      },
      "text/plain": [
       "Validation: |          | 0/? [00:00<?, ?it/s]"
      ]
     },
     "metadata": {},
     "output_type": "display_data"
    },
    {
     "data": {
      "application/vnd.jupyter.widget-view+json": {
       "model_id": "19f48c54300643f39ecc495a77165a73",
       "version_major": 2,
       "version_minor": 0
      },
      "text/plain": [
       "Validation: |          | 0/? [00:00<?, ?it/s]"
      ]
     },
     "metadata": {},
     "output_type": "display_data"
    },
    {
     "data": {
      "application/vnd.jupyter.widget-view+json": {
       "model_id": "b8add5e5d27c4117ac5ca0437eeb6a1c",
       "version_major": 2,
       "version_minor": 0
      },
      "text/plain": [
       "Validation: |          | 0/? [00:00<?, ?it/s]"
      ]
     },
     "metadata": {},
     "output_type": "display_data"
    },
    {
     "data": {
      "application/vnd.jupyter.widget-view+json": {
       "model_id": "8aabcbc852354e04bab75dac6482b350",
       "version_major": 2,
       "version_minor": 0
      },
      "text/plain": [
       "Validation: |          | 0/? [00:00<?, ?it/s]"
      ]
     },
     "metadata": {},
     "output_type": "display_data"
    },
    {
     "data": {
      "application/vnd.jupyter.widget-view+json": {
       "model_id": "8bfda26c215748ba82a7f94326ff1936",
       "version_major": 2,
       "version_minor": 0
      },
      "text/plain": [
       "Validation: |          | 0/? [00:00<?, ?it/s]"
      ]
     },
     "metadata": {},
     "output_type": "display_data"
    },
    {
     "data": {
      "application/vnd.jupyter.widget-view+json": {
       "model_id": "647e996a58ca4e3ab26932028b7815bd",
       "version_major": 2,
       "version_minor": 0
      },
      "text/plain": [
       "Validation: |          | 0/? [00:00<?, ?it/s]"
      ]
     },
     "metadata": {},
     "output_type": "display_data"
    },
    {
     "data": {
      "application/vnd.jupyter.widget-view+json": {
       "model_id": "ad869ec870b74ad3af178004a4a7116e",
       "version_major": 2,
       "version_minor": 0
      },
      "text/plain": [
       "Validation: |          | 0/? [00:00<?, ?it/s]"
      ]
     },
     "metadata": {},
     "output_type": "display_data"
    },
    {
     "data": {
      "application/vnd.jupyter.widget-view+json": {
       "model_id": "f611ae74f6f94223823646cd07b3a515",
       "version_major": 2,
       "version_minor": 0
      },
      "text/plain": [
       "Validation: |          | 0/? [00:00<?, ?it/s]"
      ]
     },
     "metadata": {},
     "output_type": "display_data"
    },
    {
     "data": {
      "application/vnd.jupyter.widget-view+json": {
       "model_id": "c757246302e84a9587b96ac121118cac",
       "version_major": 2,
       "version_minor": 0
      },
      "text/plain": [
       "Validation: |          | 0/? [00:00<?, ?it/s]"
      ]
     },
     "metadata": {},
     "output_type": "display_data"
    },
    {
     "data": {
      "application/vnd.jupyter.widget-view+json": {
       "model_id": "7230497ee10a47f1a65358baa623226e",
       "version_major": 2,
       "version_minor": 0
      },
      "text/plain": [
       "Validation: |          | 0/? [00:00<?, ?it/s]"
      ]
     },
     "metadata": {},
     "output_type": "display_data"
    },
    {
     "data": {
      "application/vnd.jupyter.widget-view+json": {
       "model_id": "c90706b20b534ab49d42ece45f672129",
       "version_major": 2,
       "version_minor": 0
      },
      "text/plain": [
       "Validation: |          | 0/? [00:00<?, ?it/s]"
      ]
     },
     "metadata": {},
     "output_type": "display_data"
    },
    {
     "data": {
      "application/vnd.jupyter.widget-view+json": {
       "model_id": "660e2443ea8f46138479a833b033beda",
       "version_major": 2,
       "version_minor": 0
      },
      "text/plain": [
       "Validation: |          | 0/? [00:00<?, ?it/s]"
      ]
     },
     "metadata": {},
     "output_type": "display_data"
    },
    {
     "data": {
      "application/vnd.jupyter.widget-view+json": {
       "model_id": "347b6e22c1324c29b1e5739b61ee84fd",
       "version_major": 2,
       "version_minor": 0
      },
      "text/plain": [
       "Validation: |          | 0/? [00:00<?, ?it/s]"
      ]
     },
     "metadata": {},
     "output_type": "display_data"
    },
    {
     "data": {
      "application/vnd.jupyter.widget-view+json": {
       "model_id": "15702f4dacc141c4b0790705aeb37b9a",
       "version_major": 2,
       "version_minor": 0
      },
      "text/plain": [
       "Validation: |          | 0/? [00:00<?, ?it/s]"
      ]
     },
     "metadata": {},
     "output_type": "display_data"
    },
    {
     "data": {
      "application/vnd.jupyter.widget-view+json": {
       "model_id": "e94471423a98429bae5777e971bbc6f0",
       "version_major": 2,
       "version_minor": 0
      },
      "text/plain": [
       "Validation: |          | 0/? [00:00<?, ?it/s]"
      ]
     },
     "metadata": {},
     "output_type": "display_data"
    },
    {
     "data": {
      "application/vnd.jupyter.widget-view+json": {
       "model_id": "075e54086715439191651b65c14294c2",
       "version_major": 2,
       "version_minor": 0
      },
      "text/plain": [
       "Validation: |          | 0/? [00:00<?, ?it/s]"
      ]
     },
     "metadata": {},
     "output_type": "display_data"
    },
    {
     "data": {
      "application/vnd.jupyter.widget-view+json": {
       "model_id": "2fe1edab67194b31ab2e3c566500c349",
       "version_major": 2,
       "version_minor": 0
      },
      "text/plain": [
       "Validation: |          | 0/? [00:00<?, ?it/s]"
      ]
     },
     "metadata": {},
     "output_type": "display_data"
    },
    {
     "data": {
      "application/vnd.jupyter.widget-view+json": {
       "model_id": "1bdde6be1aff4134aa14b9dd1be89539",
       "version_major": 2,
       "version_minor": 0
      },
      "text/plain": [
       "Validation: |          | 0/? [00:00<?, ?it/s]"
      ]
     },
     "metadata": {},
     "output_type": "display_data"
    },
    {
     "data": {
      "application/vnd.jupyter.widget-view+json": {
       "model_id": "7e5f68a07667418f8dc9b8844325cd50",
       "version_major": 2,
       "version_minor": 0
      },
      "text/plain": [
       "Validation: |          | 0/? [00:00<?, ?it/s]"
      ]
     },
     "metadata": {},
     "output_type": "display_data"
    },
    {
     "data": {
      "application/vnd.jupyter.widget-view+json": {
       "model_id": "2d08d767e88045818303d3118add0b7f",
       "version_major": 2,
       "version_minor": 0
      },
      "text/plain": [
       "Validation: |          | 0/? [00:00<?, ?it/s]"
      ]
     },
     "metadata": {},
     "output_type": "display_data"
    },
    {
     "data": {
      "application/vnd.jupyter.widget-view+json": {
       "model_id": "17a0dd43d2134283a6d37e97ac070969",
       "version_major": 2,
       "version_minor": 0
      },
      "text/plain": [
       "Validation: |          | 0/? [00:00<?, ?it/s]"
      ]
     },
     "metadata": {},
     "output_type": "display_data"
    },
    {
     "data": {
      "application/vnd.jupyter.widget-view+json": {
       "model_id": "c2a6dba8646445b79cc9b3cf17082d11",
       "version_major": 2,
       "version_minor": 0
      },
      "text/plain": [
       "Validation: |          | 0/? [00:00<?, ?it/s]"
      ]
     },
     "metadata": {},
     "output_type": "display_data"
    },
    {
     "data": {
      "application/vnd.jupyter.widget-view+json": {
       "model_id": "cc616a26fa71428fbb65a364c3439971",
       "version_major": 2,
       "version_minor": 0
      },
      "text/plain": [
       "Validation: |          | 0/? [00:00<?, ?it/s]"
      ]
     },
     "metadata": {},
     "output_type": "display_data"
    },
    {
     "data": {
      "application/vnd.jupyter.widget-view+json": {
       "model_id": "a27a48da3793430cb6f47585b6aead6e",
       "version_major": 2,
       "version_minor": 0
      },
      "text/plain": [
       "Validation: |          | 0/? [00:00<?, ?it/s]"
      ]
     },
     "metadata": {},
     "output_type": "display_data"
    },
    {
     "data": {
      "application/vnd.jupyter.widget-view+json": {
       "model_id": "071df30a35854c21ba7299e7410a2bb9",
       "version_major": 2,
       "version_minor": 0
      },
      "text/plain": [
       "Validation: |          | 0/? [00:00<?, ?it/s]"
      ]
     },
     "metadata": {},
     "output_type": "display_data"
    },
    {
     "data": {
      "application/vnd.jupyter.widget-view+json": {
       "model_id": "5ef9427ee12842d18e5e2e289640e474",
       "version_major": 2,
       "version_minor": 0
      },
      "text/plain": [
       "Validation: |          | 0/? [00:00<?, ?it/s]"
      ]
     },
     "metadata": {},
     "output_type": "display_data"
    },
    {
     "data": {
      "application/vnd.jupyter.widget-view+json": {
       "model_id": "c9e49172b3864bef9517344a76e67d15",
       "version_major": 2,
       "version_minor": 0
      },
      "text/plain": [
       "Validation: |          | 0/? [00:00<?, ?it/s]"
      ]
     },
     "metadata": {},
     "output_type": "display_data"
    },
    {
     "data": {
      "application/vnd.jupyter.widget-view+json": {
       "model_id": "118d34525fc74b79a08fe95ca62e6d08",
       "version_major": 2,
       "version_minor": 0
      },
      "text/plain": [
       "Validation: |          | 0/? [00:00<?, ?it/s]"
      ]
     },
     "metadata": {},
     "output_type": "display_data"
    },
    {
     "data": {
      "application/vnd.jupyter.widget-view+json": {
       "model_id": "6ee34703357d46a599fb5788032c662d",
       "version_major": 2,
       "version_minor": 0
      },
      "text/plain": [
       "Validation: |          | 0/? [00:00<?, ?it/s]"
      ]
     },
     "metadata": {},
     "output_type": "display_data"
    },
    {
     "data": {
      "application/vnd.jupyter.widget-view+json": {
       "model_id": "287afe9e9b6c4aaeadc9000d117d29e8",
       "version_major": 2,
       "version_minor": 0
      },
      "text/plain": [
       "Validation: |          | 0/? [00:00<?, ?it/s]"
      ]
     },
     "metadata": {},
     "output_type": "display_data"
    },
    {
     "data": {
      "application/vnd.jupyter.widget-view+json": {
       "model_id": "9b0b7c44b8af4cd9be9a7bd356ac0171",
       "version_major": 2,
       "version_minor": 0
      },
      "text/plain": [
       "Validation: |          | 0/? [00:00<?, ?it/s]"
      ]
     },
     "metadata": {},
     "output_type": "display_data"
    },
    {
     "data": {
      "application/vnd.jupyter.widget-view+json": {
       "model_id": "19dfbc2f6ac2421291136944918e0ffa",
       "version_major": 2,
       "version_minor": 0
      },
      "text/plain": [
       "Validation: |          | 0/? [00:00<?, ?it/s]"
      ]
     },
     "metadata": {},
     "output_type": "display_data"
    },
    {
     "data": {
      "application/vnd.jupyter.widget-view+json": {
       "model_id": "ed3ad907ef9643f8803128766e49ae9c",
       "version_major": 2,
       "version_minor": 0
      },
      "text/plain": [
       "Validation: |          | 0/? [00:00<?, ?it/s]"
      ]
     },
     "metadata": {},
     "output_type": "display_data"
    },
    {
     "data": {
      "application/vnd.jupyter.widget-view+json": {
       "model_id": "4fe8eb1c437843a8baef8209e32abc4c",
       "version_major": 2,
       "version_minor": 0
      },
      "text/plain": [
       "Validation: |          | 0/? [00:00<?, ?it/s]"
      ]
     },
     "metadata": {},
     "output_type": "display_data"
    },
    {
     "data": {
      "application/vnd.jupyter.widget-view+json": {
       "model_id": "42dfcb67f07f4a0e849957e44fae3577",
       "version_major": 2,
       "version_minor": 0
      },
      "text/plain": [
       "Validation: |          | 0/? [00:00<?, ?it/s]"
      ]
     },
     "metadata": {},
     "output_type": "display_data"
    },
    {
     "data": {
      "application/vnd.jupyter.widget-view+json": {
       "model_id": "3966c662ffc14bf9acac4bf29724d390",
       "version_major": 2,
       "version_minor": 0
      },
      "text/plain": [
       "Validation: |          | 0/? [00:00<?, ?it/s]"
      ]
     },
     "metadata": {},
     "output_type": "display_data"
    },
    {
     "data": {
      "application/vnd.jupyter.widget-view+json": {
       "model_id": "39f798871ed04e7f87e06ea47ea3d579",
       "version_major": 2,
       "version_minor": 0
      },
      "text/plain": [
       "Validation: |          | 0/? [00:00<?, ?it/s]"
      ]
     },
     "metadata": {},
     "output_type": "display_data"
    },
    {
     "data": {
      "application/vnd.jupyter.widget-view+json": {
       "model_id": "178c81c2381943aaaad8f581cf7508e0",
       "version_major": 2,
       "version_minor": 0
      },
      "text/plain": [
       "Validation: |          | 0/? [00:00<?, ?it/s]"
      ]
     },
     "metadata": {},
     "output_type": "display_data"
    },
    {
     "data": {
      "application/vnd.jupyter.widget-view+json": {
       "model_id": "3a621653a63846bf8aacaf5c07faf4f1",
       "version_major": 2,
       "version_minor": 0
      },
      "text/plain": [
       "Validation: |          | 0/? [00:00<?, ?it/s]"
      ]
     },
     "metadata": {},
     "output_type": "display_data"
    },
    {
     "data": {
      "application/vnd.jupyter.widget-view+json": {
       "model_id": "062a3b7b504142a9a4dcec5d12dc1886",
       "version_major": 2,
       "version_minor": 0
      },
      "text/plain": [
       "Validation: |          | 0/? [00:00<?, ?it/s]"
      ]
     },
     "metadata": {},
     "output_type": "display_data"
    },
    {
     "data": {
      "application/vnd.jupyter.widget-view+json": {
       "model_id": "44ad825e987940a7af7c2f5e573afbfd",
       "version_major": 2,
       "version_minor": 0
      },
      "text/plain": [
       "Validation: |          | 0/? [00:00<?, ?it/s]"
      ]
     },
     "metadata": {},
     "output_type": "display_data"
    },
    {
     "data": {
      "application/vnd.jupyter.widget-view+json": {
       "model_id": "f4fa0692548e4f9484c8fd768c0a03f5",
       "version_major": 2,
       "version_minor": 0
      },
      "text/plain": [
       "Validation: |          | 0/? [00:00<?, ?it/s]"
      ]
     },
     "metadata": {},
     "output_type": "display_data"
    },
    {
     "data": {
      "application/vnd.jupyter.widget-view+json": {
       "model_id": "0b78626aa1164fc8948e658207a12bd6",
       "version_major": 2,
       "version_minor": 0
      },
      "text/plain": [
       "Validation: |          | 0/? [00:00<?, ?it/s]"
      ]
     },
     "metadata": {},
     "output_type": "display_data"
    },
    {
     "data": {
      "application/vnd.jupyter.widget-view+json": {
       "model_id": "2f662f01be334bb89f9746e6fd5cce17",
       "version_major": 2,
       "version_minor": 0
      },
      "text/plain": [
       "Validation: |          | 0/? [00:00<?, ?it/s]"
      ]
     },
     "metadata": {},
     "output_type": "display_data"
    },
    {
     "data": {
      "application/vnd.jupyter.widget-view+json": {
       "model_id": "45d5c69464e944cc9ff91433a2809bb4",
       "version_major": 2,
       "version_minor": 0
      },
      "text/plain": [
       "Validation: |          | 0/? [00:00<?, ?it/s]"
      ]
     },
     "metadata": {},
     "output_type": "display_data"
    },
    {
     "data": {
      "application/vnd.jupyter.widget-view+json": {
       "model_id": "b8849b8f53ba4e72a3369ba017eb88ed",
       "version_major": 2,
       "version_minor": 0
      },
      "text/plain": [
       "Validation: |          | 0/? [00:00<?, ?it/s]"
      ]
     },
     "metadata": {},
     "output_type": "display_data"
    },
    {
     "data": {
      "application/vnd.jupyter.widget-view+json": {
       "model_id": "8732a146524f4bd3a9284e545d641b22",
       "version_major": 2,
       "version_minor": 0
      },
      "text/plain": [
       "Validation: |          | 0/? [00:00<?, ?it/s]"
      ]
     },
     "metadata": {},
     "output_type": "display_data"
    },
    {
     "data": {
      "application/vnd.jupyter.widget-view+json": {
       "model_id": "d98aef960f3947318caf2188d572f473",
       "version_major": 2,
       "version_minor": 0
      },
      "text/plain": [
       "Validation: |          | 0/? [00:00<?, ?it/s]"
      ]
     },
     "metadata": {},
     "output_type": "display_data"
    },
    {
     "data": {
      "application/vnd.jupyter.widget-view+json": {
       "model_id": "75483a3f34094385a067360b46fc2a07",
       "version_major": 2,
       "version_minor": 0
      },
      "text/plain": [
       "Validation: |          | 0/? [00:00<?, ?it/s]"
      ]
     },
     "metadata": {},
     "output_type": "display_data"
    },
    {
     "data": {
      "application/vnd.jupyter.widget-view+json": {
       "model_id": "cd70576c2f714468b94272b067954473",
       "version_major": 2,
       "version_minor": 0
      },
      "text/plain": [
       "Validation: |          | 0/? [00:00<?, ?it/s]"
      ]
     },
     "metadata": {},
     "output_type": "display_data"
    },
    {
     "data": {
      "application/vnd.jupyter.widget-view+json": {
       "model_id": "1e6e2a780e56497da1ad8477b1e3fd73",
       "version_major": 2,
       "version_minor": 0
      },
      "text/plain": [
       "Validation: |          | 0/? [00:00<?, ?it/s]"
      ]
     },
     "metadata": {},
     "output_type": "display_data"
    },
    {
     "data": {
      "application/vnd.jupyter.widget-view+json": {
       "model_id": "d996e3a1a64446efa2af1b696f5eaa5b",
       "version_major": 2,
       "version_minor": 0
      },
      "text/plain": [
       "Validation: |          | 0/? [00:00<?, ?it/s]"
      ]
     },
     "metadata": {},
     "output_type": "display_data"
    },
    {
     "data": {
      "application/vnd.jupyter.widget-view+json": {
       "model_id": "eb733681ebfe4131b4905cfd0cc64fd4",
       "version_major": 2,
       "version_minor": 0
      },
      "text/plain": [
       "Validation: |          | 0/? [00:00<?, ?it/s]"
      ]
     },
     "metadata": {},
     "output_type": "display_data"
    },
    {
     "data": {
      "application/vnd.jupyter.widget-view+json": {
       "model_id": "a5978ab635314813905657d19e8ac4f2",
       "version_major": 2,
       "version_minor": 0
      },
      "text/plain": [
       "Validation: |          | 0/? [00:00<?, ?it/s]"
      ]
     },
     "metadata": {},
     "output_type": "display_data"
    },
    {
     "data": {
      "application/vnd.jupyter.widget-view+json": {
       "model_id": "20220bca7263435686678fe3b709fb15",
       "version_major": 2,
       "version_minor": 0
      },
      "text/plain": [
       "Validation: |          | 0/? [00:00<?, ?it/s]"
      ]
     },
     "metadata": {},
     "output_type": "display_data"
    },
    {
     "data": {
      "application/vnd.jupyter.widget-view+json": {
       "model_id": "06772581d96644e08572c620a8d48712",
       "version_major": 2,
       "version_minor": 0
      },
      "text/plain": [
       "Validation: |          | 0/? [00:00<?, ?it/s]"
      ]
     },
     "metadata": {},
     "output_type": "display_data"
    },
    {
     "data": {
      "application/vnd.jupyter.widget-view+json": {
       "model_id": "8ab8daf7cda84b589fe100bc28cde20a",
       "version_major": 2,
       "version_minor": 0
      },
      "text/plain": [
       "Validation: |          | 0/? [00:00<?, ?it/s]"
      ]
     },
     "metadata": {},
     "output_type": "display_data"
    },
    {
     "data": {
      "application/vnd.jupyter.widget-view+json": {
       "model_id": "e70207cb23a2422d9be0cdc3f631f91c",
       "version_major": 2,
       "version_minor": 0
      },
      "text/plain": [
       "Validation: |          | 0/? [00:00<?, ?it/s]"
      ]
     },
     "metadata": {},
     "output_type": "display_data"
    },
    {
     "data": {
      "application/vnd.jupyter.widget-view+json": {
       "model_id": "42b36d08d2a2436fb118362a5b3a4633",
       "version_major": 2,
       "version_minor": 0
      },
      "text/plain": [
       "Validation: |          | 0/? [00:00<?, ?it/s]"
      ]
     },
     "metadata": {},
     "output_type": "display_data"
    },
    {
     "data": {
      "application/vnd.jupyter.widget-view+json": {
       "model_id": "ff6299ce67da4056b8781fd7c2d58ece",
       "version_major": 2,
       "version_minor": 0
      },
      "text/plain": [
       "Validation: |          | 0/? [00:00<?, ?it/s]"
      ]
     },
     "metadata": {},
     "output_type": "display_data"
    },
    {
     "data": {
      "application/vnd.jupyter.widget-view+json": {
       "model_id": "7ac0b86433f84eaab66c49bed8f167bf",
       "version_major": 2,
       "version_minor": 0
      },
      "text/plain": [
       "Validation: |          | 0/? [00:00<?, ?it/s]"
      ]
     },
     "metadata": {},
     "output_type": "display_data"
    },
    {
     "data": {
      "application/vnd.jupyter.widget-view+json": {
       "model_id": "71b8f09bfd044072a704c51410e2e87a",
       "version_major": 2,
       "version_minor": 0
      },
      "text/plain": [
       "Validation: |          | 0/? [00:00<?, ?it/s]"
      ]
     },
     "metadata": {},
     "output_type": "display_data"
    },
    {
     "name": "stderr",
     "output_type": "stream",
     "text": [
      "LOCAL_RANK: 0 - CUDA_VISIBLE_DEVICES: [0]\n"
     ]
    },
    {
     "data": {
      "application/vnd.jupyter.widget-view+json": {
       "model_id": "a7643933b73b43de98b1219bf5c18b7b",
       "version_major": 2,
       "version_minor": 0
      },
      "text/plain": [
       "Predicting: |          | 0/? [00:00<?, ?it/s]"
      ]
     },
     "metadata": {},
     "output_type": "display_data"
    },
    {
     "name": "stderr",
     "output_type": "stream",
     "text": [
      "2024-06-11 14:51:12,144 - INFO - {'Algorithm': 'Vanilla RNN', 'MAE': '1.2945', 'MAPE': '0.0301', 'RMSE': '1.8029', 'NRMSE': '0.2358', 'MSE': '3.2506', 'MASE': '1.5114', 'Forecast Bias': '0.60'}\n",
      "GPU available: True (cuda), used: True\n",
      "TPU available: False, using: 0 TPU cores\n",
      "IPU available: False, using: 0 IPUs\n",
      "HPU available: False, using: 0 HPUs\n",
      "LOCAL_RANK: 0 - CUDA_VISIBLE_DEVICES: [0]\n",
      "\n",
      "  | Name | Type    | Params\n",
      "---------------------------------\n",
      "0 | rnn  | LSTM    | 112 K \n",
      "1 | fc   | Linear  | 65    \n",
      "2 | loss | MSELoss | 0     \n",
      "---------------------------------\n",
      "112 K     Trainable params\n",
      "0         Non-trainable params\n",
      "112 K     Total params\n",
      "0.450     Total estimated model params size (MB)\n"
     ]
    },
    {
     "data": {
      "application/vnd.jupyter.widget-view+json": {
       "model_id": "80f80dbcde0f466380c148841b0ab198",
       "version_major": 2,
       "version_minor": 0
      },
      "text/plain": [
       "Sanity Checking: |          | 0/? [00:00<?, ?it/s]"
      ]
     },
     "metadata": {},
     "output_type": "display_data"
    },
    {
     "data": {
      "application/vnd.jupyter.widget-view+json": {
       "model_id": "33c6ef9ae9e042f0aa2a6bdd2f83bd3a",
       "version_major": 2,
       "version_minor": 0
      },
      "text/plain": [
       "Training: |          | 0/? [00:00<?, ?it/s]"
      ]
     },
     "metadata": {},
     "output_type": "display_data"
    },
    {
     "data": {
      "application/vnd.jupyter.widget-view+json": {
       "model_id": "7ee50ff93ac54ab98cb95bbb05e0b9d7",
       "version_major": 2,
       "version_minor": 0
      },
      "text/plain": [
       "Validation: |          | 0/? [00:00<?, ?it/s]"
      ]
     },
     "metadata": {},
     "output_type": "display_data"
    },
    {
     "data": {
      "application/vnd.jupyter.widget-view+json": {
       "model_id": "426b47e5dcdd45379863c35a75014a4a",
       "version_major": 2,
       "version_minor": 0
      },
      "text/plain": [
       "Validation: |          | 0/? [00:00<?, ?it/s]"
      ]
     },
     "metadata": {},
     "output_type": "display_data"
    },
    {
     "data": {
      "application/vnd.jupyter.widget-view+json": {
       "model_id": "41e56a9bd2d240c5bd832e4fa3c996cd",
       "version_major": 2,
       "version_minor": 0
      },
      "text/plain": [
       "Validation: |          | 0/? [00:00<?, ?it/s]"
      ]
     },
     "metadata": {},
     "output_type": "display_data"
    },
    {
     "data": {
      "application/vnd.jupyter.widget-view+json": {
       "model_id": "3387766ed7154a6493713bd6a06a8421",
       "version_major": 2,
       "version_minor": 0
      },
      "text/plain": [
       "Validation: |          | 0/? [00:00<?, ?it/s]"
      ]
     },
     "metadata": {},
     "output_type": "display_data"
    },
    {
     "data": {
      "application/vnd.jupyter.widget-view+json": {
       "model_id": "954c5d95024c4ff8b93bf691e4555c2d",
       "version_major": 2,
       "version_minor": 0
      },
      "text/plain": [
       "Validation: |          | 0/? [00:00<?, ?it/s]"
      ]
     },
     "metadata": {},
     "output_type": "display_data"
    },
    {
     "data": {
      "application/vnd.jupyter.widget-view+json": {
       "model_id": "72abfadd8db14b9e8841afa7fe5e301f",
       "version_major": 2,
       "version_minor": 0
      },
      "text/plain": [
       "Validation: |          | 0/? [00:00<?, ?it/s]"
      ]
     },
     "metadata": {},
     "output_type": "display_data"
    },
    {
     "data": {
      "application/vnd.jupyter.widget-view+json": {
       "model_id": "199f58dabd0348ae8d77f333600ec7a3",
       "version_major": 2,
       "version_minor": 0
      },
      "text/plain": [
       "Validation: |          | 0/? [00:00<?, ?it/s]"
      ]
     },
     "metadata": {},
     "output_type": "display_data"
    },
    {
     "data": {
      "application/vnd.jupyter.widget-view+json": {
       "model_id": "0f18f0130bc045e08c44913a1a945001",
       "version_major": 2,
       "version_minor": 0
      },
      "text/plain": [
       "Validation: |          | 0/? [00:00<?, ?it/s]"
      ]
     },
     "metadata": {},
     "output_type": "display_data"
    },
    {
     "data": {
      "application/vnd.jupyter.widget-view+json": {
       "model_id": "af08b0514b184692859f66dc6cc9e6ae",
       "version_major": 2,
       "version_minor": 0
      },
      "text/plain": [
       "Validation: |          | 0/? [00:00<?, ?it/s]"
      ]
     },
     "metadata": {},
     "output_type": "display_data"
    },
    {
     "data": {
      "application/vnd.jupyter.widget-view+json": {
       "model_id": "a3b4e301491745078121bc0c10bc445b",
       "version_major": 2,
       "version_minor": 0
      },
      "text/plain": [
       "Validation: |          | 0/? [00:00<?, ?it/s]"
      ]
     },
     "metadata": {},
     "output_type": "display_data"
    },
    {
     "data": {
      "application/vnd.jupyter.widget-view+json": {
       "model_id": "d46c9aeef3394766882daad3f056b751",
       "version_major": 2,
       "version_minor": 0
      },
      "text/plain": [
       "Validation: |          | 0/? [00:00<?, ?it/s]"
      ]
     },
     "metadata": {},
     "output_type": "display_data"
    },
    {
     "data": {
      "application/vnd.jupyter.widget-view+json": {
       "model_id": "e1330bdaa5654b02895b2dd10f3c2048",
       "version_major": 2,
       "version_minor": 0
      },
      "text/plain": [
       "Validation: |          | 0/? [00:00<?, ?it/s]"
      ]
     },
     "metadata": {},
     "output_type": "display_data"
    },
    {
     "data": {
      "application/vnd.jupyter.widget-view+json": {
       "model_id": "1388c8c9ffa4440dbd1287aca61e51ed",
       "version_major": 2,
       "version_minor": 0
      },
      "text/plain": [
       "Validation: |          | 0/? [00:00<?, ?it/s]"
      ]
     },
     "metadata": {},
     "output_type": "display_data"
    },
    {
     "data": {
      "application/vnd.jupyter.widget-view+json": {
       "model_id": "ba513a7daca444db981878e1ba928a1a",
       "version_major": 2,
       "version_minor": 0
      },
      "text/plain": [
       "Validation: |          | 0/? [00:00<?, ?it/s]"
      ]
     },
     "metadata": {},
     "output_type": "display_data"
    },
    {
     "data": {
      "application/vnd.jupyter.widget-view+json": {
       "model_id": "433815f31bc845d399ee6b5f4377f5cf",
       "version_major": 2,
       "version_minor": 0
      },
      "text/plain": [
       "Validation: |          | 0/? [00:00<?, ?it/s]"
      ]
     },
     "metadata": {},
     "output_type": "display_data"
    },
    {
     "data": {
      "application/vnd.jupyter.widget-view+json": {
       "model_id": "cbac7a56412a405bb591eb7527392384",
       "version_major": 2,
       "version_minor": 0
      },
      "text/plain": [
       "Validation: |          | 0/? [00:00<?, ?it/s]"
      ]
     },
     "metadata": {},
     "output_type": "display_data"
    },
    {
     "data": {
      "application/vnd.jupyter.widget-view+json": {
       "model_id": "9134fadd69614ce28c89f17fa3126a57",
       "version_major": 2,
       "version_minor": 0
      },
      "text/plain": [
       "Validation: |          | 0/? [00:00<?, ?it/s]"
      ]
     },
     "metadata": {},
     "output_type": "display_data"
    },
    {
     "data": {
      "application/vnd.jupyter.widget-view+json": {
       "model_id": "74a9b156bea04b849b6d28f512250b4d",
       "version_major": 2,
       "version_minor": 0
      },
      "text/plain": [
       "Validation: |          | 0/? [00:00<?, ?it/s]"
      ]
     },
     "metadata": {},
     "output_type": "display_data"
    },
    {
     "data": {
      "application/vnd.jupyter.widget-view+json": {
       "model_id": "beecf3f58be1483cac358e1c897fe456",
       "version_major": 2,
       "version_minor": 0
      },
      "text/plain": [
       "Validation: |          | 0/? [00:00<?, ?it/s]"
      ]
     },
     "metadata": {},
     "output_type": "display_data"
    },
    {
     "data": {
      "application/vnd.jupyter.widget-view+json": {
       "model_id": "8c8ab40ffb774fc5b09bf8eed213bcae",
       "version_major": 2,
       "version_minor": 0
      },
      "text/plain": [
       "Validation: |          | 0/? [00:00<?, ?it/s]"
      ]
     },
     "metadata": {},
     "output_type": "display_data"
    },
    {
     "data": {
      "application/vnd.jupyter.widget-view+json": {
       "model_id": "407036615e8e474d9d1f0398c87706f9",
       "version_major": 2,
       "version_minor": 0
      },
      "text/plain": [
       "Validation: |          | 0/? [00:00<?, ?it/s]"
      ]
     },
     "metadata": {},
     "output_type": "display_data"
    },
    {
     "data": {
      "application/vnd.jupyter.widget-view+json": {
       "model_id": "dc0f2568294f4b47a77eec34f6ba6f01",
       "version_major": 2,
       "version_minor": 0
      },
      "text/plain": [
       "Validation: |          | 0/? [00:00<?, ?it/s]"
      ]
     },
     "metadata": {},
     "output_type": "display_data"
    },
    {
     "data": {
      "application/vnd.jupyter.widget-view+json": {
       "model_id": "f3612c9fa96b4c3d98d4a118a44e70e4",
       "version_major": 2,
       "version_minor": 0
      },
      "text/plain": [
       "Validation: |          | 0/? [00:00<?, ?it/s]"
      ]
     },
     "metadata": {},
     "output_type": "display_data"
    },
    {
     "data": {
      "application/vnd.jupyter.widget-view+json": {
       "model_id": "0704107c89ff45d6b166404e7e82e6f9",
       "version_major": 2,
       "version_minor": 0
      },
      "text/plain": [
       "Validation: |          | 0/? [00:00<?, ?it/s]"
      ]
     },
     "metadata": {},
     "output_type": "display_data"
    },
    {
     "data": {
      "application/vnd.jupyter.widget-view+json": {
       "model_id": "34ce73b7a159424ea605482d9bd62923",
       "version_major": 2,
       "version_minor": 0
      },
      "text/plain": [
       "Validation: |          | 0/? [00:00<?, ?it/s]"
      ]
     },
     "metadata": {},
     "output_type": "display_data"
    },
    {
     "name": "stderr",
     "output_type": "stream",
     "text": [
      "LOCAL_RANK: 0 - CUDA_VISIBLE_DEVICES: [0]\n"
     ]
    },
    {
     "data": {
      "application/vnd.jupyter.widget-view+json": {
       "model_id": "9c01c77c173a47a8b54fd1ce857754d5",
       "version_major": 2,
       "version_minor": 0
      },
      "text/plain": [
       "Predicting: |          | 0/? [00:00<?, ?it/s]"
      ]
     },
     "metadata": {},
     "output_type": "display_data"
    },
    {
     "name": "stderr",
     "output_type": "stream",
     "text": [
      "2024-06-11 14:51:15,900 - INFO - {'Algorithm': 'Vanilla LSTM', 'MAE': '6.5256', 'MAPE': '0.1517', 'RMSE': '6.6666', 'NRMSE': '0.8720', 'MSE': '44.4431', 'MASE': '7.6193', 'Forecast Bias': '-6.53'}\n",
      "GPU available: True (cuda), used: True\n",
      "TPU available: False, using: 0 TPU cores\n",
      "IPU available: False, using: 0 IPUs\n",
      "HPU available: False, using: 0 HPUs\n",
      "LOCAL_RANK: 0 - CUDA_VISIBLE_DEVICES: [0]\n",
      "\n",
      "  | Name | Type    | Params\n",
      "---------------------------------\n",
      "0 | rnn  | GRU     | 84.3 K\n",
      "1 | fc   | Linear  | 65    \n",
      "2 | loss | MSELoss | 0     \n",
      "---------------------------------\n",
      "84.4 K    Trainable params\n",
      "0         Non-trainable params\n",
      "84.4 K    Total params\n",
      "0.337     Total estimated model params size (MB)\n"
     ]
    },
    {
     "data": {
      "application/vnd.jupyter.widget-view+json": {
       "model_id": "accedfca23394f0dae65af2e0f745c49",
       "version_major": 2,
       "version_minor": 0
      },
      "text/plain": [
       "Sanity Checking: |          | 0/? [00:00<?, ?it/s]"
      ]
     },
     "metadata": {},
     "output_type": "display_data"
    },
    {
     "data": {
      "application/vnd.jupyter.widget-view+json": {
       "model_id": "0c02761977bb463f8b001b46fc454f1e",
       "version_major": 2,
       "version_minor": 0
      },
      "text/plain": [
       "Training: |          | 0/? [00:00<?, ?it/s]"
      ]
     },
     "metadata": {},
     "output_type": "display_data"
    },
    {
     "data": {
      "application/vnd.jupyter.widget-view+json": {
       "model_id": "734b3bcb6dcd4154a22ae2ce7b56fbae",
       "version_major": 2,
       "version_minor": 0
      },
      "text/plain": [
       "Validation: |          | 0/? [00:00<?, ?it/s]"
      ]
     },
     "metadata": {},
     "output_type": "display_data"
    },
    {
     "data": {
      "application/vnd.jupyter.widget-view+json": {
       "model_id": "724bca13a52b4d5d91329a5e677cff1b",
       "version_major": 2,
       "version_minor": 0
      },
      "text/plain": [
       "Validation: |          | 0/? [00:00<?, ?it/s]"
      ]
     },
     "metadata": {},
     "output_type": "display_data"
    },
    {
     "data": {
      "application/vnd.jupyter.widget-view+json": {
       "model_id": "f6ca650ac5774dea968a8a202f466214",
       "version_major": 2,
       "version_minor": 0
      },
      "text/plain": [
       "Validation: |          | 0/? [00:00<?, ?it/s]"
      ]
     },
     "metadata": {},
     "output_type": "display_data"
    },
    {
     "data": {
      "application/vnd.jupyter.widget-view+json": {
       "model_id": "93b98bfb6f6a414ebd219a2144ee5d89",
       "version_major": 2,
       "version_minor": 0
      },
      "text/plain": [
       "Validation: |          | 0/? [00:00<?, ?it/s]"
      ]
     },
     "metadata": {},
     "output_type": "display_data"
    },
    {
     "data": {
      "application/vnd.jupyter.widget-view+json": {
       "model_id": "0e0dbea8ffd445718550ad75b7488d13",
       "version_major": 2,
       "version_minor": 0
      },
      "text/plain": [
       "Validation: |          | 0/? [00:00<?, ?it/s]"
      ]
     },
     "metadata": {},
     "output_type": "display_data"
    },
    {
     "data": {
      "application/vnd.jupyter.widget-view+json": {
       "model_id": "ef29caac88bd49c590b95748a63ba14f",
       "version_major": 2,
       "version_minor": 0
      },
      "text/plain": [
       "Validation: |          | 0/? [00:00<?, ?it/s]"
      ]
     },
     "metadata": {},
     "output_type": "display_data"
    },
    {
     "data": {
      "application/vnd.jupyter.widget-view+json": {
       "model_id": "a36655d876f944d485d54ad8360a0d23",
       "version_major": 2,
       "version_minor": 0
      },
      "text/plain": [
       "Validation: |          | 0/? [00:00<?, ?it/s]"
      ]
     },
     "metadata": {},
     "output_type": "display_data"
    },
    {
     "data": {
      "application/vnd.jupyter.widget-view+json": {
       "model_id": "c3dcef50599448ef8597f6480063c63f",
       "version_major": 2,
       "version_minor": 0
      },
      "text/plain": [
       "Validation: |          | 0/? [00:00<?, ?it/s]"
      ]
     },
     "metadata": {},
     "output_type": "display_data"
    },
    {
     "data": {
      "application/vnd.jupyter.widget-view+json": {
       "model_id": "284e1ae461f04957b2fb7300273d4e43",
       "version_major": 2,
       "version_minor": 0
      },
      "text/plain": [
       "Validation: |          | 0/? [00:00<?, ?it/s]"
      ]
     },
     "metadata": {},
     "output_type": "display_data"
    },
    {
     "data": {
      "application/vnd.jupyter.widget-view+json": {
       "model_id": "de5b74c1854f4ccc91312869000d49c0",
       "version_major": 2,
       "version_minor": 0
      },
      "text/plain": [
       "Validation: |          | 0/? [00:00<?, ?it/s]"
      ]
     },
     "metadata": {},
     "output_type": "display_data"
    },
    {
     "data": {
      "application/vnd.jupyter.widget-view+json": {
       "model_id": "8d3eefc868a44e09ba8bb2dad5022329",
       "version_major": 2,
       "version_minor": 0
      },
      "text/plain": [
       "Validation: |          | 0/? [00:00<?, ?it/s]"
      ]
     },
     "metadata": {},
     "output_type": "display_data"
    },
    {
     "data": {
      "application/vnd.jupyter.widget-view+json": {
       "model_id": "a69d042d6c5b4b87a1329367d9b6378e",
       "version_major": 2,
       "version_minor": 0
      },
      "text/plain": [
       "Validation: |          | 0/? [00:00<?, ?it/s]"
      ]
     },
     "metadata": {},
     "output_type": "display_data"
    },
    {
     "data": {
      "application/vnd.jupyter.widget-view+json": {
       "model_id": "5a13d468ed02496f8f6e9126eef29453",
       "version_major": 2,
       "version_minor": 0
      },
      "text/plain": [
       "Validation: |          | 0/? [00:00<?, ?it/s]"
      ]
     },
     "metadata": {},
     "output_type": "display_data"
    },
    {
     "data": {
      "application/vnd.jupyter.widget-view+json": {
       "model_id": "a95f4e1dfe8c4617a1436f7f7696f7e2",
       "version_major": 2,
       "version_minor": 0
      },
      "text/plain": [
       "Validation: |          | 0/? [00:00<?, ?it/s]"
      ]
     },
     "metadata": {},
     "output_type": "display_data"
    },
    {
     "data": {
      "application/vnd.jupyter.widget-view+json": {
       "model_id": "4649515d053347d8bed420807b3288e7",
       "version_major": 2,
       "version_minor": 0
      },
      "text/plain": [
       "Validation: |          | 0/? [00:00<?, ?it/s]"
      ]
     },
     "metadata": {},
     "output_type": "display_data"
    },
    {
     "data": {
      "application/vnd.jupyter.widget-view+json": {
       "model_id": "8247d4134e9a406194614b465af2c02a",
       "version_major": 2,
       "version_minor": 0
      },
      "text/plain": [
       "Validation: |          | 0/? [00:00<?, ?it/s]"
      ]
     },
     "metadata": {},
     "output_type": "display_data"
    },
    {
     "data": {
      "application/vnd.jupyter.widget-view+json": {
       "model_id": "04a8a9f3fd994ff0844295836de808dd",
       "version_major": 2,
       "version_minor": 0
      },
      "text/plain": [
       "Validation: |          | 0/? [00:00<?, ?it/s]"
      ]
     },
     "metadata": {},
     "output_type": "display_data"
    },
    {
     "data": {
      "application/vnd.jupyter.widget-view+json": {
       "model_id": "403cd99ee051495a999fb2f939a0d1b9",
       "version_major": 2,
       "version_minor": 0
      },
      "text/plain": [
       "Validation: |          | 0/? [00:00<?, ?it/s]"
      ]
     },
     "metadata": {},
     "output_type": "display_data"
    },
    {
     "data": {
      "application/vnd.jupyter.widget-view+json": {
       "model_id": "0837a3a1f33342319adb9433558125af",
       "version_major": 2,
       "version_minor": 0
      },
      "text/plain": [
       "Validation: |          | 0/? [00:00<?, ?it/s]"
      ]
     },
     "metadata": {},
     "output_type": "display_data"
    },
    {
     "data": {
      "application/vnd.jupyter.widget-view+json": {
       "model_id": "5004e42cc2de4acb93747e10530b8b15",
       "version_major": 2,
       "version_minor": 0
      },
      "text/plain": [
       "Validation: |          | 0/? [00:00<?, ?it/s]"
      ]
     },
     "metadata": {},
     "output_type": "display_data"
    },
    {
     "data": {
      "application/vnd.jupyter.widget-view+json": {
       "model_id": "baaa750718ea4c418eef30fd7d624f40",
       "version_major": 2,
       "version_minor": 0
      },
      "text/plain": [
       "Validation: |          | 0/? [00:00<?, ?it/s]"
      ]
     },
     "metadata": {},
     "output_type": "display_data"
    },
    {
     "data": {
      "application/vnd.jupyter.widget-view+json": {
       "model_id": "b7ac8163cce34dac80b87506ca4358f3",
       "version_major": 2,
       "version_minor": 0
      },
      "text/plain": [
       "Validation: |          | 0/? [00:00<?, ?it/s]"
      ]
     },
     "metadata": {},
     "output_type": "display_data"
    },
    {
     "data": {
      "application/vnd.jupyter.widget-view+json": {
       "model_id": "37d624d54b484403b1679d3a02339848",
       "version_major": 2,
       "version_minor": 0
      },
      "text/plain": [
       "Validation: |          | 0/? [00:00<?, ?it/s]"
      ]
     },
     "metadata": {},
     "output_type": "display_data"
    },
    {
     "data": {
      "application/vnd.jupyter.widget-view+json": {
       "model_id": "09b7b282ffbf4d85aa86f67e9b823db5",
       "version_major": 2,
       "version_minor": 0
      },
      "text/plain": [
       "Validation: |          | 0/? [00:00<?, ?it/s]"
      ]
     },
     "metadata": {},
     "output_type": "display_data"
    },
    {
     "data": {
      "application/vnd.jupyter.widget-view+json": {
       "model_id": "8601a8dc05a848a184074b27874c7f3f",
       "version_major": 2,
       "version_minor": 0
      },
      "text/plain": [
       "Validation: |          | 0/? [00:00<?, ?it/s]"
      ]
     },
     "metadata": {},
     "output_type": "display_data"
    },
    {
     "data": {
      "application/vnd.jupyter.widget-view+json": {
       "model_id": "971b6e9b72474e69bd66a069e3ef067f",
       "version_major": 2,
       "version_minor": 0
      },
      "text/plain": [
       "Validation: |          | 0/? [00:00<?, ?it/s]"
      ]
     },
     "metadata": {},
     "output_type": "display_data"
    },
    {
     "data": {
      "application/vnd.jupyter.widget-view+json": {
       "model_id": "2753cfd09691452997fba0cc383d75d4",
       "version_major": 2,
       "version_minor": 0
      },
      "text/plain": [
       "Validation: |          | 0/? [00:00<?, ?it/s]"
      ]
     },
     "metadata": {},
     "output_type": "display_data"
    },
    {
     "data": {
      "application/vnd.jupyter.widget-view+json": {
       "model_id": "c3e6e6457a0841979ff997371dfd3b49",
       "version_major": 2,
       "version_minor": 0
      },
      "text/plain": [
       "Validation: |          | 0/? [00:00<?, ?it/s]"
      ]
     },
     "metadata": {},
     "output_type": "display_data"
    },
    {
     "data": {
      "application/vnd.jupyter.widget-view+json": {
       "model_id": "c9c1931b279d4021a7f0affabd45017a",
       "version_major": 2,
       "version_minor": 0
      },
      "text/plain": [
       "Validation: |          | 0/? [00:00<?, ?it/s]"
      ]
     },
     "metadata": {},
     "output_type": "display_data"
    },
    {
     "data": {
      "application/vnd.jupyter.widget-view+json": {
       "model_id": "8c3b1d45b26345458d7e66ea6ee97428",
       "version_major": 2,
       "version_minor": 0
      },
      "text/plain": [
       "Validation: |          | 0/? [00:00<?, ?it/s]"
      ]
     },
     "metadata": {},
     "output_type": "display_data"
    },
    {
     "data": {
      "application/vnd.jupyter.widget-view+json": {
       "model_id": "3fbc0a30e4704578ab4106b96347886a",
       "version_major": 2,
       "version_minor": 0
      },
      "text/plain": [
       "Validation: |          | 0/? [00:00<?, ?it/s]"
      ]
     },
     "metadata": {},
     "output_type": "display_data"
    },
    {
     "data": {
      "application/vnd.jupyter.widget-view+json": {
       "model_id": "3ce78848665149cca2c0bb91ef4a7aec",
       "version_major": 2,
       "version_minor": 0
      },
      "text/plain": [
       "Validation: |          | 0/? [00:00<?, ?it/s]"
      ]
     },
     "metadata": {},
     "output_type": "display_data"
    },
    {
     "data": {
      "application/vnd.jupyter.widget-view+json": {
       "model_id": "cc38839ac5394a3da77d55483cd40d89",
       "version_major": 2,
       "version_minor": 0
      },
      "text/plain": [
       "Validation: |          | 0/? [00:00<?, ?it/s]"
      ]
     },
     "metadata": {},
     "output_type": "display_data"
    },
    {
     "data": {
      "application/vnd.jupyter.widget-view+json": {
       "model_id": "cc96c1c9742b4a31ab455939e87e8a46",
       "version_major": 2,
       "version_minor": 0
      },
      "text/plain": [
       "Validation: |          | 0/? [00:00<?, ?it/s]"
      ]
     },
     "metadata": {},
     "output_type": "display_data"
    },
    {
     "data": {
      "application/vnd.jupyter.widget-view+json": {
       "model_id": "2463d00a27954dcfb736394e91270ec8",
       "version_major": 2,
       "version_minor": 0
      },
      "text/plain": [
       "Validation: |          | 0/? [00:00<?, ?it/s]"
      ]
     },
     "metadata": {},
     "output_type": "display_data"
    },
    {
     "data": {
      "application/vnd.jupyter.widget-view+json": {
       "model_id": "1a1133322d774a0cbcf4838be0bf4ca8",
       "version_major": 2,
       "version_minor": 0
      },
      "text/plain": [
       "Validation: |          | 0/? [00:00<?, ?it/s]"
      ]
     },
     "metadata": {},
     "output_type": "display_data"
    },
    {
     "data": {
      "application/vnd.jupyter.widget-view+json": {
       "model_id": "cfaf06a114a1473bb9abfbd928359929",
       "version_major": 2,
       "version_minor": 0
      },
      "text/plain": [
       "Validation: |          | 0/? [00:00<?, ?it/s]"
      ]
     },
     "metadata": {},
     "output_type": "display_data"
    },
    {
     "data": {
      "application/vnd.jupyter.widget-view+json": {
       "model_id": "e16f02f712664afaa61bee1bd497a261",
       "version_major": 2,
       "version_minor": 0
      },
      "text/plain": [
       "Validation: |          | 0/? [00:00<?, ?it/s]"
      ]
     },
     "metadata": {},
     "output_type": "display_data"
    },
    {
     "data": {
      "application/vnd.jupyter.widget-view+json": {
       "model_id": "06418b6b26694374910cba00e6f1e105",
       "version_major": 2,
       "version_minor": 0
      },
      "text/plain": [
       "Validation: |          | 0/? [00:00<?, ?it/s]"
      ]
     },
     "metadata": {},
     "output_type": "display_data"
    },
    {
     "data": {
      "application/vnd.jupyter.widget-view+json": {
       "model_id": "6f751ee8cd7f40f48124fb933dedcd4d",
       "version_major": 2,
       "version_minor": 0
      },
      "text/plain": [
       "Validation: |          | 0/? [00:00<?, ?it/s]"
      ]
     },
     "metadata": {},
     "output_type": "display_data"
    },
    {
     "data": {
      "application/vnd.jupyter.widget-view+json": {
       "model_id": "a8e806b6118a4926b4ba9ab8a54b956e",
       "version_major": 2,
       "version_minor": 0
      },
      "text/plain": [
       "Validation: |          | 0/? [00:00<?, ?it/s]"
      ]
     },
     "metadata": {},
     "output_type": "display_data"
    },
    {
     "data": {
      "application/vnd.jupyter.widget-view+json": {
       "model_id": "afa149376f8d4fb28400cc0af0725e40",
       "version_major": 2,
       "version_minor": 0
      },
      "text/plain": [
       "Validation: |          | 0/? [00:00<?, ?it/s]"
      ]
     },
     "metadata": {},
     "output_type": "display_data"
    },
    {
     "data": {
      "application/vnd.jupyter.widget-view+json": {
       "model_id": "c2b3d88530d84764b8478279699a89c8",
       "version_major": 2,
       "version_minor": 0
      },
      "text/plain": [
       "Validation: |          | 0/? [00:00<?, ?it/s]"
      ]
     },
     "metadata": {},
     "output_type": "display_data"
    },
    {
     "data": {
      "application/vnd.jupyter.widget-view+json": {
       "model_id": "084467610ab849e2804df6d57a3e31f3",
       "version_major": 2,
       "version_minor": 0
      },
      "text/plain": [
       "Validation: |          | 0/? [00:00<?, ?it/s]"
      ]
     },
     "metadata": {},
     "output_type": "display_data"
    },
    {
     "data": {
      "application/vnd.jupyter.widget-view+json": {
       "model_id": "4e5b5a58bc644c7597434a675ba00b6b",
       "version_major": 2,
       "version_minor": 0
      },
      "text/plain": [
       "Validation: |          | 0/? [00:00<?, ?it/s]"
      ]
     },
     "metadata": {},
     "output_type": "display_data"
    },
    {
     "data": {
      "application/vnd.jupyter.widget-view+json": {
       "model_id": "0d767cd9ac714e71a99e87c576d63ee8",
       "version_major": 2,
       "version_minor": 0
      },
      "text/plain": [
       "Validation: |          | 0/? [00:00<?, ?it/s]"
      ]
     },
     "metadata": {},
     "output_type": "display_data"
    },
    {
     "data": {
      "application/vnd.jupyter.widget-view+json": {
       "model_id": "b584ff6664b447e2a72f57df5834fe77",
       "version_major": 2,
       "version_minor": 0
      },
      "text/plain": [
       "Validation: |          | 0/? [00:00<?, ?it/s]"
      ]
     },
     "metadata": {},
     "output_type": "display_data"
    },
    {
     "data": {
      "application/vnd.jupyter.widget-view+json": {
       "model_id": "3edbeff7892f4dbca59ddffada6d11a3",
       "version_major": 2,
       "version_minor": 0
      },
      "text/plain": [
       "Validation: |          | 0/? [00:00<?, ?it/s]"
      ]
     },
     "metadata": {},
     "output_type": "display_data"
    },
    {
     "data": {
      "application/vnd.jupyter.widget-view+json": {
       "model_id": "b0c7f17be3e142a7b57e9379f62714ee",
       "version_major": 2,
       "version_minor": 0
      },
      "text/plain": [
       "Validation: |          | 0/? [00:00<?, ?it/s]"
      ]
     },
     "metadata": {},
     "output_type": "display_data"
    },
    {
     "data": {
      "application/vnd.jupyter.widget-view+json": {
       "model_id": "05245837c3cc4b77ac87c54d636c6498",
       "version_major": 2,
       "version_minor": 0
      },
      "text/plain": [
       "Validation: |          | 0/? [00:00<?, ?it/s]"
      ]
     },
     "metadata": {},
     "output_type": "display_data"
    },
    {
     "data": {
      "application/vnd.jupyter.widget-view+json": {
       "model_id": "2bb4a882183f4c6d8bb19543bf68549a",
       "version_major": 2,
       "version_minor": 0
      },
      "text/plain": [
       "Validation: |          | 0/? [00:00<?, ?it/s]"
      ]
     },
     "metadata": {},
     "output_type": "display_data"
    },
    {
     "data": {
      "application/vnd.jupyter.widget-view+json": {
       "model_id": "9f5a9fbffcdb4f7eaafec8d67a2154e0",
       "version_major": 2,
       "version_minor": 0
      },
      "text/plain": [
       "Validation: |          | 0/? [00:00<?, ?it/s]"
      ]
     },
     "metadata": {},
     "output_type": "display_data"
    },
    {
     "data": {
      "application/vnd.jupyter.widget-view+json": {
       "model_id": "f2dcf818ce7a41098587d86b570c5b13",
       "version_major": 2,
       "version_minor": 0
      },
      "text/plain": [
       "Validation: |          | 0/? [00:00<?, ?it/s]"
      ]
     },
     "metadata": {},
     "output_type": "display_data"
    },
    {
     "data": {
      "application/vnd.jupyter.widget-view+json": {
       "model_id": "49439a526ef1488d95f2deb6e9de183c",
       "version_major": 2,
       "version_minor": 0
      },
      "text/plain": [
       "Validation: |          | 0/? [00:00<?, ?it/s]"
      ]
     },
     "metadata": {},
     "output_type": "display_data"
    },
    {
     "data": {
      "application/vnd.jupyter.widget-view+json": {
       "model_id": "e30cf561fccc4ef889062faf3edcf3e1",
       "version_major": 2,
       "version_minor": 0
      },
      "text/plain": [
       "Validation: |          | 0/? [00:00<?, ?it/s]"
      ]
     },
     "metadata": {},
     "output_type": "display_data"
    },
    {
     "data": {
      "application/vnd.jupyter.widget-view+json": {
       "model_id": "70e7b47d48ed4f7796fcc9c09047dd8e",
       "version_major": 2,
       "version_minor": 0
      },
      "text/plain": [
       "Validation: |          | 0/? [00:00<?, ?it/s]"
      ]
     },
     "metadata": {},
     "output_type": "display_data"
    },
    {
     "data": {
      "application/vnd.jupyter.widget-view+json": {
       "model_id": "092f0260a9c64548b9ceaece24ce17e6",
       "version_major": 2,
       "version_minor": 0
      },
      "text/plain": [
       "Validation: |          | 0/? [00:00<?, ?it/s]"
      ]
     },
     "metadata": {},
     "output_type": "display_data"
    },
    {
     "data": {
      "application/vnd.jupyter.widget-view+json": {
       "model_id": "b2ea3b6072544d4482e939a51c7731b1",
       "version_major": 2,
       "version_minor": 0
      },
      "text/plain": [
       "Validation: |          | 0/? [00:00<?, ?it/s]"
      ]
     },
     "metadata": {},
     "output_type": "display_data"
    },
    {
     "data": {
      "application/vnd.jupyter.widget-view+json": {
       "model_id": "f4ce6debcac84e0c8a0f7509654e2d65",
       "version_major": 2,
       "version_minor": 0
      },
      "text/plain": [
       "Validation: |          | 0/? [00:00<?, ?it/s]"
      ]
     },
     "metadata": {},
     "output_type": "display_data"
    },
    {
     "data": {
      "application/vnd.jupyter.widget-view+json": {
       "model_id": "5050bf3bb88f4fd8a477460b80caddad",
       "version_major": 2,
       "version_minor": 0
      },
      "text/plain": [
       "Validation: |          | 0/? [00:00<?, ?it/s]"
      ]
     },
     "metadata": {},
     "output_type": "display_data"
    },
    {
     "data": {
      "application/vnd.jupyter.widget-view+json": {
       "model_id": "ea616f0f55644c67be89d931aabad121",
       "version_major": 2,
       "version_minor": 0
      },
      "text/plain": [
       "Validation: |          | 0/? [00:00<?, ?it/s]"
      ]
     },
     "metadata": {},
     "output_type": "display_data"
    },
    {
     "data": {
      "application/vnd.jupyter.widget-view+json": {
       "model_id": "c36b516180c14d45992765580c3d8778",
       "version_major": 2,
       "version_minor": 0
      },
      "text/plain": [
       "Validation: |          | 0/? [00:00<?, ?it/s]"
      ]
     },
     "metadata": {},
     "output_type": "display_data"
    },
    {
     "data": {
      "application/vnd.jupyter.widget-view+json": {
       "model_id": "2b857a6349024cefa806a67965aa607d",
       "version_major": 2,
       "version_minor": 0
      },
      "text/plain": [
       "Validation: |          | 0/? [00:00<?, ?it/s]"
      ]
     },
     "metadata": {},
     "output_type": "display_data"
    },
    {
     "data": {
      "application/vnd.jupyter.widget-view+json": {
       "model_id": "61f1e83e8753404eba0ed5a945e53d77",
       "version_major": 2,
       "version_minor": 0
      },
      "text/plain": [
       "Validation: |          | 0/? [00:00<?, ?it/s]"
      ]
     },
     "metadata": {},
     "output_type": "display_data"
    },
    {
     "data": {
      "application/vnd.jupyter.widget-view+json": {
       "model_id": "6738e2d8555744b79cf5fcfa1dc05d5b",
       "version_major": 2,
       "version_minor": 0
      },
      "text/plain": [
       "Validation: |          | 0/? [00:00<?, ?it/s]"
      ]
     },
     "metadata": {},
     "output_type": "display_data"
    },
    {
     "data": {
      "application/vnd.jupyter.widget-view+json": {
       "model_id": "b6937390a61b4897984a46bd6b560445",
       "version_major": 2,
       "version_minor": 0
      },
      "text/plain": [
       "Validation: |          | 0/? [00:00<?, ?it/s]"
      ]
     },
     "metadata": {},
     "output_type": "display_data"
    },
    {
     "data": {
      "application/vnd.jupyter.widget-view+json": {
       "model_id": "e85f29fa064d4726bcbc3db34002f96c",
       "version_major": 2,
       "version_minor": 0
      },
      "text/plain": [
       "Validation: |          | 0/? [00:00<?, ?it/s]"
      ]
     },
     "metadata": {},
     "output_type": "display_data"
    },
    {
     "data": {
      "application/vnd.jupyter.widget-view+json": {
       "model_id": "9f5024ceb8094a60983bf0dc94d84acb",
       "version_major": 2,
       "version_minor": 0
      },
      "text/plain": [
       "Validation: |          | 0/? [00:00<?, ?it/s]"
      ]
     },
     "metadata": {},
     "output_type": "display_data"
    },
    {
     "name": "stderr",
     "output_type": "stream",
     "text": [
      "LOCAL_RANK: 0 - CUDA_VISIBLE_DEVICES: [0]\n"
     ]
    },
    {
     "data": {
      "application/vnd.jupyter.widget-view+json": {
       "model_id": "eb80c0e90a3c4c69927131c2544cbab5",
       "version_major": 2,
       "version_minor": 0
      },
      "text/plain": [
       "Predicting: |          | 0/? [00:00<?, ?it/s]"
      ]
     },
     "metadata": {},
     "output_type": "display_data"
    },
    {
     "name": "stderr",
     "output_type": "stream",
     "text": [
      "2024-06-11 14:51:25,571 - INFO - {'Algorithm': 'Vanilla GRU', 'MAE': '2.0591', 'MAPE': '0.0475', 'RMSE': '2.3764', 'NRMSE': '0.3108', 'MSE': '5.6473', 'MASE': '2.4042', 'Forecast Bias': '1.62'}\n"
     ]
    }
   ],
   "source": [
    "# Train Vanilla RNN\n",
    "rnn_config = SingleStepRNNConfig(\n",
    "    rnn_type=\"RNN\",\n",
    "    input_size=len(pinn_features),\n",
    "    hidden_size=32,\n",
    "    num_layers=5,\n",
    "    bidirectional=False,\n",
    "    learning_rate=1e-3,\n",
    ")\n",
    "model = SingleStepRNNModel(rnn_config)\n",
    "algorithm_name = \"Vanilla RNN\"\n",
    "metric_record, pred_df = train_and_evaluate(model, rnn_config, datamodule, test, train, algorithm_name, metric_record=[], pred_df=pred_df)\n",
    "\n",
    "# Train Vanilla LSTM\n",
    "rnn_config = SingleStepRNNConfig(\n",
    "    rnn_type=\"LSTM\",\n",
    "    input_size=len(pinn_features),\n",
    "    hidden_size=32,\n",
    "    num_layers=5,\n",
    "    bidirectional=True,\n",
    "    learning_rate=1e-3,\n",
    ")\n",
    "model = SingleStepRNNModel(rnn_config)\n",
    "algorithm_name = \"Vanilla LSTM\"\n",
    "metric_record, pred_df = train_and_evaluate(model, rnn_config, datamodule, test, train, algorithm_name, metric_record, pred_df)\n",
    "\n",
    "# Train Vanilla GRU\n",
    "rnn_config = SingleStepRNNConfig(\n",
    "    rnn_type=\"GRU\",\n",
    "    input_size=len(pinn_features),\n",
    "    hidden_size=32,\n",
    "    num_layers=5,\n",
    "    bidirectional=True,\n",
    "    learning_rate=1e-3,\n",
    ")\n",
    "model = SingleStepRNNModel(rnn_config)\n",
    "algorithm_name = \"Vanilla GRU\"\n",
    "metric_record, pred_df = train_and_evaluate(model, rnn_config, datamodule, test, train, algorithm_name, metric_record, pred_df)"
   ]
  },
  {
   "cell_type": "code",
   "execution_count": 17,
   "metadata": {},
   "outputs": [
    {
     "data": {
      "text/plain": [
       "[{'Algorithm': 'Vanilla RNN',\n",
       "  'MAE': '1.2945',\n",
       "  'MAPE': '0.0301',\n",
       "  'RMSE': '1.8029',\n",
       "  'NRMSE': '0.2358',\n",
       "  'MSE': '3.2506',\n",
       "  'MASE': '1.5114',\n",
       "  'Forecast Bias': '0.60'},\n",
       " {'Algorithm': 'Vanilla LSTM',\n",
       "  'MAE': '6.5256',\n",
       "  'MAPE': '0.1517',\n",
       "  'RMSE': '6.6666',\n",
       "  'NRMSE': '0.8720',\n",
       "  'MSE': '44.4431',\n",
       "  'MASE': '7.6193',\n",
       "  'Forecast Bias': '-6.53'},\n",
       " {'Algorithm': 'Vanilla GRU',\n",
       "  'MAE': '2.0591',\n",
       "  'MAPE': '0.0475',\n",
       "  'RMSE': '2.3764',\n",
       "  'NRMSE': '0.3108',\n",
       "  'MSE': '5.6473',\n",
       "  'MASE': '2.4042',\n",
       "  'Forecast Bias': '1.62'}]"
      ]
     },
     "execution_count": 17,
     "metadata": {},
     "output_type": "execute_result"
    }
   ],
   "source": [
    "metric_record"
   ]
  },
  {
   "cell_type": "code",
   "execution_count": 18,
   "metadata": {},
   "outputs": [
    {
     "data": {
      "application/vnd.plotly.v1+json": {
       "config": {
        "plotlyServerURL": "https://plot.ly"
       },
       "data": [
        {
         "line": {
          "color": "#1F77B4",
          "width": 3
         },
         "marker": {
          "opacity": 0.7,
          "size": 8,
          "symbol": "circle"
         },
         "mode": "lines+markers",
         "name": "Actual COVID-19 MVBeds trends",
         "type": "scatter",
         "x": [
          "2021-09-29T00:00:00",
          "2021-09-30T00:00:00",
          "2021-10-01T00:00:00",
          "2021-10-02T00:00:00",
          "2021-10-03T00:00:00",
          "2021-10-04T00:00:00",
          "2021-10-05T00:00:00",
          "2021-10-06T00:00:00",
          "2021-10-07T00:00:00",
          "2021-10-08T00:00:00",
          "2021-10-09T00:00:00",
          "2021-10-10T00:00:00",
          "2021-10-11T00:00:00",
          "2021-10-12T00:00:00",
          "2021-10-13T00:00:00",
          "2021-10-14T00:00:00",
          "2021-10-15T00:00:00",
          "2021-10-16T00:00:00",
          "2021-10-17T00:00:00",
          "2021-10-18T00:00:00",
          "2021-10-19T00:00:00",
          "2021-10-20T00:00:00",
          "2021-10-21T00:00:00",
          "2021-10-22T00:00:00",
          "2021-10-23T00:00:00",
          "2021-10-24T00:00:00",
          "2021-10-25T00:00:00",
          "2021-10-26T00:00:00",
          "2021-10-27T00:00:00",
          "2021-10-28T00:00:00",
          "2021-10-29T00:00:00",
          "2021-10-30T00:00:00",
          "2021-10-31T00:00:00",
          "2021-11-01T00:00:00",
          "2021-11-02T00:00:00",
          "2021-11-03T00:00:00",
          "2021-11-04T00:00:00",
          "2021-11-05T00:00:00",
          "2021-11-06T00:00:00",
          "2021-11-07T00:00:00",
          "2021-11-08T00:00:00",
          "2021-11-09T00:00:00",
          "2021-11-10T00:00:00",
          "2021-11-11T00:00:00",
          "2021-11-12T00:00:00",
          "2021-11-13T00:00:00",
          "2021-11-14T00:00:00",
          "2021-11-15T00:00:00",
          "2021-11-16T00:00:00",
          "2021-11-17T00:00:00",
          "2021-11-18T00:00:00",
          "2021-11-19T00:00:00",
          "2021-11-20T00:00:00",
          "2021-11-21T00:00:00",
          "2021-11-22T00:00:00",
          "2021-11-23T00:00:00",
          "2021-11-24T00:00:00",
          "2021-11-25T00:00:00",
          "2021-11-26T00:00:00",
          "2021-11-27T00:00:00",
          "2021-11-28T00:00:00",
          "2021-11-29T00:00:00",
          "2021-11-30T00:00:00",
          "2021-12-01T00:00:00",
          "2021-12-02T00:00:00",
          "2021-12-03T00:00:00",
          "2021-12-04T00:00:00",
          "2021-12-05T00:00:00",
          "2021-12-06T00:00:00",
          "2021-12-07T00:00:00",
          "2021-12-08T00:00:00",
          "2021-12-09T00:00:00",
          "2021-12-10T00:00:00",
          "2021-12-11T00:00:00",
          "2021-12-12T00:00:00",
          "2021-12-13T00:00:00",
          "2021-12-14T00:00:00",
          "2021-12-15T00:00:00",
          "2021-12-16T00:00:00",
          "2021-12-17T00:00:00",
          "2021-12-18T00:00:00",
          "2021-12-19T00:00:00",
          "2021-12-20T00:00:00",
          "2021-12-21T00:00:00",
          "2021-12-22T00:00:00",
          "2021-12-23T00:00:00",
          "2021-12-24T00:00:00",
          "2021-12-25T00:00:00",
          "2021-12-26T00:00:00",
          "2021-12-27T00:00:00",
          "2021-12-28T00:00:00",
          "2021-12-29T00:00:00",
          "2021-12-30T00:00:00",
          "2021-12-31T00:00:00"
         ],
         "y": [
          40.32673647428243,
          40.35790939135354,
          40.32353407517833,
          38.952242110197204,
          39.255704568508854,
          39.016949302694634,
          39.98771001801774,
          40.052216214755056,
          40.11660973563927,
          39.516598853049786,
          39.24581143005093,
          38.6654337679556,
          38.62942028931321,
          39.84376016299376,
          39.842137898247536,
          39.77401102864899,
          40.36667118114556,
          40.626179985857185,
          41.07721161112019,
          41.331873930084086,
          42.276192973222976,
          42.67748681714627,
          42.79909838472726,
          42.67447593744238,
          42.11404333157225,
          42.640621483116554,
          43.58424482238309,
          44.388129364660024,
          44.26837965929741,
          44.11855633414826,
          44.56063340655098,
          44.647329084026175,
          44.733841288947104,
          46.00125440392042,
          45.99986734871036,
          45.85621556765695,
          46.22372842042437,
          46.0241030179921,
          45.909009253768374,
          45.62198460554207,
          46.27468568981058,
          46.16027519608545,
          45.61778545760905,
          45.50156736283304,
          45.38502387998416,
          45.15236577614069,
          45.46859905725478,
          44.88780301736726,
          44.15041869368712,
          44.029962952921174,
          43.639279972669975,
          43.3357963247065,
          43.18243867699443,
          43.54450093510297,
          43.81354142165914,
          43.662013660692644,
          43.75065484258765,
          43.95866951393598,
          44.13590922673909,
          43.866104296448796,
          44.04375053381447,
          44.04229598572246,
          44.42623262582378,
          43.43916127845464,
          43.46791185578536,
          43.73746624164815,
          43.49516718114328,
          43.34242455664527,
          44.032112680600335,
          43.611354674398584,
          43.57976456188846,
          43.99793982446376,
          44.02629249481942,
          43.78573736904969,
          43.87410585779461,
          44.08148499382545,
          44.080031804780525,
          43.809851170647285,
          43.718408375934494,
          43.89670688029277,
          43.23209496330821,
          43.230610595255946,
          43.259512373426055,
          42.922477543203016,
          42.55161903694948,
          42.611913925532534,
          42.4557032617294,
          42.54708806797761,
          42.945625360648,
          43.49144744702623,
          42.94263496804385,
          43.33721013395858,
          43.66782076928844,
          43.876263920874166
         ]
        },
        {
         "line": {
          "color": "#FF7F0E",
          "dash": "solid",
          "width": 2
         },
         "marker": {
          "size": 6,
          "symbol": "circle"
         },
         "mode": "lines+markers",
         "name": "Vanilla RNN",
         "type": "scatter",
         "x": [
          "2021-09-29T00:00:00",
          "2021-09-30T00:00:00",
          "2021-10-01T00:00:00",
          "2021-10-02T00:00:00",
          "2021-10-03T00:00:00",
          "2021-10-04T00:00:00",
          "2021-10-05T00:00:00",
          "2021-10-06T00:00:00",
          "2021-10-07T00:00:00",
          "2021-10-08T00:00:00",
          "2021-10-09T00:00:00",
          "2021-10-10T00:00:00",
          "2021-10-11T00:00:00",
          "2021-10-12T00:00:00",
          "2021-10-13T00:00:00",
          "2021-10-14T00:00:00",
          "2021-10-15T00:00:00",
          "2021-10-16T00:00:00",
          "2021-10-17T00:00:00",
          "2021-10-18T00:00:00",
          "2021-10-19T00:00:00",
          "2021-10-20T00:00:00",
          "2021-10-21T00:00:00",
          "2021-10-22T00:00:00",
          "2021-10-23T00:00:00",
          "2021-10-24T00:00:00",
          "2021-10-25T00:00:00",
          "2021-10-26T00:00:00",
          "2021-10-27T00:00:00",
          "2021-10-28T00:00:00",
          "2021-10-29T00:00:00",
          "2021-10-30T00:00:00",
          "2021-10-31T00:00:00",
          "2021-11-01T00:00:00",
          "2021-11-02T00:00:00",
          "2021-11-03T00:00:00",
          "2021-11-04T00:00:00",
          "2021-11-05T00:00:00",
          "2021-11-06T00:00:00",
          "2021-11-07T00:00:00",
          "2021-11-08T00:00:00",
          "2021-11-09T00:00:00",
          "2021-11-10T00:00:00",
          "2021-11-11T00:00:00",
          "2021-11-12T00:00:00",
          "2021-11-13T00:00:00",
          "2021-11-14T00:00:00",
          "2021-11-15T00:00:00",
          "2021-11-16T00:00:00",
          "2021-11-17T00:00:00",
          "2021-11-18T00:00:00",
          "2021-11-19T00:00:00",
          "2021-11-20T00:00:00",
          "2021-11-21T00:00:00",
          "2021-11-22T00:00:00",
          "2021-11-23T00:00:00",
          "2021-11-24T00:00:00",
          "2021-11-25T00:00:00",
          "2021-11-26T00:00:00",
          "2021-11-27T00:00:00",
          "2021-11-28T00:00:00",
          "2021-11-29T00:00:00",
          "2021-11-30T00:00:00",
          "2021-12-01T00:00:00",
          "2021-12-02T00:00:00",
          "2021-12-03T00:00:00",
          "2021-12-04T00:00:00",
          "2021-12-05T00:00:00",
          "2021-12-06T00:00:00",
          "2021-12-07T00:00:00",
          "2021-12-08T00:00:00",
          "2021-12-09T00:00:00",
          "2021-12-10T00:00:00",
          "2021-12-11T00:00:00",
          "2021-12-12T00:00:00",
          "2021-12-13T00:00:00",
          "2021-12-14T00:00:00",
          "2021-12-15T00:00:00",
          "2021-12-16T00:00:00",
          "2021-12-17T00:00:00",
          "2021-12-18T00:00:00",
          "2021-12-19T00:00:00",
          "2021-12-20T00:00:00",
          "2021-12-21T00:00:00",
          "2021-12-22T00:00:00",
          "2021-12-23T00:00:00",
          "2021-12-24T00:00:00",
          "2021-12-25T00:00:00",
          "2021-12-26T00:00:00",
          "2021-12-27T00:00:00",
          "2021-12-28T00:00:00",
          "2021-12-29T00:00:00",
          "2021-12-30T00:00:00",
          "2021-12-31T00:00:00"
         ],
         "y": [
          41.580810546875,
          40.1298828125,
          40.156005859375,
          40.0819091796875,
          40.0914306640625,
          39.547119140625,
          38.950927734375,
          39.1644287109375,
          38.86962890625,
          37.5081787109375,
          38.7650146484375,
          39.313720703125,
          39.0882568359375,
          38.99853515625,
          38.5269775390625,
          39.6109619140625,
          39.4598388671875,
          39.801025390625,
          40.1285400390625,
          40.22705078125,
          40.8909912109375,
          40.022216796875,
          42.8072509765625,
          43.09521484375,
          43.35009765625,
          44.061279296875,
          45.0958251953125,
          45.120849609375,
          45.001953125,
          44.6875,
          45.0076904296875,
          46.1702880859375,
          46.507568359375,
          45.0931396484375,
          45.3861083984375,
          46.5989990234375,
          47.3631591796875,
          47.507568359375,
          46.7388916015625,
          46.7821044921875,
          46.473876953125,
          45.6207275390625,
          46.510986328125,
          45.711181640625,
          45.1480712890625,
          45.785888671875,
          45.82763671875,
          46.009033203125,
          45.0684814453125,
          45.55615234375,
          45.767822265625,
          45.4610595703125,
          44.580322265625,
          43.3966064453125,
          43.5189208984375,
          44.084716796875,
          43.238525390625,
          42.457763671875,
          42.8797607421875,
          42.65478515625,
          43.0439453125,
          42.3477783203125,
          43.007568359375,
          43.273193359375,
          43.1884765625,
          42.546630859375,
          43.0980224609375,
          44.0802001953125,
          43.132080078125,
          42.7357177734375,
          43.468505859375,
          44.498046875,
          43.3045654296875,
          43.3228759765625,
          44.3642578125,
          44.359375,
          44.50927734375,
          45.1239013671875,
          44.9146728515625,
          44.5799560546875,
          45.5316162109375,
          45.2274169921875,
          44.847412109375,
          44.6800537109375,
          45.2431640625,
          45.13623046875,
          45.7406005859375,
          46.144287109375,
          47.1279296875,
          47.7960205078125,
          47.7286376953125,
          48.50244140625,
          49.146484375,
          51.10205078125
         ]
        },
        {
         "line": {
          "color": "#2CA02C",
          "dash": "dash",
          "width": 2
         },
         "marker": {
          "size": 6,
          "symbol": "square"
         },
         "mode": "lines+markers",
         "name": "Vanilla LSTM",
         "type": "scatter",
         "x": [
          "2021-09-29T00:00:00",
          "2021-09-30T00:00:00",
          "2021-10-01T00:00:00",
          "2021-10-02T00:00:00",
          "2021-10-03T00:00:00",
          "2021-10-04T00:00:00",
          "2021-10-05T00:00:00",
          "2021-10-06T00:00:00",
          "2021-10-07T00:00:00",
          "2021-10-08T00:00:00",
          "2021-10-09T00:00:00",
          "2021-10-10T00:00:00",
          "2021-10-11T00:00:00",
          "2021-10-12T00:00:00",
          "2021-10-13T00:00:00",
          "2021-10-14T00:00:00",
          "2021-10-15T00:00:00",
          "2021-10-16T00:00:00",
          "2021-10-17T00:00:00",
          "2021-10-18T00:00:00",
          "2021-10-19T00:00:00",
          "2021-10-20T00:00:00",
          "2021-10-21T00:00:00",
          "2021-10-22T00:00:00",
          "2021-10-23T00:00:00",
          "2021-10-24T00:00:00",
          "2021-10-25T00:00:00",
          "2021-10-26T00:00:00",
          "2021-10-27T00:00:00",
          "2021-10-28T00:00:00",
          "2021-10-29T00:00:00",
          "2021-10-30T00:00:00",
          "2021-10-31T00:00:00",
          "2021-11-01T00:00:00",
          "2021-11-02T00:00:00",
          "2021-11-03T00:00:00",
          "2021-11-04T00:00:00",
          "2021-11-05T00:00:00",
          "2021-11-06T00:00:00",
          "2021-11-07T00:00:00",
          "2021-11-08T00:00:00",
          "2021-11-09T00:00:00",
          "2021-11-10T00:00:00",
          "2021-11-11T00:00:00",
          "2021-11-12T00:00:00",
          "2021-11-13T00:00:00",
          "2021-11-14T00:00:00",
          "2021-11-15T00:00:00",
          "2021-11-16T00:00:00",
          "2021-11-17T00:00:00",
          "2021-11-18T00:00:00",
          "2021-11-19T00:00:00",
          "2021-11-20T00:00:00",
          "2021-11-21T00:00:00",
          "2021-11-22T00:00:00",
          "2021-11-23T00:00:00",
          "2021-11-24T00:00:00",
          "2021-11-25T00:00:00",
          "2021-11-26T00:00:00",
          "2021-11-27T00:00:00",
          "2021-11-28T00:00:00",
          "2021-11-29T00:00:00",
          "2021-11-30T00:00:00",
          "2021-12-01T00:00:00",
          "2021-12-02T00:00:00",
          "2021-12-03T00:00:00",
          "2021-12-04T00:00:00",
          "2021-12-05T00:00:00",
          "2021-12-06T00:00:00",
          "2021-12-07T00:00:00",
          "2021-12-08T00:00:00",
          "2021-12-09T00:00:00",
          "2021-12-10T00:00:00",
          "2021-12-11T00:00:00",
          "2021-12-12T00:00:00",
          "2021-12-13T00:00:00",
          "2021-12-14T00:00:00",
          "2021-12-15T00:00:00",
          "2021-12-16T00:00:00",
          "2021-12-17T00:00:00",
          "2021-12-18T00:00:00",
          "2021-12-19T00:00:00",
          "2021-12-20T00:00:00",
          "2021-12-21T00:00:00",
          "2021-12-22T00:00:00",
          "2021-12-23T00:00:00",
          "2021-12-24T00:00:00",
          "2021-12-25T00:00:00",
          "2021-12-26T00:00:00",
          "2021-12-27T00:00:00",
          "2021-12-28T00:00:00",
          "2021-12-29T00:00:00",
          "2021-12-30T00:00:00",
          "2021-12-31T00:00:00"
         ],
         "y": [
          35.0953369140625,
          34.6864013671875,
          34.3099365234375,
          33.96533203125,
          33.6632080078125,
          33.3643798828125,
          33.0997314453125,
          32.85400390625,
          32.6436767578125,
          32.50341796875,
          32.408203125,
          32.3408203125,
          32.3070068359375,
          32.28466796875,
          32.2989501953125,
          32.31884765625,
          32.366943359375,
          32.4322509765625,
          32.5343017578125,
          32.686279296875,
          32.896240234375,
          33.178955078125,
          33.52392578125,
          33.9183349609375,
          34.35302734375,
          34.817138671875,
          35.2650146484375,
          35.68017578125,
          36.0731201171875,
          36.4569091796875,
          36.824951171875,
          37.18115234375,
          37.531005859375,
          37.8983154296875,
          38.274658203125,
          38.650390625,
          38.996337890625,
          39.2984619140625,
          39.56005859375,
          39.7659912109375,
          39.8968505859375,
          39.963134765625,
          39.9571533203125,
          39.911865234375,
          39.8414306640625,
          39.7572021484375,
          39.677490234375,
          39.5787353515625,
          39.486572265625,
          39.37109375,
          39.21728515625,
          39.0313720703125,
          38.8150634765625,
          38.5821533203125,
          38.3402099609375,
          38.0723876953125,
          37.8201904296875,
          37.6058349609375,
          37.4232177734375,
          37.278564453125,
          37.1610107421875,
          37.0635986328125,
          36.9754638671875,
          36.8919677734375,
          36.81787109375,
          36.733154296875,
          36.64794921875,
          36.5589599609375,
          36.47998046875,
          36.412841796875,
          36.382568359375,
          36.355712890625,
          36.3590087890625,
          36.40380859375,
          36.4815673828125,
          36.5654296875,
          36.6766357421875,
          36.8035888671875,
          36.935302734375,
          37.0572509765625,
          37.16845703125,
          37.2696533203125,
          37.3472900390625,
          37.424560546875,
          37.5101318359375,
          37.6300048828125,
          37.781005859375,
          37.9808349609375,
          38.2279052734375,
          38.5335693359375,
          38.9202880859375,
          39.4503173828125,
          40.1387939453125,
          41.020263671875
         ]
        },
        {
         "line": {
          "color": "#D62728",
          "dash": "dot",
          "width": 2
         },
         "marker": {
          "size": 6,
          "symbol": "diamond"
         },
         "mode": "lines+markers",
         "name": "Vanilla GRU",
         "type": "scatter",
         "x": [
          "2021-09-29T00:00:00",
          "2021-09-30T00:00:00",
          "2021-10-01T00:00:00",
          "2021-10-02T00:00:00",
          "2021-10-03T00:00:00",
          "2021-10-04T00:00:00",
          "2021-10-05T00:00:00",
          "2021-10-06T00:00:00",
          "2021-10-07T00:00:00",
          "2021-10-08T00:00:00",
          "2021-10-09T00:00:00",
          "2021-10-10T00:00:00",
          "2021-10-11T00:00:00",
          "2021-10-12T00:00:00",
          "2021-10-13T00:00:00",
          "2021-10-14T00:00:00",
          "2021-10-15T00:00:00",
          "2021-10-16T00:00:00",
          "2021-10-17T00:00:00",
          "2021-10-18T00:00:00",
          "2021-10-19T00:00:00",
          "2021-10-20T00:00:00",
          "2021-10-21T00:00:00",
          "2021-10-22T00:00:00",
          "2021-10-23T00:00:00",
          "2021-10-24T00:00:00",
          "2021-10-25T00:00:00",
          "2021-10-26T00:00:00",
          "2021-10-27T00:00:00",
          "2021-10-28T00:00:00",
          "2021-10-29T00:00:00",
          "2021-10-30T00:00:00",
          "2021-10-31T00:00:00",
          "2021-11-01T00:00:00",
          "2021-11-02T00:00:00",
          "2021-11-03T00:00:00",
          "2021-11-04T00:00:00",
          "2021-11-05T00:00:00",
          "2021-11-06T00:00:00",
          "2021-11-07T00:00:00",
          "2021-11-08T00:00:00",
          "2021-11-09T00:00:00",
          "2021-11-10T00:00:00",
          "2021-11-11T00:00:00",
          "2021-11-12T00:00:00",
          "2021-11-13T00:00:00",
          "2021-11-14T00:00:00",
          "2021-11-15T00:00:00",
          "2021-11-16T00:00:00",
          "2021-11-17T00:00:00",
          "2021-11-18T00:00:00",
          "2021-11-19T00:00:00",
          "2021-11-20T00:00:00",
          "2021-11-21T00:00:00",
          "2021-11-22T00:00:00",
          "2021-11-23T00:00:00",
          "2021-11-24T00:00:00",
          "2021-11-25T00:00:00",
          "2021-11-26T00:00:00",
          "2021-11-27T00:00:00",
          "2021-11-28T00:00:00",
          "2021-11-29T00:00:00",
          "2021-11-30T00:00:00",
          "2021-12-01T00:00:00",
          "2021-12-02T00:00:00",
          "2021-12-03T00:00:00",
          "2021-12-04T00:00:00",
          "2021-12-05T00:00:00",
          "2021-12-06T00:00:00",
          "2021-12-07T00:00:00",
          "2021-12-08T00:00:00",
          "2021-12-09T00:00:00",
          "2021-12-10T00:00:00",
          "2021-12-11T00:00:00",
          "2021-12-12T00:00:00",
          "2021-12-13T00:00:00",
          "2021-12-14T00:00:00",
          "2021-12-15T00:00:00",
          "2021-12-16T00:00:00",
          "2021-12-17T00:00:00",
          "2021-12-18T00:00:00",
          "2021-12-19T00:00:00",
          "2021-12-20T00:00:00",
          "2021-12-21T00:00:00",
          "2021-12-22T00:00:00",
          "2021-12-23T00:00:00",
          "2021-12-24T00:00:00",
          "2021-12-25T00:00:00",
          "2021-12-26T00:00:00",
          "2021-12-27T00:00:00",
          "2021-12-28T00:00:00",
          "2021-12-29T00:00:00",
          "2021-12-30T00:00:00",
          "2021-12-31T00:00:00"
         ],
         "y": [
          43.954833984375,
          43.2293701171875,
          42.5054931640625,
          41.857421875,
          41.270751953125,
          40.649169921875,
          40.10986328125,
          39.5087890625,
          39.0828857421875,
          38.77783203125,
          38.7010498046875,
          38.6065673828125,
          38.600830078125,
          38.54296875,
          38.55322265625,
          38.6036376953125,
          38.736572265625,
          38.96826171875,
          39.2755126953125,
          39.617431640625,
          40.0426025390625,
          40.57666015625,
          41.20068359375,
          41.824951171875,
          42.4979248046875,
          43.17236328125,
          43.6923828125,
          44.169921875,
          44.643310546875,
          45.107666015625,
          45.563232421875,
          46.031005859375,
          46.4471435546875,
          46.8680419921875,
          47.311767578125,
          47.7982177734375,
          48.1708984375,
          48.5399169921875,
          48.851318359375,
          49.034912109375,
          49.152587890625,
          49.2779541015625,
          49.3883056640625,
          49.3809814453125,
          49.360595703125,
          49.32666015625,
          49.232666015625,
          49.0987548828125,
          49.021240234375,
          48.80615234375,
          48.4937744140625,
          48.1387939453125,
          47.7188720703125,
          47.24658203125,
          46.806396484375,
          46.38232421875,
          45.982177734375,
          45.63916015625,
          45.3690185546875,
          45.151611328125,
          45.0086669921875,
          44.9599609375,
          44.964599609375,
          44.96533203125,
          45.07861328125,
          45.129638671875,
          45.179931640625,
          45.142333984375,
          45.1051025390625,
          45.0982666015625,
          45.1583251953125,
          45.1729736328125,
          45.29248046875,
          45.4434814453125,
          45.5811767578125,
          45.689208984375,
          45.82861328125,
          45.9085693359375,
          45.938720703125,
          45.976806640625,
          45.990478515625,
          45.952392578125,
          45.8826904296875,
          45.8421630859375,
          45.73095703125,
          45.62890625,
          45.5494384765625,
          45.5228271484375,
          45.413818359375,
          45.3828125,
          45.4171142578125,
          45.5760498046875,
          45.7430419921875,
          46.1104736328125
         ]
        }
       ],
       "layout": {
        "height": 600,
        "legend": {
         "font": {
          "size": 10
         },
         "orientation": "h",
         "x": 0.5,
         "xanchor": "center",
         "y": 1.02,
         "yanchor": "top"
        },
        "margin": {
         "b": 40,
         "l": 10,
         "r": 40,
         "t": 80
        },
        "plot_bgcolor": "rgba(0,0,0,0)",
        "template": {
         "data": {
          "bar": [
           {
            "error_x": {
             "color": "#2a3f5f"
            },
            "error_y": {
             "color": "#2a3f5f"
            },
            "marker": {
             "line": {
              "color": "white",
              "width": 0.5
             },
             "pattern": {
              "fillmode": "overlay",
              "size": 10,
              "solidity": 0.2
             }
            },
            "type": "bar"
           }
          ],
          "barpolar": [
           {
            "marker": {
             "line": {
              "color": "white",
              "width": 0.5
             },
             "pattern": {
              "fillmode": "overlay",
              "size": 10,
              "solidity": 0.2
             }
            },
            "type": "barpolar"
           }
          ],
          "carpet": [
           {
            "aaxis": {
             "endlinecolor": "#2a3f5f",
             "gridcolor": "#C8D4E3",
             "linecolor": "#C8D4E3",
             "minorgridcolor": "#C8D4E3",
             "startlinecolor": "#2a3f5f"
            },
            "baxis": {
             "endlinecolor": "#2a3f5f",
             "gridcolor": "#C8D4E3",
             "linecolor": "#C8D4E3",
             "minorgridcolor": "#C8D4E3",
             "startlinecolor": "#2a3f5f"
            },
            "type": "carpet"
           }
          ],
          "choropleth": [
           {
            "colorbar": {
             "outlinewidth": 0,
             "ticks": ""
            },
            "type": "choropleth"
           }
          ],
          "contour": [
           {
            "colorbar": {
             "outlinewidth": 0,
             "ticks": ""
            },
            "colorscale": [
             [
              0,
              "#0d0887"
             ],
             [
              0.1111111111111111,
              "#46039f"
             ],
             [
              0.2222222222222222,
              "#7201a8"
             ],
             [
              0.3333333333333333,
              "#9c179e"
             ],
             [
              0.4444444444444444,
              "#bd3786"
             ],
             [
              0.5555555555555556,
              "#d8576b"
             ],
             [
              0.6666666666666666,
              "#ed7953"
             ],
             [
              0.7777777777777778,
              "#fb9f3a"
             ],
             [
              0.8888888888888888,
              "#fdca26"
             ],
             [
              1,
              "#f0f921"
             ]
            ],
            "type": "contour"
           }
          ],
          "contourcarpet": [
           {
            "colorbar": {
             "outlinewidth": 0,
             "ticks": ""
            },
            "type": "contourcarpet"
           }
          ],
          "heatmap": [
           {
            "colorbar": {
             "outlinewidth": 0,
             "ticks": ""
            },
            "colorscale": [
             [
              0,
              "#0d0887"
             ],
             [
              0.1111111111111111,
              "#46039f"
             ],
             [
              0.2222222222222222,
              "#7201a8"
             ],
             [
              0.3333333333333333,
              "#9c179e"
             ],
             [
              0.4444444444444444,
              "#bd3786"
             ],
             [
              0.5555555555555556,
              "#d8576b"
             ],
             [
              0.6666666666666666,
              "#ed7953"
             ],
             [
              0.7777777777777778,
              "#fb9f3a"
             ],
             [
              0.8888888888888888,
              "#fdca26"
             ],
             [
              1,
              "#f0f921"
             ]
            ],
            "type": "heatmap"
           }
          ],
          "heatmapgl": [
           {
            "colorbar": {
             "outlinewidth": 0,
             "ticks": ""
            },
            "colorscale": [
             [
              0,
              "#0d0887"
             ],
             [
              0.1111111111111111,
              "#46039f"
             ],
             [
              0.2222222222222222,
              "#7201a8"
             ],
             [
              0.3333333333333333,
              "#9c179e"
             ],
             [
              0.4444444444444444,
              "#bd3786"
             ],
             [
              0.5555555555555556,
              "#d8576b"
             ],
             [
              0.6666666666666666,
              "#ed7953"
             ],
             [
              0.7777777777777778,
              "#fb9f3a"
             ],
             [
              0.8888888888888888,
              "#fdca26"
             ],
             [
              1,
              "#f0f921"
             ]
            ],
            "type": "heatmapgl"
           }
          ],
          "histogram": [
           {
            "marker": {
             "pattern": {
              "fillmode": "overlay",
              "size": 10,
              "solidity": 0.2
             }
            },
            "type": "histogram"
           }
          ],
          "histogram2d": [
           {
            "colorbar": {
             "outlinewidth": 0,
             "ticks": ""
            },
            "colorscale": [
             [
              0,
              "#0d0887"
             ],
             [
              0.1111111111111111,
              "#46039f"
             ],
             [
              0.2222222222222222,
              "#7201a8"
             ],
             [
              0.3333333333333333,
              "#9c179e"
             ],
             [
              0.4444444444444444,
              "#bd3786"
             ],
             [
              0.5555555555555556,
              "#d8576b"
             ],
             [
              0.6666666666666666,
              "#ed7953"
             ],
             [
              0.7777777777777778,
              "#fb9f3a"
             ],
             [
              0.8888888888888888,
              "#fdca26"
             ],
             [
              1,
              "#f0f921"
             ]
            ],
            "type": "histogram2d"
           }
          ],
          "histogram2dcontour": [
           {
            "colorbar": {
             "outlinewidth": 0,
             "ticks": ""
            },
            "colorscale": [
             [
              0,
              "#0d0887"
             ],
             [
              0.1111111111111111,
              "#46039f"
             ],
             [
              0.2222222222222222,
              "#7201a8"
             ],
             [
              0.3333333333333333,
              "#9c179e"
             ],
             [
              0.4444444444444444,
              "#bd3786"
             ],
             [
              0.5555555555555556,
              "#d8576b"
             ],
             [
              0.6666666666666666,
              "#ed7953"
             ],
             [
              0.7777777777777778,
              "#fb9f3a"
             ],
             [
              0.8888888888888888,
              "#fdca26"
             ],
             [
              1,
              "#f0f921"
             ]
            ],
            "type": "histogram2dcontour"
           }
          ],
          "mesh3d": [
           {
            "colorbar": {
             "outlinewidth": 0,
             "ticks": ""
            },
            "type": "mesh3d"
           }
          ],
          "parcoords": [
           {
            "line": {
             "colorbar": {
              "outlinewidth": 0,
              "ticks": ""
             }
            },
            "type": "parcoords"
           }
          ],
          "pie": [
           {
            "automargin": true,
            "type": "pie"
           }
          ],
          "scatter": [
           {
            "fillpattern": {
             "fillmode": "overlay",
             "size": 10,
             "solidity": 0.2
            },
            "type": "scatter"
           }
          ],
          "scatter3d": [
           {
            "line": {
             "colorbar": {
              "outlinewidth": 0,
              "ticks": ""
             }
            },
            "marker": {
             "colorbar": {
              "outlinewidth": 0,
              "ticks": ""
             }
            },
            "type": "scatter3d"
           }
          ],
          "scattercarpet": [
           {
            "marker": {
             "colorbar": {
              "outlinewidth": 0,
              "ticks": ""
             }
            },
            "type": "scattercarpet"
           }
          ],
          "scattergeo": [
           {
            "marker": {
             "colorbar": {
              "outlinewidth": 0,
              "ticks": ""
             }
            },
            "type": "scattergeo"
           }
          ],
          "scattergl": [
           {
            "marker": {
             "colorbar": {
              "outlinewidth": 0,
              "ticks": ""
             }
            },
            "type": "scattergl"
           }
          ],
          "scattermapbox": [
           {
            "marker": {
             "colorbar": {
              "outlinewidth": 0,
              "ticks": ""
             }
            },
            "type": "scattermapbox"
           }
          ],
          "scatterpolar": [
           {
            "marker": {
             "colorbar": {
              "outlinewidth": 0,
              "ticks": ""
             }
            },
            "type": "scatterpolar"
           }
          ],
          "scatterpolargl": [
           {
            "marker": {
             "colorbar": {
              "outlinewidth": 0,
              "ticks": ""
             }
            },
            "type": "scatterpolargl"
           }
          ],
          "scatterternary": [
           {
            "marker": {
             "colorbar": {
              "outlinewidth": 0,
              "ticks": ""
             }
            },
            "type": "scatterternary"
           }
          ],
          "surface": [
           {
            "colorbar": {
             "outlinewidth": 0,
             "ticks": ""
            },
            "colorscale": [
             [
              0,
              "#0d0887"
             ],
             [
              0.1111111111111111,
              "#46039f"
             ],
             [
              0.2222222222222222,
              "#7201a8"
             ],
             [
              0.3333333333333333,
              "#9c179e"
             ],
             [
              0.4444444444444444,
              "#bd3786"
             ],
             [
              0.5555555555555556,
              "#d8576b"
             ],
             [
              0.6666666666666666,
              "#ed7953"
             ],
             [
              0.7777777777777778,
              "#fb9f3a"
             ],
             [
              0.8888888888888888,
              "#fdca26"
             ],
             [
              1,
              "#f0f921"
             ]
            ],
            "type": "surface"
           }
          ],
          "table": [
           {
            "cells": {
             "fill": {
              "color": "#EBF0F8"
             },
             "line": {
              "color": "white"
             }
            },
            "header": {
             "fill": {
              "color": "#C8D4E3"
             },
             "line": {
              "color": "white"
             }
            },
            "type": "table"
           }
          ]
         },
         "layout": {
          "annotationdefaults": {
           "arrowcolor": "#2a3f5f",
           "arrowhead": 0,
           "arrowwidth": 1
          },
          "autotypenumbers": "strict",
          "coloraxis": {
           "colorbar": {
            "outlinewidth": 0,
            "ticks": ""
           }
          },
          "colorscale": {
           "diverging": [
            [
             0,
             "#8e0152"
            ],
            [
             0.1,
             "#c51b7d"
            ],
            [
             0.2,
             "#de77ae"
            ],
            [
             0.3,
             "#f1b6da"
            ],
            [
             0.4,
             "#fde0ef"
            ],
            [
             0.5,
             "#f7f7f7"
            ],
            [
             0.6,
             "#e6f5d0"
            ],
            [
             0.7,
             "#b8e186"
            ],
            [
             0.8,
             "#7fbc41"
            ],
            [
             0.9,
             "#4d9221"
            ],
            [
             1,
             "#276419"
            ]
           ],
           "sequential": [
            [
             0,
             "#0d0887"
            ],
            [
             0.1111111111111111,
             "#46039f"
            ],
            [
             0.2222222222222222,
             "#7201a8"
            ],
            [
             0.3333333333333333,
             "#9c179e"
            ],
            [
             0.4444444444444444,
             "#bd3786"
            ],
            [
             0.5555555555555556,
             "#d8576b"
            ],
            [
             0.6666666666666666,
             "#ed7953"
            ],
            [
             0.7777777777777778,
             "#fb9f3a"
            ],
            [
             0.8888888888888888,
             "#fdca26"
            ],
            [
             1,
             "#f0f921"
            ]
           ],
           "sequentialminus": [
            [
             0,
             "#0d0887"
            ],
            [
             0.1111111111111111,
             "#46039f"
            ],
            [
             0.2222222222222222,
             "#7201a8"
            ],
            [
             0.3333333333333333,
             "#9c179e"
            ],
            [
             0.4444444444444444,
             "#bd3786"
            ],
            [
             0.5555555555555556,
             "#d8576b"
            ],
            [
             0.6666666666666666,
             "#ed7953"
            ],
            [
             0.7777777777777778,
             "#fb9f3a"
            ],
            [
             0.8888888888888888,
             "#fdca26"
            ],
            [
             1,
             "#f0f921"
            ]
           ]
          },
          "colorway": [
           "#636efa",
           "#EF553B",
           "#00cc96",
           "#ab63fa",
           "#FFA15A",
           "#19d3f3",
           "#FF6692",
           "#B6E880",
           "#FF97FF",
           "#FECB52"
          ],
          "font": {
           "color": "#2a3f5f"
          },
          "geo": {
           "bgcolor": "white",
           "lakecolor": "white",
           "landcolor": "white",
           "showlakes": true,
           "showland": true,
           "subunitcolor": "#C8D4E3"
          },
          "hoverlabel": {
           "align": "left"
          },
          "hovermode": "closest",
          "mapbox": {
           "style": "light"
          },
          "paper_bgcolor": "white",
          "plot_bgcolor": "white",
          "polar": {
           "angularaxis": {
            "gridcolor": "#EBF0F8",
            "linecolor": "#EBF0F8",
            "ticks": ""
           },
           "bgcolor": "white",
           "radialaxis": {
            "gridcolor": "#EBF0F8",
            "linecolor": "#EBF0F8",
            "ticks": ""
           }
          },
          "scene": {
           "xaxis": {
            "backgroundcolor": "white",
            "gridcolor": "#DFE8F3",
            "gridwidth": 2,
            "linecolor": "#EBF0F8",
            "showbackground": true,
            "ticks": "",
            "zerolinecolor": "#EBF0F8"
           },
           "yaxis": {
            "backgroundcolor": "white",
            "gridcolor": "#DFE8F3",
            "gridwidth": 2,
            "linecolor": "#EBF0F8",
            "showbackground": true,
            "ticks": "",
            "zerolinecolor": "#EBF0F8"
           },
           "zaxis": {
            "backgroundcolor": "white",
            "gridcolor": "#DFE8F3",
            "gridwidth": 2,
            "linecolor": "#EBF0F8",
            "showbackground": true,
            "ticks": "",
            "zerolinecolor": "#EBF0F8"
           }
          },
          "shapedefaults": {
           "line": {
            "color": "#2a3f5f"
           }
          },
          "ternary": {
           "aaxis": {
            "gridcolor": "#DFE8F3",
            "linecolor": "#A2B1C6",
            "ticks": ""
           },
           "baxis": {
            "gridcolor": "#DFE8F3",
            "linecolor": "#A2B1C6",
            "ticks": ""
           },
           "bgcolor": "white",
           "caxis": {
            "gridcolor": "#DFE8F3",
            "linecolor": "#A2B1C6",
            "ticks": ""
           }
          },
          "title": {
           "x": 0.05
          },
          "xaxis": {
           "automargin": true,
           "gridcolor": "#EBF0F8",
           "linecolor": "#EBF0F8",
           "ticks": "",
           "title": {
            "standoff": 15
           },
           "zerolinecolor": "#EBF0F8",
           "zerolinewidth": 2
          },
          "yaxis": {
           "automargin": true,
           "gridcolor": "#EBF0F8",
           "linecolor": "#EBF0F8",
           "ticks": "",
           "title": {
            "standoff": 15
           },
           "zerolinecolor": "#EBF0F8",
           "zerolinewidth": 2
          }
         }
        },
        "title": {
         "font": {
          "size": 20
         },
         "text": "COVID-19 MVBeds Forecast Comparison for England"
        },
        "width": 1200,
        "xaxis": {
         "tickfont": {
          "size": 12
         },
         "title": {
          "font": {
           "size": 15
          },
          "text": "Date"
         }
        },
        "yaxis": {
         "tickfont": {
          "size": 12
         },
         "title": {
          "font": {
           "size": 15
          },
          "text": "COVID-19 MVBeds"
         }
        }
       }
      }
     },
     "metadata": {},
     "output_type": "display_data"
    }
   ],
   "source": [
    "# plot the forecast\n",
    "forecast_columns = [\"Vanilla RNN\", \"Vanilla LSTM\", \"Vanilla GRU\"]\n",
    "forecast_display_names = [\"Vanilla RNN\", \"Vanilla LSTM\", \"Vanilla GRU\"]\n",
    "fig = plot_forecast(\n",
    "    pred_df, forecast_columns, selected_area, forecast_display_names=forecast_display_names\n",
    ")\n",
    "fig.write_image(\"reports/figures/vanilla_rnn_lstm_gru_forecast.pdf\")\n",
    "fig.show()"
   ]
  },
  {
   "cell_type": "code",
   "execution_count": null,
   "metadata": {},
   "outputs": [],
   "source": []
  }
 ],
 "metadata": {
  "kernelspec": {
   "display_name": "py_env",
   "language": "python",
   "name": "python3"
  },
  "language_info": {
   "codemirror_mode": {
    "name": "ipython",
    "version": 3
   },
   "file_extension": ".py",
   "mimetype": "text/x-python",
   "name": "python",
   "nbconvert_exporter": "python",
   "pygments_lexer": "ipython3",
   "version": "3.10.13"
  }
 },
 "nbformat": 4,
 "nbformat_minor": 2
}
