{
 "cells": [
  {
   "cell_type": "code",
   "execution_count": 1,
   "metadata": {},
   "outputs": [
    {
     "name": "stderr",
     "output_type": "stream",
     "text": [
      "Seed set to 42\n"
     ]
    }
   ],
   "source": [
    "# Experiment 2 Script for COVID-19 Forecasting\n",
    "\n",
    "# Change path to the root directory of the project\n",
    "import os\n",
    "\n",
    "os.chdir(\"../../\")\n",
    "\n",
    "# Description: This script contains the code for the second experiment in the project,\n",
    "# forecasting COVID-19 MVBeds using various RNN models and hyperparameter tuning with Simulated Annealing.\n",
    "\n",
    "# Imports for handling data\n",
    "import shutil\n",
    "import numpy as np\n",
    "import pandas as pd\n",
    "from pathlib import Path\n",
    "from itertools import cycle\n",
    "\n",
    "# Imports for machine learning\n",
    "import torch\n",
    "from torch.utils.data import Dataset, DataLoader\n",
    "import pytorch_lightning as pl\n",
    "from pytorch_lightning.callbacks import EarlyStopping\n",
    "\n",
    "from sklearn.metrics import (\n",
    "    mean_absolute_error as mae,\n",
    "    mean_squared_error as mse,\n",
    "    mean_absolute_percentage_error as mape,\n",
    ")\n",
    "\n",
    "# Imports for visualization\n",
    "import plotly.express as px\n",
    "import plotly.graph_objects as go\n",
    "import plotly.io as pio\n",
    "\n",
    "# Progress bar\n",
    "from tqdm.autonotebook import tqdm\n",
    "\n",
    "tqdm.pandas()\n",
    "\n",
    "# Local imports for data loaders and models\n",
    "from src.utils import plotting_utils\n",
    "from src.dl.dataloaders import TimeSeriesDataModule\n",
    "from src.dl.multivariate_models import (\n",
    "    SingleStepRNNConfig,\n",
    "    SingleStepRNNModel,\n",
    "    Seq2SeqConfig,\n",
    "    Seq2SeqModel,\n",
    "    RNNConfig,\n",
    ")\n",
    "from src.transforms.target_transformations import AutoStationaryTransformer\n",
    "\n",
    "# Set seeds for reproducibility\n",
    "pl.seed_everything(42)\n",
    "torch.manual_seed(42)\n",
    "np.random.seed(42)\n",
    "if torch.cuda.is_available():\n",
    "    torch.cuda.manual_seed_all(42)\n",
    "\n",
    "# Set float32 matrix multiplication precision\n",
    "torch.set_float32_matmul_precision(\"high\")\n",
    "\n",
    "# Set default Plotly template\n",
    "pio.templates.default = \"plotly_white\"\n",
    "\n",
    "# Ignore warnings\n",
    "import warnings\n",
    "\n",
    "warnings.filterwarnings(\"ignore\")\n",
    "\n",
    "# Set logging configuration\n",
    "import logging\n",
    "\n",
    "logging.basicConfig(\n",
    "    level=logging.INFO, format=\"%(asctime)s - %(levelname)s - %(message)s\"\n",
    ")"
   ]
  },
  {
   "cell_type": "code",
   "execution_count": 2,
   "metadata": {},
   "outputs": [],
   "source": [
    "# Utility Functions\n",
    "\n",
    "\n",
    "def format_plot(\n",
    "    fig, legends=None, xlabel=\"Time\", ylabel=\"Value\", title=\"\", font_size=15\n",
    "):\n",
    "    if legends:\n",
    "        names = cycle(legends)\n",
    "        fig.for_each_trace(lambda t: t.update(name=next(names)))\n",
    "    fig.update_layout(\n",
    "        autosize=False,\n",
    "        width=900,\n",
    "        height=500,\n",
    "        title_text=title,\n",
    "        title={\"x\": 0.5, \"xanchor\": \"center\", \"yanchor\": \"top\"},\n",
    "        titlefont={\"size\": 20},\n",
    "        legend_title=None,\n",
    "        legend=dict(\n",
    "            font=dict(size=font_size),\n",
    "            orientation=\"h\",\n",
    "            yanchor=\"bottom\",\n",
    "            y=0.98,\n",
    "            xanchor=\"right\",\n",
    "            x=1,\n",
    "        ),\n",
    "        yaxis=dict(\n",
    "            title_text=ylabel,\n",
    "            titlefont=dict(size=font_size),\n",
    "            tickfont=dict(size=font_size),\n",
    "        ),\n",
    "        xaxis=dict(\n",
    "            title_text=xlabel,\n",
    "            titlefont=dict(size=font_size),\n",
    "            tickfont=dict(size=font_size),\n",
    "        ),\n",
    "    )\n",
    "    return fig\n",
    "\n",
    "\n",
    "def mase(actual, predicted, insample_actual):\n",
    "    mae_insample = np.mean(np.abs(np.diff(insample_actual)))\n",
    "    mae_outsample = np.mean(np.abs(actual - predicted))\n",
    "    return mae_outsample / mae_insample\n",
    "\n",
    "\n",
    "def forecast_bias(actual, predicted):\n",
    "    return np.mean(predicted - actual)\n",
    "\n",
    "\n",
    "def rmse(y_true, y_pred):\n",
    "    return np.sqrt(mse(y_true, y_pred))\n",
    "\n",
    "def nrmse(y_true, y_pred):\n",
    "    \"\"\"Calculate the Normalized Root Mean Square Error (NRMSE).\"\"\"\n",
    "    return np.sqrt(mse(y_true, y_pred)) / (\n",
    "        np.max(y_true) - np.min(y_true)\n",
    "    )\n",
    "\n",
    "\n",
    "def plot_forecast(\n",
    "    pred_df,\n",
    "    forecast_columns,\n",
    "    selected_area,\n",
    "    forecast_display_names=None,\n",
    "    save_path=None,\n",
    "):\n",
    "    if forecast_display_names is None:\n",
    "        forecast_display_names = forecast_columns\n",
    "    else:\n",
    "        assert len(forecast_columns) == len(forecast_display_names)\n",
    "\n",
    "    mask = ~pred_df[forecast_columns[0]].isnull()\n",
    "    colors = px.colors.qualitative.D3  # Use a colorblind-friendly palette\n",
    "    act_color = colors[0]\n",
    "    colors = cycle(colors[1:])\n",
    "\n",
    "    fig = go.Figure()\n",
    "\n",
    "    # Actual data plot\n",
    "    fig.add_trace(\n",
    "        go.Scatter(\n",
    "            x=pred_df[mask].index,\n",
    "            y=pred_df[mask].covidOccupiedMVBeds,\n",
    "            mode=\"lines+markers\",\n",
    "            marker=dict(size=8, opacity=0.7, symbol=\"circle\"),\n",
    "            line=dict(color=act_color, width=3),\n",
    "            name=\"Actual COVID-19 MVBeds trends\",\n",
    "        )\n",
    "    )\n",
    "\n",
    "    # Predicted data plot\n",
    "    line_styles = [\"solid\", \"dash\", \"dot\", \"dashdot\"]\n",
    "    markers = [\"circle\", \"square\", \"diamond\", \"cross\", \"x\", \"triangle-up\"]\n",
    "    for col, display_col, line_style, marker in zip(\n",
    "        forecast_columns, forecast_display_names, cycle(line_styles), cycle(markers)\n",
    "    ):\n",
    "        fig.add_trace(\n",
    "            go.Scatter(\n",
    "                x=pred_df[mask].index,\n",
    "                y=pred_df.loc[mask, col],\n",
    "                mode=\"lines+markers\",\n",
    "                marker=dict(size=6, symbol=marker),\n",
    "                line=dict(color=next(colors), width=2, dash=line_style),\n",
    "                name=display_col,\n",
    "            )\n",
    "        )\n",
    "\n",
    "    fig.update_layout(\n",
    "        title=f\"COVID-19 MVBeds Forecast Comparison for {selected_area}\",\n",
    "        title_font=dict(size=20),\n",
    "        xaxis_title=\"Date\",\n",
    "        yaxis_title=\"COVID-19 MVBeds\",\n",
    "        xaxis=dict(title_font=dict(size=15), tickfont=dict(size=12)),\n",
    "        yaxis=dict(title_font=dict(size=15), tickfont=dict(size=12)),\n",
    "        legend=dict(\n",
    "            font=dict(size=10),\n",
    "            orientation=\"h\",\n",
    "            yanchor=\"top\",\n",
    "            y=1.02,  # Move the legend down to separate it from the title\n",
    "            xanchor=\"center\",\n",
    "            x=0.5,\n",
    "        ),\n",
    "        template=\"plotly_white\",\n",
    "        plot_bgcolor=\"rgba(0,0,0,0)\",\n",
    "        margin=dict(l=10, r=40, t=80, b=40),  # Adjust left margin for better alignment\n",
    "        width=1200,\n",
    "        height=600,\n",
    "    )\n",
    "\n",
    "    if save_path:\n",
    "        pio.write_image(fig, save_path)\n",
    "    return fig\n",
    "\n",
    "\n",
    "def highlight_abs_min(s, props=\"\"):\n",
    "    return np.where(s == np.nanmin(np.abs(s.values)), props, \"\")\n",
    "\n",
    "\n",
    "# Function to convert data to float32\n",
    "def to_float32(df):\n",
    "    for col in df.columns:\n",
    "        df[col] = df[col].astype(\"float32\")\n",
    "    return df"
   ]
  },
  {
   "cell_type": "code",
   "execution_count": 3,
   "metadata": {},
   "outputs": [
    {
     "data": {
      "text/html": [
       "<div>\n",
       "<style scoped>\n",
       "    .dataframe tbody tr th:only-of-type {\n",
       "        vertical-align: middle;\n",
       "    }\n",
       "\n",
       "    .dataframe tbody tr th {\n",
       "        vertical-align: top;\n",
       "    }\n",
       "\n",
       "    .dataframe thead th {\n",
       "        text-align: right;\n",
       "    }\n",
       "</style>\n",
       "<table border=\"1\" class=\"dataframe\">\n",
       "  <thead>\n",
       "    <tr style=\"text-align: right;\">\n",
       "      <th></th>\n",
       "      <th>date</th>\n",
       "      <th>covidOccupiedMVBeds</th>\n",
       "      <th>cumAdmissions</th>\n",
       "      <th>hospitalCases</th>\n",
       "      <th>newAdmissions</th>\n",
       "      <th>new_confirmed</th>\n",
       "      <th>new_deceased</th>\n",
       "      <th>cumulative_confirmed</th>\n",
       "      <th>cumulative_deceased</th>\n",
       "      <th>population</th>\n",
       "      <th>openstreetmap_id</th>\n",
       "      <th>latitude</th>\n",
       "      <th>longitude</th>\n",
       "      <th>areaName</th>\n",
       "    </tr>\n",
       "  </thead>\n",
       "  <tbody>\n",
       "    <tr>\n",
       "      <th>0</th>\n",
       "      <td>2020-04-01</td>\n",
       "      <td>0.0</td>\n",
       "      <td>23332</td>\n",
       "      <td>12059.0</td>\n",
       "      <td>3099</td>\n",
       "      <td>3989.0</td>\n",
       "      <td>694.0</td>\n",
       "      <td>35571.0</td>\n",
       "      <td>4730.0</td>\n",
       "      <td>56171302</td>\n",
       "      <td>1275584</td>\n",
       "      <td>474.050001</td>\n",
       "      <td>-12.133333</td>\n",
       "      <td>England</td>\n",
       "    </tr>\n",
       "    <tr>\n",
       "      <th>1</th>\n",
       "      <td>2020-04-02</td>\n",
       "      <td>1494.0</td>\n",
       "      <td>26264</td>\n",
       "      <td>12135.0</td>\n",
       "      <td>2932</td>\n",
       "      <td>3895.0</td>\n",
       "      <td>725.0</td>\n",
       "      <td>39466.0</td>\n",
       "      <td>5455.0</td>\n",
       "      <td>56171302</td>\n",
       "      <td>1275584</td>\n",
       "      <td>474.050001</td>\n",
       "      <td>-12.133333</td>\n",
       "      <td>England</td>\n",
       "    </tr>\n",
       "    <tr>\n",
       "      <th>2</th>\n",
       "      <td>2020-04-03</td>\n",
       "      <td>1788.0</td>\n",
       "      <td>28828</td>\n",
       "      <td>13635.0</td>\n",
       "      <td>2564</td>\n",
       "      <td>3878.0</td>\n",
       "      <td>737.0</td>\n",
       "      <td>43344.0</td>\n",
       "      <td>6192.0</td>\n",
       "      <td>56171302</td>\n",
       "      <td>1275584</td>\n",
       "      <td>474.050001</td>\n",
       "      <td>-12.133333</td>\n",
       "      <td>England</td>\n",
       "    </tr>\n",
       "    <tr>\n",
       "      <th>3</th>\n",
       "      <td>2020-04-04</td>\n",
       "      <td>1950.0</td>\n",
       "      <td>31421</td>\n",
       "      <td>15469.0</td>\n",
       "      <td>2593</td>\n",
       "      <td>3260.0</td>\n",
       "      <td>828.0</td>\n",
       "      <td>46604.0</td>\n",
       "      <td>7020.0</td>\n",
       "      <td>56171302</td>\n",
       "      <td>1275584</td>\n",
       "      <td>474.050001</td>\n",
       "      <td>-12.133333</td>\n",
       "      <td>England</td>\n",
       "    </tr>\n",
       "    <tr>\n",
       "      <th>4</th>\n",
       "      <td>2020-04-05</td>\n",
       "      <td>2097.0</td>\n",
       "      <td>34013</td>\n",
       "      <td>16657.0</td>\n",
       "      <td>2592</td>\n",
       "      <td>2994.0</td>\n",
       "      <td>823.0</td>\n",
       "      <td>49598.0</td>\n",
       "      <td>7843.0</td>\n",
       "      <td>56171302</td>\n",
       "      <td>1275584</td>\n",
       "      <td>474.050001</td>\n",
       "      <td>-12.133333</td>\n",
       "      <td>England</td>\n",
       "    </tr>\n",
       "  </tbody>\n",
       "</table>\n",
       "</div>"
      ],
      "text/plain": [
       "        date  covidOccupiedMVBeds  cumAdmissions  hospitalCases  \\\n",
       "0 2020-04-01                  0.0          23332        12059.0   \n",
       "1 2020-04-02               1494.0          26264        12135.0   \n",
       "2 2020-04-03               1788.0          28828        13635.0   \n",
       "3 2020-04-04               1950.0          31421        15469.0   \n",
       "4 2020-04-05               2097.0          34013        16657.0   \n",
       "\n",
       "   newAdmissions  new_confirmed  new_deceased  cumulative_confirmed  \\\n",
       "0           3099         3989.0         694.0               35571.0   \n",
       "1           2932         3895.0         725.0               39466.0   \n",
       "2           2564         3878.0         737.0               43344.0   \n",
       "3           2593         3260.0         828.0               46604.0   \n",
       "4           2592         2994.0         823.0               49598.0   \n",
       "\n",
       "   cumulative_deceased  population  openstreetmap_id    latitude  longitude  \\\n",
       "0               4730.0    56171302           1275584  474.050001 -12.133333   \n",
       "1               5455.0    56171302           1275584  474.050001 -12.133333   \n",
       "2               6192.0    56171302           1275584  474.050001 -12.133333   \n",
       "3               7020.0    56171302           1275584  474.050001 -12.133333   \n",
       "4               7843.0    56171302           1275584  474.050001 -12.133333   \n",
       "\n",
       "  areaName  \n",
       "0  England  \n",
       "1  England  \n",
       "2  England  \n",
       "3  England  \n",
       "4  England  "
      ]
     },
     "execution_count": 3,
     "metadata": {},
     "output_type": "execute_result"
    }
   ],
   "source": [
    "# Load and Prepare Data\n",
    "data_path = Path(\"data/processed/england_data.csv\")\n",
    "# data = pd.read_csv(data_path).drop(\"Unnamed: 0\", axis=1)\n",
    "data = pd.read_csv(data_path)\n",
    "data[\"date\"] = pd.to_datetime(data[\"date\"])\n",
    "\n",
    "# Select and Process Data\n",
    "selected_area = \"England\"\n",
    "# data_filtered = data[data[\"areaName\"] == selected_area]\n",
    "data.head()"
   ]
  },
  {
   "cell_type": "code",
   "execution_count": 4,
   "metadata": {},
   "outputs": [
    {
     "name": "stdout",
     "output_type": "stream",
     "text": [
      "<class 'pandas.core.frame.DataFrame'>\n",
      "DatetimeIndex: 874 entries, 2020-04-22 to 2022-09-12\n",
      "Data columns (total 23 columns):\n",
      " #   Column                      Non-Null Count  Dtype  \n",
      "---  ------                      --------------  -----  \n",
      " 0   covidOccupiedMVBeds         874 non-null    float64\n",
      " 1   cumAdmissions               874 non-null    int64  \n",
      " 2   hospitalCases               874 non-null    float64\n",
      " 3   newAdmissions               874 non-null    int64  \n",
      " 4   new_confirmed               874 non-null    float64\n",
      " 5   new_deceased                874 non-null    float64\n",
      " 6   cumulative_confirmed        874 non-null    float64\n",
      " 7   cumulative_deceased         874 non-null    float64\n",
      " 8   population                  874 non-null    int64  \n",
      " 9   openstreetmap_id            874 non-null    int64  \n",
      " 10  latitude                    874 non-null    float64\n",
      " 11  longitude                   874 non-null    float64\n",
      " 12  areaName                    874 non-null    object \n",
      " 13  covidOccupiedMVBeds_lag_1   874 non-null    float64\n",
      " 14  covidOccupiedMVBeds_lag_2   874 non-null    float64\n",
      " 15  covidOccupiedMVBeds_lag_3   874 non-null    float64\n",
      " 16  covidOccupiedMVBeds_lag_5   874 non-null    float64\n",
      " 17  covidOccupiedMVBeds_lag_7   874 non-null    float64\n",
      " 18  covidOccupiedMVBeds_lag_14  874 non-null    float64\n",
      " 19  covidOccupiedMVBeds_lag_21  874 non-null    float64\n",
      " 20  month                       874 non-null    int32  \n",
      " 21  day                         874 non-null    int32  \n",
      " 22  day_of_week                 874 non-null    int32  \n",
      "dtypes: float64(15), int32(3), int64(4), object(1)\n",
      "memory usage: 153.6+ KB\n"
     ]
    }
   ],
   "source": [
    "# Add time-lagged features\n",
    "def add_lags(data, lags, features):\n",
    "    added_features = []\n",
    "    for feature in features:\n",
    "        for lag in lags:\n",
    "            new_feature = feature + f\"_lag_{lag}\"\n",
    "            data[new_feature] = data[feature].shift(lag)\n",
    "            added_features.append(new_feature)\n",
    "    return data, added_features\n",
    "\n",
    "\n",
    "lags = [1, 2, 3, 5, 7, 14, 21]\n",
    "data, added_features = add_lags(data, lags, [\"covidOccupiedMVBeds\"])\n",
    "data.dropna(inplace=True)\n",
    "\n",
    "\n",
    "# Create temporal features\n",
    "def create_temporal_features(df, date_column):\n",
    "    df[\"month\"] = df[date_column].dt.month\n",
    "    df[\"day\"] = df[date_column].dt.day\n",
    "    df[\"day_of_week\"] = df[date_column].dt.dayofweek\n",
    "    return df\n",
    "\n",
    "\n",
    "data = create_temporal_features(data, \"date\")\n",
    "data = data.set_index(\"date\")\n",
    "data.info()"
   ]
  },
  {
   "cell_type": "code",
   "execution_count": 5,
   "metadata": {},
   "outputs": [
    {
     "name": "stderr",
     "output_type": "stream",
     "text": [
      "2024-06-11 14:33:40,352 - INFO - hospitalCases: hospitalCases_rolling_7_mean\n",
      "2024-06-11 14:33:40,353 - INFO - newAdmissions: newAdmissions_rolling_7_mean\n",
      "2024-06-11 14:33:40,355 - INFO - new_confirmed: new_confirmed_rolling_7_mean\n",
      "2024-06-11 14:33:40,356 - INFO - new_deceased: new_deceased_rolling_7_mean\n"
     ]
    }
   ],
   "source": [
    "# Add rolling features\n",
    "def add_rolling_features(df, window_size, columns, agg_funcs=None):\n",
    "    if agg_funcs is None:\n",
    "        agg_funcs = [\"mean\", \"std\", \"min\", \"max\"]\n",
    "    added_features = {}\n",
    "    for column in columns:\n",
    "        for func in agg_funcs:\n",
    "            roll_col_name = f\"{column}_rolling_{window_size}_{func}\"\n",
    "            df[roll_col_name] = df[column].rolling(window_size).agg(func)\n",
    "            if column not in added_features:\n",
    "                added_features[column] = []\n",
    "            added_features[column].append(roll_col_name)\n",
    "    df.dropna(inplace=True)\n",
    "    return df, added_features\n",
    "\n",
    "\n",
    "window_size = 7\n",
    "columns_to_roll = [\n",
    "    \"hospitalCases\",\n",
    "    \"newAdmissions\",\n",
    "    \"new_confirmed\",\n",
    "    \"new_deceased\",\n",
    "    # \"covidOccupiedMVBeds\",\n",
    "    # \"susceptible\",\n",
    "    # \"active_cases\",\n",
    "    # \"recovered\",\n",
    "    # \"cumulative_deceased\",\n",
    "]\n",
    "agg_funcs = [\"mean\"]\n",
    "\n",
    "merged_data, added_features = add_rolling_features(\n",
    "    data, window_size, columns_to_roll, agg_funcs\n",
    ")\n",
    "\n",
    "for column, features in added_features.items():\n",
    "    logging.info(f\"{column}: {', '.join(features)}\")"
   ]
  },
  {
   "cell_type": "code",
   "execution_count": 6,
   "metadata": {},
   "outputs": [
    {
     "data": {
      "application/vnd.plotly.v1+json": {
       "config": {
        "plotlyServerURL": "https://plot.ly"
       },
       "data": [
        {
         "hovertemplate": "date=%{x}<br>hospitalCases_rolling_7_mean=%{y}<extra></extra>",
         "legendgroup": "",
         "line": {
          "color": "#636efa",
          "dash": "solid"
         },
         "marker": {
          "symbol": "circle"
         },
         "mode": "lines",
         "name": "",
         "orientation": "v",
         "showlegend": false,
         "type": "scatter",
         "x": [
          "2020-04-28T00:00:00",
          "2020-04-29T00:00:00",
          "2020-04-30T00:00:00",
          "2020-05-01T00:00:00",
          "2020-05-02T00:00:00",
          "2020-05-03T00:00:00",
          "2020-05-04T00:00:00",
          "2020-05-05T00:00:00",
          "2020-05-06T00:00:00",
          "2020-05-07T00:00:00",
          "2020-05-08T00:00:00",
          "2020-05-09T00:00:00",
          "2020-05-10T00:00:00",
          "2020-05-11T00:00:00",
          "2020-05-12T00:00:00",
          "2020-05-13T00:00:00",
          "2020-05-14T00:00:00",
          "2020-05-15T00:00:00",
          "2020-05-16T00:00:00",
          "2020-05-17T00:00:00",
          "2020-05-18T00:00:00",
          "2020-05-19T00:00:00",
          "2020-05-20T00:00:00",
          "2020-05-21T00:00:00",
          "2020-05-22T00:00:00",
          "2020-05-23T00:00:00",
          "2020-05-24T00:00:00",
          "2020-05-25T00:00:00",
          "2020-05-26T00:00:00",
          "2020-05-27T00:00:00",
          "2020-05-28T00:00:00",
          "2020-05-29T00:00:00",
          "2020-05-30T00:00:00",
          "2020-05-31T00:00:00",
          "2020-06-01T00:00:00",
          "2020-06-02T00:00:00",
          "2020-06-03T00:00:00",
          "2020-06-04T00:00:00",
          "2020-06-05T00:00:00",
          "2020-06-06T00:00:00",
          "2020-06-07T00:00:00",
          "2020-06-08T00:00:00",
          "2020-06-09T00:00:00",
          "2020-06-10T00:00:00",
          "2020-06-11T00:00:00",
          "2020-06-12T00:00:00",
          "2020-06-13T00:00:00",
          "2020-06-14T00:00:00",
          "2020-06-15T00:00:00",
          "2020-06-16T00:00:00",
          "2020-06-17T00:00:00",
          "2020-06-18T00:00:00",
          "2020-06-19T00:00:00",
          "2020-06-20T00:00:00",
          "2020-06-21T00:00:00",
          "2020-06-22T00:00:00",
          "2020-06-23T00:00:00",
          "2020-06-24T00:00:00",
          "2020-06-25T00:00:00",
          "2020-06-26T00:00:00",
          "2020-06-27T00:00:00",
          "2020-06-28T00:00:00",
          "2020-06-29T00:00:00",
          "2020-06-30T00:00:00",
          "2020-07-01T00:00:00",
          "2020-07-02T00:00:00",
          "2020-07-03T00:00:00",
          "2020-07-04T00:00:00",
          "2020-07-05T00:00:00",
          "2020-07-06T00:00:00",
          "2020-07-07T00:00:00",
          "2020-07-08T00:00:00",
          "2020-07-09T00:00:00",
          "2020-07-10T00:00:00",
          "2020-07-11T00:00:00",
          "2020-07-12T00:00:00",
          "2020-07-13T00:00:00",
          "2020-07-14T00:00:00",
          "2020-07-15T00:00:00",
          "2020-07-16T00:00:00",
          "2020-07-17T00:00:00",
          "2020-07-18T00:00:00",
          "2020-07-19T00:00:00",
          "2020-07-20T00:00:00",
          "2020-07-21T00:00:00",
          "2020-07-22T00:00:00",
          "2020-07-23T00:00:00",
          "2020-07-24T00:00:00",
          "2020-07-25T00:00:00",
          "2020-07-26T00:00:00",
          "2020-07-27T00:00:00",
          "2020-07-28T00:00:00",
          "2020-07-29T00:00:00",
          "2020-07-30T00:00:00",
          "2020-07-31T00:00:00",
          "2020-08-01T00:00:00",
          "2020-08-02T00:00:00",
          "2020-08-03T00:00:00",
          "2020-08-04T00:00:00",
          "2020-08-05T00:00:00",
          "2020-08-06T00:00:00",
          "2020-08-07T00:00:00",
          "2020-08-08T00:00:00",
          "2020-08-09T00:00:00",
          "2020-08-10T00:00:00",
          "2020-08-11T00:00:00",
          "2020-08-12T00:00:00",
          "2020-08-13T00:00:00",
          "2020-08-14T00:00:00",
          "2020-08-15T00:00:00",
          "2020-08-16T00:00:00",
          "2020-08-17T00:00:00",
          "2020-08-18T00:00:00",
          "2020-08-19T00:00:00",
          "2020-08-20T00:00:00",
          "2020-08-21T00:00:00",
          "2020-08-22T00:00:00",
          "2020-08-23T00:00:00",
          "2020-08-24T00:00:00",
          "2020-08-25T00:00:00",
          "2020-08-26T00:00:00",
          "2020-08-27T00:00:00",
          "2020-08-28T00:00:00",
          "2020-08-29T00:00:00",
          "2020-08-30T00:00:00",
          "2020-08-31T00:00:00",
          "2020-09-01T00:00:00",
          "2020-09-02T00:00:00",
          "2020-09-03T00:00:00",
          "2020-09-04T00:00:00",
          "2020-09-05T00:00:00",
          "2020-09-06T00:00:00",
          "2020-09-07T00:00:00",
          "2020-09-08T00:00:00",
          "2020-09-09T00:00:00",
          "2020-09-10T00:00:00",
          "2020-09-11T00:00:00",
          "2020-09-12T00:00:00",
          "2020-09-13T00:00:00",
          "2020-09-14T00:00:00",
          "2020-09-15T00:00:00",
          "2020-09-16T00:00:00",
          "2020-09-17T00:00:00",
          "2020-09-18T00:00:00",
          "2020-09-19T00:00:00",
          "2020-09-20T00:00:00",
          "2020-09-21T00:00:00",
          "2020-09-22T00:00:00",
          "2020-09-23T00:00:00",
          "2020-09-24T00:00:00",
          "2020-09-25T00:00:00",
          "2020-09-26T00:00:00",
          "2020-09-27T00:00:00",
          "2020-09-28T00:00:00",
          "2020-09-29T00:00:00",
          "2020-09-30T00:00:00",
          "2020-10-01T00:00:00",
          "2020-10-02T00:00:00",
          "2020-10-03T00:00:00",
          "2020-10-04T00:00:00",
          "2020-10-05T00:00:00",
          "2020-10-06T00:00:00",
          "2020-10-07T00:00:00",
          "2020-10-08T00:00:00",
          "2020-10-09T00:00:00",
          "2020-10-10T00:00:00",
          "2020-10-11T00:00:00",
          "2020-10-12T00:00:00",
          "2020-10-13T00:00:00",
          "2020-10-14T00:00:00",
          "2020-10-15T00:00:00",
          "2020-10-16T00:00:00",
          "2020-10-17T00:00:00",
          "2020-10-18T00:00:00",
          "2020-10-19T00:00:00",
          "2020-10-20T00:00:00",
          "2020-10-21T00:00:00",
          "2020-10-22T00:00:00",
          "2020-10-23T00:00:00",
          "2020-10-24T00:00:00",
          "2020-10-25T00:00:00",
          "2020-10-26T00:00:00",
          "2020-10-27T00:00:00",
          "2020-10-28T00:00:00",
          "2020-10-29T00:00:00",
          "2020-10-30T00:00:00",
          "2020-10-31T00:00:00",
          "2020-11-01T00:00:00",
          "2020-11-02T00:00:00",
          "2020-11-03T00:00:00",
          "2020-11-04T00:00:00",
          "2020-11-05T00:00:00",
          "2020-11-06T00:00:00",
          "2020-11-07T00:00:00",
          "2020-11-08T00:00:00",
          "2020-11-09T00:00:00",
          "2020-11-10T00:00:00",
          "2020-11-11T00:00:00",
          "2020-11-12T00:00:00",
          "2020-11-13T00:00:00",
          "2020-11-14T00:00:00",
          "2020-11-15T00:00:00",
          "2020-11-16T00:00:00",
          "2020-11-17T00:00:00",
          "2020-11-18T00:00:00",
          "2020-11-19T00:00:00",
          "2020-11-20T00:00:00",
          "2020-11-21T00:00:00",
          "2020-11-22T00:00:00",
          "2020-11-23T00:00:00",
          "2020-11-24T00:00:00",
          "2020-11-25T00:00:00",
          "2020-11-26T00:00:00",
          "2020-11-27T00:00:00",
          "2020-11-28T00:00:00",
          "2020-11-29T00:00:00",
          "2020-11-30T00:00:00",
          "2020-12-01T00:00:00",
          "2020-12-02T00:00:00",
          "2020-12-03T00:00:00",
          "2020-12-04T00:00:00",
          "2020-12-05T00:00:00",
          "2020-12-06T00:00:00",
          "2020-12-07T00:00:00",
          "2020-12-08T00:00:00",
          "2020-12-09T00:00:00",
          "2020-12-10T00:00:00",
          "2020-12-11T00:00:00",
          "2020-12-12T00:00:00",
          "2020-12-13T00:00:00",
          "2020-12-14T00:00:00",
          "2020-12-15T00:00:00",
          "2020-12-16T00:00:00",
          "2020-12-17T00:00:00",
          "2020-12-18T00:00:00",
          "2020-12-19T00:00:00",
          "2020-12-20T00:00:00",
          "2020-12-21T00:00:00",
          "2020-12-22T00:00:00",
          "2020-12-23T00:00:00",
          "2020-12-24T00:00:00",
          "2020-12-25T00:00:00",
          "2020-12-26T00:00:00",
          "2020-12-27T00:00:00",
          "2020-12-28T00:00:00",
          "2020-12-29T00:00:00",
          "2020-12-30T00:00:00",
          "2020-12-31T00:00:00",
          "2021-01-01T00:00:00",
          "2021-01-02T00:00:00",
          "2021-01-03T00:00:00",
          "2021-01-04T00:00:00",
          "2021-01-05T00:00:00",
          "2021-01-06T00:00:00",
          "2021-01-07T00:00:00",
          "2021-01-08T00:00:00",
          "2021-01-09T00:00:00",
          "2021-01-10T00:00:00",
          "2021-01-11T00:00:00",
          "2021-01-12T00:00:00",
          "2021-01-13T00:00:00",
          "2021-01-14T00:00:00",
          "2021-01-15T00:00:00",
          "2021-01-16T00:00:00",
          "2021-01-17T00:00:00",
          "2021-01-18T00:00:00",
          "2021-01-19T00:00:00",
          "2021-01-20T00:00:00",
          "2021-01-21T00:00:00",
          "2021-01-22T00:00:00",
          "2021-01-23T00:00:00",
          "2021-01-24T00:00:00",
          "2021-01-25T00:00:00",
          "2021-01-26T00:00:00",
          "2021-01-27T00:00:00",
          "2021-01-28T00:00:00",
          "2021-01-29T00:00:00",
          "2021-01-30T00:00:00",
          "2021-01-31T00:00:00",
          "2021-02-01T00:00:00",
          "2021-02-02T00:00:00",
          "2021-02-03T00:00:00",
          "2021-02-04T00:00:00",
          "2021-02-05T00:00:00",
          "2021-02-06T00:00:00",
          "2021-02-07T00:00:00",
          "2021-02-08T00:00:00",
          "2021-02-09T00:00:00",
          "2021-02-10T00:00:00",
          "2021-02-11T00:00:00",
          "2021-02-12T00:00:00",
          "2021-02-13T00:00:00",
          "2021-02-14T00:00:00",
          "2021-02-15T00:00:00",
          "2021-02-16T00:00:00",
          "2021-02-17T00:00:00",
          "2021-02-18T00:00:00",
          "2021-02-19T00:00:00",
          "2021-02-20T00:00:00",
          "2021-02-21T00:00:00",
          "2021-02-22T00:00:00",
          "2021-02-23T00:00:00",
          "2021-02-24T00:00:00",
          "2021-02-25T00:00:00",
          "2021-02-26T00:00:00",
          "2021-02-27T00:00:00",
          "2021-02-28T00:00:00",
          "2021-03-01T00:00:00",
          "2021-03-02T00:00:00",
          "2021-03-03T00:00:00",
          "2021-03-04T00:00:00",
          "2021-03-05T00:00:00",
          "2021-03-06T00:00:00",
          "2021-03-07T00:00:00",
          "2021-03-08T00:00:00",
          "2021-03-09T00:00:00",
          "2021-03-10T00:00:00",
          "2021-03-11T00:00:00",
          "2021-03-12T00:00:00",
          "2021-03-13T00:00:00",
          "2021-03-14T00:00:00",
          "2021-03-15T00:00:00",
          "2021-03-16T00:00:00",
          "2021-03-17T00:00:00",
          "2021-03-18T00:00:00",
          "2021-03-19T00:00:00",
          "2021-03-20T00:00:00",
          "2021-03-21T00:00:00",
          "2021-03-22T00:00:00",
          "2021-03-23T00:00:00",
          "2021-03-24T00:00:00",
          "2021-03-25T00:00:00",
          "2021-03-26T00:00:00",
          "2021-03-27T00:00:00",
          "2021-03-28T00:00:00",
          "2021-03-29T00:00:00",
          "2021-03-30T00:00:00",
          "2021-03-31T00:00:00",
          "2021-04-01T00:00:00",
          "2021-04-02T00:00:00",
          "2021-04-03T00:00:00",
          "2021-04-04T00:00:00",
          "2021-04-05T00:00:00",
          "2021-04-06T00:00:00",
          "2021-04-07T00:00:00",
          "2021-04-08T00:00:00",
          "2021-04-09T00:00:00",
          "2021-04-10T00:00:00",
          "2021-04-11T00:00:00",
          "2021-04-12T00:00:00",
          "2021-04-13T00:00:00",
          "2021-04-14T00:00:00",
          "2021-04-15T00:00:00",
          "2021-04-16T00:00:00",
          "2021-04-17T00:00:00",
          "2021-04-18T00:00:00",
          "2021-04-19T00:00:00",
          "2021-04-20T00:00:00",
          "2021-04-21T00:00:00",
          "2021-04-22T00:00:00",
          "2021-04-23T00:00:00",
          "2021-04-24T00:00:00",
          "2021-04-25T00:00:00",
          "2021-04-26T00:00:00",
          "2021-04-27T00:00:00",
          "2021-04-28T00:00:00",
          "2021-04-29T00:00:00",
          "2021-04-30T00:00:00",
          "2021-05-01T00:00:00",
          "2021-05-02T00:00:00",
          "2021-05-03T00:00:00",
          "2021-05-04T00:00:00",
          "2021-05-05T00:00:00",
          "2021-05-06T00:00:00",
          "2021-05-07T00:00:00",
          "2021-05-08T00:00:00",
          "2021-05-09T00:00:00",
          "2021-05-10T00:00:00",
          "2021-05-11T00:00:00",
          "2021-05-12T00:00:00",
          "2021-05-13T00:00:00",
          "2021-05-14T00:00:00",
          "2021-05-15T00:00:00",
          "2021-05-16T00:00:00",
          "2021-05-17T00:00:00",
          "2021-05-18T00:00:00",
          "2021-05-19T00:00:00",
          "2021-05-20T00:00:00",
          "2021-05-21T00:00:00",
          "2021-05-22T00:00:00",
          "2021-05-23T00:00:00",
          "2021-05-24T00:00:00",
          "2021-05-25T00:00:00",
          "2021-05-26T00:00:00",
          "2021-05-27T00:00:00",
          "2021-05-28T00:00:00",
          "2021-05-29T00:00:00",
          "2021-05-30T00:00:00",
          "2021-05-31T00:00:00",
          "2021-06-01T00:00:00",
          "2021-06-02T00:00:00",
          "2021-06-03T00:00:00",
          "2021-06-04T00:00:00",
          "2021-06-05T00:00:00",
          "2021-06-06T00:00:00",
          "2021-06-07T00:00:00",
          "2021-06-08T00:00:00",
          "2021-06-09T00:00:00",
          "2021-06-10T00:00:00",
          "2021-06-11T00:00:00",
          "2021-06-12T00:00:00",
          "2021-06-13T00:00:00",
          "2021-06-14T00:00:00",
          "2021-06-15T00:00:00",
          "2021-06-16T00:00:00",
          "2021-06-17T00:00:00",
          "2021-06-18T00:00:00",
          "2021-06-19T00:00:00",
          "2021-06-20T00:00:00",
          "2021-06-21T00:00:00",
          "2021-06-22T00:00:00",
          "2021-06-23T00:00:00",
          "2021-06-24T00:00:00",
          "2021-06-25T00:00:00",
          "2021-06-26T00:00:00",
          "2021-06-27T00:00:00",
          "2021-06-28T00:00:00",
          "2021-06-29T00:00:00",
          "2021-06-30T00:00:00",
          "2021-07-01T00:00:00",
          "2021-07-02T00:00:00",
          "2021-07-03T00:00:00",
          "2021-07-04T00:00:00",
          "2021-07-05T00:00:00",
          "2021-07-06T00:00:00",
          "2021-07-07T00:00:00",
          "2021-07-08T00:00:00",
          "2021-07-09T00:00:00",
          "2021-07-10T00:00:00",
          "2021-07-11T00:00:00",
          "2021-07-12T00:00:00",
          "2021-07-13T00:00:00",
          "2021-07-14T00:00:00",
          "2021-07-15T00:00:00",
          "2021-07-16T00:00:00",
          "2021-07-17T00:00:00",
          "2021-07-18T00:00:00",
          "2021-07-19T00:00:00",
          "2021-07-20T00:00:00",
          "2021-07-21T00:00:00",
          "2021-07-22T00:00:00",
          "2021-07-23T00:00:00",
          "2021-07-24T00:00:00",
          "2021-07-25T00:00:00",
          "2021-07-26T00:00:00",
          "2021-07-27T00:00:00",
          "2021-07-28T00:00:00",
          "2021-07-29T00:00:00",
          "2021-07-30T00:00:00",
          "2021-07-31T00:00:00",
          "2021-08-01T00:00:00",
          "2021-08-02T00:00:00",
          "2021-08-03T00:00:00",
          "2021-08-04T00:00:00",
          "2021-08-05T00:00:00",
          "2021-08-06T00:00:00",
          "2021-08-07T00:00:00",
          "2021-08-08T00:00:00",
          "2021-08-09T00:00:00",
          "2021-08-10T00:00:00",
          "2021-08-11T00:00:00",
          "2021-08-12T00:00:00",
          "2021-08-13T00:00:00",
          "2021-08-14T00:00:00",
          "2021-08-15T00:00:00",
          "2021-08-16T00:00:00",
          "2021-08-17T00:00:00",
          "2021-08-18T00:00:00",
          "2021-08-19T00:00:00",
          "2021-08-20T00:00:00",
          "2021-08-21T00:00:00",
          "2021-08-22T00:00:00",
          "2021-08-23T00:00:00",
          "2021-08-24T00:00:00",
          "2021-08-25T00:00:00",
          "2021-08-26T00:00:00",
          "2021-08-27T00:00:00",
          "2021-08-28T00:00:00",
          "2021-08-29T00:00:00",
          "2021-08-30T00:00:00",
          "2021-08-31T00:00:00",
          "2021-09-01T00:00:00",
          "2021-09-02T00:00:00",
          "2021-09-03T00:00:00",
          "2021-09-04T00:00:00",
          "2021-09-05T00:00:00",
          "2021-09-06T00:00:00",
          "2021-09-07T00:00:00",
          "2021-09-08T00:00:00",
          "2021-09-09T00:00:00",
          "2021-09-10T00:00:00",
          "2021-09-11T00:00:00",
          "2021-09-12T00:00:00",
          "2021-09-13T00:00:00",
          "2021-09-14T00:00:00",
          "2021-09-15T00:00:00",
          "2021-09-16T00:00:00",
          "2021-09-17T00:00:00",
          "2021-09-18T00:00:00",
          "2021-09-19T00:00:00",
          "2021-09-20T00:00:00",
          "2021-09-21T00:00:00",
          "2021-09-22T00:00:00",
          "2021-09-23T00:00:00",
          "2021-09-24T00:00:00",
          "2021-09-25T00:00:00",
          "2021-09-26T00:00:00",
          "2021-09-27T00:00:00",
          "2021-09-28T00:00:00",
          "2021-09-29T00:00:00",
          "2021-09-30T00:00:00",
          "2021-10-01T00:00:00",
          "2021-10-02T00:00:00",
          "2021-10-03T00:00:00",
          "2021-10-04T00:00:00",
          "2021-10-05T00:00:00",
          "2021-10-06T00:00:00",
          "2021-10-07T00:00:00",
          "2021-10-08T00:00:00",
          "2021-10-09T00:00:00",
          "2021-10-10T00:00:00",
          "2021-10-11T00:00:00",
          "2021-10-12T00:00:00",
          "2021-10-13T00:00:00",
          "2021-10-14T00:00:00",
          "2021-10-15T00:00:00",
          "2021-10-16T00:00:00",
          "2021-10-17T00:00:00",
          "2021-10-18T00:00:00",
          "2021-10-19T00:00:00",
          "2021-10-20T00:00:00",
          "2021-10-21T00:00:00",
          "2021-10-22T00:00:00",
          "2021-10-23T00:00:00",
          "2021-10-24T00:00:00",
          "2021-10-25T00:00:00",
          "2021-10-26T00:00:00",
          "2021-10-27T00:00:00",
          "2021-10-28T00:00:00",
          "2021-10-29T00:00:00",
          "2021-10-30T00:00:00",
          "2021-10-31T00:00:00",
          "2021-11-01T00:00:00",
          "2021-11-02T00:00:00",
          "2021-11-03T00:00:00",
          "2021-11-04T00:00:00",
          "2021-11-05T00:00:00",
          "2021-11-06T00:00:00",
          "2021-11-07T00:00:00",
          "2021-11-08T00:00:00",
          "2021-11-09T00:00:00",
          "2021-11-10T00:00:00",
          "2021-11-11T00:00:00",
          "2021-11-12T00:00:00",
          "2021-11-13T00:00:00",
          "2021-11-14T00:00:00",
          "2021-11-15T00:00:00",
          "2021-11-16T00:00:00",
          "2021-11-17T00:00:00",
          "2021-11-18T00:00:00",
          "2021-11-19T00:00:00",
          "2021-11-20T00:00:00",
          "2021-11-21T00:00:00",
          "2021-11-22T00:00:00",
          "2021-11-23T00:00:00",
          "2021-11-24T00:00:00",
          "2021-11-25T00:00:00",
          "2021-11-26T00:00:00",
          "2021-11-27T00:00:00",
          "2021-11-28T00:00:00",
          "2021-11-29T00:00:00",
          "2021-11-30T00:00:00",
          "2021-12-01T00:00:00",
          "2021-12-02T00:00:00",
          "2021-12-03T00:00:00",
          "2021-12-04T00:00:00",
          "2021-12-05T00:00:00",
          "2021-12-06T00:00:00",
          "2021-12-07T00:00:00",
          "2021-12-08T00:00:00",
          "2021-12-09T00:00:00",
          "2021-12-10T00:00:00",
          "2021-12-11T00:00:00",
          "2021-12-12T00:00:00",
          "2021-12-13T00:00:00",
          "2021-12-14T00:00:00",
          "2021-12-15T00:00:00",
          "2021-12-16T00:00:00",
          "2021-12-17T00:00:00",
          "2021-12-18T00:00:00",
          "2021-12-19T00:00:00",
          "2021-12-20T00:00:00",
          "2021-12-21T00:00:00",
          "2021-12-22T00:00:00",
          "2021-12-23T00:00:00",
          "2021-12-24T00:00:00",
          "2021-12-25T00:00:00",
          "2021-12-26T00:00:00",
          "2021-12-27T00:00:00",
          "2021-12-28T00:00:00",
          "2021-12-29T00:00:00",
          "2021-12-30T00:00:00",
          "2021-12-31T00:00:00",
          "2022-01-01T00:00:00",
          "2022-01-02T00:00:00",
          "2022-01-03T00:00:00",
          "2022-01-04T00:00:00",
          "2022-01-05T00:00:00",
          "2022-01-06T00:00:00",
          "2022-01-07T00:00:00",
          "2022-01-08T00:00:00",
          "2022-01-09T00:00:00",
          "2022-01-10T00:00:00",
          "2022-01-11T00:00:00",
          "2022-01-12T00:00:00",
          "2022-01-13T00:00:00",
          "2022-01-14T00:00:00",
          "2022-01-15T00:00:00",
          "2022-01-16T00:00:00",
          "2022-01-17T00:00:00",
          "2022-01-18T00:00:00",
          "2022-01-19T00:00:00",
          "2022-01-20T00:00:00",
          "2022-01-21T00:00:00",
          "2022-01-22T00:00:00",
          "2022-01-23T00:00:00",
          "2022-01-24T00:00:00",
          "2022-01-25T00:00:00",
          "2022-01-26T00:00:00",
          "2022-01-27T00:00:00",
          "2022-01-28T00:00:00",
          "2022-01-29T00:00:00",
          "2022-01-30T00:00:00",
          "2022-01-31T00:00:00",
          "2022-02-01T00:00:00",
          "2022-02-02T00:00:00",
          "2022-02-03T00:00:00",
          "2022-02-04T00:00:00",
          "2022-02-05T00:00:00",
          "2022-02-06T00:00:00",
          "2022-02-07T00:00:00",
          "2022-02-08T00:00:00",
          "2022-02-09T00:00:00",
          "2022-02-10T00:00:00",
          "2022-02-11T00:00:00",
          "2022-02-12T00:00:00",
          "2022-02-13T00:00:00",
          "2022-02-14T00:00:00",
          "2022-02-15T00:00:00",
          "2022-02-16T00:00:00",
          "2022-02-17T00:00:00",
          "2022-02-18T00:00:00",
          "2022-02-19T00:00:00",
          "2022-02-20T00:00:00",
          "2022-02-21T00:00:00",
          "2022-02-22T00:00:00",
          "2022-02-23T00:00:00",
          "2022-02-24T00:00:00",
          "2022-02-25T00:00:00",
          "2022-02-26T00:00:00",
          "2022-02-27T00:00:00",
          "2022-02-28T00:00:00",
          "2022-03-01T00:00:00",
          "2022-03-02T00:00:00",
          "2022-03-03T00:00:00",
          "2022-03-04T00:00:00",
          "2022-03-05T00:00:00",
          "2022-03-06T00:00:00",
          "2022-03-07T00:00:00",
          "2022-03-08T00:00:00",
          "2022-03-09T00:00:00",
          "2022-03-10T00:00:00",
          "2022-03-11T00:00:00",
          "2022-03-12T00:00:00",
          "2022-03-13T00:00:00",
          "2022-03-14T00:00:00",
          "2022-03-15T00:00:00",
          "2022-03-16T00:00:00",
          "2022-03-17T00:00:00",
          "2022-03-18T00:00:00",
          "2022-03-19T00:00:00",
          "2022-03-20T00:00:00",
          "2022-03-21T00:00:00",
          "2022-03-22T00:00:00",
          "2022-03-23T00:00:00",
          "2022-03-24T00:00:00",
          "2022-03-25T00:00:00",
          "2022-03-26T00:00:00",
          "2022-03-27T00:00:00",
          "2022-03-28T00:00:00",
          "2022-03-29T00:00:00",
          "2022-03-30T00:00:00",
          "2022-03-31T00:00:00",
          "2022-04-01T00:00:00",
          "2022-04-02T00:00:00",
          "2022-04-03T00:00:00",
          "2022-04-04T00:00:00",
          "2022-04-05T00:00:00",
          "2022-04-06T00:00:00",
          "2022-04-07T00:00:00",
          "2022-04-08T00:00:00",
          "2022-04-09T00:00:00",
          "2022-04-10T00:00:00",
          "2022-04-11T00:00:00",
          "2022-04-12T00:00:00",
          "2022-04-13T00:00:00",
          "2022-04-14T00:00:00",
          "2022-04-15T00:00:00",
          "2022-04-16T00:00:00",
          "2022-04-17T00:00:00",
          "2022-04-18T00:00:00",
          "2022-04-19T00:00:00",
          "2022-04-20T00:00:00",
          "2022-04-21T00:00:00",
          "2022-04-22T00:00:00",
          "2022-04-23T00:00:00",
          "2022-04-24T00:00:00",
          "2022-04-25T00:00:00",
          "2022-04-26T00:00:00",
          "2022-04-27T00:00:00",
          "2022-04-28T00:00:00",
          "2022-04-29T00:00:00",
          "2022-04-30T00:00:00",
          "2022-05-01T00:00:00",
          "2022-05-02T00:00:00",
          "2022-05-03T00:00:00",
          "2022-05-04T00:00:00",
          "2022-05-05T00:00:00",
          "2022-05-06T00:00:00",
          "2022-05-07T00:00:00",
          "2022-05-08T00:00:00",
          "2022-05-09T00:00:00",
          "2022-05-10T00:00:00",
          "2022-05-11T00:00:00",
          "2022-05-12T00:00:00",
          "2022-05-13T00:00:00",
          "2022-05-14T00:00:00",
          "2022-05-15T00:00:00",
          "2022-05-16T00:00:00",
          "2022-05-17T00:00:00",
          "2022-05-18T00:00:00",
          "2022-05-19T00:00:00",
          "2022-05-20T00:00:00",
          "2022-05-21T00:00:00",
          "2022-05-22T00:00:00",
          "2022-05-23T00:00:00",
          "2022-05-24T00:00:00",
          "2022-05-25T00:00:00",
          "2022-05-26T00:00:00",
          "2022-05-27T00:00:00",
          "2022-05-28T00:00:00",
          "2022-05-29T00:00:00",
          "2022-05-30T00:00:00",
          "2022-05-31T00:00:00",
          "2022-06-01T00:00:00",
          "2022-06-02T00:00:00",
          "2022-06-03T00:00:00",
          "2022-06-04T00:00:00",
          "2022-06-05T00:00:00",
          "2022-06-06T00:00:00",
          "2022-06-07T00:00:00",
          "2022-06-08T00:00:00",
          "2022-06-09T00:00:00",
          "2022-06-10T00:00:00",
          "2022-06-11T00:00:00",
          "2022-06-12T00:00:00",
          "2022-06-13T00:00:00",
          "2022-06-14T00:00:00",
          "2022-06-15T00:00:00",
          "2022-06-16T00:00:00",
          "2022-06-17T00:00:00",
          "2022-06-18T00:00:00",
          "2022-06-19T00:00:00",
          "2022-06-20T00:00:00",
          "2022-06-21T00:00:00",
          "2022-06-22T00:00:00",
          "2022-06-23T00:00:00",
          "2022-06-24T00:00:00",
          "2022-06-25T00:00:00",
          "2022-06-26T00:00:00",
          "2022-06-27T00:00:00",
          "2022-06-28T00:00:00",
          "2022-06-29T00:00:00",
          "2022-06-30T00:00:00",
          "2022-07-01T00:00:00",
          "2022-07-02T00:00:00",
          "2022-07-03T00:00:00",
          "2022-07-04T00:00:00",
          "2022-07-05T00:00:00",
          "2022-07-06T00:00:00",
          "2022-07-07T00:00:00",
          "2022-07-08T00:00:00",
          "2022-07-09T00:00:00",
          "2022-07-10T00:00:00",
          "2022-07-11T00:00:00",
          "2022-07-12T00:00:00",
          "2022-07-13T00:00:00",
          "2022-07-14T00:00:00",
          "2022-07-15T00:00:00",
          "2022-07-16T00:00:00",
          "2022-07-17T00:00:00",
          "2022-07-18T00:00:00",
          "2022-07-19T00:00:00",
          "2022-07-20T00:00:00",
          "2022-07-21T00:00:00",
          "2022-07-22T00:00:00",
          "2022-07-23T00:00:00",
          "2022-07-24T00:00:00",
          "2022-07-25T00:00:00",
          "2022-07-26T00:00:00",
          "2022-07-27T00:00:00",
          "2022-07-28T00:00:00",
          "2022-07-29T00:00:00",
          "2022-07-30T00:00:00",
          "2022-07-31T00:00:00",
          "2022-08-01T00:00:00",
          "2022-08-02T00:00:00",
          "2022-08-03T00:00:00",
          "2022-08-04T00:00:00",
          "2022-08-05T00:00:00",
          "2022-08-06T00:00:00",
          "2022-08-07T00:00:00",
          "2022-08-08T00:00:00",
          "2022-08-09T00:00:00",
          "2022-08-10T00:00:00",
          "2022-08-11T00:00:00",
          "2022-08-12T00:00:00",
          "2022-08-13T00:00:00",
          "2022-08-14T00:00:00",
          "2022-08-15T00:00:00",
          "2022-08-16T00:00:00",
          "2022-08-17T00:00:00",
          "2022-08-18T00:00:00",
          "2022-08-19T00:00:00",
          "2022-08-20T00:00:00",
          "2022-08-21T00:00:00",
          "2022-08-22T00:00:00",
          "2022-08-23T00:00:00",
          "2022-08-24T00:00:00",
          "2022-08-25T00:00:00",
          "2022-08-26T00:00:00",
          "2022-08-27T00:00:00",
          "2022-08-28T00:00:00",
          "2022-08-29T00:00:00",
          "2022-08-30T00:00:00",
          "2022-08-31T00:00:00",
          "2022-09-01T00:00:00",
          "2022-09-02T00:00:00",
          "2022-09-03T00:00:00",
          "2022-09-04T00:00:00",
          "2022-09-05T00:00:00",
          "2022-09-06T00:00:00",
          "2022-09-07T00:00:00",
          "2022-09-08T00:00:00",
          "2022-09-09T00:00:00",
          "2022-09-10T00:00:00",
          "2022-09-11T00:00:00",
          "2022-09-12T00:00:00"
         ],
         "xaxis": "x",
         "y": [
          14608.285714285714,
          14209.142857142857,
          13854.857142857143,
          13566.42857142857,
          13296.714285714286,
          13003.142857142857,
          12683.857142857143,
          12425.142857142857,
          12139.857142857143,
          11826.142857142857,
          11487,
          11181.57142857143,
          10863.57142857143,
          10590.57142857143,
          10310.142857142857,
          10078,
          9864.42857142857,
          9697.285714285714,
          9478.285714285714,
          9295.142857142857,
          9089.285714285714,
          8907.42857142857,
          8695,
          8505.285714285714,
          8317,
          8143.428571428572,
          7972.571428571428,
          7798.285714285715,
          7625,
          7442.285714285715,
          7245.857142857143,
          7030,
          6822,
          6610.285714285715,
          6396.857142857143,
          6185.714285714285,
          6009.142857142857,
          5847.714285714285,
          5699.571428571428,
          5561.285714285715,
          5402.285714285715,
          5241.714285714285,
          5075.714285714285,
          4911,
          4736.857142857143,
          4583,
          4439.571428571428,
          4318.571428571428,
          4188.571428571428,
          4084.1428571428573,
          3995.4285714285716,
          3924.285714285714,
          3844.1428571428573,
          3761.714285714286,
          3676,
          3604.1428571428573,
          3511.8571428571427,
          3425.714285714286,
          3337.8571428571427,
          3235.5714285714284,
          3149.285714285714,
          3070,
          3013.8571428571427,
          2924.8571428571427,
          2822.8571428571427,
          2729.1428571428573,
          2648.4285714285716,
          2553.1428571428573,
          2450.5714285714284,
          2318.4285714285716,
          2224.8571428571427,
          2136.1428571428573,
          2049.1428571428573,
          1970.857142857143,
          1897.7142857142858,
          1827.857142857143,
          1758.2857142857142,
          1686.2857142857142,
          1629.2857142857142,
          1564.5714285714287,
          1507.4285714285713,
          1461.857142857143,
          1417.5714285714287,
          1369.857142857143,
          1324.4285714285713,
          1298.142857142857,
          1262,
          1215.142857142857,
          1166,
          1118,
          1070.4285714285713,
          1035.5714285714287,
          981.5714285714286,
          953.4285714285714,
          932.2857142857143,
          918.2857142857143,
          901.4285714285714,
          886.7142857142857,
          867.1428571428571,
          849.7142857142857,
          829.4285714285714,
          806.7142857142857,
          774,
          740.2857142857143,
          722,
          702.7142857142857,
          679.4285714285714,
          664.5714285714286,
          654.7142857142857,
          651.8571428571429,
          655.1428571428571,
          642.5714285714286,
          631.8571428571429,
          621.7142857142857,
          607.2857142857143,
          591,
          585.8571428571429,
          569.8571428571429,
          555,
          541.1428571428571,
          528.8571428571429,
          520.4285714285714,
          512,
          495.42857142857144,
          489.2857142857143,
          485.42857142857144,
          484.85714285714283,
          480,
          476.57142857142856,
          477.2857142857143,
          476.2857142857143,
          476.85714285714283,
          485.42857142857144,
          491,
          506.14285714285717,
          521,
          542.1428571428571,
          569.5714285714286,
          599.2857142857143,
          636,
          686.8571428571429,
          740,
          798.8571428571429,
          855.7142857142857,
          915.4285714285714,
          984.4285714285714,
          1054,
          1123.5714285714287,
          1196.4285714285713,
          1276.7142857142858,
          1371.857142857143,
          1458.7142857142858,
          1547.142857142857,
          1640.857142857143,
          1723.142857142857,
          1808.4285714285713,
          1883.142857142857,
          1953.7142857142858,
          2039.5714285714287,
          2131.285714285714,
          2238.4285714285716,
          2374,
          2521.1428571428573,
          2679.714285714286,
          2830.8571428571427,
          2985,
          3152,
          3312.285714285714,
          3484,
          3662.1428571428573,
          3860.714285714286,
          4091.5714285714284,
          4328.714285714285,
          4557,
          4816.571428571428,
          5097.571428571428,
          5377.285714285715,
          5631,
          5915,
          6221.714285714285,
          6566,
          6882,
          7242.428571428572,
          7642.285714285715,
          8039.714285714285,
          8390.142857142857,
          8762.42857142857,
          9049.714285714286,
          9412.714285714286,
          9752.142857142857,
          10033.142857142857,
          10299.857142857143,
          10569.285714285714,
          10816.714285714286,
          11110.57142857143,
          11376.57142857143,
          11528.285714285714,
          11770.142857142857,
          12052,
          12358.714285714286,
          12628,
          12943.142857142857,
          13236.57142857143,
          13576.285714285714,
          13827.714285714286,
          14043.714285714286,
          14173.42857142857,
          14276.142857142857,
          14343,
          14400,
          14413.57142857143,
          14377.857142857143,
          14296.285714285714,
          14227.42857142857,
          14097.42857142857,
          13978.42857142857,
          13841.857142857143,
          13699.142857142857,
          13552.285714285714,
          13407.714285714286,
          13298.142857142857,
          13263.857142857143,
          13216.42857142857,
          13196.42857142857,
          13213.857142857143,
          13250.285714285714,
          13378.857142857143,
          13509.42857142857,
          13646.42857142857,
          13828,
          14033.285714285714,
          14233.57142857143,
          14519,
          14796.857142857143,
          15077.57142857143,
          15399.857142857143,
          15710.285714285714,
          16089.714285714286,
          16522.85714285714,
          16861.285714285714,
          17216.428571428572,
          17478.571428571428,
          17788.14285714286,
          18165.85714285714,
          18554,
          19086,
          19783,
          20426,
          21116.428571428572,
          21860.285714285714,
          22671.714285714286,
          23557.428571428572,
          24226,
          24942.285714285714,
          25730.571428571428,
          26703.714285714286,
          27547.285714285714,
          28376,
          29153.714285714286,
          29973,
          30681.85714285714,
          31350.285714285714,
          31924,
          32418.428571428572,
          32789,
          33112.71428571428,
          33371.71428571428,
          33542.71428571428,
          33587,
          33594.142857142855,
          33550,
          33486.42857142857,
          33286.71428571428,
          33047,
          32612.714285714286,
          32198.14285714286,
          31619.14285714286,
          31041.571428571428,
          30356.571428571428,
          29728.14285714286,
          29022.428571428572,
          28383.571428571428,
          27669.428571428572,
          26961.285714285714,
          26171.428571428572,
          25439.85714285714,
          24651.428571428572,
          23890,
          23111.714285714286,
          22347.285714285714,
          21576.85714285714,
          20812.85714285714,
          20069.428571428572,
          19313.714285714286,
          18603.14285714286,
          17964.85714285714,
          17343.428571428572,
          16773.285714285714,
          16290.714285714286,
          15770,
          15256.714285714286,
          14741.857142857143,
          14248.857142857143,
          13794,
          13331.57142857143,
          12870.714285714286,
          12373.714285714286,
          11892,
          11410.857142857143,
          10923.285714285714,
          10443.714285714286,
          9988.42857142857,
          9550,
          9142.714285714286,
          8725.857142857143,
          8344.42857142857,
          7970.285714285715,
          7626.714285714285,
          7312,
          7033.571428571428,
          6780.285714285715,
          6513,
          6257.714285714285,
          6032.285714285715,
          5803.142857142857,
          5581.714285714285,
          5369.857142857143,
          5148.857142857143,
          4938.142857142857,
          4735.428571428572,
          4536.571428571428,
          4348,
          4186.714285714285,
          4056.285714285714,
          3905.714285714286,
          3757.8571428571427,
          3620.4285714285716,
          3488.8571428571427,
          3369.5714285714284,
          3237,
          3094.285714285714,
          2984.8571428571427,
          2872.5714285714284,
          2773.285714285714,
          2687.8571428571427,
          2609.8571428571427,
          2543.714285714286,
          2474.1428571428573,
          2391.8571428571427,
          2310.1428571428573,
          2234.285714285714,
          2160.8571428571427,
          2089.8571428571427,
          2021.7142857142858,
          1956.7142857142858,
          1898.857142857143,
          1845.142857142857,
          1786.857142857143,
          1735,
          1683.2857142857142,
          1631,
          1583.2857142857142,
          1538.4285714285713,
          1490,
          1441.5714285714287,
          1394.2857142857142,
          1353.142857142857,
          1307.857142857143,
          1260.7142857142858,
          1218.5714285714287,
          1176.142857142857,
          1145.142857142857,
          1110,
          1073,
          1046.142857142857,
          1028.5714285714287,
          1007.2857142857143,
          985.5714285714286,
          961,
          943.1428571428571,
          924.4285714285714,
          902.2857142857143,
          882.5714285714286,
          863.7142857142857,
          842.8571428571429,
          818.2857142857143,
          796.8571428571429,
          783.1428571428571,
          775.7142857142857,
          764.2857142857143,
          757.8571428571429,
          757.7142857142857,
          760,
          758.2857142857143,
          757.2857142857143,
          754,
          756.5714285714286,
          756.4285714285714,
          753,
          754.5714285714286,
          762.5714285714286,
          767.8571428571429,
          776.7142857142857,
          781.5714285714286,
          789,
          801.4285714285714,
          816.1428571428571,
          826.8571428571429,
          845,
          856.2857142857143,
          875.2857142857143,
          895.2857142857143,
          914.2857142857143,
          935.8571428571429,
          961.7142857142857,
          992.5714285714286,
          1033.4285714285713,
          1066,
          1097.5714285714287,
          1140,
          1178.7142857142858,
          1207,
          1228.7142857142858,
          1245,
          1264,
          1287.2857142857142,
          1312.2857142857142,
          1332.857142857143,
          1367.857142857143,
          1408.7142857142858,
          1455.4285714285713,
          1506.857142857143,
          1565.857142857143,
          1626.2857142857142,
          1705.2857142857142,
          1797.2857142857142,
          1890,
          1995.857142857143,
          2109.1428571428573,
          2226.285714285714,
          2356.285714285714,
          2495.1428571428573,
          2633.1428571428573,
          2780.5714285714284,
          2925.5714285714284,
          3070.285714285714,
          3210.5714285714284,
          3355.5714285714284,
          3487.5714285714284,
          3623.714285714286,
          3765,
          3912.714285714286,
          4060.4285714285716,
          4228.857142857143,
          4406.285714285715,
          4587.571428571428,
          4747.428571428572,
          4865.428571428572,
          4966.857142857143,
          5049.857142857143,
          5102,
          5138.285714285715,
          5131.571428571428,
          5097.571428571428,
          5074.428571428572,
          5041.285714285715,
          5007,
          4985.428571428572,
          4955.285714285715,
          4952.428571428572,
          4970.857142857143,
          4990.142857142857,
          5018.285714285715,
          5040.571428571428,
          5065.714285714285,
          5113,
          5161.714285714285,
          5224.714285714285,
          5299.714285714285,
          5371.142857142857,
          5457.142857142857,
          5547.714285714285,
          5629.285714285715,
          5697,
          5755.285714285715,
          5803.714285714285,
          5848.428571428572,
          5874.285714285715,
          5889.428571428572,
          5889.714285714285,
          5944.285714285715,
          5989.142857142857,
          6031,
          6074.714285714285,
          6115.714285714285,
          6160.285714285715,
          6213.571428571428,
          6206.571428571428,
          6216,
          6225.714285714285,
          6255,
          6278.285714285715,
          6290.571428571428,
          6297.571428571428,
          6311.857142857143,
          6312.428571428572,
          6287.714285714285,
          6217.714285714285,
          6143.714285714285,
          6064,
          5964.428571428572,
          5850,
          5721.428571428572,
          5597.571428571428,
          5472.714285714285,
          5388.714285714285,
          5282.142857142857,
          5195.571428571428,
          5136,
          5080.428571428572,
          5037.857142857143,
          5004,
          4940,
          4915.571428571428,
          4885.285714285715,
          4868.142857142857,
          4867,
          4873.571428571428,
          4898.714285714285,
          4937.142857142857,
          4979.857142857143,
          5022.285714285715,
          5051.857142857143,
          5085.714285714285,
          5132.428571428572,
          5187.857142857143,
          5254.142857142857,
          5332.142857142857,
          5436.714285714285,
          5563.285714285715,
          5713.714285714285,
          5867.571428571428,
          6016.428571428572,
          6159.428571428572,
          6286.857142857143,
          6410.142857142857,
          6522.142857142857,
          6615.285714285715,
          6708.571428571428,
          6809.714285714285,
          6919.571428571428,
          7033.285714285715,
          7138.142857142857,
          7227.714285714285,
          7276.285714285715,
          7302.285714285715,
          7296.428571428572,
          7256.285714285715,
          7199,
          7133.285714285715,
          7068,
          7020.857142857143,
          6972.285714285715,
          6930.142857142857,
          6896.571428571428,
          6867.571428571428,
          6837.428571428572,
          6776,
          6697.571428571428,
          6622.571428571428,
          6555.857142857143,
          6491.857142857143,
          6436.857142857143,
          6374,
          6321.714285714285,
          6271.714285714285,
          6233.428571428572,
          6188,
          6139.571428571428,
          6077.857142857143,
          6030.714285714285,
          6011.571428571428,
          5978.285714285715,
          5956.428571428572,
          5936.285714285715,
          5926.571428571428,
          5928.428571428572,
          5913.857142857143,
          5900.142857142857,
          5932.142857142857,
          5962.857142857143,
          5996.714285714285,
          6041.142857142857,
          6086.857142857143,
          6144.428571428572,
          6202.571428571428,
          6246.142857142857,
          6285.428571428572,
          6318.714285714285,
          6346.142857142857,
          6376.285714285715,
          6418.142857142857,
          6485,
          6588.142857142857,
          6689.428571428572,
          6838.714285714285,
          6964.285714285715,
          7121.714285714285,
          7376.857142857143,
          7754.571428571428,
          8237.714285714286,
          8857.42857142857,
          9575.857142857143,
          10354.285714285714,
          11156.42857142857,
          11975.857142857143,
          12761.285714285714,
          13503.714285714286,
          14161.714285714286,
          14700,
          15188.42857142857,
          15652.42857142857,
          16068.142857142857,
          16338.857142857143,
          16513.428571428572,
          16607.428571428572,
          16660.85714285714,
          16696.14285714286,
          16692.285714285714,
          16621,
          16518,
          16355.285714285714,
          16153.285714285714,
          15914.42857142857,
          15634.285714285714,
          15343.142857142857,
          15049.142857142857,
          14744.857142857143,
          14488.57142857143,
          14252.714285714286,
          14052.285714285714,
          13816.857142857143,
          13625.142857142857,
          13449.142857142857,
          13278.857142857143,
          13083,
          12907.57142857143,
          12703.285714285714,
          12550.714285714286,
          12341.714285714286,
          12110.142857142857,
          11906.57142857143,
          11691.42857142857,
          11450.142857142857,
          11212.285714285714,
          10984.57142857143,
          10773.142857142857,
          10567.857142857143,
          10360.42857142857,
          10179.42857142857,
          10017.42857142857,
          9859,
          9741.42857142857,
          9599.857142857143,
          9450.714285714286,
          9297.714285714286,
          9164,
          9027.57142857143,
          8919,
          8777.57142857143,
          8670,
          8571.285714285714,
          8505.285714285714,
          8438.714285714286,
          8376.57142857143,
          8363,
          8392,
          8420.142857142857,
          8475.142857142857,
          8573.714285714286,
          8682.42857142857,
          8829.714285714286,
          8967.714285714286,
          9141.714285714286,
          9342.57142857143,
          9578.714285714286,
          9821.714285714286,
          10085.57142857143,
          10386.285714285714,
          10704.285714285714,
          10992.857142857143,
          11301.714285714286,
          11612.714285714286,
          11924.57142857143,
          12244.285714285714,
          12566.57142857143,
          12887.57142857143,
          13195.857142857143,
          13538,
          13883.285714285714,
          14219.142857142857,
          14559.714285714286,
          14852,
          15155.42857142857,
          15433,
          15650.714285714286,
          15835.857142857143,
          15998.857142857143,
          16135.285714285714,
          16271.285714285714,
          16328.42857142857,
          16348,
          16355.142857142857,
          16351.714285714286,
          16291.57142857143,
          16121.857142857143,
          15886.857142857143,
          15605.142857142857,
          15385,
          15130,
          14807.285714285714,
          14589.57142857143,
          14413.142857142857,
          14189.857142857143,
          13974,
          13662.714285714286,
          13352.57142857143,
          13039.57142857143,
          12570,
          12113,
          11690.142857142857,
          11269.42857142857,
          10889.857142857143,
          10500.142857142857,
          10119.285714285714,
          9822.57142857143,
          9534.714285714286,
          9272.42857142857,
          9019.857142857143,
          8772.57142857143,
          8538.285714285714,
          8298.42857142857,
          8029.857142857143,
          7756.142857142857,
          7471.285714285715,
          7213.571428571428,
          6982,
          6759.571428571428,
          6527.714285714285,
          6294.857142857143,
          6065,
          5887,
          5718.571428571428,
          5564,
          5405.285714285715,
          5260.428571428572,
          5104.142857142857,
          4970.428571428572,
          4828.857142857143,
          4687.428571428572,
          4537.142857142857,
          4390.142857142857,
          4258.857142857143,
          4172.714285714285,
          4074.285714285714,
          3999.4285714285716,
          3949.714285714286,
          3924.285714285714,
          3916.714285714286,
          3921.714285714286,
          3932,
          3974.285714285714,
          4008.714285714286,
          4067.714285714286,
          4128,
          4191.285714285715,
          4259.285714285715,
          4347,
          4453.714285714285,
          4586,
          4696.714285714285,
          4829,
          4975.857142857143,
          5136.428571428572,
          5319.285714285715,
          5509.857142857143,
          5708.857142857143,
          5953.857142857143,
          6209.571428571428,
          6498,
          6797.428571428572,
          7100,
          7444.285714285715,
          7805.285714285715,
          8182,
          8561.857142857143,
          8919.142857142857,
          9324.285714285714,
          9742.714285714286,
          10153.857142857143,
          10575.285714285714,
          10988.714285714286,
          11389.857142857143,
          11807.42857142857,
          12190,
          12557.42857142857,
          12882.57142857143,
          13158.142857142857,
          13399.857142857143,
          13580,
          13717.285714285714,
          13818.42857142857,
          13849.285714285714,
          13821.285714285714,
          13759.57142857143,
          13646.285714285714,
          13471.142857142857,
          13292.714285714286,
          13076.285714285714,
          12830,
          12597,
          12320.142857142857,
          12029.714285714286,
          11751.714285714286,
          11443.142857142857,
          11141.42857142857,
          10864.857142857143,
          10565.285714285714,
          10288.285714285714,
          10003,
          9756.857142857143,
          9524.57142857143,
          9306.142857142857,
          9084.285714285714,
          8894.285714285714,
          8727,
          8572.714285714286,
          8456.57142857143,
          8364.142857142857,
          8249.857142857143,
          8136.714285714285,
          7993.714285714285,
          7864.285714285715,
          7717.571428571428,
          7541.428571428572,
          7331.285714285715,
          7147.714285714285,
          6948.285714285715,
          6779.142857142857,
          6611.714285714285,
          6440.285714285715,
          6298.142857142857,
          6159.571428571428,
          6011.714285714285,
          5912.714285714285,
          5820.714285714285,
          5721.428571428572,
          5648.428571428572,
          5565.285714285715,
          5350.428571428572,
          5272.285714285715,
          5174.714285714285,
          5061.285714285715,
          4965.142857142857,
          4888.428571428572,
          4812.285714285715,
          4880.714285714285,
          4801.428571428572
         ],
         "yaxis": "y"
        }
       ],
       "layout": {
        "legend": {
         "tracegroupgap": 0
        },
        "template": {
         "data": {
          "bar": [
           {
            "error_x": {
             "color": "#2a3f5f"
            },
            "error_y": {
             "color": "#2a3f5f"
            },
            "marker": {
             "line": {
              "color": "white",
              "width": 0.5
             },
             "pattern": {
              "fillmode": "overlay",
              "size": 10,
              "solidity": 0.2
             }
            },
            "type": "bar"
           }
          ],
          "barpolar": [
           {
            "marker": {
             "line": {
              "color": "white",
              "width": 0.5
             },
             "pattern": {
              "fillmode": "overlay",
              "size": 10,
              "solidity": 0.2
             }
            },
            "type": "barpolar"
           }
          ],
          "carpet": [
           {
            "aaxis": {
             "endlinecolor": "#2a3f5f",
             "gridcolor": "#C8D4E3",
             "linecolor": "#C8D4E3",
             "minorgridcolor": "#C8D4E3",
             "startlinecolor": "#2a3f5f"
            },
            "baxis": {
             "endlinecolor": "#2a3f5f",
             "gridcolor": "#C8D4E3",
             "linecolor": "#C8D4E3",
             "minorgridcolor": "#C8D4E3",
             "startlinecolor": "#2a3f5f"
            },
            "type": "carpet"
           }
          ],
          "choropleth": [
           {
            "colorbar": {
             "outlinewidth": 0,
             "ticks": ""
            },
            "type": "choropleth"
           }
          ],
          "contour": [
           {
            "colorbar": {
             "outlinewidth": 0,
             "ticks": ""
            },
            "colorscale": [
             [
              0,
              "#0d0887"
             ],
             [
              0.1111111111111111,
              "#46039f"
             ],
             [
              0.2222222222222222,
              "#7201a8"
             ],
             [
              0.3333333333333333,
              "#9c179e"
             ],
             [
              0.4444444444444444,
              "#bd3786"
             ],
             [
              0.5555555555555556,
              "#d8576b"
             ],
             [
              0.6666666666666666,
              "#ed7953"
             ],
             [
              0.7777777777777778,
              "#fb9f3a"
             ],
             [
              0.8888888888888888,
              "#fdca26"
             ],
             [
              1,
              "#f0f921"
             ]
            ],
            "type": "contour"
           }
          ],
          "contourcarpet": [
           {
            "colorbar": {
             "outlinewidth": 0,
             "ticks": ""
            },
            "type": "contourcarpet"
           }
          ],
          "heatmap": [
           {
            "colorbar": {
             "outlinewidth": 0,
             "ticks": ""
            },
            "colorscale": [
             [
              0,
              "#0d0887"
             ],
             [
              0.1111111111111111,
              "#46039f"
             ],
             [
              0.2222222222222222,
              "#7201a8"
             ],
             [
              0.3333333333333333,
              "#9c179e"
             ],
             [
              0.4444444444444444,
              "#bd3786"
             ],
             [
              0.5555555555555556,
              "#d8576b"
             ],
             [
              0.6666666666666666,
              "#ed7953"
             ],
             [
              0.7777777777777778,
              "#fb9f3a"
             ],
             [
              0.8888888888888888,
              "#fdca26"
             ],
             [
              1,
              "#f0f921"
             ]
            ],
            "type": "heatmap"
           }
          ],
          "heatmapgl": [
           {
            "colorbar": {
             "outlinewidth": 0,
             "ticks": ""
            },
            "colorscale": [
             [
              0,
              "#0d0887"
             ],
             [
              0.1111111111111111,
              "#46039f"
             ],
             [
              0.2222222222222222,
              "#7201a8"
             ],
             [
              0.3333333333333333,
              "#9c179e"
             ],
             [
              0.4444444444444444,
              "#bd3786"
             ],
             [
              0.5555555555555556,
              "#d8576b"
             ],
             [
              0.6666666666666666,
              "#ed7953"
             ],
             [
              0.7777777777777778,
              "#fb9f3a"
             ],
             [
              0.8888888888888888,
              "#fdca26"
             ],
             [
              1,
              "#f0f921"
             ]
            ],
            "type": "heatmapgl"
           }
          ],
          "histogram": [
           {
            "marker": {
             "pattern": {
              "fillmode": "overlay",
              "size": 10,
              "solidity": 0.2
             }
            },
            "type": "histogram"
           }
          ],
          "histogram2d": [
           {
            "colorbar": {
             "outlinewidth": 0,
             "ticks": ""
            },
            "colorscale": [
             [
              0,
              "#0d0887"
             ],
             [
              0.1111111111111111,
              "#46039f"
             ],
             [
              0.2222222222222222,
              "#7201a8"
             ],
             [
              0.3333333333333333,
              "#9c179e"
             ],
             [
              0.4444444444444444,
              "#bd3786"
             ],
             [
              0.5555555555555556,
              "#d8576b"
             ],
             [
              0.6666666666666666,
              "#ed7953"
             ],
             [
              0.7777777777777778,
              "#fb9f3a"
             ],
             [
              0.8888888888888888,
              "#fdca26"
             ],
             [
              1,
              "#f0f921"
             ]
            ],
            "type": "histogram2d"
           }
          ],
          "histogram2dcontour": [
           {
            "colorbar": {
             "outlinewidth": 0,
             "ticks": ""
            },
            "colorscale": [
             [
              0,
              "#0d0887"
             ],
             [
              0.1111111111111111,
              "#46039f"
             ],
             [
              0.2222222222222222,
              "#7201a8"
             ],
             [
              0.3333333333333333,
              "#9c179e"
             ],
             [
              0.4444444444444444,
              "#bd3786"
             ],
             [
              0.5555555555555556,
              "#d8576b"
             ],
             [
              0.6666666666666666,
              "#ed7953"
             ],
             [
              0.7777777777777778,
              "#fb9f3a"
             ],
             [
              0.8888888888888888,
              "#fdca26"
             ],
             [
              1,
              "#f0f921"
             ]
            ],
            "type": "histogram2dcontour"
           }
          ],
          "mesh3d": [
           {
            "colorbar": {
             "outlinewidth": 0,
             "ticks": ""
            },
            "type": "mesh3d"
           }
          ],
          "parcoords": [
           {
            "line": {
             "colorbar": {
              "outlinewidth": 0,
              "ticks": ""
             }
            },
            "type": "parcoords"
           }
          ],
          "pie": [
           {
            "automargin": true,
            "type": "pie"
           }
          ],
          "scatter": [
           {
            "fillpattern": {
             "fillmode": "overlay",
             "size": 10,
             "solidity": 0.2
            },
            "type": "scatter"
           }
          ],
          "scatter3d": [
           {
            "line": {
             "colorbar": {
              "outlinewidth": 0,
              "ticks": ""
             }
            },
            "marker": {
             "colorbar": {
              "outlinewidth": 0,
              "ticks": ""
             }
            },
            "type": "scatter3d"
           }
          ],
          "scattercarpet": [
           {
            "marker": {
             "colorbar": {
              "outlinewidth": 0,
              "ticks": ""
             }
            },
            "type": "scattercarpet"
           }
          ],
          "scattergeo": [
           {
            "marker": {
             "colorbar": {
              "outlinewidth": 0,
              "ticks": ""
             }
            },
            "type": "scattergeo"
           }
          ],
          "scattergl": [
           {
            "marker": {
             "colorbar": {
              "outlinewidth": 0,
              "ticks": ""
             }
            },
            "type": "scattergl"
           }
          ],
          "scattermapbox": [
           {
            "marker": {
             "colorbar": {
              "outlinewidth": 0,
              "ticks": ""
             }
            },
            "type": "scattermapbox"
           }
          ],
          "scatterpolar": [
           {
            "marker": {
             "colorbar": {
              "outlinewidth": 0,
              "ticks": ""
             }
            },
            "type": "scatterpolar"
           }
          ],
          "scatterpolargl": [
           {
            "marker": {
             "colorbar": {
              "outlinewidth": 0,
              "ticks": ""
             }
            },
            "type": "scatterpolargl"
           }
          ],
          "scatterternary": [
           {
            "marker": {
             "colorbar": {
              "outlinewidth": 0,
              "ticks": ""
             }
            },
            "type": "scatterternary"
           }
          ],
          "surface": [
           {
            "colorbar": {
             "outlinewidth": 0,
             "ticks": ""
            },
            "colorscale": [
             [
              0,
              "#0d0887"
             ],
             [
              0.1111111111111111,
              "#46039f"
             ],
             [
              0.2222222222222222,
              "#7201a8"
             ],
             [
              0.3333333333333333,
              "#9c179e"
             ],
             [
              0.4444444444444444,
              "#bd3786"
             ],
             [
              0.5555555555555556,
              "#d8576b"
             ],
             [
              0.6666666666666666,
              "#ed7953"
             ],
             [
              0.7777777777777778,
              "#fb9f3a"
             ],
             [
              0.8888888888888888,
              "#fdca26"
             ],
             [
              1,
              "#f0f921"
             ]
            ],
            "type": "surface"
           }
          ],
          "table": [
           {
            "cells": {
             "fill": {
              "color": "#EBF0F8"
             },
             "line": {
              "color": "white"
             }
            },
            "header": {
             "fill": {
              "color": "#C8D4E3"
             },
             "line": {
              "color": "white"
             }
            },
            "type": "table"
           }
          ]
         },
         "layout": {
          "annotationdefaults": {
           "arrowcolor": "#2a3f5f",
           "arrowhead": 0,
           "arrowwidth": 1
          },
          "autotypenumbers": "strict",
          "coloraxis": {
           "colorbar": {
            "outlinewidth": 0,
            "ticks": ""
           }
          },
          "colorscale": {
           "diverging": [
            [
             0,
             "#8e0152"
            ],
            [
             0.1,
             "#c51b7d"
            ],
            [
             0.2,
             "#de77ae"
            ],
            [
             0.3,
             "#f1b6da"
            ],
            [
             0.4,
             "#fde0ef"
            ],
            [
             0.5,
             "#f7f7f7"
            ],
            [
             0.6,
             "#e6f5d0"
            ],
            [
             0.7,
             "#b8e186"
            ],
            [
             0.8,
             "#7fbc41"
            ],
            [
             0.9,
             "#4d9221"
            ],
            [
             1,
             "#276419"
            ]
           ],
           "sequential": [
            [
             0,
             "#0d0887"
            ],
            [
             0.1111111111111111,
             "#46039f"
            ],
            [
             0.2222222222222222,
             "#7201a8"
            ],
            [
             0.3333333333333333,
             "#9c179e"
            ],
            [
             0.4444444444444444,
             "#bd3786"
            ],
            [
             0.5555555555555556,
             "#d8576b"
            ],
            [
             0.6666666666666666,
             "#ed7953"
            ],
            [
             0.7777777777777778,
             "#fb9f3a"
            ],
            [
             0.8888888888888888,
             "#fdca26"
            ],
            [
             1,
             "#f0f921"
            ]
           ],
           "sequentialminus": [
            [
             0,
             "#0d0887"
            ],
            [
             0.1111111111111111,
             "#46039f"
            ],
            [
             0.2222222222222222,
             "#7201a8"
            ],
            [
             0.3333333333333333,
             "#9c179e"
            ],
            [
             0.4444444444444444,
             "#bd3786"
            ],
            [
             0.5555555555555556,
             "#d8576b"
            ],
            [
             0.6666666666666666,
             "#ed7953"
            ],
            [
             0.7777777777777778,
             "#fb9f3a"
            ],
            [
             0.8888888888888888,
             "#fdca26"
            ],
            [
             1,
             "#f0f921"
            ]
           ]
          },
          "colorway": [
           "#636efa",
           "#EF553B",
           "#00cc96",
           "#ab63fa",
           "#FFA15A",
           "#19d3f3",
           "#FF6692",
           "#B6E880",
           "#FF97FF",
           "#FECB52"
          ],
          "font": {
           "color": "#2a3f5f"
          },
          "geo": {
           "bgcolor": "white",
           "lakecolor": "white",
           "landcolor": "white",
           "showlakes": true,
           "showland": true,
           "subunitcolor": "#C8D4E3"
          },
          "hoverlabel": {
           "align": "left"
          },
          "hovermode": "closest",
          "mapbox": {
           "style": "light"
          },
          "paper_bgcolor": "white",
          "plot_bgcolor": "white",
          "polar": {
           "angularaxis": {
            "gridcolor": "#EBF0F8",
            "linecolor": "#EBF0F8",
            "ticks": ""
           },
           "bgcolor": "white",
           "radialaxis": {
            "gridcolor": "#EBF0F8",
            "linecolor": "#EBF0F8",
            "ticks": ""
           }
          },
          "scene": {
           "xaxis": {
            "backgroundcolor": "white",
            "gridcolor": "#DFE8F3",
            "gridwidth": 2,
            "linecolor": "#EBF0F8",
            "showbackground": true,
            "ticks": "",
            "zerolinecolor": "#EBF0F8"
           },
           "yaxis": {
            "backgroundcolor": "white",
            "gridcolor": "#DFE8F3",
            "gridwidth": 2,
            "linecolor": "#EBF0F8",
            "showbackground": true,
            "ticks": "",
            "zerolinecolor": "#EBF0F8"
           },
           "zaxis": {
            "backgroundcolor": "white",
            "gridcolor": "#DFE8F3",
            "gridwidth": 2,
            "linecolor": "#EBF0F8",
            "showbackground": true,
            "ticks": "",
            "zerolinecolor": "#EBF0F8"
           }
          },
          "shapedefaults": {
           "line": {
            "color": "#2a3f5f"
           }
          },
          "ternary": {
           "aaxis": {
            "gridcolor": "#DFE8F3",
            "linecolor": "#A2B1C6",
            "ticks": ""
           },
           "baxis": {
            "gridcolor": "#DFE8F3",
            "linecolor": "#A2B1C6",
            "ticks": ""
           },
           "bgcolor": "white",
           "caxis": {
            "gridcolor": "#DFE8F3",
            "linecolor": "#A2B1C6",
            "ticks": ""
           }
          },
          "title": {
           "x": 0.05
          },
          "xaxis": {
           "automargin": true,
           "gridcolor": "#EBF0F8",
           "linecolor": "#EBF0F8",
           "ticks": "",
           "title": {
            "standoff": 15
           },
           "zerolinecolor": "#EBF0F8",
           "zerolinewidth": 2
          },
          "yaxis": {
           "automargin": true,
           "gridcolor": "#EBF0F8",
           "linecolor": "#EBF0F8",
           "ticks": "",
           "title": {
            "standoff": 15
           },
           "zerolinecolor": "#EBF0F8",
           "zerolinewidth": 2
          }
         }
        },
        "title": {
         "text": "Hospital Cases Rolling Mean"
        },
        "xaxis": {
         "anchor": "y",
         "domain": [
          0,
          1
         ],
         "title": {
          "text": "date"
         }
        },
        "yaxis": {
         "anchor": "x",
         "domain": [
          0,
          1
         ],
         "title": {
          "text": "hospitalCases_rolling_7_mean"
         }
        }
       }
      }
     },
     "metadata": {},
     "output_type": "display_data"
    }
   ],
   "source": [
    "# plot cumulative_deceased\n",
    "fig = px.line(\n",
    "    merged_data,\n",
    "    x=merged_data.index,\n",
    "    y=\"hospitalCases_rolling_7_mean\",\n",
    "    title=\"Hospital Cases Rolling Mean\",\n",
    ")\n",
    "fig.show()\n",
    "fig.write_image(\"reports/figures/hospital_cases_rolling_mean.png\")"
   ]
  },
  {
   "cell_type": "code",
   "execution_count": 7,
   "metadata": {},
   "outputs": [
    {
     "name": "stderr",
     "output_type": "stream",
     "text": [
      "2024-06-11 14:33:45,550 - INFO - Data ranges from 2020-04-28 00:00:00 to 2022-09-12 00:00:00 (867 days)\n"
     ]
    }
   ],
   "source": [
    "# Filter data between the specified dates\n",
    "start_date = \"2020-04-27\"\n",
    "end_date = \"2022-12-31\"\n",
    "\n",
    "min_date = merged_data.index.min()\n",
    "max_date = merged_data.index.max()\n",
    "\n",
    "# Calculate the range of dates\n",
    "date_range = max_date - min_date\n",
    "logging.info(f\"Data ranges from {min_date} to {max_date} ({date_range.days} days)\")"
   ]
  },
  {
   "cell_type": "code",
   "execution_count": 8,
   "metadata": {},
   "outputs": [],
   "source": [
    "# drop columns that are not needed\n",
    "merged_data.drop(\n",
    "    columns=[\n",
    "        \"areaName\",\n",
    "        \"population\",\n",
    "        \"openstreetmap_id\",\n",
    "        \"latitude\",\n",
    "        \"longitude\",\n",
    "    ],\n",
    "    inplace=True,\n",
    ")"
   ]
  },
  {
   "cell_type": "code",
   "execution_count": 9,
   "metadata": {},
   "outputs": [
    {
     "data": {
      "text/html": [
       "<div>\n",
       "<style scoped>\n",
       "    .dataframe tbody tr th:only-of-type {\n",
       "        vertical-align: middle;\n",
       "    }\n",
       "\n",
       "    .dataframe tbody tr th {\n",
       "        vertical-align: top;\n",
       "    }\n",
       "\n",
       "    .dataframe thead th {\n",
       "        text-align: right;\n",
       "    }\n",
       "</style>\n",
       "<table border=\"1\" class=\"dataframe\">\n",
       "  <thead>\n",
       "    <tr style=\"text-align: right;\">\n",
       "      <th></th>\n",
       "      <th>covidOccupiedMVBeds</th>\n",
       "      <th>cumAdmissions</th>\n",
       "      <th>hospitalCases</th>\n",
       "      <th>newAdmissions</th>\n",
       "      <th>new_confirmed</th>\n",
       "      <th>new_deceased</th>\n",
       "      <th>cumulative_confirmed</th>\n",
       "      <th>cumulative_deceased</th>\n",
       "      <th>covidOccupiedMVBeds_lag_1</th>\n",
       "      <th>covidOccupiedMVBeds_lag_2</th>\n",
       "      <th>...</th>\n",
       "      <th>covidOccupiedMVBeds_lag_7</th>\n",
       "      <th>covidOccupiedMVBeds_lag_14</th>\n",
       "      <th>covidOccupiedMVBeds_lag_21</th>\n",
       "      <th>month</th>\n",
       "      <th>day</th>\n",
       "      <th>day_of_week</th>\n",
       "      <th>hospitalCases_rolling_7_mean</th>\n",
       "      <th>newAdmissions_rolling_7_mean</th>\n",
       "      <th>new_confirmed_rolling_7_mean</th>\n",
       "      <th>new_deceased_rolling_7_mean</th>\n",
       "    </tr>\n",
       "    <tr>\n",
       "      <th>date</th>\n",
       "      <th></th>\n",
       "      <th></th>\n",
       "      <th></th>\n",
       "      <th></th>\n",
       "      <th></th>\n",
       "      <th></th>\n",
       "      <th></th>\n",
       "      <th></th>\n",
       "      <th></th>\n",
       "      <th></th>\n",
       "      <th></th>\n",
       "      <th></th>\n",
       "      <th></th>\n",
       "      <th></th>\n",
       "      <th></th>\n",
       "      <th></th>\n",
       "      <th></th>\n",
       "      <th></th>\n",
       "      <th></th>\n",
       "      <th></th>\n",
       "      <th></th>\n",
       "    </tr>\n",
       "  </thead>\n",
       "  <tbody>\n",
       "    <tr>\n",
       "      <th>2020-04-28</th>\n",
       "      <td>43.598269</td>\n",
       "      <td>73874</td>\n",
       "      <td>13565.0</td>\n",
       "      <td>1296</td>\n",
       "      <td>3902.0</td>\n",
       "      <td>496.0</td>\n",
       "      <td>135248.0</td>\n",
       "      <td>24391.0</td>\n",
       "      <td>2194.0</td>\n",
       "      <td>2309.0</td>\n",
       "      <td>...</td>\n",
       "      <td>2701.0</td>\n",
       "      <td>2849.0</td>\n",
       "      <td>2472.0</td>\n",
       "      <td>4</td>\n",
       "      <td>28</td>\n",
       "      <td>1</td>\n",
       "      <td>14608.285714</td>\n",
       "      <td>1257.714286</td>\n",
       "      <td>3900.857143</td>\n",
       "      <td>563.428571</td>\n",
       "    </tr>\n",
       "    <tr>\n",
       "      <th>2020-04-29</th>\n",
       "      <td>43.174504</td>\n",
       "      <td>75169</td>\n",
       "      <td>13224.0</td>\n",
       "      <td>1295</td>\n",
       "      <td>4610.0</td>\n",
       "      <td>495.0</td>\n",
       "      <td>139858.0</td>\n",
       "      <td>24886.0</td>\n",
       "      <td>2093.0</td>\n",
       "      <td>2194.0</td>\n",
       "      <td>...</td>\n",
       "      <td>2646.0</td>\n",
       "      <td>2847.0</td>\n",
       "      <td>2561.0</td>\n",
       "      <td>4</td>\n",
       "      <td>29</td>\n",
       "      <td>2</td>\n",
       "      <td>14209.142857</td>\n",
       "      <td>1255.571429</td>\n",
       "      <td>3895.142857</td>\n",
       "      <td>542.714286</td>\n",
       "    </tr>\n",
       "    <tr>\n",
       "      <th>2020-04-30</th>\n",
       "      <td>42.688971</td>\n",
       "      <td>76396</td>\n",
       "      <td>12922.0</td>\n",
       "      <td>1227</td>\n",
       "      <td>4231.0</td>\n",
       "      <td>483.0</td>\n",
       "      <td>144089.0</td>\n",
       "      <td>25369.0</td>\n",
       "      <td>2045.0</td>\n",
       "      <td>2093.0</td>\n",
       "      <td>...</td>\n",
       "      <td>2563.0</td>\n",
       "      <td>2838.0</td>\n",
       "      <td>2546.0</td>\n",
       "      <td>4</td>\n",
       "      <td>30</td>\n",
       "      <td>3</td>\n",
       "      <td>13854.857143</td>\n",
       "      <td>1246.714286</td>\n",
       "      <td>3867.714286</td>\n",
       "      <td>526.714286</td>\n",
       "    </tr>\n",
       "    <tr>\n",
       "      <th>2020-05-01</th>\n",
       "      <td>42.353640</td>\n",
       "      <td>77477</td>\n",
       "      <td>12623.0</td>\n",
       "      <td>1081</td>\n",
       "      <td>4024.0</td>\n",
       "      <td>475.0</td>\n",
       "      <td>148113.0</td>\n",
       "      <td>25844.0</td>\n",
       "      <td>1991.0</td>\n",
       "      <td>2045.0</td>\n",
       "      <td>...</td>\n",
       "      <td>2414.0</td>\n",
       "      <td>2780.0</td>\n",
       "      <td>2820.0</td>\n",
       "      <td>5</td>\n",
       "      <td>1</td>\n",
       "      <td>4</td>\n",
       "      <td>13566.428571</td>\n",
       "      <td>1218.714286</td>\n",
       "      <td>3848.285714</td>\n",
       "      <td>508.714286</td>\n",
       "    </tr>\n",
       "    <tr>\n",
       "      <th>2020-05-02</th>\n",
       "      <td>41.316072</td>\n",
       "      <td>78457</td>\n",
       "      <td>12314.0</td>\n",
       "      <td>980</td>\n",
       "      <td>2677.0</td>\n",
       "      <td>424.0</td>\n",
       "      <td>150790.0</td>\n",
       "      <td>26268.0</td>\n",
       "      <td>1954.0</td>\n",
       "      <td>1991.0</td>\n",
       "      <td>...</td>\n",
       "      <td>2405.0</td>\n",
       "      <td>2868.0</td>\n",
       "      <td>2865.0</td>\n",
       "      <td>5</td>\n",
       "      <td>2</td>\n",
       "      <td>5</td>\n",
       "      <td>13296.714286</td>\n",
       "      <td>1204.428571</td>\n",
       "      <td>3768.857143</td>\n",
       "      <td>490.571429</td>\n",
       "    </tr>\n",
       "  </tbody>\n",
       "</table>\n",
       "<p>5 rows × 22 columns</p>\n",
       "</div>"
      ],
      "text/plain": [
       "            covidOccupiedMVBeds  cumAdmissions  hospitalCases  newAdmissions  \\\n",
       "date                                                                           \n",
       "2020-04-28            43.598269          73874        13565.0           1296   \n",
       "2020-04-29            43.174504          75169        13224.0           1295   \n",
       "2020-04-30            42.688971          76396        12922.0           1227   \n",
       "2020-05-01            42.353640          77477        12623.0           1081   \n",
       "2020-05-02            41.316072          78457        12314.0            980   \n",
       "\n",
       "            new_confirmed  new_deceased  cumulative_confirmed  \\\n",
       "date                                                            \n",
       "2020-04-28         3902.0         496.0              135248.0   \n",
       "2020-04-29         4610.0         495.0              139858.0   \n",
       "2020-04-30         4231.0         483.0              144089.0   \n",
       "2020-05-01         4024.0         475.0              148113.0   \n",
       "2020-05-02         2677.0         424.0              150790.0   \n",
       "\n",
       "            cumulative_deceased  covidOccupiedMVBeds_lag_1  \\\n",
       "date                                                         \n",
       "2020-04-28              24391.0                     2194.0   \n",
       "2020-04-29              24886.0                     2093.0   \n",
       "2020-04-30              25369.0                     2045.0   \n",
       "2020-05-01              25844.0                     1991.0   \n",
       "2020-05-02              26268.0                     1954.0   \n",
       "\n",
       "            covidOccupiedMVBeds_lag_2  ...  covidOccupiedMVBeds_lag_7  \\\n",
       "date                                   ...                              \n",
       "2020-04-28                     2309.0  ...                     2701.0   \n",
       "2020-04-29                     2194.0  ...                     2646.0   \n",
       "2020-04-30                     2093.0  ...                     2563.0   \n",
       "2020-05-01                     2045.0  ...                     2414.0   \n",
       "2020-05-02                     1991.0  ...                     2405.0   \n",
       "\n",
       "            covidOccupiedMVBeds_lag_14  covidOccupiedMVBeds_lag_21  month  \\\n",
       "date                                                                        \n",
       "2020-04-28                      2849.0                      2472.0      4   \n",
       "2020-04-29                      2847.0                      2561.0      4   \n",
       "2020-04-30                      2838.0                      2546.0      4   \n",
       "2020-05-01                      2780.0                      2820.0      5   \n",
       "2020-05-02                      2868.0                      2865.0      5   \n",
       "\n",
       "            day  day_of_week  hospitalCases_rolling_7_mean  \\\n",
       "date                                                         \n",
       "2020-04-28   28            1                  14608.285714   \n",
       "2020-04-29   29            2                  14209.142857   \n",
       "2020-04-30   30            3                  13854.857143   \n",
       "2020-05-01    1            4                  13566.428571   \n",
       "2020-05-02    2            5                  13296.714286   \n",
       "\n",
       "            newAdmissions_rolling_7_mean  new_confirmed_rolling_7_mean  \\\n",
       "date                                                                     \n",
       "2020-04-28                   1257.714286                   3900.857143   \n",
       "2020-04-29                   1255.571429                   3895.142857   \n",
       "2020-04-30                   1246.714286                   3867.714286   \n",
       "2020-05-01                   1218.714286                   3848.285714   \n",
       "2020-05-02                   1204.428571                   3768.857143   \n",
       "\n",
       "            new_deceased_rolling_7_mean  \n",
       "date                                     \n",
       "2020-04-28                   563.428571  \n",
       "2020-04-29                   542.714286  \n",
       "2020-04-30                   526.714286  \n",
       "2020-05-01                   508.714286  \n",
       "2020-05-02                   490.571429  \n",
       "\n",
       "[5 rows x 22 columns]"
      ]
     },
     "execution_count": 9,
     "metadata": {},
     "output_type": "execute_result"
    }
   ],
   "source": [
    "# Set the target variable\n",
    "target = \"covidOccupiedMVBeds\"\n",
    "\n",
    "seasonal_period = 7\n",
    "auto_stationary = AutoStationaryTransformer(seasonal_period=seasonal_period)\n",
    "\n",
    "# Fit and transform the target column to make it stationary\n",
    "data_stat = auto_stationary.fit_transform(merged_data[[target]], freq=\"D\")\n",
    "\n",
    "# Replace the original target values with the transformed stationary values\n",
    "merged_data[target] = data_stat.values\n",
    "\n",
    "# Print the transformed data to check\n",
    "merged_data.head()"
   ]
  },
  {
   "cell_type": "code",
   "execution_count": 10,
   "metadata": {},
   "outputs": [
    {
     "name": "stdout",
     "output_type": "stream",
     "text": [
      "Train: 69.93%, Validation: 19.93%, Test: 10.14%\n",
      "Train: 607 samples, Validation: 173 samples, Test: 88 samples\n",
      "Max date in train: 2021-12-25 00:00:00, Min date in validation: 2021-12-26 00:00:00, Max date in test: 2022-09-12 00:00:00\n"
     ]
    }
   ],
   "source": [
    "# Calculate split points\n",
    "total_days = date_range.days\n",
    "train_end = min_date + pd.Timedelta(days=int(total_days * 0.70))\n",
    "val_end = train_end + pd.Timedelta(days=int(total_days * 0.20))\n",
    "\n",
    "# Split the data into training, validation, and testing sets\n",
    "train = merged_data[merged_data.index <= train_end]\n",
    "val = merged_data[(merged_data.index > train_end) & (merged_data.index <= val_end)]\n",
    "test = merged_data[merged_data.index > val_end]\n",
    "\n",
    "# Calculate the percentage of dates in each dataset\n",
    "total_sample = len(merged_data)\n",
    "train_sample = len(train) / total_sample * 100\n",
    "val_sample = len(val) / total_sample * 100\n",
    "test_sample = len(test) / total_sample * 100\n",
    "\n",
    "print(\n",
    "    f\"Train: {train_sample:.2f}%, Validation: {val_sample:.2f}%, Test: {test_sample:.2f}%\"\n",
    ")\n",
    "print(\n",
    "    f\"Train: {len(train)} samples, Validation: {len(val)} samples, Test: {len(test)} samples\"\n",
    ")\n",
    "print(\n",
    "    f\"Max date in train: {train.index.max()}, Min date in validation: {val.index.min()}, Max date in test: {test.index.max()}\"\n",
    ")"
   ]
  },
  {
   "cell_type": "code",
   "execution_count": 11,
   "metadata": {},
   "outputs": [
    {
     "data": {
      "text/plain": [
       "Index(['covidOccupiedMVBeds', 'cumAdmissions', 'hospitalCases',\n",
       "       'newAdmissions', 'new_confirmed', 'new_deceased',\n",
       "       'cumulative_confirmed', 'cumulative_deceased',\n",
       "       'covidOccupiedMVBeds_lag_1', 'covidOccupiedMVBeds_lag_2',\n",
       "       'covidOccupiedMVBeds_lag_3', 'covidOccupiedMVBeds_lag_5',\n",
       "       'covidOccupiedMVBeds_lag_7', 'covidOccupiedMVBeds_lag_14',\n",
       "       'covidOccupiedMVBeds_lag_21', 'month', 'day', 'day_of_week',\n",
       "       'hospitalCases_rolling_7_mean', 'newAdmissions_rolling_7_mean',\n",
       "       'new_confirmed_rolling_7_mean', 'new_deceased_rolling_7_mean'],\n",
       "      dtype='object')"
      ]
     },
     "execution_count": 11,
     "metadata": {},
     "output_type": "execute_result"
    }
   ],
   "source": [
    "train.columns"
   ]
  },
  {
   "cell_type": "code",
   "execution_count": 12,
   "metadata": {},
   "outputs": [
    {
     "data": {
      "text/html": [
       "<div>\n",
       "<style scoped>\n",
       "    .dataframe tbody tr th:only-of-type {\n",
       "        vertical-align: middle;\n",
       "    }\n",
       "\n",
       "    .dataframe tbody tr th {\n",
       "        vertical-align: top;\n",
       "    }\n",
       "\n",
       "    .dataframe thead th {\n",
       "        text-align: right;\n",
       "    }\n",
       "</style>\n",
       "<table border=\"1\" class=\"dataframe\">\n",
       "  <thead>\n",
       "    <tr style=\"text-align: right;\">\n",
       "      <th></th>\n",
       "      <th>covidOccupiedMVBeds_lag_1</th>\n",
       "      <th>covidOccupiedMVBeds_lag_2</th>\n",
       "      <th>covidOccupiedMVBeds_lag_3</th>\n",
       "      <th>covidOccupiedMVBeds_lag_5</th>\n",
       "      <th>covidOccupiedMVBeds_lag_7</th>\n",
       "      <th>covidOccupiedMVBeds_lag_14</th>\n",
       "      <th>covidOccupiedMVBeds_lag_21</th>\n",
       "      <th>month</th>\n",
       "      <th>day</th>\n",
       "      <th>day_of_week</th>\n",
       "      <th>hospitalCases_rolling_7_mean</th>\n",
       "      <th>newAdmissions_rolling_7_mean</th>\n",
       "      <th>covidOccupiedMVBeds</th>\n",
       "    </tr>\n",
       "    <tr>\n",
       "      <th>date</th>\n",
       "      <th></th>\n",
       "      <th></th>\n",
       "      <th></th>\n",
       "      <th></th>\n",
       "      <th></th>\n",
       "      <th></th>\n",
       "      <th></th>\n",
       "      <th></th>\n",
       "      <th></th>\n",
       "      <th></th>\n",
       "      <th></th>\n",
       "      <th></th>\n",
       "      <th></th>\n",
       "    </tr>\n",
       "  </thead>\n",
       "  <tbody>\n",
       "    <tr>\n",
       "      <th>2020-04-28</th>\n",
       "      <td>2194.0</td>\n",
       "      <td>2309.0</td>\n",
       "      <td>2405.0</td>\n",
       "      <td>2563.0</td>\n",
       "      <td>2701.0</td>\n",
       "      <td>2849.0</td>\n",
       "      <td>2472.0</td>\n",
       "      <td>4.0</td>\n",
       "      <td>28.0</td>\n",
       "      <td>1.0</td>\n",
       "      <td>14608.286133</td>\n",
       "      <td>1257.714233</td>\n",
       "      <td>43.598270</td>\n",
       "    </tr>\n",
       "    <tr>\n",
       "      <th>2020-04-29</th>\n",
       "      <td>2093.0</td>\n",
       "      <td>2194.0</td>\n",
       "      <td>2309.0</td>\n",
       "      <td>2414.0</td>\n",
       "      <td>2646.0</td>\n",
       "      <td>2847.0</td>\n",
       "      <td>2561.0</td>\n",
       "      <td>4.0</td>\n",
       "      <td>29.0</td>\n",
       "      <td>2.0</td>\n",
       "      <td>14209.142578</td>\n",
       "      <td>1255.571411</td>\n",
       "      <td>43.174503</td>\n",
       "    </tr>\n",
       "    <tr>\n",
       "      <th>2020-04-30</th>\n",
       "      <td>2045.0</td>\n",
       "      <td>2093.0</td>\n",
       "      <td>2194.0</td>\n",
       "      <td>2405.0</td>\n",
       "      <td>2563.0</td>\n",
       "      <td>2838.0</td>\n",
       "      <td>2546.0</td>\n",
       "      <td>4.0</td>\n",
       "      <td>30.0</td>\n",
       "      <td>3.0</td>\n",
       "      <td>13854.857422</td>\n",
       "      <td>1246.714233</td>\n",
       "      <td>42.688972</td>\n",
       "    </tr>\n",
       "    <tr>\n",
       "      <th>2020-05-01</th>\n",
       "      <td>1991.0</td>\n",
       "      <td>2045.0</td>\n",
       "      <td>2093.0</td>\n",
       "      <td>2309.0</td>\n",
       "      <td>2414.0</td>\n",
       "      <td>2780.0</td>\n",
       "      <td>2820.0</td>\n",
       "      <td>5.0</td>\n",
       "      <td>1.0</td>\n",
       "      <td>4.0</td>\n",
       "      <td>13566.428711</td>\n",
       "      <td>1218.714233</td>\n",
       "      <td>42.353642</td>\n",
       "    </tr>\n",
       "    <tr>\n",
       "      <th>2020-05-02</th>\n",
       "      <td>1954.0</td>\n",
       "      <td>1991.0</td>\n",
       "      <td>2045.0</td>\n",
       "      <td>2194.0</td>\n",
       "      <td>2405.0</td>\n",
       "      <td>2868.0</td>\n",
       "      <td>2865.0</td>\n",
       "      <td>5.0</td>\n",
       "      <td>2.0</td>\n",
       "      <td>5.0</td>\n",
       "      <td>13296.713867</td>\n",
       "      <td>1204.428589</td>\n",
       "      <td>41.316071</td>\n",
       "    </tr>\n",
       "  </tbody>\n",
       "</table>\n",
       "</div>"
      ],
      "text/plain": [
       "            covidOccupiedMVBeds_lag_1  covidOccupiedMVBeds_lag_2  \\\n",
       "date                                                               \n",
       "2020-04-28                     2194.0                     2309.0   \n",
       "2020-04-29                     2093.0                     2194.0   \n",
       "2020-04-30                     2045.0                     2093.0   \n",
       "2020-05-01                     1991.0                     2045.0   \n",
       "2020-05-02                     1954.0                     1991.0   \n",
       "\n",
       "            covidOccupiedMVBeds_lag_3  covidOccupiedMVBeds_lag_5  \\\n",
       "date                                                               \n",
       "2020-04-28                     2405.0                     2563.0   \n",
       "2020-04-29                     2309.0                     2414.0   \n",
       "2020-04-30                     2194.0                     2405.0   \n",
       "2020-05-01                     2093.0                     2309.0   \n",
       "2020-05-02                     2045.0                     2194.0   \n",
       "\n",
       "            covidOccupiedMVBeds_lag_7  covidOccupiedMVBeds_lag_14  \\\n",
       "date                                                                \n",
       "2020-04-28                     2701.0                      2849.0   \n",
       "2020-04-29                     2646.0                      2847.0   \n",
       "2020-04-30                     2563.0                      2838.0   \n",
       "2020-05-01                     2414.0                      2780.0   \n",
       "2020-05-02                     2405.0                      2868.0   \n",
       "\n",
       "            covidOccupiedMVBeds_lag_21  month   day  day_of_week  \\\n",
       "date                                                               \n",
       "2020-04-28                      2472.0    4.0  28.0          1.0   \n",
       "2020-04-29                      2561.0    4.0  29.0          2.0   \n",
       "2020-04-30                      2546.0    4.0  30.0          3.0   \n",
       "2020-05-01                      2820.0    5.0   1.0          4.0   \n",
       "2020-05-02                      2865.0    5.0   2.0          5.0   \n",
       "\n",
       "            hospitalCases_rolling_7_mean  newAdmissions_rolling_7_mean  \\\n",
       "date                                                                     \n",
       "2020-04-28                  14608.286133                   1257.714233   \n",
       "2020-04-29                  14209.142578                   1255.571411   \n",
       "2020-04-30                  13854.857422                   1246.714233   \n",
       "2020-05-01                  13566.428711                   1218.714233   \n",
       "2020-05-02                  13296.713867                   1204.428589   \n",
       "\n",
       "            covidOccupiedMVBeds  \n",
       "date                             \n",
       "2020-04-28            43.598270  \n",
       "2020-04-29            43.174503  \n",
       "2020-04-30            42.688972  \n",
       "2020-05-01            42.353642  \n",
       "2020-05-02            41.316071  "
      ]
     },
     "execution_count": 12,
     "metadata": {},
     "output_type": "execute_result"
    }
   ],
   "source": [
    "# Concatenate the DataFrames\n",
    "sample_df = pd.concat([train, val, test])\n",
    "\n",
    "# Convert all the feature columns to float32\n",
    "sample_df = to_float32(sample_df)\n",
    "\n",
    "pinn_features = [\n",
    "    \"covidOccupiedMVBeds\",\n",
    "    \"covidOccupiedMVBeds_lag_1\",\n",
    "    \"covidOccupiedMVBeds_lag_2\",\n",
    "    \"covidOccupiedMVBeds_lag_3\",\n",
    "    \"covidOccupiedMVBeds_lag_5\",\n",
    "    \"covidOccupiedMVBeds_lag_7\",\n",
    "    \"covidOccupiedMVBeds_lag_14\",\n",
    "    \"covidOccupiedMVBeds_lag_21\",\n",
    "    \"month\",\n",
    "    \"day\",\n",
    "    \"day_of_week\",\n",
    "    \"hospitalCases_rolling_7_mean\",\n",
    "    \"newAdmissions_rolling_7_mean\",\n",
    "]\n",
    "\n",
    "sample_df = sample_df[pinn_features]\n",
    "cols = list(sample_df.columns)\n",
    "cols.remove(\"covidOccupiedMVBeds\")\n",
    "sample_df = sample_df[cols + [\"covidOccupiedMVBeds\"]]\n",
    "sample_df.head()"
   ]
  },
  {
   "cell_type": "code",
   "execution_count": 13,
   "metadata": {},
   "outputs": [],
   "source": [
    "# Prepare DataModule for PyTorch Lightning\n",
    "datamodule = TimeSeriesDataModule(\n",
    "    data=sample_df,\n",
    "    n_val=val.shape[0],\n",
    "    n_test=test.shape[0],\n",
    "    window=7,  # 7 days window\n",
    "    horizon=1,  # single step\n",
    "    normalize=\"global\",  # normalizing the data\n",
    "    batch_size=32,\n",
    "    num_workers=0,\n",
    ")\n",
    "datamodule.setup()\n",
    "\n",
    "# Initialize pred_df\n",
    "pred_df = test.copy()"
   ]
  },
  {
   "cell_type": "code",
   "execution_count": 14,
   "metadata": {},
   "outputs": [],
   "source": [
    "# Function to train and evaluate models\n",
    "def train_and_evaluate(model, rnn_config, datamodule, test, train, algorithm_name, metric_record, pred_df):\n",
    "    trainer = pl.Trainer(\n",
    "        min_epochs=5,\n",
    "        max_epochs=200,\n",
    "        accelerator=\"gpu\",\n",
    "        devices=1,\n",
    "        callbacks=[EarlyStopping(monitor=\"valid_loss\", patience=20)],\n",
    "    )\n",
    "    trainer.fit(model, datamodule)\n",
    "\n",
    "    predictions = trainer.predict(model, datamodule.test_dataloader())\n",
    "    predictions = torch.cat(predictions).squeeze().detach().numpy()\n",
    "    predictions = predictions * datamodule.train.std + datamodule.train.mean\n",
    "    actuals = test[\"covidOccupiedMVBeds\"].values\n",
    "\n",
    "    assert actuals.shape == predictions.shape, \"Mismatch in shapes between actuals and predictions\"\n",
    "\n",
    "    metrics = {\n",
    "        \"Algorithm\": algorithm_name,\n",
    "        \"MAE\": mae(actuals, predictions),\n",
    "        \"MAPE\": mape(actuals, predictions),\n",
    "        \"RMSE\": rmse(actuals, predictions),\n",
    "        \"NRMSE\": nrmse(actuals, predictions),\n",
    "        \"MSE\": mse(actuals, predictions),\n",
    "        \"MASE\": mase(actuals, predictions, train[\"covidOccupiedMVBeds\"].values),\n",
    "        \"Forecast Bias\": forecast_bias(actuals, predictions),\n",
    "    }\n",
    "\n",
    "    value_formats = [\"{}\", \"{:.4f}\", \"{:.4f}\", \"{:.4f}\", \"{:.4f}\", \"{:.4f}\", \"{:.4f}\", \"{:.2f}\"]\n",
    "    metrics = {\n",
    "        key: format_.format(value)\n",
    "        for key, value, format_ in zip(metrics.keys(), metrics.values(), value_formats)\n",
    "    }\n",
    "\n",
    "    pred_df_ = pd.DataFrame({algorithm_name: predictions}, index=test.index)\n",
    "    pred_df = pred_df.join(pred_df_)\n",
    "    metric_record.append(metrics)\n",
    "    logging.info(metrics)\n",
    "    return metric_record, pred_df"
   ]
  },
  {
   "cell_type": "code",
   "execution_count": 15,
   "metadata": {},
   "outputs": [
    {
     "name": "stderr",
     "output_type": "stream",
     "text": [
      "GPU available: True (cuda), used: True\n",
      "TPU available: False, using: 0 TPU cores\n",
      "IPU available: False, using: 0 IPUs\n",
      "HPU available: False, using: 0 HPUs\n",
      "LOCAL_RANK: 0 - CUDA_VISIBLE_DEVICES: [0]\n",
      "\n",
      "  | Name | Type    | Params\n",
      "---------------------------------\n",
      "0 | rnn  | RNN     | 10.0 K\n",
      "1 | fc   | Linear  | 33    \n",
      "2 | loss | MSELoss | 0     \n",
      "---------------------------------\n",
      "10.0 K    Trainable params\n",
      "0         Non-trainable params\n",
      "10.0 K    Total params\n",
      "0.040     Total estimated model params size (MB)\n"
     ]
    },
    {
     "data": {
      "application/vnd.jupyter.widget-view+json": {
       "model_id": "973e5b0749af404891af4da729bd4164",
       "version_major": 2,
       "version_minor": 0
      },
      "text/plain": [
       "Sanity Checking: |          | 0/? [00:00<?, ?it/s]"
      ]
     },
     "metadata": {},
     "output_type": "display_data"
    },
    {
     "data": {
      "application/vnd.jupyter.widget-view+json": {
       "model_id": "c06ae535ea084ab98939499684b846d6",
       "version_major": 2,
       "version_minor": 0
      },
      "text/plain": [
       "Training: |          | 0/? [00:00<?, ?it/s]"
      ]
     },
     "metadata": {},
     "output_type": "display_data"
    },
    {
     "data": {
      "application/vnd.jupyter.widget-view+json": {
       "model_id": "316a18ee4bcd48279b76965096a917f8",
       "version_major": 2,
       "version_minor": 0
      },
      "text/plain": [
       "Validation: |          | 0/? [00:00<?, ?it/s]"
      ]
     },
     "metadata": {},
     "output_type": "display_data"
    },
    {
     "data": {
      "application/vnd.jupyter.widget-view+json": {
       "model_id": "02c340d5e5264aa8b7f784e8499a7317",
       "version_major": 2,
       "version_minor": 0
      },
      "text/plain": [
       "Validation: |          | 0/? [00:00<?, ?it/s]"
      ]
     },
     "metadata": {},
     "output_type": "display_data"
    },
    {
     "data": {
      "application/vnd.jupyter.widget-view+json": {
       "model_id": "ea5b905a715a4106ae91136b86e41bf5",
       "version_major": 2,
       "version_minor": 0
      },
      "text/plain": [
       "Validation: |          | 0/? [00:00<?, ?it/s]"
      ]
     },
     "metadata": {},
     "output_type": "display_data"
    },
    {
     "data": {
      "application/vnd.jupyter.widget-view+json": {
       "model_id": "726f6e224a84467f9a9e8a1c76502721",
       "version_major": 2,
       "version_minor": 0
      },
      "text/plain": [
       "Validation: |          | 0/? [00:00<?, ?it/s]"
      ]
     },
     "metadata": {},
     "output_type": "display_data"
    },
    {
     "data": {
      "application/vnd.jupyter.widget-view+json": {
       "model_id": "deb2763bdda140e7b1834b5b43fa1602",
       "version_major": 2,
       "version_minor": 0
      },
      "text/plain": [
       "Validation: |          | 0/? [00:00<?, ?it/s]"
      ]
     },
     "metadata": {},
     "output_type": "display_data"
    },
    {
     "data": {
      "application/vnd.jupyter.widget-view+json": {
       "model_id": "83dbe9f05edb4090a8ddb6abaeb1a633",
       "version_major": 2,
       "version_minor": 0
      },
      "text/plain": [
       "Validation: |          | 0/? [00:00<?, ?it/s]"
      ]
     },
     "metadata": {},
     "output_type": "display_data"
    },
    {
     "data": {
      "application/vnd.jupyter.widget-view+json": {
       "model_id": "b14a5aaa1ff542009433956291a3b891",
       "version_major": 2,
       "version_minor": 0
      },
      "text/plain": [
       "Validation: |          | 0/? [00:00<?, ?it/s]"
      ]
     },
     "metadata": {},
     "output_type": "display_data"
    },
    {
     "data": {
      "application/vnd.jupyter.widget-view+json": {
       "model_id": "56868eb429614dd4b7f1ee2f10592fac",
       "version_major": 2,
       "version_minor": 0
      },
      "text/plain": [
       "Validation: |          | 0/? [00:00<?, ?it/s]"
      ]
     },
     "metadata": {},
     "output_type": "display_data"
    },
    {
     "data": {
      "application/vnd.jupyter.widget-view+json": {
       "model_id": "90accf70417540e5acc0f8b7d4bf4eb9",
       "version_major": 2,
       "version_minor": 0
      },
      "text/plain": [
       "Validation: |          | 0/? [00:00<?, ?it/s]"
      ]
     },
     "metadata": {},
     "output_type": "display_data"
    },
    {
     "data": {
      "application/vnd.jupyter.widget-view+json": {
       "model_id": "0dfb10ada29f4504b7b4d5627563c1aa",
       "version_major": 2,
       "version_minor": 0
      },
      "text/plain": [
       "Validation: |          | 0/? [00:00<?, ?it/s]"
      ]
     },
     "metadata": {},
     "output_type": "display_data"
    },
    {
     "data": {
      "application/vnd.jupyter.widget-view+json": {
       "model_id": "1632ba920cf941a496f700629bde94ab",
       "version_major": 2,
       "version_minor": 0
      },
      "text/plain": [
       "Validation: |          | 0/? [00:00<?, ?it/s]"
      ]
     },
     "metadata": {},
     "output_type": "display_data"
    },
    {
     "data": {
      "application/vnd.jupyter.widget-view+json": {
       "model_id": "2724d03d31ce4ce2999ac8f77518bc49",
       "version_major": 2,
       "version_minor": 0
      },
      "text/plain": [
       "Validation: |          | 0/? [00:00<?, ?it/s]"
      ]
     },
     "metadata": {},
     "output_type": "display_data"
    },
    {
     "data": {
      "application/vnd.jupyter.widget-view+json": {
       "model_id": "852b9a3b67374c678ef6e5990b3f8d85",
       "version_major": 2,
       "version_minor": 0
      },
      "text/plain": [
       "Validation: |          | 0/? [00:00<?, ?it/s]"
      ]
     },
     "metadata": {},
     "output_type": "display_data"
    },
    {
     "data": {
      "application/vnd.jupyter.widget-view+json": {
       "model_id": "caef41a9c3df42c6aaa349bbad5689f1",
       "version_major": 2,
       "version_minor": 0
      },
      "text/plain": [
       "Validation: |          | 0/? [00:00<?, ?it/s]"
      ]
     },
     "metadata": {},
     "output_type": "display_data"
    },
    {
     "data": {
      "application/vnd.jupyter.widget-view+json": {
       "model_id": "7ce7c462975b43c98db6bdf05a7bbb2f",
       "version_major": 2,
       "version_minor": 0
      },
      "text/plain": [
       "Validation: |          | 0/? [00:00<?, ?it/s]"
      ]
     },
     "metadata": {},
     "output_type": "display_data"
    },
    {
     "data": {
      "application/vnd.jupyter.widget-view+json": {
       "model_id": "3c37f370d44042b5aece99118600e445",
       "version_major": 2,
       "version_minor": 0
      },
      "text/plain": [
       "Validation: |          | 0/? [00:00<?, ?it/s]"
      ]
     },
     "metadata": {},
     "output_type": "display_data"
    },
    {
     "data": {
      "application/vnd.jupyter.widget-view+json": {
       "model_id": "302289fcfb0d4ce493a38b1b5d95fbef",
       "version_major": 2,
       "version_minor": 0
      },
      "text/plain": [
       "Validation: |          | 0/? [00:00<?, ?it/s]"
      ]
     },
     "metadata": {},
     "output_type": "display_data"
    },
    {
     "data": {
      "application/vnd.jupyter.widget-view+json": {
       "model_id": "4b391760f97e4553b1fccd65c7c9c771",
       "version_major": 2,
       "version_minor": 0
      },
      "text/plain": [
       "Validation: |          | 0/? [00:00<?, ?it/s]"
      ]
     },
     "metadata": {},
     "output_type": "display_data"
    },
    {
     "data": {
      "application/vnd.jupyter.widget-view+json": {
       "model_id": "693bb6dc2a5a4eeebfb7dad1d83120df",
       "version_major": 2,
       "version_minor": 0
      },
      "text/plain": [
       "Validation: |          | 0/? [00:00<?, ?it/s]"
      ]
     },
     "metadata": {},
     "output_type": "display_data"
    },
    {
     "data": {
      "application/vnd.jupyter.widget-view+json": {
       "model_id": "c836cb5ae80c47a59a1394df67f9951a",
       "version_major": 2,
       "version_minor": 0
      },
      "text/plain": [
       "Validation: |          | 0/? [00:00<?, ?it/s]"
      ]
     },
     "metadata": {},
     "output_type": "display_data"
    },
    {
     "data": {
      "application/vnd.jupyter.widget-view+json": {
       "model_id": "daae7f48de854b00af6377932ea6e52a",
       "version_major": 2,
       "version_minor": 0
      },
      "text/plain": [
       "Validation: |          | 0/? [00:00<?, ?it/s]"
      ]
     },
     "metadata": {},
     "output_type": "display_data"
    },
    {
     "data": {
      "application/vnd.jupyter.widget-view+json": {
       "model_id": "d721feb42c9e4a1085f7138660dff58e",
       "version_major": 2,
       "version_minor": 0
      },
      "text/plain": [
       "Validation: |          | 0/? [00:00<?, ?it/s]"
      ]
     },
     "metadata": {},
     "output_type": "display_data"
    },
    {
     "data": {
      "application/vnd.jupyter.widget-view+json": {
       "model_id": "54e715868ae4469bb3ea1ba5f32864f9",
       "version_major": 2,
       "version_minor": 0
      },
      "text/plain": [
       "Validation: |          | 0/? [00:00<?, ?it/s]"
      ]
     },
     "metadata": {},
     "output_type": "display_data"
    },
    {
     "data": {
      "application/vnd.jupyter.widget-view+json": {
       "model_id": "ba980537bee54fdd9bab03ba83c3cc09",
       "version_major": 2,
       "version_minor": 0
      },
      "text/plain": [
       "Validation: |          | 0/? [00:00<?, ?it/s]"
      ]
     },
     "metadata": {},
     "output_type": "display_data"
    },
    {
     "data": {
      "application/vnd.jupyter.widget-view+json": {
       "model_id": "464323dfbc4045879a4efdff0cdb9ceb",
       "version_major": 2,
       "version_minor": 0
      },
      "text/plain": [
       "Validation: |          | 0/? [00:00<?, ?it/s]"
      ]
     },
     "metadata": {},
     "output_type": "display_data"
    },
    {
     "data": {
      "application/vnd.jupyter.widget-view+json": {
       "model_id": "71c61c44b40840cd8acd598283464ff0",
       "version_major": 2,
       "version_minor": 0
      },
      "text/plain": [
       "Validation: |          | 0/? [00:00<?, ?it/s]"
      ]
     },
     "metadata": {},
     "output_type": "display_data"
    },
    {
     "data": {
      "application/vnd.jupyter.widget-view+json": {
       "model_id": "91f6bf35c8924c08880818039228c874",
       "version_major": 2,
       "version_minor": 0
      },
      "text/plain": [
       "Validation: |          | 0/? [00:00<?, ?it/s]"
      ]
     },
     "metadata": {},
     "output_type": "display_data"
    },
    {
     "data": {
      "application/vnd.jupyter.widget-view+json": {
       "model_id": "f5644d7434844a3b8e92dd61fd04b519",
       "version_major": 2,
       "version_minor": 0
      },
      "text/plain": [
       "Validation: |          | 0/? [00:00<?, ?it/s]"
      ]
     },
     "metadata": {},
     "output_type": "display_data"
    },
    {
     "data": {
      "application/vnd.jupyter.widget-view+json": {
       "model_id": "f39be403d1e745d58dd71b6f50064760",
       "version_major": 2,
       "version_minor": 0
      },
      "text/plain": [
       "Validation: |          | 0/? [00:00<?, ?it/s]"
      ]
     },
     "metadata": {},
     "output_type": "display_data"
    },
    {
     "data": {
      "application/vnd.jupyter.widget-view+json": {
       "model_id": "c5cd1529688a4237b46929b2945a9b72",
       "version_major": 2,
       "version_minor": 0
      },
      "text/plain": [
       "Validation: |          | 0/? [00:00<?, ?it/s]"
      ]
     },
     "metadata": {},
     "output_type": "display_data"
    },
    {
     "data": {
      "application/vnd.jupyter.widget-view+json": {
       "model_id": "9b337516ee894bec88f478ec4992c7dd",
       "version_major": 2,
       "version_minor": 0
      },
      "text/plain": [
       "Validation: |          | 0/? [00:00<?, ?it/s]"
      ]
     },
     "metadata": {},
     "output_type": "display_data"
    },
    {
     "data": {
      "application/vnd.jupyter.widget-view+json": {
       "model_id": "8adb127ca4df44ba82c0d5f596ed1005",
       "version_major": 2,
       "version_minor": 0
      },
      "text/plain": [
       "Validation: |          | 0/? [00:00<?, ?it/s]"
      ]
     },
     "metadata": {},
     "output_type": "display_data"
    },
    {
     "data": {
      "application/vnd.jupyter.widget-view+json": {
       "model_id": "86ac83ee6b234c59b0e2e498f3b30a9d",
       "version_major": 2,
       "version_minor": 0
      },
      "text/plain": [
       "Validation: |          | 0/? [00:00<?, ?it/s]"
      ]
     },
     "metadata": {},
     "output_type": "display_data"
    },
    {
     "data": {
      "application/vnd.jupyter.widget-view+json": {
       "model_id": "9366ded8bd7d4b57956f0ddb6d29dd9b",
       "version_major": 2,
       "version_minor": 0
      },
      "text/plain": [
       "Validation: |          | 0/? [00:00<?, ?it/s]"
      ]
     },
     "metadata": {},
     "output_type": "display_data"
    },
    {
     "data": {
      "application/vnd.jupyter.widget-view+json": {
       "model_id": "f846b67c380a4a53bd5ee4fd5416f911",
       "version_major": 2,
       "version_minor": 0
      },
      "text/plain": [
       "Validation: |          | 0/? [00:00<?, ?it/s]"
      ]
     },
     "metadata": {},
     "output_type": "display_data"
    },
    {
     "data": {
      "application/vnd.jupyter.widget-view+json": {
       "model_id": "970c37e0ae234c7e979962867a361e6b",
       "version_major": 2,
       "version_minor": 0
      },
      "text/plain": [
       "Validation: |          | 0/? [00:00<?, ?it/s]"
      ]
     },
     "metadata": {},
     "output_type": "display_data"
    },
    {
     "data": {
      "application/vnd.jupyter.widget-view+json": {
       "model_id": "f16c22789d624b00aa6f13c7ffe5d830",
       "version_major": 2,
       "version_minor": 0
      },
      "text/plain": [
       "Validation: |          | 0/? [00:00<?, ?it/s]"
      ]
     },
     "metadata": {},
     "output_type": "display_data"
    },
    {
     "data": {
      "application/vnd.jupyter.widget-view+json": {
       "model_id": "3be707eb80e84b90a22c9f4e165a2789",
       "version_major": 2,
       "version_minor": 0
      },
      "text/plain": [
       "Validation: |          | 0/? [00:00<?, ?it/s]"
      ]
     },
     "metadata": {},
     "output_type": "display_data"
    },
    {
     "data": {
      "application/vnd.jupyter.widget-view+json": {
       "model_id": "f7e2e8eefccd48a8836721643418ca05",
       "version_major": 2,
       "version_minor": 0
      },
      "text/plain": [
       "Validation: |          | 0/? [00:00<?, ?it/s]"
      ]
     },
     "metadata": {},
     "output_type": "display_data"
    },
    {
     "data": {
      "application/vnd.jupyter.widget-view+json": {
       "model_id": "c0f43286cd744518a3f70cf751ea6ced",
       "version_major": 2,
       "version_minor": 0
      },
      "text/plain": [
       "Validation: |          | 0/? [00:00<?, ?it/s]"
      ]
     },
     "metadata": {},
     "output_type": "display_data"
    },
    {
     "data": {
      "application/vnd.jupyter.widget-view+json": {
       "model_id": "8b95f83f6a9c48d6ac80dfa35c03f1b0",
       "version_major": 2,
       "version_minor": 0
      },
      "text/plain": [
       "Validation: |          | 0/? [00:00<?, ?it/s]"
      ]
     },
     "metadata": {},
     "output_type": "display_data"
    },
    {
     "data": {
      "application/vnd.jupyter.widget-view+json": {
       "model_id": "fc14ff1445034ac685222cdb4ca30ba6",
       "version_major": 2,
       "version_minor": 0
      },
      "text/plain": [
       "Validation: |          | 0/? [00:00<?, ?it/s]"
      ]
     },
     "metadata": {},
     "output_type": "display_data"
    },
    {
     "data": {
      "application/vnd.jupyter.widget-view+json": {
       "model_id": "d75ccbbe641c4cd6a6334c4444ed6b00",
       "version_major": 2,
       "version_minor": 0
      },
      "text/plain": [
       "Validation: |          | 0/? [00:00<?, ?it/s]"
      ]
     },
     "metadata": {},
     "output_type": "display_data"
    },
    {
     "data": {
      "application/vnd.jupyter.widget-view+json": {
       "model_id": "6531d954ceef40c5aa0fc2032fcfaca9",
       "version_major": 2,
       "version_minor": 0
      },
      "text/plain": [
       "Validation: |          | 0/? [00:00<?, ?it/s]"
      ]
     },
     "metadata": {},
     "output_type": "display_data"
    },
    {
     "data": {
      "application/vnd.jupyter.widget-view+json": {
       "model_id": "c28ef9c971c742628ae455ec8f7fffcd",
       "version_major": 2,
       "version_minor": 0
      },
      "text/plain": [
       "Validation: |          | 0/? [00:00<?, ?it/s]"
      ]
     },
     "metadata": {},
     "output_type": "display_data"
    },
    {
     "data": {
      "application/vnd.jupyter.widget-view+json": {
       "model_id": "c62944dedc164d809aa603ef5cbdb226",
       "version_major": 2,
       "version_minor": 0
      },
      "text/plain": [
       "Validation: |          | 0/? [00:00<?, ?it/s]"
      ]
     },
     "metadata": {},
     "output_type": "display_data"
    },
    {
     "data": {
      "application/vnd.jupyter.widget-view+json": {
       "model_id": "939013b8166a4e76b3fce65cae9b771c",
       "version_major": 2,
       "version_minor": 0
      },
      "text/plain": [
       "Validation: |          | 0/? [00:00<?, ?it/s]"
      ]
     },
     "metadata": {},
     "output_type": "display_data"
    },
    {
     "data": {
      "application/vnd.jupyter.widget-view+json": {
       "model_id": "7385a01e7e664ecbb6254d70a7c77ee0",
       "version_major": 2,
       "version_minor": 0
      },
      "text/plain": [
       "Validation: |          | 0/? [00:00<?, ?it/s]"
      ]
     },
     "metadata": {},
     "output_type": "display_data"
    },
    {
     "data": {
      "application/vnd.jupyter.widget-view+json": {
       "model_id": "1f5fcefcfbc54d6fad097750353a1d2a",
       "version_major": 2,
       "version_minor": 0
      },
      "text/plain": [
       "Validation: |          | 0/? [00:00<?, ?it/s]"
      ]
     },
     "metadata": {},
     "output_type": "display_data"
    },
    {
     "data": {
      "application/vnd.jupyter.widget-view+json": {
       "model_id": "9485832e06ba40d4843a8502d6067b74",
       "version_major": 2,
       "version_minor": 0
      },
      "text/plain": [
       "Validation: |          | 0/? [00:00<?, ?it/s]"
      ]
     },
     "metadata": {},
     "output_type": "display_data"
    },
    {
     "name": "stderr",
     "output_type": "stream",
     "text": [
      "LOCAL_RANK: 0 - CUDA_VISIBLE_DEVICES: [0]\n"
     ]
    },
    {
     "data": {
      "application/vnd.jupyter.widget-view+json": {
       "model_id": "93a3b996981d46518f70085a573e2402",
       "version_major": 2,
       "version_minor": 0
      },
      "text/plain": [
       "Predicting: |          | 0/? [00:00<?, ?it/s]"
      ]
     },
     "metadata": {},
     "output_type": "display_data"
    },
    {
     "name": "stderr",
     "output_type": "stream",
     "text": [
      "2024-06-11 14:33:57,467 - INFO - {'Algorithm': 'Vanilla RNN', 'MAE': '7.1198', 'MAPE': '0.2461', 'RMSE': '8.0128', 'NRMSE': '2.1576', 'MSE': '64.2049', 'MASE': '19.3566', 'Forecast Bias': '-7.12'}\n",
      "GPU available: True (cuda), used: True\n",
      "TPU available: False, using: 0 TPU cores\n",
      "IPU available: False, using: 0 IPUs\n",
      "HPU available: False, using: 0 HPUs\n",
      "LOCAL_RANK: 0 - CUDA_VISIBLE_DEVICES: [0]\n",
      "\n",
      "  | Name | Type    | Params\n",
      "---------------------------------\n",
      "0 | rnn  | LSTM    | 112 K \n",
      "1 | fc   | Linear  | 65    \n",
      "2 | loss | MSELoss | 0     \n",
      "---------------------------------\n",
      "112 K     Trainable params\n",
      "0         Non-trainable params\n",
      "112 K     Total params\n",
      "0.450     Total estimated model params size (MB)\n"
     ]
    },
    {
     "data": {
      "application/vnd.jupyter.widget-view+json": {
       "model_id": "a483c6e5b9ee4d77b8cccc64c4d76e74",
       "version_major": 2,
       "version_minor": 0
      },
      "text/plain": [
       "Sanity Checking: |          | 0/? [00:00<?, ?it/s]"
      ]
     },
     "metadata": {},
     "output_type": "display_data"
    },
    {
     "data": {
      "application/vnd.jupyter.widget-view+json": {
       "model_id": "91cfc4c336624f8b9fc04b03a42dd012",
       "version_major": 2,
       "version_minor": 0
      },
      "text/plain": [
       "Training: |          | 0/? [00:00<?, ?it/s]"
      ]
     },
     "metadata": {},
     "output_type": "display_data"
    },
    {
     "data": {
      "application/vnd.jupyter.widget-view+json": {
       "model_id": "ab1edc6a58fe4af8b463eb7ea9053f73",
       "version_major": 2,
       "version_minor": 0
      },
      "text/plain": [
       "Validation: |          | 0/? [00:00<?, ?it/s]"
      ]
     },
     "metadata": {},
     "output_type": "display_data"
    },
    {
     "data": {
      "application/vnd.jupyter.widget-view+json": {
       "model_id": "450b70fcd4ec4e6783163b6a57d6d3ea",
       "version_major": 2,
       "version_minor": 0
      },
      "text/plain": [
       "Validation: |          | 0/? [00:00<?, ?it/s]"
      ]
     },
     "metadata": {},
     "output_type": "display_data"
    },
    {
     "data": {
      "application/vnd.jupyter.widget-view+json": {
       "model_id": "d5e82f97f5104b098bbcbb4eb0a737c3",
       "version_major": 2,
       "version_minor": 0
      },
      "text/plain": [
       "Validation: |          | 0/? [00:00<?, ?it/s]"
      ]
     },
     "metadata": {},
     "output_type": "display_data"
    },
    {
     "data": {
      "application/vnd.jupyter.widget-view+json": {
       "model_id": "dc617a1e183a4257a83879b32be95d7d",
       "version_major": 2,
       "version_minor": 0
      },
      "text/plain": [
       "Validation: |          | 0/? [00:00<?, ?it/s]"
      ]
     },
     "metadata": {},
     "output_type": "display_data"
    },
    {
     "data": {
      "application/vnd.jupyter.widget-view+json": {
       "model_id": "be627ead91364e2f8e3a44dde770dfb3",
       "version_major": 2,
       "version_minor": 0
      },
      "text/plain": [
       "Validation: |          | 0/? [00:00<?, ?it/s]"
      ]
     },
     "metadata": {},
     "output_type": "display_data"
    },
    {
     "data": {
      "application/vnd.jupyter.widget-view+json": {
       "model_id": "71131db2564941e98479caa1accb5f8a",
       "version_major": 2,
       "version_minor": 0
      },
      "text/plain": [
       "Validation: |          | 0/? [00:00<?, ?it/s]"
      ]
     },
     "metadata": {},
     "output_type": "display_data"
    },
    {
     "data": {
      "application/vnd.jupyter.widget-view+json": {
       "model_id": "27e4dc0cf7c74a05935dc6bd13217002",
       "version_major": 2,
       "version_minor": 0
      },
      "text/plain": [
       "Validation: |          | 0/? [00:00<?, ?it/s]"
      ]
     },
     "metadata": {},
     "output_type": "display_data"
    },
    {
     "data": {
      "application/vnd.jupyter.widget-view+json": {
       "model_id": "183980a7d4ae49709de27b05397dbebc",
       "version_major": 2,
       "version_minor": 0
      },
      "text/plain": [
       "Validation: |          | 0/? [00:00<?, ?it/s]"
      ]
     },
     "metadata": {},
     "output_type": "display_data"
    },
    {
     "data": {
      "application/vnd.jupyter.widget-view+json": {
       "model_id": "db6c7de29ab041e3a513849124f21d53",
       "version_major": 2,
       "version_minor": 0
      },
      "text/plain": [
       "Validation: |          | 0/? [00:00<?, ?it/s]"
      ]
     },
     "metadata": {},
     "output_type": "display_data"
    },
    {
     "data": {
      "application/vnd.jupyter.widget-view+json": {
       "model_id": "5599a456eb4e4e65aef230126ab7a9d1",
       "version_major": 2,
       "version_minor": 0
      },
      "text/plain": [
       "Validation: |          | 0/? [00:00<?, ?it/s]"
      ]
     },
     "metadata": {},
     "output_type": "display_data"
    },
    {
     "data": {
      "application/vnd.jupyter.widget-view+json": {
       "model_id": "9c0dd4b5f4e8499c826de972d7292f1d",
       "version_major": 2,
       "version_minor": 0
      },
      "text/plain": [
       "Validation: |          | 0/? [00:00<?, ?it/s]"
      ]
     },
     "metadata": {},
     "output_type": "display_data"
    },
    {
     "data": {
      "application/vnd.jupyter.widget-view+json": {
       "model_id": "459dc66897424c608bbe56aff5a35deb",
       "version_major": 2,
       "version_minor": 0
      },
      "text/plain": [
       "Validation: |          | 0/? [00:00<?, ?it/s]"
      ]
     },
     "metadata": {},
     "output_type": "display_data"
    },
    {
     "data": {
      "application/vnd.jupyter.widget-view+json": {
       "model_id": "9dc69cc7b5de4c33bd875c4c43fc09e4",
       "version_major": 2,
       "version_minor": 0
      },
      "text/plain": [
       "Validation: |          | 0/? [00:00<?, ?it/s]"
      ]
     },
     "metadata": {},
     "output_type": "display_data"
    },
    {
     "data": {
      "application/vnd.jupyter.widget-view+json": {
       "model_id": "a3e770f442af4c28810630e78a0262ea",
       "version_major": 2,
       "version_minor": 0
      },
      "text/plain": [
       "Validation: |          | 0/? [00:00<?, ?it/s]"
      ]
     },
     "metadata": {},
     "output_type": "display_data"
    },
    {
     "data": {
      "application/vnd.jupyter.widget-view+json": {
       "model_id": "ae07a0dafef04b88ab544a2a74a67fc9",
       "version_major": 2,
       "version_minor": 0
      },
      "text/plain": [
       "Validation: |          | 0/? [00:00<?, ?it/s]"
      ]
     },
     "metadata": {},
     "output_type": "display_data"
    },
    {
     "data": {
      "application/vnd.jupyter.widget-view+json": {
       "model_id": "e75b38afc9124aac97561dc5a803f608",
       "version_major": 2,
       "version_minor": 0
      },
      "text/plain": [
       "Validation: |          | 0/? [00:00<?, ?it/s]"
      ]
     },
     "metadata": {},
     "output_type": "display_data"
    },
    {
     "data": {
      "application/vnd.jupyter.widget-view+json": {
       "model_id": "ce459c78f05f4d2b858daeb3cfb67c02",
       "version_major": 2,
       "version_minor": 0
      },
      "text/plain": [
       "Validation: |          | 0/? [00:00<?, ?it/s]"
      ]
     },
     "metadata": {},
     "output_type": "display_data"
    },
    {
     "data": {
      "application/vnd.jupyter.widget-view+json": {
       "model_id": "fbad8a854a0f47c48bfa0a30eeff9280",
       "version_major": 2,
       "version_minor": 0
      },
      "text/plain": [
       "Validation: |          | 0/? [00:00<?, ?it/s]"
      ]
     },
     "metadata": {},
     "output_type": "display_data"
    },
    {
     "data": {
      "application/vnd.jupyter.widget-view+json": {
       "model_id": "9fc2151c8241406c8443801d9ec4f5f6",
       "version_major": 2,
       "version_minor": 0
      },
      "text/plain": [
       "Validation: |          | 0/? [00:00<?, ?it/s]"
      ]
     },
     "metadata": {},
     "output_type": "display_data"
    },
    {
     "data": {
      "application/vnd.jupyter.widget-view+json": {
       "model_id": "49594a94117443e48f50e25ad037bd78",
       "version_major": 2,
       "version_minor": 0
      },
      "text/plain": [
       "Validation: |          | 0/? [00:00<?, ?it/s]"
      ]
     },
     "metadata": {},
     "output_type": "display_data"
    },
    {
     "data": {
      "application/vnd.jupyter.widget-view+json": {
       "model_id": "947de7ff755a4b9e9f2ab9db4955e789",
       "version_major": 2,
       "version_minor": 0
      },
      "text/plain": [
       "Validation: |          | 0/? [00:00<?, ?it/s]"
      ]
     },
     "metadata": {},
     "output_type": "display_data"
    },
    {
     "data": {
      "application/vnd.jupyter.widget-view+json": {
       "model_id": "15b009a92b9b402ba77d25fda4e49d1f",
       "version_major": 2,
       "version_minor": 0
      },
      "text/plain": [
       "Validation: |          | 0/? [00:00<?, ?it/s]"
      ]
     },
     "metadata": {},
     "output_type": "display_data"
    },
    {
     "data": {
      "application/vnd.jupyter.widget-view+json": {
       "model_id": "ae44cfed315a460694cef26de64e1944",
       "version_major": 2,
       "version_minor": 0
      },
      "text/plain": [
       "Validation: |          | 0/? [00:00<?, ?it/s]"
      ]
     },
     "metadata": {},
     "output_type": "display_data"
    },
    {
     "data": {
      "application/vnd.jupyter.widget-view+json": {
       "model_id": "5af677935737476486d7b0dcc77823fc",
       "version_major": 2,
       "version_minor": 0
      },
      "text/plain": [
       "Validation: |          | 0/? [00:00<?, ?it/s]"
      ]
     },
     "metadata": {},
     "output_type": "display_data"
    },
    {
     "data": {
      "application/vnd.jupyter.widget-view+json": {
       "model_id": "7ec48268465f44d39cf001016cf873ae",
       "version_major": 2,
       "version_minor": 0
      },
      "text/plain": [
       "Validation: |          | 0/? [00:00<?, ?it/s]"
      ]
     },
     "metadata": {},
     "output_type": "display_data"
    },
    {
     "data": {
      "application/vnd.jupyter.widget-view+json": {
       "model_id": "6a271eddd90b485e859846663eea4941",
       "version_major": 2,
       "version_minor": 0
      },
      "text/plain": [
       "Validation: |          | 0/? [00:00<?, ?it/s]"
      ]
     },
     "metadata": {},
     "output_type": "display_data"
    },
    {
     "name": "stderr",
     "output_type": "stream",
     "text": [
      "LOCAL_RANK: 0 - CUDA_VISIBLE_DEVICES: [0]\n"
     ]
    },
    {
     "data": {
      "application/vnd.jupyter.widget-view+json": {
       "model_id": "8ea7f439682847faa31e96321f8d8834",
       "version_major": 2,
       "version_minor": 0
      },
      "text/plain": [
       "Predicting: |          | 0/? [00:00<?, ?it/s]"
      ]
     },
     "metadata": {},
     "output_type": "display_data"
    },
    {
     "name": "stderr",
     "output_type": "stream",
     "text": [
      "2024-06-11 14:34:03,028 - INFO - {'Algorithm': 'Vanilla LSTM', 'MAE': '3.1289', 'MAPE': '0.1070', 'RMSE': '3.5719', 'NRMSE': '0.9618', 'MSE': '12.7582', 'MASE': '8.5066', 'Forecast Bias': '0.08'}\n",
      "GPU available: True (cuda), used: True\n",
      "TPU available: False, using: 0 TPU cores\n",
      "IPU available: False, using: 0 IPUs\n",
      "HPU available: False, using: 0 HPUs\n",
      "LOCAL_RANK: 0 - CUDA_VISIBLE_DEVICES: [0]\n",
      "\n",
      "  | Name | Type    | Params\n",
      "---------------------------------\n",
      "0 | rnn  | GRU     | 84.3 K\n",
      "1 | fc   | Linear  | 65    \n",
      "2 | loss | MSELoss | 0     \n",
      "---------------------------------\n",
      "84.4 K    Trainable params\n",
      "0         Non-trainable params\n",
      "84.4 K    Total params\n",
      "0.337     Total estimated model params size (MB)\n"
     ]
    },
    {
     "data": {
      "application/vnd.jupyter.widget-view+json": {
       "model_id": "48717761bfbf4b2db450246c242bdcd8",
       "version_major": 2,
       "version_minor": 0
      },
      "text/plain": [
       "Sanity Checking: |          | 0/? [00:00<?, ?it/s]"
      ]
     },
     "metadata": {},
     "output_type": "display_data"
    },
    {
     "data": {
      "application/vnd.jupyter.widget-view+json": {
       "model_id": "3b099f38e63d49adb1212aa8476651e0",
       "version_major": 2,
       "version_minor": 0
      },
      "text/plain": [
       "Training: |          | 0/? [00:00<?, ?it/s]"
      ]
     },
     "metadata": {},
     "output_type": "display_data"
    },
    {
     "data": {
      "application/vnd.jupyter.widget-view+json": {
       "model_id": "5d4cb72097d44f51b670438b297c1b98",
       "version_major": 2,
       "version_minor": 0
      },
      "text/plain": [
       "Validation: |          | 0/? [00:00<?, ?it/s]"
      ]
     },
     "metadata": {},
     "output_type": "display_data"
    },
    {
     "data": {
      "application/vnd.jupyter.widget-view+json": {
       "model_id": "452e868ca149425fae3c52c03eeb5e5e",
       "version_major": 2,
       "version_minor": 0
      },
      "text/plain": [
       "Validation: |          | 0/? [00:00<?, ?it/s]"
      ]
     },
     "metadata": {},
     "output_type": "display_data"
    },
    {
     "data": {
      "application/vnd.jupyter.widget-view+json": {
       "model_id": "9aa5d95101f24680b9697f5da5af3584",
       "version_major": 2,
       "version_minor": 0
      },
      "text/plain": [
       "Validation: |          | 0/? [00:00<?, ?it/s]"
      ]
     },
     "metadata": {},
     "output_type": "display_data"
    },
    {
     "data": {
      "application/vnd.jupyter.widget-view+json": {
       "model_id": "2269ba4b858b49cba81f40c4fb079aca",
       "version_major": 2,
       "version_minor": 0
      },
      "text/plain": [
       "Validation: |          | 0/? [00:00<?, ?it/s]"
      ]
     },
     "metadata": {},
     "output_type": "display_data"
    },
    {
     "data": {
      "application/vnd.jupyter.widget-view+json": {
       "model_id": "7938df5cde1e47228fc6101fc2672702",
       "version_major": 2,
       "version_minor": 0
      },
      "text/plain": [
       "Validation: |          | 0/? [00:00<?, ?it/s]"
      ]
     },
     "metadata": {},
     "output_type": "display_data"
    },
    {
     "data": {
      "application/vnd.jupyter.widget-view+json": {
       "model_id": "57c511c569964902a7606e8b17d0fbc7",
       "version_major": 2,
       "version_minor": 0
      },
      "text/plain": [
       "Validation: |          | 0/? [00:00<?, ?it/s]"
      ]
     },
     "metadata": {},
     "output_type": "display_data"
    },
    {
     "data": {
      "application/vnd.jupyter.widget-view+json": {
       "model_id": "b57ff36b90f948ad8d5a763538311a0f",
       "version_major": 2,
       "version_minor": 0
      },
      "text/plain": [
       "Validation: |          | 0/? [00:00<?, ?it/s]"
      ]
     },
     "metadata": {},
     "output_type": "display_data"
    },
    {
     "data": {
      "application/vnd.jupyter.widget-view+json": {
       "model_id": "7bb666054b894aac9dcae205cfb8deb4",
       "version_major": 2,
       "version_minor": 0
      },
      "text/plain": [
       "Validation: |          | 0/? [00:00<?, ?it/s]"
      ]
     },
     "metadata": {},
     "output_type": "display_data"
    },
    {
     "data": {
      "application/vnd.jupyter.widget-view+json": {
       "model_id": "b7d0a7bfd1a04fb0a850148183765c2e",
       "version_major": 2,
       "version_minor": 0
      },
      "text/plain": [
       "Validation: |          | 0/? [00:00<?, ?it/s]"
      ]
     },
     "metadata": {},
     "output_type": "display_data"
    },
    {
     "data": {
      "application/vnd.jupyter.widget-view+json": {
       "model_id": "ea9fd021683f4052a91a8c4d2b242f61",
       "version_major": 2,
       "version_minor": 0
      },
      "text/plain": [
       "Validation: |          | 0/? [00:00<?, ?it/s]"
      ]
     },
     "metadata": {},
     "output_type": "display_data"
    },
    {
     "data": {
      "application/vnd.jupyter.widget-view+json": {
       "model_id": "2b7b7087222341e39d4e31d21638e97b",
       "version_major": 2,
       "version_minor": 0
      },
      "text/plain": [
       "Validation: |          | 0/? [00:00<?, ?it/s]"
      ]
     },
     "metadata": {},
     "output_type": "display_data"
    },
    {
     "data": {
      "application/vnd.jupyter.widget-view+json": {
       "model_id": "6e6a83ca044f4e0481cc5cd5967e44c9",
       "version_major": 2,
       "version_minor": 0
      },
      "text/plain": [
       "Validation: |          | 0/? [00:00<?, ?it/s]"
      ]
     },
     "metadata": {},
     "output_type": "display_data"
    },
    {
     "data": {
      "application/vnd.jupyter.widget-view+json": {
       "model_id": "4cf8e4b4183945108f5e264f2eb0a3ee",
       "version_major": 2,
       "version_minor": 0
      },
      "text/plain": [
       "Validation: |          | 0/? [00:00<?, ?it/s]"
      ]
     },
     "metadata": {},
     "output_type": "display_data"
    },
    {
     "data": {
      "application/vnd.jupyter.widget-view+json": {
       "model_id": "65068c2343f245158f8509cdfc5a4fe5",
       "version_major": 2,
       "version_minor": 0
      },
      "text/plain": [
       "Validation: |          | 0/? [00:00<?, ?it/s]"
      ]
     },
     "metadata": {},
     "output_type": "display_data"
    },
    {
     "data": {
      "application/vnd.jupyter.widget-view+json": {
       "model_id": "58604a6c77944f868fc8885b2b634269",
       "version_major": 2,
       "version_minor": 0
      },
      "text/plain": [
       "Validation: |          | 0/? [00:00<?, ?it/s]"
      ]
     },
     "metadata": {},
     "output_type": "display_data"
    },
    {
     "data": {
      "application/vnd.jupyter.widget-view+json": {
       "model_id": "d245088671654e07a23517e4c5945cc6",
       "version_major": 2,
       "version_minor": 0
      },
      "text/plain": [
       "Validation: |          | 0/? [00:00<?, ?it/s]"
      ]
     },
     "metadata": {},
     "output_type": "display_data"
    },
    {
     "data": {
      "application/vnd.jupyter.widget-view+json": {
       "model_id": "a86af4fcbfd84230be08d11147334fae",
       "version_major": 2,
       "version_minor": 0
      },
      "text/plain": [
       "Validation: |          | 0/? [00:00<?, ?it/s]"
      ]
     },
     "metadata": {},
     "output_type": "display_data"
    },
    {
     "data": {
      "application/vnd.jupyter.widget-view+json": {
       "model_id": "3f814c24b36e40088625b1e2c4201ac5",
       "version_major": 2,
       "version_minor": 0
      },
      "text/plain": [
       "Validation: |          | 0/? [00:00<?, ?it/s]"
      ]
     },
     "metadata": {},
     "output_type": "display_data"
    },
    {
     "data": {
      "application/vnd.jupyter.widget-view+json": {
       "model_id": "de91a48fe3034b54babf6c50ab3a147e",
       "version_major": 2,
       "version_minor": 0
      },
      "text/plain": [
       "Validation: |          | 0/? [00:00<?, ?it/s]"
      ]
     },
     "metadata": {},
     "output_type": "display_data"
    },
    {
     "data": {
      "application/vnd.jupyter.widget-view+json": {
       "model_id": "e17f072db7a14eaab08b215f54100138",
       "version_major": 2,
       "version_minor": 0
      },
      "text/plain": [
       "Validation: |          | 0/? [00:00<?, ?it/s]"
      ]
     },
     "metadata": {},
     "output_type": "display_data"
    },
    {
     "data": {
      "application/vnd.jupyter.widget-view+json": {
       "model_id": "f8ea2164ff3c49709b5d4248907cb7ad",
       "version_major": 2,
       "version_minor": 0
      },
      "text/plain": [
       "Validation: |          | 0/? [00:00<?, ?it/s]"
      ]
     },
     "metadata": {},
     "output_type": "display_data"
    },
    {
     "data": {
      "application/vnd.jupyter.widget-view+json": {
       "model_id": "87be7461f2ad41eca42ffc6fc8afe49d",
       "version_major": 2,
       "version_minor": 0
      },
      "text/plain": [
       "Validation: |          | 0/? [00:00<?, ?it/s]"
      ]
     },
     "metadata": {},
     "output_type": "display_data"
    },
    {
     "name": "stderr",
     "output_type": "stream",
     "text": [
      "LOCAL_RANK: 0 - CUDA_VISIBLE_DEVICES: [0]\n"
     ]
    },
    {
     "data": {
      "application/vnd.jupyter.widget-view+json": {
       "model_id": "29daa3375d704787a457ad6d7f79c3ff",
       "version_major": 2,
       "version_minor": 0
      },
      "text/plain": [
       "Predicting: |          | 0/? [00:00<?, ?it/s]"
      ]
     },
     "metadata": {},
     "output_type": "display_data"
    },
    {
     "name": "stderr",
     "output_type": "stream",
     "text": [
      "2024-06-11 14:34:07,755 - INFO - {'Algorithm': 'Vanilla GRU', 'MAE': '9.1034', 'MAPE': '0.3152', 'RMSE': '10.2792', 'NRMSE': '2.7678', 'MSE': '105.6618', 'MASE': '24.7493', 'Forecast Bias': '-9.10'}\n"
     ]
    }
   ],
   "source": [
    "# Train Vanilla RNN\n",
    "rnn_config = SingleStepRNNConfig(\n",
    "    rnn_type=\"RNN\",\n",
    "    input_size=len(pinn_features),\n",
    "    hidden_size=32,\n",
    "    num_layers=5,\n",
    "    bidirectional=False,\n",
    "    learning_rate=1e-3,\n",
    ")\n",
    "model = SingleStepRNNModel(rnn_config)\n",
    "algorithm_name = \"Vanilla RNN\"\n",
    "metric_record, pred_df = train_and_evaluate(model, rnn_config, datamodule, test, train, algorithm_name, metric_record=[], pred_df=pred_df)\n",
    "\n",
    "# Train Vanilla LSTM\n",
    "rnn_config = SingleStepRNNConfig(\n",
    "    rnn_type=\"LSTM\",\n",
    "    input_size=len(pinn_features),\n",
    "    hidden_size=32,\n",
    "    num_layers=5,\n",
    "    bidirectional=True,\n",
    "    learning_rate=1e-3,\n",
    ")\n",
    "model = SingleStepRNNModel(rnn_config)\n",
    "algorithm_name = \"Vanilla LSTM\"\n",
    "metric_record, pred_df = train_and_evaluate(model, rnn_config, datamodule, test, train, algorithm_name, metric_record, pred_df)\n",
    "\n",
    "# Train Vanilla GRU\n",
    "rnn_config = SingleStepRNNConfig(\n",
    "    rnn_type=\"GRU\",\n",
    "    input_size=len(pinn_features),\n",
    "    hidden_size=32,\n",
    "    num_layers=5,\n",
    "    bidirectional=True,\n",
    "    learning_rate=1e-3,\n",
    ")\n",
    "model = SingleStepRNNModel(rnn_config)\n",
    "algorithm_name = \"Vanilla GRU\"\n",
    "metric_record, pred_df = train_and_evaluate(model, rnn_config, datamodule, test, train, algorithm_name, metric_record, pred_df)"
   ]
  },
  {
   "cell_type": "code",
   "execution_count": 16,
   "metadata": {},
   "outputs": [
    {
     "data": {
      "text/plain": [
       "[{'Algorithm': 'Vanilla RNN',\n",
       "  'MAE': '7.1198',\n",
       "  'MAPE': '0.2461',\n",
       "  'RMSE': '8.0128',\n",
       "  'NRMSE': '2.1576',\n",
       "  'MSE': '64.2049',\n",
       "  'MASE': '19.3566',\n",
       "  'Forecast Bias': '-7.12'},\n",
       " {'Algorithm': 'Vanilla LSTM',\n",
       "  'MAE': '3.1289',\n",
       "  'MAPE': '0.1070',\n",
       "  'RMSE': '3.5719',\n",
       "  'NRMSE': '0.9618',\n",
       "  'MSE': '12.7582',\n",
       "  'MASE': '8.5066',\n",
       "  'Forecast Bias': '0.08'},\n",
       " {'Algorithm': 'Vanilla GRU',\n",
       "  'MAE': '9.1034',\n",
       "  'MAPE': '0.3152',\n",
       "  'RMSE': '10.2792',\n",
       "  'NRMSE': '2.7678',\n",
       "  'MSE': '105.6618',\n",
       "  'MASE': '24.7493',\n",
       "  'Forecast Bias': '-9.10'}]"
      ]
     },
     "execution_count": 16,
     "metadata": {},
     "output_type": "execute_result"
    }
   ],
   "source": [
    "metric_record"
   ]
  },
  {
   "cell_type": "code",
   "execution_count": 17,
   "metadata": {},
   "outputs": [
    {
     "data": {
      "application/vnd.plotly.v1+json": {
       "config": {
        "plotlyServerURL": "https://plot.ly"
       },
       "data": [
        {
         "line": {
          "color": "#1F77B4",
          "width": 3
         },
         "marker": {
          "opacity": 0.7,
          "size": 8,
          "symbol": "circle"
         },
         "mode": "lines+markers",
         "name": "Actual COVID-19 MVBeds trends",
         "type": "scatter",
         "x": [
          "2022-06-17T00:00:00",
          "2022-06-18T00:00:00",
          "2022-06-19T00:00:00",
          "2022-06-20T00:00:00",
          "2022-06-21T00:00:00",
          "2022-06-22T00:00:00",
          "2022-06-23T00:00:00",
          "2022-06-24T00:00:00",
          "2022-06-25T00:00:00",
          "2022-06-26T00:00:00",
          "2022-06-27T00:00:00",
          "2022-06-28T00:00:00",
          "2022-06-29T00:00:00",
          "2022-06-30T00:00:00",
          "2022-07-01T00:00:00",
          "2022-07-02T00:00:00",
          "2022-07-03T00:00:00",
          "2022-07-04T00:00:00",
          "2022-07-05T00:00:00",
          "2022-07-06T00:00:00",
          "2022-07-07T00:00:00",
          "2022-07-08T00:00:00",
          "2022-07-09T00:00:00",
          "2022-07-10T00:00:00",
          "2022-07-11T00:00:00",
          "2022-07-12T00:00:00",
          "2022-07-13T00:00:00",
          "2022-07-14T00:00:00",
          "2022-07-15T00:00:00",
          "2022-07-16T00:00:00",
          "2022-07-17T00:00:00",
          "2022-07-18T00:00:00",
          "2022-07-19T00:00:00",
          "2022-07-20T00:00:00",
          "2022-07-21T00:00:00",
          "2022-07-22T00:00:00",
          "2022-07-23T00:00:00",
          "2022-07-24T00:00:00",
          "2022-07-25T00:00:00",
          "2022-07-26T00:00:00",
          "2022-07-27T00:00:00",
          "2022-07-28T00:00:00",
          "2022-07-29T00:00:00",
          "2022-07-30T00:00:00",
          "2022-07-31T00:00:00",
          "2022-08-01T00:00:00",
          "2022-08-02T00:00:00",
          "2022-08-03T00:00:00",
          "2022-08-04T00:00:00",
          "2022-08-05T00:00:00",
          "2022-08-06T00:00:00",
          "2022-08-07T00:00:00",
          "2022-08-08T00:00:00",
          "2022-08-09T00:00:00",
          "2022-08-10T00:00:00",
          "2022-08-11T00:00:00",
          "2022-08-12T00:00:00",
          "2022-08-13T00:00:00",
          "2022-08-14T00:00:00",
          "2022-08-15T00:00:00",
          "2022-08-16T00:00:00",
          "2022-08-17T00:00:00",
          "2022-08-18T00:00:00",
          "2022-08-19T00:00:00",
          "2022-08-20T00:00:00",
          "2022-08-21T00:00:00",
          "2022-08-22T00:00:00",
          "2022-08-23T00:00:00",
          "2022-08-24T00:00:00",
          "2022-08-25T00:00:00",
          "2022-08-26T00:00:00",
          "2022-08-27T00:00:00",
          "2022-08-28T00:00:00",
          "2022-08-29T00:00:00",
          "2022-08-30T00:00:00",
          "2022-08-31T00:00:00",
          "2022-09-01T00:00:00",
          "2022-09-02T00:00:00",
          "2022-09-03T00:00:00",
          "2022-09-04T00:00:00",
          "2022-09-05T00:00:00",
          "2022-09-06T00:00:00",
          "2022-09-07T00:00:00",
          "2022-09-08T00:00:00",
          "2022-09-09T00:00:00",
          "2022-09-10T00:00:00",
          "2022-09-11T00:00:00",
          "2022-09-12T00:00:00"
         ],
         "y": [
          27.220548020725616,
          27.562239816144917,
          27.594741418932056,
          27.80566664147962,
          27.80224487776197,
          27.816582405232396,
          27.919384717890974,
          28.178955511665656,
          28.3489100769526,
          28.55150373394173,
          28.63337083730567,
          28.866558583458925,
          28.796052414720858,
          28.99395161628767,
          29.140248955615426,
          29.054130196227707,
          29.150418878863473,
          29.24622861291841,
          29.357934823807767,
          29.17392489664516,
          29.433296352173,
          29.381190017598676,
          29.410704982414572,
          29.76334643374177,
          29.999228106495213,
          30.012008833703415,
          30.182301025725636,
          30.320008411842092,
          30.410292405906677,
          30.69992297337981,
          30.51263477653916,
          30.755115703166755,
          30.934359268000392,
          30.47281216620199,
          30.42338331434507,
          30.57483711186124,
          30.386374582871426,
          30.722217835044756,
          30.780283593062382,
          30.593743624097556,
          30.343302246911534,
          30.27794364089162,
          30.055089836397578,
          29.877557698678537,
          29.74658905901407,
          29.966815485268594,
          29.900203329526725,
          29.785400293789763,
          29.782316477604713,
          29.76321274140812,
          29.64760376045788,
          29.596068212755576,
          29.68971015187663,
          29.878732162198176,
          29.619040827600326,
          29.47006460938049,
          29.31993881635964,
          29.267526442996914,
          29.264359573512994,
          29.392301787236526,
          29.35645562612567,
          29.564908143166893,
          29.2022664604339,
          29.182584507079614,
          28.930082022580848,
          28.910118989396555,
          28.890135087200452,
          28.44586712925019,
          28.715227074620223,
          28.576102369949677,
          28.487390209008925,
          28.50121093935726,
          28.566250200394315,
          28.681982454347047,
          28.64478265446217,
          28.709331382806244,
          28.857813675815322,
          28.71973295161543,
          28.597673882915448,
          27.489650372448388,
          28.488652487558426,
          28.638865031084165,
          28.344518983986195,
          28.53008158240389,
          28.458311029321187,
          28.59174151989132,
          28.656470777771887,
          28.53400211521308
         ]
        },
        {
         "line": {
          "color": "#FF7F0E",
          "dash": "solid",
          "width": 2
         },
         "marker": {
          "size": 6,
          "symbol": "circle"
         },
         "mode": "lines+markers",
         "name": "Vanilla RNN",
         "type": "scatter",
         "x": [
          "2022-06-17T00:00:00",
          "2022-06-18T00:00:00",
          "2022-06-19T00:00:00",
          "2022-06-20T00:00:00",
          "2022-06-21T00:00:00",
          "2022-06-22T00:00:00",
          "2022-06-23T00:00:00",
          "2022-06-24T00:00:00",
          "2022-06-25T00:00:00",
          "2022-06-26T00:00:00",
          "2022-06-27T00:00:00",
          "2022-06-28T00:00:00",
          "2022-06-29T00:00:00",
          "2022-06-30T00:00:00",
          "2022-07-01T00:00:00",
          "2022-07-02T00:00:00",
          "2022-07-03T00:00:00",
          "2022-07-04T00:00:00",
          "2022-07-05T00:00:00",
          "2022-07-06T00:00:00",
          "2022-07-07T00:00:00",
          "2022-07-08T00:00:00",
          "2022-07-09T00:00:00",
          "2022-07-10T00:00:00",
          "2022-07-11T00:00:00",
          "2022-07-12T00:00:00",
          "2022-07-13T00:00:00",
          "2022-07-14T00:00:00",
          "2022-07-15T00:00:00",
          "2022-07-16T00:00:00",
          "2022-07-17T00:00:00",
          "2022-07-18T00:00:00",
          "2022-07-19T00:00:00",
          "2022-07-20T00:00:00",
          "2022-07-21T00:00:00",
          "2022-07-22T00:00:00",
          "2022-07-23T00:00:00",
          "2022-07-24T00:00:00",
          "2022-07-25T00:00:00",
          "2022-07-26T00:00:00",
          "2022-07-27T00:00:00",
          "2022-07-28T00:00:00",
          "2022-07-29T00:00:00",
          "2022-07-30T00:00:00",
          "2022-07-31T00:00:00",
          "2022-08-01T00:00:00",
          "2022-08-02T00:00:00",
          "2022-08-03T00:00:00",
          "2022-08-04T00:00:00",
          "2022-08-05T00:00:00",
          "2022-08-06T00:00:00",
          "2022-08-07T00:00:00",
          "2022-08-08T00:00:00",
          "2022-08-09T00:00:00",
          "2022-08-10T00:00:00",
          "2022-08-11T00:00:00",
          "2022-08-12T00:00:00",
          "2022-08-13T00:00:00",
          "2022-08-14T00:00:00",
          "2022-08-15T00:00:00",
          "2022-08-16T00:00:00",
          "2022-08-17T00:00:00",
          "2022-08-18T00:00:00",
          "2022-08-19T00:00:00",
          "2022-08-20T00:00:00",
          "2022-08-21T00:00:00",
          "2022-08-22T00:00:00",
          "2022-08-23T00:00:00",
          "2022-08-24T00:00:00",
          "2022-08-25T00:00:00",
          "2022-08-26T00:00:00",
          "2022-08-27T00:00:00",
          "2022-08-28T00:00:00",
          "2022-08-29T00:00:00",
          "2022-08-30T00:00:00",
          "2022-08-31T00:00:00",
          "2022-09-01T00:00:00",
          "2022-09-02T00:00:00",
          "2022-09-03T00:00:00",
          "2022-09-04T00:00:00",
          "2022-09-05T00:00:00",
          "2022-09-06T00:00:00",
          "2022-09-07T00:00:00",
          "2022-09-08T00:00:00",
          "2022-09-09T00:00:00",
          "2022-09-10T00:00:00",
          "2022-09-11T00:00:00",
          "2022-09-12T00:00:00"
         ],
         "y": [
          17.571044921875,
          17.852294921875,
          18.12353515625,
          18.864501953125,
          18.95458984375,
          19.05517578125,
          19.9853515625,
          20.864013671875,
          21.5216064453125,
          21.2532958984375,
          21.9539794921875,
          22.281005859375,
          23.6756591796875,
          24.430419921875,
          24.4735107421875,
          25.2091064453125,
          25.9267578125,
          26.6138916015625,
          27.45068359375,
          28.04638671875,
          28.527099609375,
          28.4893798828125,
          29.3092041015625,
          29.9014892578125,
          29.539794921875,
          29.6527099609375,
          29.32763671875,
          29.33935546875,
          29.2537841796875,
          29.350341796875,
          28.7664794921875,
          27.920654296875,
          27.7872314453125,
          27.6944580078125,
          27.375244140625,
          27.1025390625,
          26.767333984375,
          26.183837890625,
          26.4400634765625,
          25.171875,
          24.6983642578125,
          24.77587890625,
          23.6754150390625,
          22.900146484375,
          22.95556640625,
          22.4652099609375,
          22.471435546875,
          22.939208984375,
          21.651123046875,
          21.27587890625,
          21.637451171875,
          21.9031982421875,
          20.8392333984375,
          20.7955322265625,
          20.5855712890625,
          21.109130859375,
          20.8314208984375,
          20.601318359375,
          20.6085205078125,
          20.96337890625,
          19.544677734375,
          20.0694580078125,
          20.693359375,
          20.5135498046875,
          19.583740234375,
          19.6351318359375,
          19.369873046875,
          19.9244384765625,
          18.80859375,
          18.2493896484375,
          18.5177001953125,
          18.110595703125,
          17.6534423828125,
          17.22509765625,
          17.1763916015625,
          17.5457763671875,
          15.98095703125,
          16.7994384765625,
          16.4490966796875,
          16.7213134765625,
          16.7196044921875,
          17.0833740234375,
          17.6575927734375,
          15.3931884765625,
          14.2811279296875,
          16.0797119140625,
          16.6414794921875,
          16.509521484375
         ]
        },
        {
         "line": {
          "color": "#2CA02C",
          "dash": "dash",
          "width": 2
         },
         "marker": {
          "size": 6,
          "symbol": "square"
         },
         "mode": "lines+markers",
         "name": "Vanilla LSTM",
         "type": "scatter",
         "x": [
          "2022-06-17T00:00:00",
          "2022-06-18T00:00:00",
          "2022-06-19T00:00:00",
          "2022-06-20T00:00:00",
          "2022-06-21T00:00:00",
          "2022-06-22T00:00:00",
          "2022-06-23T00:00:00",
          "2022-06-24T00:00:00",
          "2022-06-25T00:00:00",
          "2022-06-26T00:00:00",
          "2022-06-27T00:00:00",
          "2022-06-28T00:00:00",
          "2022-06-29T00:00:00",
          "2022-06-30T00:00:00",
          "2022-07-01T00:00:00",
          "2022-07-02T00:00:00",
          "2022-07-03T00:00:00",
          "2022-07-04T00:00:00",
          "2022-07-05T00:00:00",
          "2022-07-06T00:00:00",
          "2022-07-07T00:00:00",
          "2022-07-08T00:00:00",
          "2022-07-09T00:00:00",
          "2022-07-10T00:00:00",
          "2022-07-11T00:00:00",
          "2022-07-12T00:00:00",
          "2022-07-13T00:00:00",
          "2022-07-14T00:00:00",
          "2022-07-15T00:00:00",
          "2022-07-16T00:00:00",
          "2022-07-17T00:00:00",
          "2022-07-18T00:00:00",
          "2022-07-19T00:00:00",
          "2022-07-20T00:00:00",
          "2022-07-21T00:00:00",
          "2022-07-22T00:00:00",
          "2022-07-23T00:00:00",
          "2022-07-24T00:00:00",
          "2022-07-25T00:00:00",
          "2022-07-26T00:00:00",
          "2022-07-27T00:00:00",
          "2022-07-28T00:00:00",
          "2022-07-29T00:00:00",
          "2022-07-30T00:00:00",
          "2022-07-31T00:00:00",
          "2022-08-01T00:00:00",
          "2022-08-02T00:00:00",
          "2022-08-03T00:00:00",
          "2022-08-04T00:00:00",
          "2022-08-05T00:00:00",
          "2022-08-06T00:00:00",
          "2022-08-07T00:00:00",
          "2022-08-08T00:00:00",
          "2022-08-09T00:00:00",
          "2022-08-10T00:00:00",
          "2022-08-11T00:00:00",
          "2022-08-12T00:00:00",
          "2022-08-13T00:00:00",
          "2022-08-14T00:00:00",
          "2022-08-15T00:00:00",
          "2022-08-16T00:00:00",
          "2022-08-17T00:00:00",
          "2022-08-18T00:00:00",
          "2022-08-19T00:00:00",
          "2022-08-20T00:00:00",
          "2022-08-21T00:00:00",
          "2022-08-22T00:00:00",
          "2022-08-23T00:00:00",
          "2022-08-24T00:00:00",
          "2022-08-25T00:00:00",
          "2022-08-26T00:00:00",
          "2022-08-27T00:00:00",
          "2022-08-28T00:00:00",
          "2022-08-29T00:00:00",
          "2022-08-30T00:00:00",
          "2022-08-31T00:00:00",
          "2022-09-01T00:00:00",
          "2022-09-02T00:00:00",
          "2022-09-03T00:00:00",
          "2022-09-04T00:00:00",
          "2022-09-05T00:00:00",
          "2022-09-06T00:00:00",
          "2022-09-07T00:00:00",
          "2022-09-08T00:00:00",
          "2022-09-09T00:00:00",
          "2022-09-10T00:00:00",
          "2022-09-11T00:00:00",
          "2022-09-12T00:00:00"
         ],
         "y": [
          22.0665283203125,
          22.26416015625,
          22.47998046875,
          22.7196044921875,
          22.9871826171875,
          23.28564453125,
          23.60595703125,
          23.95166015625,
          24.3201904296875,
          24.7265625,
          25.1649169921875,
          25.6378173828125,
          26.132080078125,
          26.66064453125,
          27.2125244140625,
          27.783447265625,
          28.36474609375,
          28.9505615234375,
          29.536376953125,
          30.12744140625,
          30.7064208984375,
          31.2723388671875,
          31.828857421875,
          32.35888671875,
          32.867431640625,
          33.344970703125,
          33.797119140625,
          34.2103271484375,
          34.5845947265625,
          34.915771484375,
          35.1998291015625,
          35.4403076171875,
          35.638427734375,
          35.787109375,
          35.8880615234375,
          35.945068359375,
          35.943359375,
          35.897216796875,
          35.807373046875,
          35.6732177734375,
          35.5006103515625,
          35.2939453125,
          35.050048828125,
          34.791015625,
          34.510986328125,
          34.209228515625,
          33.887451171875,
          33.5533447265625,
          33.2008056640625,
          32.8448486328125,
          32.480712890625,
          32.1197509765625,
          31.7685546875,
          31.436279296875,
          31.11181640625,
          30.8067626953125,
          30.5189208984375,
          30.242919921875,
          29.98193359375,
          29.7425537109375,
          29.5185546875,
          29.3116455078125,
          29.1002197265625,
          28.8919677734375,
          28.6817626953125,
          28.456298828125,
          28.1993408203125,
          27.9307861328125,
          27.6370849609375,
          27.3345947265625,
          27.01318359375,
          26.6845703125,
          26.3612060546875,
          26.046142578125,
          25.749267578125,
          25.470458984375,
          25.2254638671875,
          24.99951171875,
          24.7991943359375,
          24.6175537109375,
          24.41845703125,
          24.208251953125,
          23.9913330078125,
          23.771728515625,
          23.5699462890625,
          23.349609375,
          23.1524658203125,
          23.006591796875
         ]
        },
        {
         "line": {
          "color": "#D62728",
          "dash": "dot",
          "width": 2
         },
         "marker": {
          "size": 6,
          "symbol": "diamond"
         },
         "mode": "lines+markers",
         "name": "Vanilla GRU",
         "type": "scatter",
         "x": [
          "2022-06-17T00:00:00",
          "2022-06-18T00:00:00",
          "2022-06-19T00:00:00",
          "2022-06-20T00:00:00",
          "2022-06-21T00:00:00",
          "2022-06-22T00:00:00",
          "2022-06-23T00:00:00",
          "2022-06-24T00:00:00",
          "2022-06-25T00:00:00",
          "2022-06-26T00:00:00",
          "2022-06-27T00:00:00",
          "2022-06-28T00:00:00",
          "2022-06-29T00:00:00",
          "2022-06-30T00:00:00",
          "2022-07-01T00:00:00",
          "2022-07-02T00:00:00",
          "2022-07-03T00:00:00",
          "2022-07-04T00:00:00",
          "2022-07-05T00:00:00",
          "2022-07-06T00:00:00",
          "2022-07-07T00:00:00",
          "2022-07-08T00:00:00",
          "2022-07-09T00:00:00",
          "2022-07-10T00:00:00",
          "2022-07-11T00:00:00",
          "2022-07-12T00:00:00",
          "2022-07-13T00:00:00",
          "2022-07-14T00:00:00",
          "2022-07-15T00:00:00",
          "2022-07-16T00:00:00",
          "2022-07-17T00:00:00",
          "2022-07-18T00:00:00",
          "2022-07-19T00:00:00",
          "2022-07-20T00:00:00",
          "2022-07-21T00:00:00",
          "2022-07-22T00:00:00",
          "2022-07-23T00:00:00",
          "2022-07-24T00:00:00",
          "2022-07-25T00:00:00",
          "2022-07-26T00:00:00",
          "2022-07-27T00:00:00",
          "2022-07-28T00:00:00",
          "2022-07-29T00:00:00",
          "2022-07-30T00:00:00",
          "2022-07-31T00:00:00",
          "2022-08-01T00:00:00",
          "2022-08-02T00:00:00",
          "2022-08-03T00:00:00",
          "2022-08-04T00:00:00",
          "2022-08-05T00:00:00",
          "2022-08-06T00:00:00",
          "2022-08-07T00:00:00",
          "2022-08-08T00:00:00",
          "2022-08-09T00:00:00",
          "2022-08-10T00:00:00",
          "2022-08-11T00:00:00",
          "2022-08-12T00:00:00",
          "2022-08-13T00:00:00",
          "2022-08-14T00:00:00",
          "2022-08-15T00:00:00",
          "2022-08-16T00:00:00",
          "2022-08-17T00:00:00",
          "2022-08-18T00:00:00",
          "2022-08-19T00:00:00",
          "2022-08-20T00:00:00",
          "2022-08-21T00:00:00",
          "2022-08-22T00:00:00",
          "2022-08-23T00:00:00",
          "2022-08-24T00:00:00",
          "2022-08-25T00:00:00",
          "2022-08-26T00:00:00",
          "2022-08-27T00:00:00",
          "2022-08-28T00:00:00",
          "2022-08-29T00:00:00",
          "2022-08-30T00:00:00",
          "2022-08-31T00:00:00",
          "2022-09-01T00:00:00",
          "2022-09-02T00:00:00",
          "2022-09-03T00:00:00",
          "2022-09-04T00:00:00",
          "2022-09-05T00:00:00",
          "2022-09-06T00:00:00",
          "2022-09-07T00:00:00",
          "2022-09-08T00:00:00",
          "2022-09-09T00:00:00",
          "2022-09-10T00:00:00",
          "2022-09-11T00:00:00",
          "2022-09-12T00:00:00"
         ],
         "y": [
          15.5372314453125,
          15.794921875,
          16.0849609375,
          16.3575439453125,
          16.6881103515625,
          17.17626953125,
          17.70947265625,
          18.3037109375,
          18.7918701171875,
          19.2677001953125,
          19.7340087890625,
          20.297607421875,
          20.8671875,
          21.4674072265625,
          22.0904541015625,
          22.6160888671875,
          23.1090087890625,
          23.68994140625,
          24.3258056640625,
          24.9937744140625,
          25.632080078125,
          26.3094482421875,
          27.0047607421875,
          27.5645751953125,
          28.06640625,
          28.4554443359375,
          28.785400390625,
          29.065673828125,
          29.2789306640625,
          29.3187255859375,
          29.2379150390625,
          29.116455078125,
          28.9432373046875,
          28.716796875,
          28.4339599609375,
          28.142578125,
          27.7767333984375,
          27.34423828125,
          26.810302734375,
          26.2801513671875,
          25.7203369140625,
          25.103515625,
          24.4725341796875,
          23.83837890625,
          23.162353515625,
          22.559326171875,
          21.9229736328125,
          21.30517578125,
          20.7802734375,
          20.4105224609375,
          20.0933837890625,
          19.746337890625,
          19.400390625,
          19.111572265625,
          18.8099365234375,
          18.576416015625,
          18.4263916015625,
          18.2581787109375,
          18.044677734375,
          17.7103271484375,
          17.3646240234375,
          17.06005859375,
          16.7403564453125,
          16.469482421875,
          16.291748046875,
          16.099365234375,
          15.8135986328125,
          15.4765625,
          15.11572265625,
          14.841064453125,
          14.5386962890625,
          14.215576171875,
          13.98974609375,
          13.8067626953125,
          13.6839599609375,
          13.5108642578125,
          13.5096435546875,
          13.4083251953125,
          13.315185546875,
          13.2625732421875,
          13.1749267578125,
          13.0750732421875,
          12.72705078125,
          12.249267578125,
          12.2435302734375,
          12.3441162109375,
          12.422607421875,
          12.4071044921875
         ]
        }
       ],
       "layout": {
        "height": 600,
        "legend": {
         "font": {
          "size": 10
         },
         "orientation": "h",
         "x": 0.5,
         "xanchor": "center",
         "y": 1.02,
         "yanchor": "top"
        },
        "margin": {
         "b": 40,
         "l": 10,
         "r": 40,
         "t": 80
        },
        "plot_bgcolor": "rgba(0,0,0,0)",
        "template": {
         "data": {
          "bar": [
           {
            "error_x": {
             "color": "#2a3f5f"
            },
            "error_y": {
             "color": "#2a3f5f"
            },
            "marker": {
             "line": {
              "color": "white",
              "width": 0.5
             },
             "pattern": {
              "fillmode": "overlay",
              "size": 10,
              "solidity": 0.2
             }
            },
            "type": "bar"
           }
          ],
          "barpolar": [
           {
            "marker": {
             "line": {
              "color": "white",
              "width": 0.5
             },
             "pattern": {
              "fillmode": "overlay",
              "size": 10,
              "solidity": 0.2
             }
            },
            "type": "barpolar"
           }
          ],
          "carpet": [
           {
            "aaxis": {
             "endlinecolor": "#2a3f5f",
             "gridcolor": "#C8D4E3",
             "linecolor": "#C8D4E3",
             "minorgridcolor": "#C8D4E3",
             "startlinecolor": "#2a3f5f"
            },
            "baxis": {
             "endlinecolor": "#2a3f5f",
             "gridcolor": "#C8D4E3",
             "linecolor": "#C8D4E3",
             "minorgridcolor": "#C8D4E3",
             "startlinecolor": "#2a3f5f"
            },
            "type": "carpet"
           }
          ],
          "choropleth": [
           {
            "colorbar": {
             "outlinewidth": 0,
             "ticks": ""
            },
            "type": "choropleth"
           }
          ],
          "contour": [
           {
            "colorbar": {
             "outlinewidth": 0,
             "ticks": ""
            },
            "colorscale": [
             [
              0,
              "#0d0887"
             ],
             [
              0.1111111111111111,
              "#46039f"
             ],
             [
              0.2222222222222222,
              "#7201a8"
             ],
             [
              0.3333333333333333,
              "#9c179e"
             ],
             [
              0.4444444444444444,
              "#bd3786"
             ],
             [
              0.5555555555555556,
              "#d8576b"
             ],
             [
              0.6666666666666666,
              "#ed7953"
             ],
             [
              0.7777777777777778,
              "#fb9f3a"
             ],
             [
              0.8888888888888888,
              "#fdca26"
             ],
             [
              1,
              "#f0f921"
             ]
            ],
            "type": "contour"
           }
          ],
          "contourcarpet": [
           {
            "colorbar": {
             "outlinewidth": 0,
             "ticks": ""
            },
            "type": "contourcarpet"
           }
          ],
          "heatmap": [
           {
            "colorbar": {
             "outlinewidth": 0,
             "ticks": ""
            },
            "colorscale": [
             [
              0,
              "#0d0887"
             ],
             [
              0.1111111111111111,
              "#46039f"
             ],
             [
              0.2222222222222222,
              "#7201a8"
             ],
             [
              0.3333333333333333,
              "#9c179e"
             ],
             [
              0.4444444444444444,
              "#bd3786"
             ],
             [
              0.5555555555555556,
              "#d8576b"
             ],
             [
              0.6666666666666666,
              "#ed7953"
             ],
             [
              0.7777777777777778,
              "#fb9f3a"
             ],
             [
              0.8888888888888888,
              "#fdca26"
             ],
             [
              1,
              "#f0f921"
             ]
            ],
            "type": "heatmap"
           }
          ],
          "heatmapgl": [
           {
            "colorbar": {
             "outlinewidth": 0,
             "ticks": ""
            },
            "colorscale": [
             [
              0,
              "#0d0887"
             ],
             [
              0.1111111111111111,
              "#46039f"
             ],
             [
              0.2222222222222222,
              "#7201a8"
             ],
             [
              0.3333333333333333,
              "#9c179e"
             ],
             [
              0.4444444444444444,
              "#bd3786"
             ],
             [
              0.5555555555555556,
              "#d8576b"
             ],
             [
              0.6666666666666666,
              "#ed7953"
             ],
             [
              0.7777777777777778,
              "#fb9f3a"
             ],
             [
              0.8888888888888888,
              "#fdca26"
             ],
             [
              1,
              "#f0f921"
             ]
            ],
            "type": "heatmapgl"
           }
          ],
          "histogram": [
           {
            "marker": {
             "pattern": {
              "fillmode": "overlay",
              "size": 10,
              "solidity": 0.2
             }
            },
            "type": "histogram"
           }
          ],
          "histogram2d": [
           {
            "colorbar": {
             "outlinewidth": 0,
             "ticks": ""
            },
            "colorscale": [
             [
              0,
              "#0d0887"
             ],
             [
              0.1111111111111111,
              "#46039f"
             ],
             [
              0.2222222222222222,
              "#7201a8"
             ],
             [
              0.3333333333333333,
              "#9c179e"
             ],
             [
              0.4444444444444444,
              "#bd3786"
             ],
             [
              0.5555555555555556,
              "#d8576b"
             ],
             [
              0.6666666666666666,
              "#ed7953"
             ],
             [
              0.7777777777777778,
              "#fb9f3a"
             ],
             [
              0.8888888888888888,
              "#fdca26"
             ],
             [
              1,
              "#f0f921"
             ]
            ],
            "type": "histogram2d"
           }
          ],
          "histogram2dcontour": [
           {
            "colorbar": {
             "outlinewidth": 0,
             "ticks": ""
            },
            "colorscale": [
             [
              0,
              "#0d0887"
             ],
             [
              0.1111111111111111,
              "#46039f"
             ],
             [
              0.2222222222222222,
              "#7201a8"
             ],
             [
              0.3333333333333333,
              "#9c179e"
             ],
             [
              0.4444444444444444,
              "#bd3786"
             ],
             [
              0.5555555555555556,
              "#d8576b"
             ],
             [
              0.6666666666666666,
              "#ed7953"
             ],
             [
              0.7777777777777778,
              "#fb9f3a"
             ],
             [
              0.8888888888888888,
              "#fdca26"
             ],
             [
              1,
              "#f0f921"
             ]
            ],
            "type": "histogram2dcontour"
           }
          ],
          "mesh3d": [
           {
            "colorbar": {
             "outlinewidth": 0,
             "ticks": ""
            },
            "type": "mesh3d"
           }
          ],
          "parcoords": [
           {
            "line": {
             "colorbar": {
              "outlinewidth": 0,
              "ticks": ""
             }
            },
            "type": "parcoords"
           }
          ],
          "pie": [
           {
            "automargin": true,
            "type": "pie"
           }
          ],
          "scatter": [
           {
            "fillpattern": {
             "fillmode": "overlay",
             "size": 10,
             "solidity": 0.2
            },
            "type": "scatter"
           }
          ],
          "scatter3d": [
           {
            "line": {
             "colorbar": {
              "outlinewidth": 0,
              "ticks": ""
             }
            },
            "marker": {
             "colorbar": {
              "outlinewidth": 0,
              "ticks": ""
             }
            },
            "type": "scatter3d"
           }
          ],
          "scattercarpet": [
           {
            "marker": {
             "colorbar": {
              "outlinewidth": 0,
              "ticks": ""
             }
            },
            "type": "scattercarpet"
           }
          ],
          "scattergeo": [
           {
            "marker": {
             "colorbar": {
              "outlinewidth": 0,
              "ticks": ""
             }
            },
            "type": "scattergeo"
           }
          ],
          "scattergl": [
           {
            "marker": {
             "colorbar": {
              "outlinewidth": 0,
              "ticks": ""
             }
            },
            "type": "scattergl"
           }
          ],
          "scattermapbox": [
           {
            "marker": {
             "colorbar": {
              "outlinewidth": 0,
              "ticks": ""
             }
            },
            "type": "scattermapbox"
           }
          ],
          "scatterpolar": [
           {
            "marker": {
             "colorbar": {
              "outlinewidth": 0,
              "ticks": ""
             }
            },
            "type": "scatterpolar"
           }
          ],
          "scatterpolargl": [
           {
            "marker": {
             "colorbar": {
              "outlinewidth": 0,
              "ticks": ""
             }
            },
            "type": "scatterpolargl"
           }
          ],
          "scatterternary": [
           {
            "marker": {
             "colorbar": {
              "outlinewidth": 0,
              "ticks": ""
             }
            },
            "type": "scatterternary"
           }
          ],
          "surface": [
           {
            "colorbar": {
             "outlinewidth": 0,
             "ticks": ""
            },
            "colorscale": [
             [
              0,
              "#0d0887"
             ],
             [
              0.1111111111111111,
              "#46039f"
             ],
             [
              0.2222222222222222,
              "#7201a8"
             ],
             [
              0.3333333333333333,
              "#9c179e"
             ],
             [
              0.4444444444444444,
              "#bd3786"
             ],
             [
              0.5555555555555556,
              "#d8576b"
             ],
             [
              0.6666666666666666,
              "#ed7953"
             ],
             [
              0.7777777777777778,
              "#fb9f3a"
             ],
             [
              0.8888888888888888,
              "#fdca26"
             ],
             [
              1,
              "#f0f921"
             ]
            ],
            "type": "surface"
           }
          ],
          "table": [
           {
            "cells": {
             "fill": {
              "color": "#EBF0F8"
             },
             "line": {
              "color": "white"
             }
            },
            "header": {
             "fill": {
              "color": "#C8D4E3"
             },
             "line": {
              "color": "white"
             }
            },
            "type": "table"
           }
          ]
         },
         "layout": {
          "annotationdefaults": {
           "arrowcolor": "#2a3f5f",
           "arrowhead": 0,
           "arrowwidth": 1
          },
          "autotypenumbers": "strict",
          "coloraxis": {
           "colorbar": {
            "outlinewidth": 0,
            "ticks": ""
           }
          },
          "colorscale": {
           "diverging": [
            [
             0,
             "#8e0152"
            ],
            [
             0.1,
             "#c51b7d"
            ],
            [
             0.2,
             "#de77ae"
            ],
            [
             0.3,
             "#f1b6da"
            ],
            [
             0.4,
             "#fde0ef"
            ],
            [
             0.5,
             "#f7f7f7"
            ],
            [
             0.6,
             "#e6f5d0"
            ],
            [
             0.7,
             "#b8e186"
            ],
            [
             0.8,
             "#7fbc41"
            ],
            [
             0.9,
             "#4d9221"
            ],
            [
             1,
             "#276419"
            ]
           ],
           "sequential": [
            [
             0,
             "#0d0887"
            ],
            [
             0.1111111111111111,
             "#46039f"
            ],
            [
             0.2222222222222222,
             "#7201a8"
            ],
            [
             0.3333333333333333,
             "#9c179e"
            ],
            [
             0.4444444444444444,
             "#bd3786"
            ],
            [
             0.5555555555555556,
             "#d8576b"
            ],
            [
             0.6666666666666666,
             "#ed7953"
            ],
            [
             0.7777777777777778,
             "#fb9f3a"
            ],
            [
             0.8888888888888888,
             "#fdca26"
            ],
            [
             1,
             "#f0f921"
            ]
           ],
           "sequentialminus": [
            [
             0,
             "#0d0887"
            ],
            [
             0.1111111111111111,
             "#46039f"
            ],
            [
             0.2222222222222222,
             "#7201a8"
            ],
            [
             0.3333333333333333,
             "#9c179e"
            ],
            [
             0.4444444444444444,
             "#bd3786"
            ],
            [
             0.5555555555555556,
             "#d8576b"
            ],
            [
             0.6666666666666666,
             "#ed7953"
            ],
            [
             0.7777777777777778,
             "#fb9f3a"
            ],
            [
             0.8888888888888888,
             "#fdca26"
            ],
            [
             1,
             "#f0f921"
            ]
           ]
          },
          "colorway": [
           "#636efa",
           "#EF553B",
           "#00cc96",
           "#ab63fa",
           "#FFA15A",
           "#19d3f3",
           "#FF6692",
           "#B6E880",
           "#FF97FF",
           "#FECB52"
          ],
          "font": {
           "color": "#2a3f5f"
          },
          "geo": {
           "bgcolor": "white",
           "lakecolor": "white",
           "landcolor": "white",
           "showlakes": true,
           "showland": true,
           "subunitcolor": "#C8D4E3"
          },
          "hoverlabel": {
           "align": "left"
          },
          "hovermode": "closest",
          "mapbox": {
           "style": "light"
          },
          "paper_bgcolor": "white",
          "plot_bgcolor": "white",
          "polar": {
           "angularaxis": {
            "gridcolor": "#EBF0F8",
            "linecolor": "#EBF0F8",
            "ticks": ""
           },
           "bgcolor": "white",
           "radialaxis": {
            "gridcolor": "#EBF0F8",
            "linecolor": "#EBF0F8",
            "ticks": ""
           }
          },
          "scene": {
           "xaxis": {
            "backgroundcolor": "white",
            "gridcolor": "#DFE8F3",
            "gridwidth": 2,
            "linecolor": "#EBF0F8",
            "showbackground": true,
            "ticks": "",
            "zerolinecolor": "#EBF0F8"
           },
           "yaxis": {
            "backgroundcolor": "white",
            "gridcolor": "#DFE8F3",
            "gridwidth": 2,
            "linecolor": "#EBF0F8",
            "showbackground": true,
            "ticks": "",
            "zerolinecolor": "#EBF0F8"
           },
           "zaxis": {
            "backgroundcolor": "white",
            "gridcolor": "#DFE8F3",
            "gridwidth": 2,
            "linecolor": "#EBF0F8",
            "showbackground": true,
            "ticks": "",
            "zerolinecolor": "#EBF0F8"
           }
          },
          "shapedefaults": {
           "line": {
            "color": "#2a3f5f"
           }
          },
          "ternary": {
           "aaxis": {
            "gridcolor": "#DFE8F3",
            "linecolor": "#A2B1C6",
            "ticks": ""
           },
           "baxis": {
            "gridcolor": "#DFE8F3",
            "linecolor": "#A2B1C6",
            "ticks": ""
           },
           "bgcolor": "white",
           "caxis": {
            "gridcolor": "#DFE8F3",
            "linecolor": "#A2B1C6",
            "ticks": ""
           }
          },
          "title": {
           "x": 0.05
          },
          "xaxis": {
           "automargin": true,
           "gridcolor": "#EBF0F8",
           "linecolor": "#EBF0F8",
           "ticks": "",
           "title": {
            "standoff": 15
           },
           "zerolinecolor": "#EBF0F8",
           "zerolinewidth": 2
          },
          "yaxis": {
           "automargin": true,
           "gridcolor": "#EBF0F8",
           "linecolor": "#EBF0F8",
           "ticks": "",
           "title": {
            "standoff": 15
           },
           "zerolinecolor": "#EBF0F8",
           "zerolinewidth": 2
          }
         }
        },
        "title": {
         "font": {
          "size": 20
         },
         "text": "COVID-19 MVBeds Forecast Comparison for England"
        },
        "width": 1200,
        "xaxis": {
         "tickfont": {
          "size": 12
         },
         "title": {
          "font": {
           "size": 15
          },
          "text": "Date"
         }
        },
        "yaxis": {
         "tickfont": {
          "size": 12
         },
         "title": {
          "font": {
           "size": 15
          },
          "text": "COVID-19 MVBeds"
         }
        }
       }
      }
     },
     "metadata": {},
     "output_type": "display_data"
    }
   ],
   "source": [
    "# plot the forecast\n",
    "forecast_columns = [\"Vanilla RNN\", \"Vanilla LSTM\", \"Vanilla GRU\"]\n",
    "forecast_display_names = [\"Vanilla RNN\", \"Vanilla LSTM\", \"Vanilla GRU\"]\n",
    "fig = plot_forecast(\n",
    "    pred_df, forecast_columns, selected_area, forecast_display_names=forecast_display_names\n",
    ")\n",
    "fig.write_image(\"reports/figures/vanilla_rnn_lstm_gru_forecast.pdf\")\n",
    "fig.show()"
   ]
  },
  {
   "cell_type": "code",
   "execution_count": null,
   "metadata": {},
   "outputs": [],
   "source": []
  }
 ],
 "metadata": {
  "kernelspec": {
   "display_name": "py_env",
   "language": "python",
   "name": "python3"
  },
  "language_info": {
   "codemirror_mode": {
    "name": "ipython",
    "version": 3
   },
   "file_extension": ".py",
   "mimetype": "text/x-python",
   "name": "python",
   "nbconvert_exporter": "python",
   "pygments_lexer": "ipython3",
   "version": "3.10.13"
  }
 },
 "nbformat": 4,
 "nbformat_minor": 2
}
